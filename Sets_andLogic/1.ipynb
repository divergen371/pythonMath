{
 "cells": [
  {
   "cell_type": "code",
   "execution_count": 2,
   "metadata": {},
   "outputs": [
    {
     "data": {
      "text/latex": [
       "$\\displaystyle \\left\\{5, 10, 20, 30, 40, 50\\right\\}$"
      ],
      "text/plain": [
       "{5, 10, 20, 30, 40, 50}"
      ]
     },
     "execution_count": 2,
     "metadata": {},
     "output_type": "execute_result"
    }
   ],
   "source": [
    "# Standard Library\n",
    "from fractions import Fraction\n",
    "\n",
    "# Third Party Library\n",
    "from sympy import (\n",
    "    FiniteSet,\n",
    "    ImageSet,\n",
    "    Interval,\n",
    "    Lambda,\n",
    "    cos,\n",
    "    init_printing,\n",
    "    pi,\n",
    "    sin,\n",
    "    symbols,\n",
    ")\n",
    "from sympy.sets import Union\n",
    "\n",
    "init_printing(use_latex='mathjax')\n",
    "A: FiniteSet = FiniteSet(10, 20, 30)\n",
    "B: FiniteSet = FiniteSet(10, 40, 50)\n",
    "C: FiniteSet = FiniteSet(5)\n",
    "\n",
    "Union(A, B, C)\n"
   ]
  },
  {
   "cell_type": "code",
   "execution_count": 3,
   "metadata": {},
   "outputs": [
    {
     "data": {
      "text/latex": [
       "$\\displaystyle \\left\\{10\\right\\}$"
      ],
      "text/plain": [
       "{10}"
      ]
     },
     "execution_count": 3,
     "metadata": {},
     "output_type": "execute_result"
    }
   ],
   "source": [
    "# Third Party Library\n",
    "from sympy import Intersection\n",
    "\n",
    "Intersection(A ,B)"
   ]
  },
  {
   "cell_type": "code",
   "execution_count": 3,
   "metadata": {},
   "outputs": [
    {
     "data": {
      "text/latex": [
       "$\\displaystyle \\emptyset$"
      ],
      "text/plain": [
       "EmptySet"
      ]
     },
     "execution_count": 3,
     "metadata": {},
     "output_type": "execute_result"
    }
   ],
   "source": [
    "Intersection(Interval(0,1), Interval(2,4))\n"
   ]
  },
  {
   "cell_type": "code",
   "execution_count": 41,
   "metadata": {},
   "outputs": [
    {
     "data": {
      "text/latex": [
       "$\\displaystyle \\left\\{10, 20, 30\\right\\}^{3}$"
      ],
      "text/plain": [
       "ProductSet({10, 20, 30}, {10, 20, 30}, {10, 20, 30})"
      ]
     },
     "execution_count": 41,
     "metadata": {},
     "output_type": "execute_result"
    }
   ],
   "source": [
    "A ** 3"
   ]
  },
  {
   "cell_type": "code",
   "execution_count": 3,
   "metadata": {},
   "outputs": [
    {
     "data": {
      "text/plain": [
       "False"
      ]
     },
     "execution_count": 3,
     "metadata": {},
     "output_type": "execute_result"
    }
   ],
   "source": [
    "40 in set_value"
   ]
  },
  {
   "cell_type": "code",
   "execution_count": 61,
   "metadata": {},
   "outputs": [
    {
     "data": {
      "text/latex": [
       "$\\displaystyle \\mathcal{P}\\left(\\mathbb{C}\\right)$"
      ],
      "text/plain": [
       "PowerSet(Complexes)"
      ]
     },
     "execution_count": 61,
     "metadata": {},
     "output_type": "execute_result"
    }
   ],
   "source": [
    "from sympy import PowerSet\n",
    "PowerSet(S.Complexes)"
   ]
  },
  {
   "cell_type": "code",
   "execution_count": 62,
   "metadata": {},
   "outputs": [
    {
     "data": {
      "text/latex": [
       "$\\displaystyle \\left\\{\\sin{\\left(x \\right)}\\; \\middle|\\; x \\in \\left[-2, 1\\right]\\right\\}$"
      ],
      "text/plain": [
       "{sin(x) │ x ∊ [-2, 1]}"
      ]
     },
     "execution_count": 62,
     "metadata": {},
     "output_type": "execute_result"
    }
   ],
   "source": [
    "from sympy import imageset\n",
    "imageset(Lambda(x, sin(x)), Interval(-2, 1))"
   ]
  },
  {
   "cell_type": "code",
   "execution_count": 63,
   "metadata": {},
   "outputs": [
    {
     "data": {
      "text/latex": [
       "$\\displaystyle \\left\\{\\sin{\\left(x \\right)}\\; \\middle|\\; x \\in \\left[-2, 1\\right]\\right\\}$"
      ],
      "text/plain": [
       "{sin(x) │ x ∊ [-2, 1]}"
      ]
     },
     "execution_count": 63,
     "metadata": {},
     "output_type": "execute_result"
    }
   ],
   "source": [
    "imageset(sin, Interval(-2, 1))"
   ]
  },
  {
   "cell_type": "code",
   "execution_count": 38,
   "metadata": {},
   "outputs": [
    {
     "data": {
      "text/latex": [
       "$\\displaystyle \\left\\{x + y\\; \\middle|\\; y \\in \\left[-2, 1\\right]\\right\\}$"
      ],
      "text/plain": [
       "ImageSet(Lambda(y, x + y), Interval(-2, 1))"
      ]
     },
     "execution_count": 38,
     "metadata": {},
     "output_type": "execute_result"
    }
   ],
   "source": [
    "imageset(lambda y: x + y, Interval(-2, 1))"
   ]
  },
  {
   "cell_type": "code",
   "execution_count": 53,
   "metadata": {},
   "outputs": [
    {
     "data": {
      "text/latex": [
       "$\\displaystyle \\left\\{5 - 2 x\\; \\middle|\\; x \\in \\mathbb{Z}\\right\\}$"
      ],
      "text/plain": [
       "ImageSet(Lambda(x, 5 - 2*x), Integers)"
      ]
     },
     "execution_count": 53,
     "metadata": {},
     "output_type": "execute_result"
    }
   ],
   "source": [
    "from sympy import S\n",
    "x = symbols('x')\n",
    "ImageSet(Lambda((x),(-2*x + 5)), S.Integers)"
   ]
  },
  {
   "cell_type": "code",
   "execution_count": 67,
   "metadata": {},
   "outputs": [
    {
     "data": {
      "text/latex": [
       "$\\displaystyle \\left( x \\mapsto 5 - 2 x \\right)$"
      ],
      "text/plain": [
       "x ↦ 5 - 2⋅x"
      ]
     },
     "execution_count": 67,
     "metadata": {},
     "output_type": "execute_result"
    }
   ],
   "source": [
    "A =Lambda((x), (-2*x +5))\n",
    "A"
   ]
  },
  {
   "cell_type": "code",
   "execution_count": 46,
   "metadata": {},
   "outputs": [
    {
     "data": {
      "text/latex": [
       "$\\displaystyle \\left\\{2 x + 1\\; \\middle|\\; x \\in \\mathbb{Z}\\right\\}$"
      ],
      "text/plain": [
       "ImageSet(Lambda(x, 2*x + 1), Integers)"
      ]
     },
     "execution_count": 46,
     "metadata": {},
     "output_type": "execute_result"
    }
   ],
   "source": [
    "imageset(x, -2*x + 5, S.Integers)"
   ]
  },
  {
   "cell_type": "code",
   "execution_count": 65,
   "metadata": {},
   "outputs": [
    {
     "data": {
      "text/latex": [
       "$\\displaystyle \\left( \\left( r, \\  \\theta\\right) \\mapsto \\left( r \\cos{\\left(\\theta \\right)}, \\  r \\sin{\\left(\\theta \\right)}\\right) \\right)$"
      ],
      "text/plain": [
       "(r, θ) ↦ (r⋅cos(θ), r⋅sin(θ))"
      ]
     },
     "execution_count": 65,
     "metadata": {},
     "output_type": "execute_result"
    }
   ],
   "source": [
    "r, th = symbols('r theta', real=True)\n",
    "L = Lambda((r, th), (r * cos(th), r * sin(th)))\n",
    "L"
   ]
  },
  {
   "cell_type": "code",
   "execution_count": 68,
   "metadata": {},
   "outputs": [
    {
     "data": {
      "text/latex": [
       "$\\displaystyle \\left\\{5 - 2 x\\; \\middle|\\; x \\in \\left[0, 1\\right] \\times \\left[0, 2 \\pi\\right)\\right\\}$"
      ],
      "text/plain": [
       "{5 - 2⋅x │ x ∊ [0, 1] × [0, 2⋅π)}"
      ]
     },
     "execution_count": 68,
     "metadata": {},
     "output_type": "execute_result"
    }
   ],
   "source": [
    "D = ImageSet(A, Interval(0, 1) * Interval(0, 2 * pi, False, True))\n",
    "D"
   ]
  },
  {
   "cell_type": "code",
   "execution_count": 69,
   "metadata": {},
   "outputs": [
    {
     "data": {
      "text/latex": [
       "$\\displaystyle x + y z$"
      ],
      "text/plain": [
       "x + y⋅z"
      ]
     },
     "execution_count": 69,
     "metadata": {},
     "output_type": "execute_result"
    }
   ],
   "source": [
    "from sympy.abc import x, y, z\n",
    "p = x, y,z\n",
    "f = Lambda(p, x + y*z)\n",
    "f(*p)"
   ]
  }
 ],
 "metadata": {
  "kernelspec": {
   "display_name": ".venv",
   "language": "python",
   "name": "python3"
  },
  "language_info": {
   "codemirror_mode": {
    "name": "ipython",
    "version": 3
   },
   "file_extension": ".py",
   "mimetype": "text/x-python",
   "name": "python",
   "nbconvert_exporter": "python",
   "pygments_lexer": "ipython3",
   "version": "3.11.3"
  },
  "orig_nbformat": 4,
  "vscode": {
   "interpreter": {
    "hash": "3ee5d3487d9f40e30e81d86cf9f3338a7ddb8b6aa83fdcec3f3fff2c2dc7a008"
   }
  }
 },
 "nbformat": 4,
 "nbformat_minor": 2
}
