{
 "cells": [
  {
   "cell_type": "code",
   "execution_count": 1,
   "metadata": {},
   "outputs": [
    {
     "data": {
      "text/latex": [
       "$\\displaystyle y \\vee \\left(x \\wedge y\\right)$"
      ],
      "text/plain": [
       "y ∨ (x ∧ y)"
      ]
     },
     "execution_count": 1,
     "metadata": {},
     "output_type": "execute_result"
    }
   ],
   "source": [
    "from sympy import symbols, init_printing\n",
    "\n",
    "init_printing(use_latex=\"mathjax\")\n",
    "x, y, z = symbols(\"x y z\")\n",
    "y | (x & y)\n"
   ]
  },
  {
   "cell_type": "code",
   "execution_count": 2,
   "metadata": {},
   "outputs": [
    {
     "data": {
      "text/latex": [
       "$\\displaystyle \\neg x$"
      ],
      "text/plain": [
       "¬x"
      ]
     },
     "execution_count": 2,
     "metadata": {},
     "output_type": "execute_result"
    }
   ],
   "source": [
    "~x\n"
   ]
  },
  {
   "cell_type": "code",
   "execution_count": 3,
   "metadata": {},
   "outputs": [
    {
     "data": {
      "text/latex": [
       "$\\displaystyle x \\Rightarrow y$"
      ],
      "text/plain": [
       "x → y"
      ]
     },
     "execution_count": 3,
     "metadata": {},
     "output_type": "execute_result"
    }
   ],
   "source": [
    "x >> y\n"
   ]
  },
  {
   "cell_type": "code",
   "execution_count": 4,
   "metadata": {},
   "outputs": [
    {
     "data": {
      "text/latex": [
       "$\\displaystyle \\text{False}$"
      ],
      "text/plain": [
       "False"
      ]
     },
     "execution_count": 4,
     "metadata": {},
     "output_type": "execute_result"
    }
   ],
   "source": [
    "((x & y) | z).subs({x: True, y: False, z: False})\n"
   ]
  },
  {
   "cell_type": "code",
   "execution_count": 5,
   "metadata": {},
   "outputs": [
    {
     "data": {
      "text/latex": [
       "$\\displaystyle \\left\\{x, y, z\\right\\}$"
      ],
      "text/plain": [
       "{x, y, z}"
      ]
     },
     "execution_count": 5,
     "metadata": {},
     "output_type": "execute_result"
    }
   ],
   "source": [
    "((x | y) & z).atoms()\n"
   ]
  },
  {
   "cell_type": "code",
   "execution_count": 6,
   "metadata": {},
   "outputs": [
    {
     "data": {
      "text/latex": [
       "$\\displaystyle \\left\\{0, 5\\right\\}$"
      ],
      "text/plain": [
       "{0, 5}"
      ]
     },
     "execution_count": 6,
     "metadata": {},
     "output_type": "execute_result"
    }
   ],
   "source": [
    "from sympy import Interval, FiniteSet\n",
    "\n",
    "E = symbols(\"E\")\n",
    "E = FiniteSet(0, 5)\n",
    "E\n"
   ]
  },
  {
   "cell_type": "code",
   "execution_count": 7,
   "metadata": {},
   "outputs": [
    {
     "data": {
      "text/latex": [
       "$\\displaystyle \\mathbb{Z} \\setminus \\left[0, 10\\right]$"
      ],
      "text/plain": [
       "ℤ \\ [0, 10]"
      ]
     },
     "execution_count": 7,
     "metadata": {},
     "output_type": "execute_result"
    }
   ],
   "source": [
    "from sympy import S, Interval\n",
    "\n",
    "Interval(0, 10).complement(S.Integers)\n"
   ]
  },
  {
   "cell_type": "code",
   "execution_count": 8,
   "metadata": {},
   "outputs": [
    {
     "data": {
      "text/latex": [
       "$\\displaystyle \\left\\{2 \\leq x \\wedge x \\leq 4\\right\\}$"
      ],
      "text/plain": [
       "{2 ≤ x ∧ x ≤ 4}"
      ]
     },
     "execution_count": 8,
     "metadata": {},
     "output_type": "execute_result"
    }
   ],
   "source": [
    "from sympy import solve, LessThan, FiniteSet\n",
    "\n",
    "x = symbols(\"x\")\n",
    "FiniteSet(solve(LessThan(x**2 - 6 * x + 8, 0), x))\n"
   ]
  },
  {
   "cell_type": "code",
   "execution_count": 9,
   "metadata": {},
   "outputs": [
    {
     "data": {
      "text/latex": [
       "$\\displaystyle \\left\\{2, 4\\right\\}$"
      ],
      "text/plain": [
       "{2, 4}"
      ]
     },
     "execution_count": 9,
     "metadata": {},
     "output_type": "execute_result"
    }
   ],
   "source": [
    "from sympy import solveset, Eq, S\n",
    "\n",
    "solveset(Eq(x**2 - 6 * x + 8, 0), domain=S.Naturals)\n"
   ]
  },
  {
   "cell_type": "code",
   "execution_count": 10,
   "metadata": {},
   "outputs": [
    {
     "data": {
      "text/latex": [
       "$\\displaystyle \\left\\{2, 3, 4\\right\\}$"
      ],
      "text/plain": [
       "{2, 3, 4}"
      ]
     },
     "execution_count": 10,
     "metadata": {},
     "output_type": "execute_result"
    }
   ],
   "source": [
    "from sympy import solveset, S, LessThan\n",
    "\n",
    "x = symbols(\"x\")\n",
    "solveset(LessThan(x**2 - 6 * x + 8, 0), domain=S.Naturals)\n"
   ]
  },
  {
   "cell_type": "code",
   "execution_count": 11,
   "metadata": {},
   "outputs": [
    {
     "data": {
      "text/latex": [
       "$\\displaystyle \\left\\{1, 2, \\ldots, 7\\right\\}$"
      ],
      "text/plain": [
       "{1, 2, …, 7}"
      ]
     },
     "execution_count": 11,
     "metadata": {},
     "output_type": "execute_result"
    }
   ],
   "source": [
    "from sympy import StrictLessThan, solveset, S\n",
    "\n",
    "x = symbols(\"x\")\n",
    "a = solveset(StrictLessThan(x**2, 50), domain=S.Naturals)\n",
    "a\n"
   ]
  },
  {
   "cell_type": "code",
   "execution_count": 12,
   "metadata": {},
   "outputs": [
    {
     "data": {
      "text/latex": [
       "$\\displaystyle -\\infty < x \\wedge x < - \\frac{1}{2}$"
      ],
      "text/plain": [
       "-∞ < x ∧ x < -1/2"
      ]
     },
     "execution_count": 12,
     "metadata": {},
     "output_type": "execute_result"
    }
   ],
   "source": [
    "solve(StrictLessThan(2 * x, -1))\n"
   ]
  },
  {
   "cell_type": "code",
   "execution_count": 13,
   "metadata": {},
   "outputs": [
    {
     "data": {
      "text/latex": [
       "$\\displaystyle \\left\\{1, 2, 3, 4, 5, 6, 7, 8, 9, 10\\right\\}$"
      ],
      "text/plain": [
       "{1, 2, 3, 4, 5, 6, 7, 8, 9, 10}"
      ]
     },
     "execution_count": 13,
     "metadata": {},
     "output_type": "execute_result"
    }
   ],
   "source": [
    "iterable = iter(S.Naturals)\n",
    "FiniteSet(*[next(iterable) for i in range(10)])\n"
   ]
  },
  {
   "cell_type": "code",
   "execution_count": 14,
   "metadata": {},
   "outputs": [
    {
     "data": {
      "text/latex": [
       "$\\displaystyle \\left\\{1, 3, 5, 7\\right\\}$"
      ],
      "text/plain": [
       "{1, 3, 5, 7}"
      ]
     },
     "execution_count": 14,
     "metadata": {},
     "output_type": "execute_result"
    }
   ],
   "source": [
    "from sympy import FiniteSet\n",
    "\n",
    "members = []\n",
    "for i in range(50):\n",
    "    if i % 2 == 1:\n",
    "        n = i**2\n",
    "        if n < 50:\n",
    "            members.append(i)\n",
    "\n",
    "a = FiniteSet(*members)\n",
    "a\n"
   ]
  },
  {
   "cell_type": "code",
   "execution_count": 15,
   "metadata": {},
   "outputs": [
    {
     "data": {
      "text/latex": [
       "$\\displaystyle \\left\\{2, 3, 4, 5, 6, 7\\right\\}$"
      ],
      "text/plain": [
       "{2, 3, 4, 5, 6, 7}"
      ]
     },
     "execution_count": 15,
     "metadata": {},
     "output_type": "execute_result"
    }
   ],
   "source": [
    "from sympy import FiniteSet\n",
    "\n",
    "members2 = []\n",
    "for i in range(50):\n",
    "    if i >= 2:\n",
    "        n = i**2\n",
    "        if n < 50:\n",
    "            members2.append(i)\n",
    "\n",
    "a = FiniteSet(*members2)\n",
    "a\n"
   ]
  },
  {
   "cell_type": "code",
   "execution_count": 16,
   "metadata": {},
   "outputs": [],
   "source": [
    "a, b, c, d = symbols(\"a b c d\")\n",
    "a = FiniteSet(1, 2)\n",
    "b = solveset(StrictLessThan(x**2, 20), domain=S.Naturals)\n",
    "c = solveset(Eq(x**2 - 5 * x + 6, 0), domain=S.Naturals)\n",
    "d = FiniteSet(2)\n"
   ]
  },
  {
   "cell_type": "code",
   "execution_count": 17,
   "metadata": {},
   "outputs": [
    {
     "data": {
      "text/latex": [
       "$\\displaystyle \\left\\{1, 2\\right\\}$"
      ],
      "text/plain": [
       "{1, 2}"
      ]
     },
     "execution_count": 17,
     "metadata": {},
     "output_type": "execute_result"
    }
   ],
   "source": [
    "a\n"
   ]
  },
  {
   "cell_type": "code",
   "execution_count": 18,
   "metadata": {},
   "outputs": [
    {
     "data": {
      "text/latex": [
       "$\\displaystyle \\left\\{1, 2, \\ldots, 4\\right\\}$"
      ],
      "text/plain": [
       "{1, 2, 3, 4}"
      ]
     },
     "execution_count": 18,
     "metadata": {},
     "output_type": "execute_result"
    }
   ],
   "source": [
    "b\n"
   ]
  },
  {
   "cell_type": "code",
   "execution_count": 19,
   "metadata": {},
   "outputs": [
    {
     "data": {
      "text/latex": [
       "$\\displaystyle \\left\\{2, 3\\right\\}$"
      ],
      "text/plain": [
       "{2, 3}"
      ]
     },
     "execution_count": 19,
     "metadata": {},
     "output_type": "execute_result"
    }
   ],
   "source": [
    "c\n"
   ]
  },
  {
   "cell_type": "code",
   "execution_count": 20,
   "metadata": {},
   "outputs": [
    {
     "data": {
      "text/latex": [
       "$\\displaystyle \\left\\{2\\right\\}$"
      ],
      "text/plain": [
       "{2}"
      ]
     },
     "execution_count": 20,
     "metadata": {},
     "output_type": "execute_result"
    }
   ],
   "source": [
    "d\n"
   ]
  },
  {
   "cell_type": "code",
   "execution_count": 21,
   "metadata": {},
   "outputs": [],
   "source": [
    "from sympy import ImageSet, Lambda\n",
    "\n",
    "s = symbols(\"s1:7\")\n",
    "s1 = solveset(StrictLessThan(x**2, 4), domain=S.Naturals)\n",
    "s2 = solveset(Eq(x**2, 4), domain=S.Naturals)\n",
    "s3 = FiniteSet(2)\n",
    "s4 = solveset(StrictLessThan(x, 3), domain=S.Naturals)\n",
    "s5 = ImageSet(Lambda(x, 2 * x), S.Naturals)\n"
   ]
  },
  {
   "cell_type": "code",
   "execution_count": 22,
   "metadata": {},
   "outputs": [
    {
     "data": {
      "text/plain": [
       "False"
      ]
     },
     "execution_count": 22,
     "metadata": {},
     "output_type": "execute_result"
    }
   ],
   "source": [
    "from sympy import Complement\n",
    "\n",
    "a.is_subset(d)\n"
   ]
  },
  {
   "cell_type": "code",
   "execution_count": 23,
   "metadata": {},
   "outputs": [
    {
     "data": {
      "text/plain": [
       "False"
      ]
     },
     "execution_count": 23,
     "metadata": {},
     "output_type": "execute_result"
    }
   ],
   "source": [
    "b.is_subset(a)\n"
   ]
  },
  {
   "cell_type": "code",
   "execution_count": 24,
   "metadata": {},
   "outputs": [
    {
     "data": {
      "text/plain": [
       "True"
      ]
     },
     "execution_count": 24,
     "metadata": {},
     "output_type": "execute_result"
    }
   ],
   "source": [
    "b.is_subset(b)\n"
   ]
  },
  {
   "cell_type": "code",
   "execution_count": 25,
   "metadata": {},
   "outputs": [
    {
     "data": {
      "text/plain": [
       "False"
      ]
     },
     "execution_count": 25,
     "metadata": {},
     "output_type": "execute_result"
    }
   ],
   "source": [
    "b.is_subset(c)\n"
   ]
  },
  {
   "cell_type": "code",
   "execution_count": 26,
   "metadata": {},
   "outputs": [
    {
     "data": {
      "text/plain": [
       "True"
      ]
     },
     "execution_count": 26,
     "metadata": {},
     "output_type": "execute_result"
    }
   ],
   "source": [
    "c.is_subset(b)\n"
   ]
  },
  {
   "cell_type": "code",
   "execution_count": 27,
   "metadata": {},
   "outputs": [
    {
     "data": {
      "text/plain": [
       "False"
      ]
     },
     "execution_count": 27,
     "metadata": {},
     "output_type": "execute_result"
    }
   ],
   "source": [
    "b.is_subset(d)\n"
   ]
  },
  {
   "cell_type": "code",
   "execution_count": 28,
   "metadata": {},
   "outputs": [
    {
     "data": {
      "text/plain": [
       "False"
      ]
     },
     "execution_count": 28,
     "metadata": {},
     "output_type": "execute_result"
    }
   ],
   "source": [
    "c.is_subset(d)\n"
   ]
  },
  {
   "cell_type": "code",
   "execution_count": 29,
   "metadata": {},
   "outputs": [
    {
     "data": {
      "text/latex": [
       "$\\displaystyle \\left\\{2 x + 1\\; \\middle|\\; x \\in \\mathbb{Z}\\right\\}$"
      ],
      "text/plain": [
       "{2⋅x + 1 │ x ∊ ℤ}"
      ]
     },
     "execution_count": 29,
     "metadata": {},
     "output_type": "execute_result"
    }
   ],
   "source": [
    "from sympy import imageset\n",
    "\n",
    "imageset(x, -2 * x + 5, S.Integers)\n"
   ]
  },
  {
   "cell_type": "code",
   "execution_count": 30,
   "metadata": {},
   "outputs": [
    {
     "data": {
      "text/latex": [
       "$\\displaystyle \\left\\{x^{2}\\; \\middle|\\; x \\in \\mathbb{N}\\right\\}$"
      ],
      "text/plain": [
       "⎧ 2 │      ⎫\n",
       "⎨x  │ x ∊ ℕ⎬\n",
       "⎩   │      ⎭"
      ]
     },
     "execution_count": 30,
     "metadata": {},
     "output_type": "execute_result"
    }
   ],
   "source": [
    "from sympy import ImageSet, Lambda\n",
    "\n",
    "x = symbols(\"x\")\n",
    "N = S.Naturals\n",
    "squares = ImageSet(Lambda(x, x**2), N)  # {x**2 for x in N}\n",
    "squares\n"
   ]
  },
  {
   "cell_type": "code",
   "execution_count": 37,
   "metadata": {},
   "outputs": [
    {
     "ename": "TypeError",
     "evalue": "'UniversalSet' object is not callable",
     "output_type": "error",
     "traceback": [
      "\u001b[0;31m---------------------------------------------------------------------------\u001b[0m",
      "\u001b[0;31mTypeError\u001b[0m                                 Traceback (most recent call last)",
      "Cell \u001b[0;32mIn[37], line 4\u001b[0m\n\u001b[1;32m      2\u001b[0m U \u001b[39m=\u001b[39m symbols(\u001b[39m\"\u001b[39m\u001b[39mU\u001b[39m\u001b[39m\"\u001b[39m, naturals\u001b[39m=\u001b[39m\u001b[39mTrue\u001b[39;00m)\n\u001b[1;32m      3\u001b[0m a,b,c,d \u001b[39m=\u001b[39m symbols(\u001b[39m\"\u001b[39m\u001b[39ma b c d\u001b[39m\u001b[39m\"\u001b[39m)\n\u001b[0;32m----> 4\u001b[0m U \u001b[39m=\u001b[39m UniversalSet(\u001b[39m1\u001b[39;49m,\u001b[39m2\u001b[39;49m,\u001b[39m3\u001b[39;49m,\u001b[39m4\u001b[39;49m,\u001b[39m5\u001b[39;49m,\u001b[39m6\u001b[39;49m,\u001b[39m7\u001b[39;49m,\u001b[39m8\u001b[39;49m,\u001b[39m9\u001b[39;49m,\u001b[39m10\u001b[39;49m)\n\u001b[1;32m      5\u001b[0m a \u001b[39m=\u001b[39m solveset(LessThan(x, \u001b[39m5\u001b[39m), domain\u001b[39m=\u001b[39mS\u001b[39m.\u001b[39mNaturals)\n\u001b[1;32m      6\u001b[0m b \u001b[39m=\u001b[39m solveset(GreaterThan(x, \u001b[39m3\u001b[39m), domain\u001b[39m=\u001b[39mS\u001b[39m.\u001b[39mNaturals)\n",
      "\u001b[0;31mTypeError\u001b[0m: 'UniversalSet' object is not callable"
     ]
    }
   ],
   "source": [
    "from sympy import GreaterThan, UniversalSet\n",
    "\n",
    "U = symbols(\"U\", naturals=True)\n",
    "a, b, c, d = symbols(\"a b c d\")\n",
    "U = UniversalSet(1, 2, 3, 4, 5, 6, 7, 8, 9, 10)\n",
    "a = solveset(LessThan(x, 5), domain=S.Naturals)\n",
    "b = solveset(GreaterThan(x, 3), domain=S.Naturals)\n",
    "c = solveset(GreaterThan(x, 7), domain=S.Naturals)\n",
    "d = solveset(x**2 - 9 * x + 20, domain=S.Naturals)\n"
   ]
  },
  {
   "cell_type": "code",
   "execution_count": 35,
   "metadata": {},
   "outputs": [
    {
     "data": {
      "text/latex": [
       "$\\displaystyle \\left\\{3, 4, 5\\right\\}$"
      ],
      "text/plain": [
       "{3, 4, 5}"
      ]
     },
     "execution_count": 35,
     "metadata": {},
     "output_type": "execute_result"
    }
   ],
   "source": [
    "from sympy import Union, Intersection, Complement\n",
    "\n",
    "Intersection(a, b)\n"
   ]
  },
  {
   "cell_type": "code",
   "execution_count": 36,
   "metadata": {},
   "outputs": [
    {
     "data": {
      "text/latex": [
       "$\\displaystyle \\left\\{3, 4, \\ldots\\right\\} \\setminus \\left\\{1, 2, 3, 4, 5, 6, 7, 8, 9, 10\\right\\}$"
      ],
      "text/plain": [
       "{3, 4, …} \\ {1, 2, 3, 4, 5, 6, 7, 8, 9, 10}"
      ]
     },
     "execution_count": 36,
     "metadata": {},
     "output_type": "execute_result"
    }
   ],
   "source": [
    "Complement(b, U)\n"
   ]
  },
  {
   "cell_type": "code",
   "execution_count": null,
   "metadata": {},
   "outputs": [],
   "source": []
  }
 ],
 "metadata": {
  "kernelspec": {
   "display_name": ".venv",
   "language": "python",
   "name": "python3"
  },
  "language_info": {
   "codemirror_mode": {
    "name": "ipython",
    "version": 3
   },
   "file_extension": ".py",
   "mimetype": "text/x-python",
   "name": "python",
   "nbconvert_exporter": "python",
   "pygments_lexer": "ipython3",
   "version": "3.11.3"
  },
  "orig_nbformat": 4
 },
 "nbformat": 4,
 "nbformat_minor": 2
}
