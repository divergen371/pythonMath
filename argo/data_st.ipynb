{
 "cells": [
  {
   "cell_type": "markdown",
   "metadata": {},
   "source": [
    "# Pythonのデータ構造\n",
    "\n",
    "## リストの時間計算量\n",
    "|機能|時間計算量|\n",
    "|:--:|:--:|\n",
    "|要素の挿入|$O(1)$|\n",
    "|要素の削除|$O(n)$(最悪のケースではリスト全体の反復処理が必要)|\n",
    "|リストのスライシング|$O(n)$|\n",
    "|要素の取得|$O(n)$|\n",
    "|リストのコピー|$O(n)$|\n",
    "\n",
    "- 要素の追加はリストのサイズとは無関係\n",
    "- 表中の他の処理はリストサイズに依存する\n",
    "\n",
    "## タプルの時間計算量\n",
    "- タプルはイミュータブル(=読み取り専用)のデータ構造。\n",
    "\n",
    "|機能|時間計算量|\n",
    "|:--:|:--:|\n",
    "|要素の追加|$O(1)$|\n",
    "\n",
    "既存のタプルの最後にデータを追加できると仮定した場合。\n",
    "\n",
    "## ディクショナリの時間計算量\n",
    "\n",
    "- 一例として\n",
    "  - 分散アルゴリズムで、データをキーと値のペアとして保持するときにつかう。\n",
    "\n",
    "\n",
    "|機能|時間計算量|\n",
    "|:--:|:--:|\n",
    "|値またはキーの取得|$O(1)$|\n",
    "|値またはキーの設定|$O(1)$|\n",
    "|ディクショナリのコピー|$O(n)$|\n"
   ]
  },
  {
   "cell_type": "code",
   "execution_count": null,
   "metadata": {
    "dotnet_interactive": {
     "language": "csharp"
    },
    "polyglot_notebook": {
     "kernelName": "csharp"
    }
   },
   "outputs": [],
   "source": [
    "aList = [\"John\", 33, \"Toronto\", True]\n",
    "print(aList)"
   ]
  },
  {
   "cell_type": "code",
   "execution_count": null,
   "metadata": {
    "dotnet_interactive": {
     "language": "csharp"
    },
    "polyglot_notebook": {
     "kernelName": "csharp"
    }
   },
   "outputs": [],
   "source": [
    "bin_colors = [\"Red\", \"Green\", \"Blue\", \"Yellow\"]\n",
    "print(bin_colors[2:])\n",
    "print(bin_colors[:-1])"
   ]
  },
  {
   "cell_type": "code",
   "execution_count": null,
   "metadata": {
    "dotnet_interactive": {
     "language": "csharp"
    },
    "polyglot_notebook": {
     "kernelName": "csharp"
    }
   },
   "outputs": [],
   "source": [
    "for aColor in bin_colors:\n",
    "    print(aColor + \" square\")"
   ]
  },
  {
   "cell_type": "code",
   "execution_count": null,
   "metadata": {
    "dotnet_interactive": {
     "language": "csharp"
    },
    "polyglot_notebook": {
     "kernelName": "csharp"
    }
   },
   "outputs": [],
   "source": [
    "list(filter(lambda x: x > 100, [1, 2, 3, 99, 100, 101, 102]))"
   ]
  },
  {
   "cell_type": "code",
   "execution_count": null,
   "metadata": {
    "dotnet_interactive": {
     "language": "csharp"
    },
    "polyglot_notebook": {
     "kernelName": "csharp"
    }
   },
   "outputs": [],
   "source": [
    "list(map(lambda x: x * 2, [1, 2, 3, 4]))"
   ]
  },
  {
   "cell_type": "code",
   "execution_count": null,
   "metadata": {
    "dotnet_interactive": {
     "language": "csharp"
    },
    "polyglot_notebook": {
     "kernelName": "csharp"
    }
   },
   "outputs": [],
   "source": [
    "from functools import reduce\n",
    "\n",
    "\n",
    "def doSum(x1, x2):\n",
    "    return x1 + x2\n",
    "\n",
    "\n",
    "reduce(doSum, range(101))"
   ]
  },
  {
   "cell_type": "code",
   "execution_count": null,
   "metadata": {
    "dotnet_interactive": {
     "language": "csharp"
    },
    "polyglot_notebook": {
     "kernelName": "csharp"
    }
   },
   "outputs": [],
   "source": [
    "import pandas as pd\n",
    "\n",
    "df = pd.DataFrame(\n",
    "    [\n",
    "        [\"1\", \"Fares\", 32, True],\n",
    "        [\"2\", \"Elena\", 23, False],\n",
    "        [\"3\", \"Steven\", 40, True],\n",
    "    ]\n",
    ")\n",
    "\n",
    "df.columns = [\"id\", \"name\", \"age\", \"decision\"]\n",
    "df"
   ]
  },
  {
   "cell_type": "code",
   "execution_count": null,
   "metadata": {
    "dotnet_interactive": {
     "language": "csharp"
    },
    "polyglot_notebook": {
     "kernelName": "csharp"
    }
   },
   "outputs": [],
   "source": [
    "df[[\"name\",\"age\"]]"
   ]
  },
  {
   "cell_type": "code",
   "execution_count": null,
   "metadata": {
    "dotnet_interactive": {
     "language": "csharp"
    },
    "polyglot_notebook": {
     "kernelName": "csharp"
    }
   },
   "outputs": [],
   "source": []
  }
 ],
 "metadata": {
  "kernelspec": {
   "display_name": ".venv",
   "language": "python",
   "name": "python3"
  },
  "language_info": {
   "codemirror_mode": {
    "name": "ipython",
    "version": 3
   },
   "file_extension": ".py",
   "mimetype": "text/x-python",
   "name": "python",
   "nbconvert_exporter": "python",
   "pygments_lexer": "ipython3",
   "version": "3.11.3"
  },
  "polyglot_notebook": {
   "kernelInfo": {
    "defaultKernelName": "csharp",
    "items": [
     {
      "aliases": [],
      "name": "csharp"
     }
    ]
   }
  }
 },
 "nbformat": 4,
 "nbformat_minor": 2
}
