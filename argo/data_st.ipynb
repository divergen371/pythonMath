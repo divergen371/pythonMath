{
 "cells": [
  {
   "cell_type": "markdown",
   "metadata": {},
   "source": [
    "# Pythonのデータ構造\n",
    "\n",
    "## リストの時間計算量\n",
    "|機能|時間計算量|\n",
    "|:--:|:--:|\n",
    "|要素の挿入|$O(1)$|\n",
    "|要素の削除|$O(n)$(最悪のケースではリスト全体の反復処理が必要)|\n",
    "|リストのスライシング|$O(n)$|\n",
    "|要素の取得|$O(n)$|\n",
    "|リストのコピー|$O(n)$|\n",
    "\n",
    "- 要素の追加はリストのサイズとは無関係\n",
    "- 表中の他の処理はリストサイズに依存する\n",
    "\n",
    "## タプルの時間計算量\n",
    "- タプルはイミュータブル(=読み取り専用)のデータ構造。\n",
    "\n",
    "|機能|時間計算量|\n",
    "|:--:|:--:|\n",
    "|要素の追加|$O(1)$|\n",
    "\n",
    "既存のタプルの最後にデータを追加できると仮定した場合。\n",
    "\n",
    "## ディクショナリの時間計算量\n",
    "\n",
    "- 一例として\n",
    "  - 分散アルゴリズムで、データをキーと値のペアとして保持するときにつかう。\n",
    "\n",
    "\n",
    "|機能|時間計算量|\n",
    "|:--:|:--:|\n",
    "|値またはキーの取得|$O(1)$|\n",
    "|値またはキーの設定|$O(1)$|\n",
    "|ディクショナリのコピー|$O(n)$|\n"
   ]
  },
  {
   "cell_type": "code",
   "execution_count": 6,
   "metadata": {},
   "outputs": [
    {
     "name": "stdout",
     "output_type": "stream",
     "text": [
      "['John', 33, 'Toronto', True]\n"
     ]
    }
   ],
   "source": [
    "aList = [\"John\", 33, \"Toronto\", True]\n",
    "print(aList)"
   ]
  },
  {
   "cell_type": "code",
   "execution_count": 10,
   "metadata": {},
   "outputs": [
    {
     "name": "stdout",
     "output_type": "stream",
     "text": [
      "['Blue', 'Yellow']\n",
      "['Red', 'Green', 'Blue']\n"
     ]
    }
   ],
   "source": [
    "bin_colors = [\"Red\", \"Green\", \"Blue\", \"Yellow\"]\n",
    "print(bin_colors[2:])\n",
    "print(bin_colors[:-1])"
   ]
  },
  {
   "cell_type": "code",
   "execution_count": 12,
   "metadata": {},
   "outputs": [
    {
     "name": "stdout",
     "output_type": "stream",
     "text": [
      "Red square\n",
      "Green square\n",
      "Blue square\n",
      "Yellow square\n"
     ]
    }
   ],
   "source": [
    "for aColor in bin_colors:\n",
    "    print(aColor + \" square\")"
   ]
  },
  {
   "cell_type": "code",
   "execution_count": 16,
   "metadata": {},
   "outputs": [
    {
     "data": {
      "text/plain": [
       "[101, 102]"
      ]
     },
     "execution_count": 16,
     "metadata": {},
     "output_type": "execute_result"
    }
   ],
   "source": [
    "list(filter(lambda x: x > 100, [1, 2, 3, 99, 100, 101, 102]))"
   ]
  },
  {
   "cell_type": "code",
   "execution_count": 17,
   "metadata": {},
   "outputs": [
    {
     "data": {
      "text/plain": [
       "[2, 4, 6, 8]"
      ]
     },
     "execution_count": 17,
     "metadata": {},
     "output_type": "execute_result"
    }
   ],
   "source": [
    "list(map(lambda x: x * 2, [1, 2, 3, 4]))"
   ]
  },
  {
   "cell_type": "code",
   "execution_count": 23,
   "metadata": {},
   "outputs": [
    {
     "data": {
      "text/plain": [
       "5050"
      ]
     },
     "execution_count": 23,
     "metadata": {},
     "output_type": "execute_result"
    }
   ],
   "source": [
    "from functools import reduce\n",
    "\n",
    "\n",
    "def doSum(x1, x2):\n",
    "    return x1 + x2\n",
    "\n",
    "\n",
    "reduce(doSum, range(101))"
   ]
  },
  {
   "cell_type": "code",
   "execution_count": 33,
   "metadata": {},
   "outputs": [
    {
     "data": {
      "text/html": [
       "<div>\n",
       "<style scoped>\n",
       "    .dataframe tbody tr th:only-of-type {\n",
       "        vertical-align: middle;\n",
       "    }\n",
       "\n",
       "    .dataframe tbody tr th {\n",
       "        vertical-align: top;\n",
       "    }\n",
       "\n",
       "    .dataframe thead th {\n",
       "        text-align: right;\n",
       "    }\n",
       "</style>\n",
       "<table border=\"1\" class=\"dataframe\">\n",
       "  <thead>\n",
       "    <tr style=\"text-align: right;\">\n",
       "      <th></th>\n",
       "      <th>id</th>\n",
       "      <th>name</th>\n",
       "      <th>age</th>\n",
       "      <th>decision</th>\n",
       "    </tr>\n",
       "  </thead>\n",
       "  <tbody>\n",
       "    <tr>\n",
       "      <th>0</th>\n",
       "      <td>1</td>\n",
       "      <td>Fares</td>\n",
       "      <td>32</td>\n",
       "      <td>True</td>\n",
       "    </tr>\n",
       "    <tr>\n",
       "      <th>1</th>\n",
       "      <td>2</td>\n",
       "      <td>Elena</td>\n",
       "      <td>23</td>\n",
       "      <td>False</td>\n",
       "    </tr>\n",
       "    <tr>\n",
       "      <th>2</th>\n",
       "      <td>3</td>\n",
       "      <td>Steven</td>\n",
       "      <td>40</td>\n",
       "      <td>True</td>\n",
       "    </tr>\n",
       "  </tbody>\n",
       "</table>\n",
       "</div>"
      ],
      "text/plain": [
       "  id    name  age  decision\n",
       "0  1   Fares   32      True\n",
       "1  2   Elena   23     False\n",
       "2  3  Steven   40      True"
      ]
     },
     "execution_count": 33,
     "metadata": {},
     "output_type": "execute_result"
    }
   ],
   "source": [
    "import pandas as pd\n",
    "\n",
    "df = pd.DataFrame(\n",
    "    [\n",
    "        [\"1\", \"Fares\", 32, True],\n",
    "        [\"2\", \"Elena\", 23, False],\n",
    "        [\"3\", \"Steven\", 40, True],\n",
    "    ]\n",
    ")\n",
    "\n",
    "df.columns = [\"id\", \"name\", \"age\", \"decision\"]\n",
    "df"
   ]
  },
  {
   "cell_type": "code",
   "execution_count": 30,
   "metadata": {},
   "outputs": [
    {
     "data": {
      "text/html": [
       "<div>\n",
       "<style scoped>\n",
       "    .dataframe tbody tr th:only-of-type {\n",
       "        vertical-align: middle;\n",
       "    }\n",
       "\n",
       "    .dataframe tbody tr th {\n",
       "        vertical-align: top;\n",
       "    }\n",
       "\n",
       "    .dataframe thead th {\n",
       "        text-align: right;\n",
       "    }\n",
       "</style>\n",
       "<table border=\"1\" class=\"dataframe\">\n",
       "  <thead>\n",
       "    <tr style=\"text-align: right;\">\n",
       "      <th></th>\n",
       "      <th>name</th>\n",
       "      <th>age</th>\n",
       "    </tr>\n",
       "  </thead>\n",
       "  <tbody>\n",
       "    <tr>\n",
       "      <th>0</th>\n",
       "      <td>Fares</td>\n",
       "      <td>32</td>\n",
       "    </tr>\n",
       "    <tr>\n",
       "      <th>1</th>\n",
       "      <td>Elena</td>\n",
       "      <td>23</td>\n",
       "    </tr>\n",
       "    <tr>\n",
       "      <th>2</th>\n",
       "      <td>Steven</td>\n",
       "      <td>40</td>\n",
       "    </tr>\n",
       "  </tbody>\n",
       "</table>\n",
       "</div>"
      ],
      "text/plain": [
       "     name  age\n",
       "0   Fares   32\n",
       "1   Elena   23\n",
       "2  Steven   40"
      ]
     },
     "execution_count": 30,
     "metadata": {},
     "output_type": "execute_result"
    }
   ],
   "source": [
    "df[[\"name\",\"age\"]]"
   ]
  },
  {
   "cell_type": "code",
   "execution_count": null,
   "metadata": {},
   "outputs": [],
   "source": []
  }
 ],
 "metadata": {
  "kernelspec": {
   "display_name": ".venv",
   "language": "python",
   "name": "python3"
  },
  "language_info": {
   "codemirror_mode": {
    "name": "ipython",
    "version": 3
   },
   "file_extension": ".py",
   "mimetype": "text/x-python",
   "name": "python",
   "nbconvert_exporter": "python",
   "pygments_lexer": "ipython3",
   "version": "3.11.3"
  }
 },
 "nbformat": 4,
 "nbformat_minor": 2
}
