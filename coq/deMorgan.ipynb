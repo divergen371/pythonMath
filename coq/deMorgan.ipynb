{
 "cells": [
  {
   "cell_type": "code",
   "execution_count": 1,
   "metadata": {},
   "outputs": [
    {
     "data": {
      "text/html": [
       "\n",
       "<div class=\"coq_kernel_output_area\">\n",
       "    <pre>deMorgan1 =\n",
       "fun (A B : Prop) (NAB : ~ (A \\/ B)) =>\n",
       "conj ((fun A1 : A => NAB (or_introl A1)) : ~ A)\n",
       "  ((fun B1 : B => NAB (or_intror B1)) : ~ B)\n",
       "     : forall A B : Prop, ~ (A \\/ B) -> ~ A /\\ ~ B\n",
       "\n",
       "Arguments deMorgan1 (A B)%type_scope _</pre>\n",
       "</div>\n",
       "\n",
       "<div class=\"coq_kernel_rich_cell_output coq_kernel_status_message_area\" style=\"padding: 5px 0px;\">\n",
       "    <i class=\"fa-check fa text-success\"></i>\n",
       "    <span>Cell evaluated.</span>\n",
       "</div>\n",
       "\n",
       "<div class=\"coq_kernel_rich_cell_output coq_kernel_status_message_area coq_kernel_rolled_back_status_message\" style=\"padding: 5px 0px; display: none;\">\n",
       "    <i class=\"fa-exclamation-circle fa text-info\"></i>\n",
       "    <span>Cell rolled back.</span>\n",
       "</div>\n",
       "\n",
       "<div class=\"coq_kernel_rich_cell_output coq_kernel_roll_back_controls_area\" style=\"display: none; position: relative;\">\n",
       "    <button class=\"btn btn-default btn-xs coq_kernel_roll_back_button\" onclick=\"CoqKernel.roll_back(this)\">\n",
       "        <i class=\"fa-step-backward fa\"></i>\n",
       "        <span class=\"toolbar-btn-label\">Rollback cell</span>\n",
       "    </button>\n",
       "\n",
       "    <div style=\"display: inline-block; vertical-align: middle; padding-left: 0; padding-right: 0;\">\n",
       "      <input class=\"coq_kernel_auto_roll_back_checkbox\" type=\"checkbox\" value=\"\" onchange=\"CoqKernel.toggle_auto_roll_back(this)\" checked>\n",
       "      <label\">Auto rollback</label>\n",
       "    </div>\n",
       "</div>\n"
      ],
      "text/plain": [
       "deMorgan1 =\n",
       "fun (A B : Prop) (NAB : ~ (A \\/ B)) =>\n",
       "conj ((fun A1 : A => NAB (or_introl A1)) : ~ A)\n",
       "  ((fun B1 : B => NAB (or_intror B1)) : ~ B)\n",
       "     : forall A B : Prop, ~ (A \\/ B) -> ~ A /\\ ~ B\n",
       "\n",
       "Arguments deMorgan1 (A B)%type_scope _"
      ]
     },
     "execution_count": 17,
     "metadata": {
      "coq_kernel_evaluated": true,
      "coq_kernel_execution_id": "c9531514-6d43-49de-b34e-19d371b31fb5",
      "coq_kernel_rolled_back": false
     },
     "output_type": "execute_result"
    }
   ],
   "source": [
    "Theorem deMorgan1: forall A B:Prop, ~(A\\/B) -> ~A/\\~B.\n",
    "Proof.\n",
    "    intros A B NAB.\n",
    "    split.\n",
    "\n",
    "    (* NAB: ~(A\\/B) |- ~A *)\n",
    "    - intro A1.\n",
    "      apply NAB.\n",
    "      left.\n",
    "      exact A1.\n",
    "\n",
    "    (* NAB: ~(A\\/B) |- ~B *)\n",
    "    - intro B1.\n",
    "    apply NAB.\n",
    "    right.\n",
    "    exact B1.\n",
    "Qed.\n",
    "\n",
    "Print deMorgan1."
   ]
  },
  {
   "cell_type": "code",
   "execution_count": 17,
   "metadata": {},
   "outputs": [
    {
     "data": {
      "text/html": [
       "\n",
       "<div class=\"coq_kernel_output_area\">\n",
       "    <pre>deMorgan2 =\n",
       "fun (A B : Prop) (NANB : ~ A /\\ ~ B) =>\n",
       "(fun AB : A \\/ B =>\n",
       " match NANB with\n",
       " | conj x x0 =>\n",
       "     (fun (NA : ~ A) (NB : ~ B) =>\n",
       "      match AB with\n",
       "      | or_introl x1 => (fun A1 : A => NA A1) x1\n",
       "      | or_intror x1 => (fun B1 : B => NB B1) x1\n",
       "      end) x x0\n",
       " end)\n",
       ":\n",
       "~ (A \\/ B)\n",
       "     : forall A B : Prop, ~ A /\\ ~ B -> ~ (A \\/ B)\n",
       "\n",
       "Arguments deMorgan2 (A B)%type_scope _ _</pre>\n",
       "</div>\n",
       "\n",
       "<div class=\"coq_kernel_rich_cell_output coq_kernel_status_message_area\" style=\"padding: 5px 0px;\">\n",
       "    <i class=\"fa-check fa text-success\"></i>\n",
       "    <span>Cell evaluated.</span>\n",
       "</div>\n",
       "\n",
       "<div class=\"coq_kernel_rich_cell_output coq_kernel_status_message_area coq_kernel_rolled_back_status_message\" style=\"padding: 5px 0px; display: none;\">\n",
       "    <i class=\"fa-exclamation-circle fa text-info\"></i>\n",
       "    <span>Cell rolled back.</span>\n",
       "</div>\n",
       "\n",
       "<div class=\"coq_kernel_rich_cell_output coq_kernel_roll_back_controls_area\" style=\"display: none; position: relative;\">\n",
       "    <button class=\"btn btn-default btn-xs coq_kernel_roll_back_button\" onclick=\"CoqKernel.roll_back(this)\">\n",
       "        <i class=\"fa-step-backward fa\"></i>\n",
       "        <span class=\"toolbar-btn-label\">Rollback cell</span>\n",
       "    </button>\n",
       "\n",
       "    <div style=\"display: inline-block; vertical-align: middle; padding-left: 0; padding-right: 0;\">\n",
       "      <input class=\"coq_kernel_auto_roll_back_checkbox\" type=\"checkbox\" value=\"\" onchange=\"CoqKernel.toggle_auto_roll_back(this)\" checked>\n",
       "      <label\">Auto rollback</label>\n",
       "    </div>\n",
       "</div>\n"
      ],
      "text/plain": [
       "deMorgan2 =\n",
       "fun (A B : Prop) (NANB : ~ A /\\ ~ B) =>\n",
       "(fun AB : A \\/ B =>\n",
       " match NANB with\n",
       " | conj x x0 =>\n",
       "     (fun (NA : ~ A) (NB : ~ B) =>\n",
       "      match AB with\n",
       "      | or_introl x1 => (fun A1 : A => NA A1) x1\n",
       "      | or_intror x1 => (fun B1 : B => NB B1) x1\n",
       "      end) x x0\n",
       " end)\n",
       ":\n",
       "~ (A \\/ B)\n",
       "     : forall A B : Prop, ~ A /\\ ~ B -> ~ (A \\/ B)\n",
       "\n",
       "Arguments deMorgan2 (A B)%type_scope _ _"
      ]
     },
     "execution_count": 30,
     "metadata": {
      "coq_kernel_evaluated": true,
      "coq_kernel_execution_id": "f9573eea-e4af-428c-a6b9-61d564a6e16b",
      "coq_kernel_rolled_back": false
     },
     "output_type": "execute_result"
    }
   ],
   "source": [
    "Theorem deMorgan2: forall A B:Prop, ~A/\\~B -> ~(A\\/B).\n",
    "Proof.\n",
    "  intros A B NANB AB.\n",
    "  destruct NANB as [NA NB].\n",
    "  destruct AB as [A1 | B1].\n",
    "\n",
    "  (* NA:~A, NB:~B A1:A |- False *)\n",
    "  - apply NA.\n",
    "    exact A1.\n",
    "\n",
    "  (* NA:~A, NB:~B B1:B |- False *)\n",
    "  - apply NB.\n",
    "    exact B1.\n",
    "Qed.\n",
    "\n",
    "Print deMorgan2."
   ]
  }
 ],
 "metadata": {
  "kernelspec": {
   "display_name": "Coq",
   "language": "coq",
   "name": "coq"
  },
  "language_info": {
   "file_extension": ".v",
   "mimetype": "text/x-coq",
   "name": "coq",
   "version": "8.17.0"
  },
  "orig_nbformat": 4
 },
 "nbformat": 4,
 "nbformat_minor": 2
}
