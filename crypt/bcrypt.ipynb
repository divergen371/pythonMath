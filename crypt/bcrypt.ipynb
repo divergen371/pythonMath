{
 "cells": [
  {
   "cell_type": "code",
   "execution_count": 1,
   "metadata": {},
   "outputs": [
    {
     "data": {
      "text/plain": [
       "b'$2a$12$.qN53UxSNvp8LE1CrjQUi.'"
      ]
     },
     "execution_count": 1,
     "metadata": {},
     "output_type": "execute_result"
    }
   ],
   "source": [
    "import bcrypt\n",
    "salt = bcrypt.gensalt(rounds=12,prefix=b'2a')\n",
    "salt"
   ]
  },
  {
   "cell_type": "code",
   "execution_count": 2,
   "metadata": {},
   "outputs": [
    {
     "data": {
      "text/plain": [
       "b'$2a$12$.qN53UxSNvp8LE1CrjQUi.i1NIZCpi/ffAsEmO7Sy0cZWU4pQvpHq'"
      ]
     },
     "execution_count": 2,
     "metadata": {},
     "output_type": "execute_result"
    }
   ],
   "source": [
    "password = b\"password\"\n",
    "bcrypt.hashpw(password, salt)"
   ]
  },
  {
   "cell_type": "code",
   "execution_count": 3,
   "metadata": {},
   "outputs": [
    {
     "name": "stdout",
     "output_type": "stream",
     "text": [
      "rounds: 05 => 2.27 ms ± 0 ns per loop (mean ± std. dev. of 1 run, 100 loops each)\n",
      "rounds: 06 => 4.53 ms ± 0 ns per loop (mean ± std. dev. of 1 run, 100 loops each)\n",
      "rounds: 07 => 9.03 ms ± 0 ns per loop (mean ± std. dev. of 1 run, 100 loops each)\n",
      "rounds: 08 => 18.2 ms ± 0 ns per loop (mean ± std. dev. of 1 run, 100 loops each)\n",
      "rounds: 09 => 35.6 ms ± 0 ns per loop (mean ± std. dev. of 1 run, 10 loops each)\n",
      "rounds: 10 => 70.5 ms ± 0 ns per loop (mean ± std. dev. of 1 run, 10 loops each)\n",
      "rounds: 11 => 139 ms ± 0 ns per loop (mean ± std. dev. of 1 run, 10 loops each)\n",
      "rounds: 12 => 276 ms ± 0 ns per loop (mean ± std. dev. of 1 run, 1 loop each)\n",
      "rounds: 13 => 558 ms ± 0 ns per loop (mean ± std. dev. of 1 run, 1 loop each)\n",
      "rounds: 14 => 1.12 s ± 0 ns per loop (mean ± std. dev. of 1 run, 1 loop each)\n",
      "rounds: 15 => 2.23 s ± 0 ns per loop (mean ± std. dev. of 1 run, 1 loop each)\n",
      "rounds: 16 => 4.45 s ± 0 ns per loop (mean ± std. dev. of 1 run, 1 loop each)\n",
      "rounds: 17 => 9.26 s ± 0 ns per loop (mean ± std. dev. of 1 run, 1 loop each)\n"
     ]
    }
   ],
   "source": [
    "password = b\"password\"\n",
    "for i in range(5, 18):\n",
    "    print(\"rounds: {:02d}\".format(i), end=\" => \")\n",
    "    %timeit -r1 bcrypt.hashpw(password, bcrypt.gensalt(rounds=i,prefix=b'2a'))"
   ]
  },
  {
   "cell_type": "code",
   "execution_count": 7,
   "metadata": {},
   "outputs": [
    {
     "name": "stdout",
     "output_type": "stream",
     "text": [
      "the string to store in the db is: f04849fbe04b3c0773267b8dd247aee7c312cd27501527ba784d13d4e63bf270:fb7498a30579405ebf15b31fbb66a6ad\n",
      "You entered the right password\n"
     ]
    }
   ],
   "source": [
    "import uuid\n",
    "import hashlib\n",
    "\n",
    "\n",
    "def hash_password(password):\n",
    "    # uuid is used to generate a random number\n",
    "    salt = uuid.uuid4().hex\n",
    "    return (\n",
    "        hashlib.sha256(salt.encode() + password.encode()).hexdigest()\n",
    "        + \":\"\n",
    "        + salt\n",
    "    )\n",
    "\n",
    "\n",
    "def check_password(hash_password, user_password):\n",
    "    password, salt = hash_password.split(\":\")\n",
    "    return (\n",
    "        password\n",
    "        == hashlib.sha256(salt.encode() + user_password.encode()).hexdigest()\n",
    "    )\n",
    "\n",
    "\n",
    "if __name__ == \"__main__\":\n",
    "    new_pass = input(\"Please enter a password: \")\n",
    "    hash_password = hash_password(new_pass)\n",
    "    print(\"the string to store in the db is: \" + hash_password)\n",
    "    old_pass = input(\"now please enter the password again to check: \")\n",
    "    if check_password(hash_password, old_pass):\n",
    "        print(\"You entered the right password\")\n",
    "    else:\n",
    "        print(\"I'm sorry, the password does not match\")"
   ]
  },
  {
   "cell_type": "code",
   "execution_count": 16,
   "metadata": {},
   "outputs": [
    {
     "ename": "NameError",
     "evalue": "name 'Test' is not defined",
     "output_type": "error",
     "traceback": [
      "\u001b[0;31m---------------------------------------------------------------------------\u001b[0m",
      "\u001b[0;31mNameError\u001b[0m                                 Traceback (most recent call last)",
      "Cell \u001b[0;32mIn[16], line 1\u001b[0m\n\u001b[0;32m----> 1\u001b[0m \u001b[43mTest\u001b[49m\u001b[38;5;241m.\u001b[39mtest(\u001b[38;5;241m0\u001b[39m)  \u001b[38;5;66;03m# これはtrueを返します\u001b[39;00m\n\u001b[1;32m      2\u001b[0m Test\u001b[38;5;241m.\u001b[39mtest(\u001b[38;5;241m1\u001b[39m)  \u001b[38;5;66;03m# これはfalseを返します\u001b[39;00m\n",
      "\u001b[0;31mNameError\u001b[0m: name 'Test' is not defined"
     ]
    }
   ],
   "source": []
  },
  {
   "cell_type": "code",
   "execution_count": 8,
   "metadata": {},
   "outputs": [
    {
     "name": "stdout",
     "output_type": "stream",
     "text": [
      "the string to store in the db is: $2b$12$EuMyxycGwoVldBPNgJ5mQ.PdHrB/FbxV0mlXc323W6GjJUur.ewXK\n",
      "You entered the right password\n"
     ]
    }
   ],
   "source": [
    "import bcrypt\n",
    "\n",
    "\n",
    "def hash_password(password, rounds=12):\n",
    "    return bcrypt.hashpw(password.encode(), bcrypt.gensalt(rounds)).decode()\n",
    "\n",
    "\n",
    "def check_password(hashed, password):\n",
    "    return bcrypt.checkpw(password.encode(), hashed.encode())\n",
    "\n",
    "\n",
    "if __name__ == \"__main__\":\n",
    "    new_pass = input(\"Please enter a password: \")\n",
    "    hash_password = hash_password(new_pass)\n",
    "    print(\"the string to store in the db is: \" + hash_password)\n",
    "    old_pass = input(\"now please enter the password again to check: \")\n",
    "    if check_password(hash_password, old_pass):\n",
    "        print(\"You entered the right password\")\n",
    "    else:\n",
    "        print(\"I'm sorry, the password does not match\")"
   ]
  }
 ],
 "metadata": {
  "kernelspec": {
   "display_name": ".venv",
   "language": "python",
   "name": "python3"
  },
  "language_info": {
   "codemirror_mode": {
    "name": "ipython",
    "version": 3
   },
   "file_extension": ".py",
   "mimetype": "text/x-python",
   "name": "python",
   "nbconvert_exporter": "python",
   "pygments_lexer": "ipython3",
   "version": "3.11.3"
  }
 },
 "nbformat": 4,
 "nbformat_minor": 2
}
