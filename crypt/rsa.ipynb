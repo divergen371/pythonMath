{
 "cells": [
  {
   "cell_type": "code",
   "execution_count": 1,
   "metadata": {},
   "outputs": [
    {
     "name": "stdout",
     "output_type": "stream",
     "text": [
      "7\n",
      "7\n",
      "7\n",
      "1\n",
      "1\n"
     ]
    }
   ],
   "source": [
    "print(7 % 12)\n",
    "print(19 % 12)\n",
    "print(31 % 12)\n",
    "print(1 % 6)\n",
    "print(25 % 6)"
   ]
  },
  {
   "cell_type": "code",
   "execution_count": 3,
   "metadata": {},
   "outputs": [
    {
     "name": "stdout",
     "output_type": "stream",
     "text": [
      "c = 0x648f5e76a296d8331f4f52fcd95596f6\n",
      "m = 0x112233445566778899aabbccddeeff00\n"
     ]
    }
   ],
   "source": [
    "p = 17064864097748373989\n",
    "q = 16504991131444315463\n",
    "e = 65537\n",
    "n = p * q\n",
    "d: int = pow(e, -1, (p - 1) * (q - 1))\n",
    "\n",
    "m = 0x112233445566778899AABBCCDDEEFF00\n",
    "\n",
    "\n",
    "def rsa_encrypt(m, e, n):\n",
    "    \"\"\"\n",
    "    docstring\n",
    "    \"\"\"\n",
    "    return pow(m, e, n)\n",
    "\n",
    "\n",
    "def rsa_decrypt(c, d, n):\n",
    "    return pow(c, d, n)\n",
    "\n",
    "\n",
    "cipher_text = rsa_encrypt(m, e, n)\n",
    "print(f\"c = {hex(cipher_text)}\")\n",
    "\n",
    "plain_text = rsa_decrypt(cipher_text, d, n)\n",
    "print(f\"m = {hex(plain_text)}\")\n",
    "assert plain_text == m"
   ]
  },
  {
   "cell_type": "code",
   "execution_count": 4,
   "metadata": {},
   "outputs": [
    {
     "name": "stdout",
     "output_type": "stream",
     "text": [
      "s = 0x50b94d81a00e096cf8951160afe01c45\n",
      "v = 0x112233445566778899aabbccddeeff00\n"
     ]
    }
   ],
   "source": [
    "p = 17064864097748373989\n",
    "q = 16504991131444315463\n",
    "e = 65537\n",
    "n = p * q\n",
    "d: int = pow(e, -1, (p - 1) * (q - 1))\n",
    "\n",
    "m = 0x112233445566778899AABBCCDDEEFF00\n",
    "\n",
    "\n",
    "def rsa_encrypt(m, e, n):\n",
    "    \"\"\"\n",
    "    docstring\n",
    "    \"\"\"\n",
    "    return pow(m, e, n)\n",
    "\n",
    "\n",
    "def rsa_decrypt(c, d, n):\n",
    "    return pow(c, d, n)\n",
    "\n",
    "\n",
    "sig = rsa_decrypt(m, d, n)\n",
    "print(f\"s = {hex(sig)}\")\n",
    "\n",
    "verif = rsa_encrypt(sig, e, n)\n",
    "print(f\"v = {hex(verif)}\")\n",
    "assert verif == m"
   ]
  }
 ],
 "metadata": {
  "kernelspec": {
   "display_name": ".venv",
   "language": "python",
   "name": "python3"
  },
  "language_info": {
   "codemirror_mode": {
    "name": "ipython",
    "version": 3
   },
   "file_extension": ".py",
   "mimetype": "text/x-python",
   "name": "python",
   "nbconvert_exporter": "python",
   "pygments_lexer": "ipython3",
   "version": "3.11.3"
  },
  "orig_nbformat": 4
 },
 "nbformat": 4,
 "nbformat_minor": 2
}
