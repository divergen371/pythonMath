{
 "cells": [
  {
   "cell_type": "code",
   "execution_count": 1,
   "metadata": {},
   "outputs": [
    {
     "data": {
      "text/latex": [
       "$\\displaystyle \\left\\{\\left( 0, \\  -4, \\  3\\right)\\right\\}$"
      ],
      "text/plain": [
       "{(0, -4, 3)}"
      ]
     },
     "execution_count": 1,
     "metadata": {},
     "output_type": "execute_result"
    }
   ],
   "source": [
    "from sympy import Matrix, linsolve, symbols, init_printing\n",
    "\n",
    "init_printing(use_latex=\"mathjax\")\n",
    "x, y, z = symbols(\"x y z\")\n",
    "M = Matrix([[1, 2, 3], [0, 1, 2], [0, 0, 1]])\n",
    "\n",
    "u = Matrix([[1, 2, 3]]).T\n",
    "u2 = Matrix([[x, y, z]]).T\n",
    "\n",
    "system = M, u\n",
    "linsolve(system, x, y, z)\n"
   ]
  },
  {
   "cell_type": "code",
   "execution_count": 2,
   "metadata": {},
   "outputs": [
    {
     "data": {
      "text/latex": [
       "$\\displaystyle \\left\\{\\left( 1, \\  1, \\  0\\right)\\right\\}$"
      ],
      "text/plain": [
       "{(1, 1, 0)}"
      ]
     },
     "execution_count": 2,
     "metadata": {},
     "output_type": "execute_result"
    }
   ],
   "source": [
    "M2 = Matrix([[2, 0, 0], [0, 1, 1], [4, 0, -1], [0, 1, -1]])\n",
    "u2 = Matrix([[2, 1, 4, 1]]).T\n",
    "\n",
    "system = M2, u2\n",
    "linsolve(system, x, y, z)\n"
   ]
  }
 ],
 "metadata": {
  "kernelspec": {
   "display_name": ".venv",
   "language": "python",
   "name": "python3"
  },
  "language_info": {
   "codemirror_mode": {
    "name": "ipython",
    "version": 3
   },
   "file_extension": ".py",
   "mimetype": "text/x-python",
   "name": "python",
   "nbconvert_exporter": "python",
   "pygments_lexer": "ipython3",
   "version": "3.11.3"
  },
  "orig_nbformat": 4
 },
 "nbformat": 4,
 "nbformat_minor": 2
}
