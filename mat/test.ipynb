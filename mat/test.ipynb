{
 "cells": [
  {
   "cell_type": "code",
   "execution_count": null,
   "metadata": {
    "dotnet_interactive": {
     "language": "csharp"
    },
    "polyglot_notebook": {
     "kernelName": "csharp"
    }
   },
   "outputs": [],
   "source": [
    "import numpy as np\n",
    "\n",
    "A = np.array([[1, 2], [3, 4]])\n",
    "B = np.array([[5, 6], [7, 8]])\n",
    "C = np.dot(A, B)\n",
    "print(C)"
   ]
  },
  {
   "cell_type": "code",
   "execution_count": null,
   "metadata": {},
   "outputs": [],
   "source": [
    "import matplotlib.pyplot as plt\n",
    "import numpy as np\n",
    "\n",
    "x = np.linspace(0, 2 * np.pi, 100)\n",
    "y = np.sin(x)\n",
    "plt.plot(x, y)\n",
    "plt.show()\n"
   ]
  },
  {
   "cell_type": "code",
   "execution_count": null,
   "metadata": {},
   "outputs": [],
   "source": [
    "def my_function(x):\n",
    "    return x**2 + 2 * x + 1\n",
    "\n",
    "\n",
    "result = my_function(3)\n",
    "print(result)"
   ]
  },
  {
   "cell_type": "code",
   "execution_count": 1,
   "metadata": {},
   "outputs": [
    {
     "name": "stderr",
     "output_type": "stream",
     "text": [
      "Matplotlib is building the font cache; this may take a moment.\n"
     ]
    },
    {
     "data": {
      "image/png": "[encoded data removed]",
      "text/plain": [
       "<Figure size 640x480 with 1 Axes>"
      ]
     },
     "metadata": {},
     "output_type": "display_data"
    }
   ],
   "source": [
    "import networkx as nx\n",
    "import matplotlib.pyplot as plt\n",
    "\n",
    "# グラフの作成\n",
    "G = nx.Graph()\n",
    "\n",
    "# ノードとエッジの追加\n",
    "G.add_node(1)\n",
    "G.add_node(2)\n",
    "G.add_edge(1, 2)\n",
    "\n",
    "# ネットワークの可視化\n",
    "nx.draw(G, with_labels=True)\n",
    "plt.show()\n"
   ]
  },
  {
   "cell_type": "code",
   "execution_count": 2,
   "metadata": {},
   "outputs": [
    {
     "name": "stdout",
     "output_type": "stream",
     "text": [
      "Car starts parking at 0\n",
      "Car starts driving at 5\n",
      "Car starts parking at 7\n",
      "Car starts driving at 12\n",
      "Car starts parking at 14\n"
     ]
    }
   ],
   "source": [
    "import simpy\n",
    "\n",
    "def car(env):\n",
    "    while True:\n",
    "        print(f'Car starts parking at {env.now}')\n",
    "        parking_duration = 5\n",
    "        yield env.timeout(parking_duration)\n",
    "        \n",
    "        print(f'Car starts driving at {env.now}')\n",
    "        trip_duration = 2\n",
    "        yield env.timeout(trip_duration)\n",
    "\n",
    "# シミュレーション環境の作成\n",
    "env = simpy.Environment()\n",
    "env.process(car(env))\n",
    "\n",
    "# シミュレーションの実行\n",
    "env.run(until=15)\n"
   ]
  },
  {
   "cell_type": "code",
   "execution_count": 3,
   "metadata": {},
   "outputs": [
    {
     "name": "stdout",
     "output_type": "stream",
     "text": [
      "Time 0: Packet sent from A to B\n",
      "Time 1: Packet sent from B to C\n",
      "Time 3: Packet sent from C to D\n",
      "Time 4: Packet arrived at D\n"
     ]
    }
   ],
   "source": [
    "import networkx as nx\n",
    "import simpy\n",
    "\n",
    "# ネットワークの作成\n",
    "G = nx.Graph()\n",
    "G.add_edge('A', 'B', weight=1)\n",
    "G.add_edge('B', 'C', weight=2)\n",
    "G.add_edge('C', 'D', weight=1)\n",
    "\n",
    "# パケット送信プロセス\n",
    "def packet_transmission(env, source, destination, G):\n",
    "    path = nx.shortest_path(G, source, destination, weight='weight')\n",
    "    for i in range(len(path) - 1):\n",
    "        print(f'Time {env.now}: Packet sent from {path[i]} to {path[i+1]}')\n",
    "        yield env.timeout(G[path[i]][path[i+1]]['weight'])\n",
    "    print(f'Time {env.now}: Packet arrived at {destination}')\n",
    "\n",
    "# シミュレーション環境の作成\n",
    "env = simpy.Environment()\n",
    "\n",
    "# パケット送信プロセスの開始\n",
    "env.process(packet_transmission(env, 'A', 'D', G))\n",
    "\n",
    "# シミュレーションの実行\n",
    "env.run()\n"
   ]
  }
 ],
 "metadata": {
  "kernelspec": {
   "display_name": ".venv",
   "language": "python",
   "name": "python3"
  },
  "language_info": {
   "codemirror_mode": {
    "name": "ipython",
    "version": 3
   },
   "file_extension": ".py",
   "mimetype": "text/x-python",
   "name": "python",
   "nbconvert_exporter": "python",
   "pygments_lexer": "ipython3",
   "version": "3.11.3"
  },
  "polyglot_notebook": {
   "kernelInfo": {
    "defaultKernelName": "csharp",
    "items": [
     {
      "aliases": [],
      "name": "csharp"
     }
    ]
   }
  }
 },
 "nbformat": 4,
 "nbformat_minor": 2
}
