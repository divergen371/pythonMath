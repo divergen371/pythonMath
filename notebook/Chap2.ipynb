{
 "cells": [
  {
   "attachments": {},
   "cell_type": "markdown",
   "metadata": {},
   "source": [
    "## 関数\n",
    "変数xに対して、1つの変数yを対応させるものを関数と呼び、$y = f(x)$と記す"
   ]
  },
  {
   "cell_type": "code",
   "execution_count": null,
   "metadata": {
    "dotnet_interactive": {
     "language": "csharp"
    },
    "polyglot_notebook": {
     "kernelName": "csharp"
    }
   },
   "outputs": [],
   "source": [
    "#def f(x)を用いた関数\n",
    "\n",
    "def f(x):\n",
    "    return x**2\n",
    "\n",
    "f(2)"
   ]
  },
  {
   "cell_type": "code",
   "execution_count": null,
   "metadata": {
    "dotnet_interactive": {
     "language": "csharp"
    },
    "polyglot_notebook": {
     "kernelName": "csharp"
    }
   },
   "outputs": [],
   "source": [
    "\n",
    "#Sympyを用いた関数\n",
    "from sympy import init_printing, symbols\n",
    "init_printing(use_latex='mathjax')\n",
    "\n",
    "x = symbols('x')\n",
    "f = x **2\n",
    "f\n",
    "\n"
   ]
  },
  {
   "cell_type": "code",
   "execution_count": null,
   "metadata": {
    "dotnet_interactive": {
     "language": "csharp"
    },
    "polyglot_notebook": {
     "kernelName": "csharp"
    }
   },
   "outputs": [],
   "source": [
    "\n",
    "#subsメソッドで代入\n",
    "f.subs(x, 2)"
   ]
  },
  {
   "cell_type": "code",
   "execution_count": null,
   "metadata": {
    "dotnet_interactive": {
     "language": "csharp"
    },
    "polyglot_notebook": {
     "kernelName": "csharp"
    }
   },
   "outputs": [],
   "source": [
    "from sympy.plotting import plot\n",
    "\n",
    "%matplotlib inline\n"
   ]
  },
  {
   "attachments": {},
   "cell_type": "markdown",
   "metadata": {},
   "source": [
    "# グラフと関数"
   ]
  },
  {
   "cell_type": "code",
   "execution_count": null,
   "metadata": {
    "dotnet_interactive": {
     "language": "csharp"
    },
    "polyglot_notebook": {
     "kernelName": "csharp"
    }
   },
   "outputs": [],
   "source": [
    "# 1次関数\n",
    "plot(x +1, (x, -2, 2), legend=True)"
   ]
  },
  {
   "cell_type": "code",
   "execution_count": null,
   "metadata": {
    "dotnet_interactive": {
     "language": "csharp"
    },
    "polyglot_notebook": {
     "kernelName": "csharp"
    }
   },
   "outputs": [],
   "source": [
    "#三次関数\n",
    "plot(x**3 + 2*x**2 - 19*x,(x, -6,6), legend=True)"
   ]
  },
  {
   "attachments": {},
   "cell_type": "markdown",
   "metadata": {},
   "source": [
    "# 三角関数\n",
    "xy平面の原点を中心とした半径1の円を単位円という。角度$\\theta$の座標を$(x,y)$とするとき、三角関数は次の式で定義されます。<br>\n",
    "$$\\sin \\theta = y, \\cos \\theta = x, \\tan \\theta = y/x$$\n",
    "$theta$は弧度法で与えられる単位ラジアンの角度である。弧度法では半径1の円の円周の長さ（直径×円周率=2π）が度数法の$360^{ \\circ }$に相当します。"
   ]
  },
  {
   "cell_type": "code",
   "execution_count": null,
   "metadata": {
    "dotnet_interactive": {
     "language": "csharp"
    },
    "polyglot_notebook": {
     "kernelName": "csharp"
    }
   },
   "outputs": [],
   "source": [
    "#三角関数と円周率piをインポート\n",
    "from sympy import sin, cos, tan, pi\n",
    "from sympy.plotting import plot_parametric\n",
    "\n",
    "#描画サイズを５×5の正方形に指定\n",
    "import matplotlib.pyplot as plt\n",
    "plt.rcParams['figure.figsize'] = 5,5"
   ]
  },
  {
   "cell_type": "code",
   "execution_count": null,
   "metadata": {
    "dotnet_interactive": {
     "language": "csharp"
    },
    "polyglot_notebook": {
     "kernelName": "csharp"
    }
   },
   "outputs": [],
   "source": [
    "#媒介関数tはthetaの頭文字\n",
    "t = symbols('t')\n",
    "\n",
    "# 媒介関数表示を使用した単位円のプロットを作成\n",
    "plot_parametric(cos(t), sin(t), (t, 0, 2*pi),legend=True)\n",
    "\n",
    "# 描画サイズをデフォルトに戻す\n",
    "plt.rcParams['figure.figsize'] = 6,4\n"
   ]
  },
  {
   "cell_type": "code",
   "execution_count": null,
   "metadata": {
    "dotnet_interactive": {
     "language": "csharp"
    },
    "polyglot_notebook": {
     "kernelName": "csharp"
    }
   },
   "outputs": [],
   "source": [
    "p = plot(sin(x), cos(x), (x, -2*pi, 2*pi), legend=True, show=False)\n",
    "p[0].line_color = 'b'\n",
    "p[1].line_color = 'r'\n",
    "p.show()"
   ]
  },
  {
   "cell_type": "code",
   "execution_count": null,
   "metadata": {
    "dotnet_interactive": {
     "language": "csharp"
    },
    "polyglot_notebook": {
     "kernelName": "csharp"
    }
   },
   "outputs": [],
   "source": [
    "#cos(x)をｘ方向に＋pi/2平行移動\n",
    "cos(x-pi/2)\n",
    "\n"
   ]
  },
  {
   "attachments": {},
   "cell_type": "markdown",
   "metadata": {},
   "source": [
    "## 奇関数と偶関数\n",
    "関数$f(x)$が奇関数であるとは$$f(-x) = -f(x)$$が任意の$x$で成り立つことをいう。<br>\n",
    "奇関数の形状は、原点に関して対称な形になる。"
   ]
  },
  {
   "cell_type": "code",
   "execution_count": null,
   "metadata": {
    "dotnet_interactive": {
     "language": "csharp"
    },
    "polyglot_notebook": {
     "kernelName": "csharp"
    }
   },
   "outputs": [],
   "source": [
    "sin(-x)"
   ]
  },
  {
   "attachments": {},
   "cell_type": "markdown",
   "metadata": {},
   "source": [
    "一方で$f(x)$が偶関数であるとは$$f(-x) = f(x)$$が任意の$x$で成り立つことをいう。<br>\n",
    "偶関数の形状は$y$軸に関して対称な形を取る。"
   ]
  },
  {
   "cell_type": "code",
   "execution_count": null,
   "metadata": {
    "dotnet_interactive": {
     "language": "csharp"
    },
    "polyglot_notebook": {
     "kernelName": "csharp"
    }
   },
   "outputs": [],
   "source": [
    "cos(-x)"
   ]
  },
  {
   "cell_type": "code",
   "execution_count": null,
   "metadata": {
    "dotnet_interactive": {
     "language": "csharp"
    },
    "polyglot_notebook": {
     "kernelName": "csharp"
    }
   },
   "outputs": [],
   "source": [
    "# tan(x)のプロット\n",
    "p = plot(tan(x), (x, 0, 2*pi), legend=True, show=False)\n",
    "p.ylim = (-10, 10)\n",
    "p.show()"
   ]
  },
  {
   "cell_type": "code",
   "execution_count": null,
   "metadata": {
    "dotnet_interactive": {
     "language": "csharp"
    },
    "polyglot_notebook": {
     "kernelName": "csharp"
    }
   },
   "outputs": [],
   "source": [
    "\n",
    "\n"
   ]
  },
  {
   "attachments": {},
   "cell_type": "markdown",
   "metadata": {},
   "source": [
    "# 指数関数\n",
    "## 指数関数の定義\n",
    "指数関数とは$a \\gt 0$のもと$$y = a^x \\tag{2.8}$$の形をした関数である。$a$を底、変数$x$を指数と呼ぶ。<br>\n",
    "指数関数は、累乗$a^n = a \\cdot a \\cdot a \\cdots a$の$n$を実数に拡張したもの。<br>\n",
    "## 指数関数の性質\n",
    "$$a^xx^y = a^{x+y} \\tag{2.9}$$\n",
    "$$a^{-x} = \\frac{1}{a^x} \\tag{2.10}$$\n",
    "$$(a^x)^y = a^{xy} \\tag{2.11}$$\n",
    "$$a^0 = 1 \\tag{2.12}$$"
   ]
  },
  {
   "attachments": {},
   "cell_type": "markdown",
   "metadata": {},
   "source": [
    "$$f(x) = 2^x \\tag{2.13}$$\n",
    "$$g(x) = \\frac{1}{2^x} \\tag{2.14}$$\n",
    "をプロットしてみる"
   ]
  },
  {
   "cell_type": "code",
   "execution_count": null,
   "metadata": {
    "dotnet_interactive": {
     "language": "csharp"
    },
    "polyglot_notebook": {
     "kernelName": "csharp"
    }
   },
   "outputs": [],
   "source": [
    "p = plot(2**x, 1/2**x, (x, -2, 2), legend=True, show=False)\n",
    "p[0].line_color = 'b'\n",
    "p[1].line_color = 'r'\n",
    "p.show()"
   ]
  },
  {
   "attachments": {},
   "cell_type": "markdown",
   "metadata": {},
   "source": [
    "# 対数関数\n",
    "## 対数関数の定義\n",
    "指数関数の逆関数として定義される。式(2.8)において$x$と$y$入れ替える\n",
    "$$x = a^y \\tag{2.15}$$\n",
    "となる。この$y$を「$a$を底とする$x$の対数」と呼び\n",
    "$$y = \\log_a{x} \\tag{2.16}$$\n",
    "と表す。これを対数関数と呼ぶ。"
   ]
  },
  {
   "cell_type": "code",
   "execution_count": null,
   "metadata": {
    "dotnet_interactive": {
     "language": "csharp"
    },
    "polyglot_notebook": {
     "kernelName": "csharp"
    }
   },
   "outputs": [],
   "source": [
    "from sympy import log\n",
    "\n",
    "# log(変数, 底)\n",
    "log(4, 2)"
   ]
  },
  {
   "cell_type": "code",
   "execution_count": null,
   "metadata": {
    "dotnet_interactive": {
     "language": "csharp"
    },
    "polyglot_notebook": {
     "kernelName": "csharp"
    }
   },
   "outputs": [],
   "source": [
    "# 対数関数のプロット\n",
    "p = plot(log(x, 2), log(2*x, 2), (x, 0.1, 100), legend=True, show=False)\n",
    "p[0].line_color = 'b'\n",
    "p[1].line_color = 'r'\n",
    "\n",
    "p.show()"
   ]
  },
  {
   "attachments": {},
   "cell_type": "markdown",
   "metadata": {},
   "source": [
    "$f(x) = \\log_{2} x$は$x$に対して単調に増加。$g(x) = log_{2} 2x$は$y$軸方向に平行移動した形。<br>\n",
    "平行移動した形になるのは対数関数に$$\\log M N = \\log M + \\log N \\tag{2.17}$$の性質があるから。<br>\n",
    "式(2.17)から$g(x)$は$$g(x)= \\log_{2} 2x = \\log_{2} x + \\log_{2} 2$$\n",
    "と計算できる。これは$g(x)$は、$f(x)=\\log_{2} x$をy軸方向に$\\log_{2} 2$平行移動した関数であることを示す。<br>\n",
    "指数関数$f(x)$と対数関数$g(x)$、$$f(x) = 2^x \\tag{2.19}$$ $$g(x) = \\log_{2} x \\tag{2.20}$$を同じグラフにプロットしてみる。$y = x$の直線もプロットしておく。"
   ]
  },
  {
   "cell_type": "code",
   "execution_count": null,
   "metadata": {
    "dotnet_interactive": {
     "language": "csharp"
    },
    "polyglot_notebook": {
     "kernelName": "csharp"
    }
   },
   "outputs": [],
   "source": [
    "p = plot(2**x, log(x,2), x, (x, -2, 4), legend=True, show=False)\n",
    "p.ylim=(-2, 4)\n",
    "p[0].line_color = 'b'\n",
    "p[1].line_color = 'r'\n",
    "p[2].line_color = 'g'\n",
    "\n",
    "p.show()"
   ]
  },
  {
   "attachments": {},
   "cell_type": "markdown",
   "metadata": {},
   "source": [
    "$f(x) = 2^x$と$g(x) = \\log_{2} x$は$y = x$に対して対称であることがわかる。<br>\n",
    "- 関数の理科のためには、関数のプロットを作成し可視化することが有効。\n",
    "- Pythonを使うと、簡単に関数のプロットを作成することができる。\n",
    "- 未知の関数2出会ったら、まずPythonでグラフを作成しその特徴を確認してみる。\n"
   ]
  },
  {
   "cell_type": "code",
   "execution_count": null,
   "metadata": {
    "dotnet_interactive": {
     "language": "csharp"
    },
    "polyglot_notebook": {
     "kernelName": "csharp"
    }
   },
   "outputs": [],
   "source": [
    "sin(0)"
   ]
  },
  {
   "cell_type": "code",
   "execution_count": 1,
   "metadata": {},
   "outputs": [
    {
     "name": "stdout",
     "output_type": "stream",
     "text": [
      "おなじじゃね？\n"
     ]
    }
   ],
   "source": [
    "a = [1, 2, 3]\n",
    "b = [1, 2, 3]\n",
    "\n",
    "if a == b:\n",
    "    print(\"おなじじゃね？\")\n",
    "else:\n",
    "    print(\"違うじゃん\")"
   ]
  }
 ],
 "metadata": {
  "kernelspec": {
   "display_name": ".venv",
   "language": "python",
   "name": "python3"
  },
  "language_info": {
   "codemirror_mode": {
    "name": "ipython",
    "version": 3
   },
   "file_extension": ".py",
   "mimetype": "text/x-python",
   "name": "python",
   "nbconvert_exporter": "python",
   "pygments_lexer": "ipython3",
   "version": "3.11.3"
  },
  "orig_nbformat": 4,
  "polyglot_notebook": {
   "kernelInfo": {
    "defaultKernelName": "csharp",
    "items": [
     {
      "aliases": [],
      "name": "csharp"
     }
    ]
   }
  }
 },
 "nbformat": 4,
 "nbformat_minor": 2
}
