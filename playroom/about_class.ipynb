{
 "cells": [
  {
   "cell_type": "markdown",
   "metadata": {},
   "source": [
    "## クラスについて"
   ]
  },
  {
   "cell_type": "markdown",
   "metadata": {},
   "source": [
    "- オブジェクトの扱いに癖があるので要注意。\n",
    "- コンストラクタを忘れずに。\n",
    "- クラス変数とインスタンス変数を混同しないように"
   ]
  },
  {
   "cell_type": "code",
   "execution_count": 1,
   "metadata": {},
   "outputs": [
    {
     "name": "stdout",
     "output_type": "stream",
     "text": [
      "[1]\n",
      "[1]\n"
     ]
    }
   ],
   "source": [
    "class Test:\n",
    "    my_list = []\n",
    "\n",
    "a = Test()\n",
    "b = Test()\n",
    "\n",
    "a.my_list.append(1)\n",
    "print(a.my_list)\n",
    "print(b.my_list)"
   ]
  },
  {
   "cell_type": "code",
   "execution_count": 2,
   "metadata": {},
   "outputs": [
    {
     "name": "stdout",
     "output_type": "stream",
     "text": [
      "[1]\n",
      "[]\n"
     ]
    }
   ],
   "source": [
    "class TestPlus:\n",
    "    def __init__(self) -> None:\n",
    "        self.my_list = []\n",
    "\n",
    "a_a = TestPlus()\n",
    "b_b = TestPlus()\n",
    "\n",
    "a_a.my_list.append(1)\n",
    "print(a_a.my_list)\n",
    "print(b_b.my_list)"
   ]
  },
  {
   "cell_type": "code",
   "execution_count": 3,
   "metadata": {},
   "outputs": [
    {
     "name": "stdout",
     "output_type": "stream",
     "text": [
      "1\n",
      "0\n"
     ]
    }
   ],
   "source": [
    "class Test2:\n",
    "    my_num = 0\n",
    "\n",
    "a_num = Test2()\n",
    "b_num = Test2()\n",
    "\n",
    "a_num.my_num = 1\n",
    "print(a_num.my_num)\n",
    "print(b_num.my_num)"
   ]
  },
  {
   "cell_type": "code",
   "execution_count": 4,
   "metadata": {},
   "outputs": [
    {
     "name": "stdout",
     "output_type": "stream",
     "text": [
      "Return a type's method resolution order.\n",
      "[<class '__main__.Foo'>, <class 'object'>]\n",
      "<method '__dir__' of 'object' objects>\n"
     ]
    }
   ],
   "source": [
    "class Foo:\n",
    "    pass\n",
    "\n",
    "foo = Foo()\n",
    "print(foo.__class__.mro.__doc__)\n",
    "print(foo.__class__.mro())\n",
    "print(foo.__class__.__dir__)"
   ]
  },
  {
   "cell_type": "code",
   "execution_count": 5,
   "metadata": {},
   "outputs": [
    {
     "name": "stdout",
     "output_type": "stream",
     "text": [
      "Default Foo 1\n",
      "bar 1\n",
      "Default Foo 2\n",
      "bar 2\n"
     ]
    }
   ],
   "source": [
    "from dataclasses import dataclass\n",
    "from typing import Optional\n",
    "\n",
    "@dataclass\n",
    "class Foo:\n",
    "    name: Optional[str] = None\n",
    "    count: int = 0\n",
    "\n",
    "default_foo = Foo(name=\"Default Foo\")\n",
    "\n",
    "def useFoo(foo: Foo = default_foo):\n",
    "    foo.count += 1\n",
    "    return f\"{foo.name} {foo.count}\"\n",
    "\n",
    "\n",
    "bar = Foo(name=\"bar\")\n",
    "print(useFoo())\n",
    "print(useFoo(bar))\n",
    "\n",
    "print(useFoo())\n",
    "print(useFoo(bar))\n"
   ]
  },
  {
   "cell_type": "code",
   "execution_count": 6,
   "metadata": {},
   "outputs": [
    {
     "name": "stdout",
     "output_type": "stream",
     "text": [
      "Default Foo 1\n",
      "bar 1\n",
      "Default Foo 2\n",
      "bar 2\n"
     ]
    }
   ],
   "source": [
    "from dataclasses import dataclass\n",
    "from typing import Optional\n",
    "\n",
    "@dataclass\n",
    "class Foo:\n",
    "    name: Optional[str] = None\n",
    "    count: int = 0\n",
    "\n",
    "\n",
    "def useFoo(foo: Foo = Foo(name=\"Default Foo\")):\n",
    "    foo.count += 1\n",
    "    return f\"{foo.name} {foo.count}\"\n",
    "\n",
    "\n",
    "bar = Foo(name=\"bar\")\n",
    "print(useFoo())\n",
    "print(useFoo(bar))\n",
    "\n",
    "print(useFoo())\n",
    "print(useFoo(bar))"
   ]
  }
 ],
 "metadata": {
  "kernelspec": {
   "display_name": ".venv",
   "language": "python",
   "name": "python3"
  },
  "language_info": {
   "codemirror_mode": {
    "name": "ipython",
    "version": 3
   },
   "file_extension": ".py",
   "mimetype": "text/x-python",
   "name": "python",
   "nbconvert_exporter": "python",
   "pygments_lexer": "ipython3",
   "version": "3.11.3"
  },
  "orig_nbformat": 4
 },
 "nbformat": 4,
 "nbformat_minor": 2
}
