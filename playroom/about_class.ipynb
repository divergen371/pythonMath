{
 "cells": [
  {
   "cell_type": "markdown",
   "metadata": {},
   "source": [
    "## クラスについて\n"
   ]
  },
  {
   "cell_type": "markdown",
   "metadata": {},
   "source": [
    "- オブジェクトの扱いに癖があるので要注意。\n",
    "- コンストラクタを忘れずに。\n",
    "- クラス変数とインスタンス変数を混同しないように\n"
   ]
  },
  {
   "cell_type": "code",
   "execution_count": 2,
   "metadata": {},
   "outputs": [
    {
     "name": "stdout",
     "output_type": "stream",
     "text": [
      "[1]\n",
      "[1]\n"
     ]
    }
   ],
   "source": [
    "class Test:\n",
    "    my_list = []\n",
    "\n",
    "\n",
    "a = Test()\n",
    "b = Test()\n",
    "\n",
    "a.my_list.append(1)\n",
    "print(a.my_list)\n",
    "print(b.my_list)\n"
   ]
  },
  {
   "cell_type": "code",
   "execution_count": 3,
   "metadata": {},
   "outputs": [
    {
     "name": "stdout",
     "output_type": "stream",
     "text": [
      "[1]\n",
      "[]\n"
     ]
    }
   ],
   "source": [
    "class TestPlus:\n",
    "    def __init__(self) -> None:\n",
    "        self.my_list = []\n",
    "\n",
    "\n",
    "a_a = TestPlus()\n",
    "b_b = TestPlus()\n",
    "\n",
    "a_a.my_list.append(1)\n",
    "print(a_a.my_list)\n",
    "print(b_b.my_list)\n"
   ]
  },
  {
   "cell_type": "code",
   "execution_count": 4,
   "metadata": {},
   "outputs": [
    {
     "name": "stdout",
     "output_type": "stream",
     "text": [
      "1\n",
      "0\n"
     ]
    }
   ],
   "source": [
    "class Test2:\n",
    "    my_num = 0\n",
    "\n",
    "\n",
    "a_num = Test2()\n",
    "b_num = Test2()\n",
    "\n",
    "a_num.my_num = 1\n",
    "print(a_num.my_num)\n",
    "print(b_num.my_num)\n"
   ]
  },
  {
   "cell_type": "code",
   "execution_count": 5,
   "metadata": {},
   "outputs": [
    {
     "name": "stdout",
     "output_type": "stream",
     "text": [
      "Return a type's method resolution order.\n",
      "[<class '__main__.Foo'>, <class 'object'>]\n",
      "<method '__dir__' of 'object' objects>\n"
     ]
    }
   ],
   "source": [
    "class Foo:\n",
    "    pass\n",
    "\n",
    "\n",
    "foo = Foo()\n",
    "print(foo.__class__.mro.__doc__)\n",
    "print(foo.__class__.mro())\n",
    "print(foo.__class__.__dir__)\n"
   ]
  },
  {
   "cell_type": "code",
   "execution_count": 6,
   "metadata": {},
   "outputs": [
    {
     "name": "stdout",
     "output_type": "stream",
     "text": [
      "Default Foo 1\n",
      "bar 1\n",
      "Default Foo 2\n",
      "bar 2\n"
     ]
    }
   ],
   "source": [
    "from dataclasses import dataclass\n",
    "from typing import Optional\n",
    "\n",
    "\n",
    "@dataclass\n",
    "class Foo:\n",
    "    name: Optional[str] = None\n",
    "    count: int = 0\n",
    "\n",
    "\n",
    "default_foo = Foo(name=\"Default Foo\")\n",
    "\n",
    "\n",
    "def useFoo(foo: Foo = default_foo):\n",
    "    foo.count += 1\n",
    "    return f\"{foo.name} {foo.count}\"\n",
    "\n",
    "\n",
    "bar = Foo(name=\"bar\")\n",
    "print(useFoo())\n",
    "print(useFoo(bar))\n",
    "\n",
    "print(useFoo())\n",
    "print(useFoo(bar))\n"
   ]
  },
  {
   "cell_type": "code",
   "execution_count": 7,
   "metadata": {},
   "outputs": [
    {
     "name": "stdout",
     "output_type": "stream",
     "text": [
      "Default Foo 1\n",
      "bar 1\n",
      "Default Foo 2\n",
      "bar 2\n"
     ]
    }
   ],
   "source": [
    "from dataclasses import dataclass\n",
    "from typing import Optional\n",
    "\n",
    "\n",
    "@dataclass\n",
    "class Foo:\n",
    "    name: Optional[str] = None\n",
    "    count: int = 0\n",
    "\n",
    "\n",
    "def useFoo(foo: Foo = Foo(name=\"Default Foo\")):\n",
    "    foo.count += 1\n",
    "    return f\"{foo.name} {foo.count}\"\n",
    "\n",
    "\n",
    "bar = Foo(name=\"bar\")\n",
    "print(useFoo())\n",
    "print(useFoo(bar))\n",
    "\n",
    "print(useFoo())\n",
    "print(useFoo(bar))\n"
   ]
  },
  {
   "cell_type": "code",
   "execution_count": 1,
   "metadata": {},
   "outputs": [
    {
     "name": "stdout",
     "output_type": "stream",
     "text": [
      "名前: ピカチュウ タイプ1: でんき タイプ2: \n",
      "名前:  タイプ1:  タイプ2: \n"
     ]
    },
    {
     "ename": "TypeError",
     "evalue": "can only concatenate str (not \"int\") to str",
     "output_type": "error",
     "traceback": [
      "\u001b[0;31m---------------------------------------------------------------------------\u001b[0m",
      "\u001b[0;31mTypeError\u001b[0m                                 Traceback (most recent call last)",
      "Cell \u001b[0;32mIn[1], line 26\u001b[0m\n\u001b[1;32m     24\u001b[0m \u001b[39mprint\u001b[39m(info())\n\u001b[1;32m     25\u001b[0m test \u001b[39m=\u001b[39m Pokemon(name\u001b[39m=\u001b[39m\u001b[39m1\u001b[39m, type1\u001b[39m=\u001b[39m\u001b[39m2\u001b[39m, type2\u001b[39m=\u001b[39m\u001b[39m3\u001b[39m)\n\u001b[0;32m---> 26\u001b[0m \u001b[39mprint\u001b[39m(info(test))\n",
      "Cell \u001b[0;32mIn[1], line 13\u001b[0m, in \u001b[0;36minfo\u001b[0;34m(pokemon)\u001b[0m\n\u001b[1;32m     11\u001b[0m \u001b[39mdef\u001b[39;00m \u001b[39minfo\u001b[39m(pokemon: Pokemon \u001b[39m=\u001b[39m Pokemon(name\u001b[39m=\u001b[39m\u001b[39m\"\u001b[39m\u001b[39m\"\u001b[39m, type1\u001b[39m=\u001b[39m\u001b[39m\"\u001b[39m\u001b[39m\"\u001b[39m, type2\u001b[39m=\u001b[39m\u001b[39m\"\u001b[39m\u001b[39m\"\u001b[39m)):\n\u001b[1;32m     12\u001b[0m     \u001b[39mreturn\u001b[39;00m (\n\u001b[0;32m---> 13\u001b[0m         \u001b[39m\"\u001b[39;49m\u001b[39m名前: \u001b[39;49m\u001b[39m\"\u001b[39;49m\n\u001b[1;32m     14\u001b[0m         \u001b[39m+\u001b[39;49m pokemon\u001b[39m.\u001b[39;49mname\n\u001b[1;32m     15\u001b[0m         \u001b[39m+\u001b[39m \u001b[39m\"\u001b[39m\u001b[39m タイプ1: \u001b[39m\u001b[39m\"\u001b[39m\n\u001b[1;32m     16\u001b[0m         \u001b[39m+\u001b[39m pokemon\u001b[39m.\u001b[39mtype1\n\u001b[1;32m     17\u001b[0m         \u001b[39m+\u001b[39m \u001b[39m\"\u001b[39m\u001b[39m タイプ2: \u001b[39m\u001b[39m\"\u001b[39m\n\u001b[1;32m     18\u001b[0m         \u001b[39m+\u001b[39m pokemon\u001b[39m.\u001b[39mtype2\n\u001b[1;32m     19\u001b[0m     )\n",
      "\u001b[0;31mTypeError\u001b[0m: can only concatenate str (not \"int\") to str"
     ]
    }
   ],
   "source": [
    "from dataclasses import dataclass\n",
    "\n",
    "\n",
    "@dataclass\n",
    "class Pokemon:\n",
    "    name: str\n",
    "    type1: str\n",
    "    type2: str\n",
    "\n",
    "\n",
    "def info(pokemon: Pokemon = Pokemon(name=\"\", type1=\"\", type2=\"\")):\n",
    "    return (\n",
    "        \"名前: \"\n",
    "        + pokemon.name\n",
    "        + \" タイプ1: \"\n",
    "        + pokemon.type1\n",
    "        + \" タイプ2: \"\n",
    "        + pokemon.type2\n",
    "    )\n",
    "\n",
    "\n",
    "pika = Pokemon(name=\"ピカチュウ\", type1=\"でんき\", type2=\"\")\n",
    "print(info(pokemon=pika))\n",
    "print(info())\n",
    "test = Pokemon(name=1, type1=2, type2=3)\n",
    "print(info(test))"
   ]
  },
  {
   "cell_type": "markdown",
   "metadata": {},
   "source": [
    "dataclassの型ヒントと異なる値がそのまま渡されている。dataclassは型ヒントのみを提供している。  \n",
    "型安全がが欲しかったらpydanticをつかう。"
   ]
  },
  {
   "cell_type": "code",
   "execution_count": 2,
   "metadata": {},
   "outputs": [
    {
     "name": "stdout",
     "output_type": "stream",
     "text": [
      "名前: ピカチュウ タイプ1: でんき タイプ2: \n",
      "名前: unknown タイプ1:  タイプ2: \n"
     ]
    },
    {
     "ename": "ValidationError",
     "evalue": "3 validation errors for Pokemon\nname\n  Input should be a valid string [type=string_type, input_value=1, input_type=int]\n    For further information visit https://errors.pydantic.dev/2.1/v/string_type\ntype1\n  Input should be a valid string [type=string_type, input_value=2, input_type=int]\n    For further information visit https://errors.pydantic.dev/2.1/v/string_type\ntype2\n  Input should be a valid string [type=string_type, input_value=3, input_type=int]\n    For further information visit https://errors.pydantic.dev/2.1/v/string_type",
     "output_type": "error",
     "traceback": [
      "\u001b[0;31m---------------------------------------------------------------------------\u001b[0m",
      "\u001b[0;31mValidationError\u001b[0m                           Traceback (most recent call last)",
      "Cell \u001b[0;32mIn[2], line 26\u001b[0m\n\u001b[1;32m     23\u001b[0m \u001b[39mprint\u001b[39m(info(pokemon\u001b[39m=\u001b[39mpika))\n\u001b[1;32m     24\u001b[0m \u001b[39mprint\u001b[39m(info())\n\u001b[0;32m---> 26\u001b[0m test \u001b[39m=\u001b[39m Pokemon(name\u001b[39m=\u001b[39;49m\u001b[39m1\u001b[39;49m, type1\u001b[39m=\u001b[39;49m\u001b[39m2\u001b[39;49m, type2\u001b[39m=\u001b[39;49m\u001b[39m3\u001b[39;49m)\n\u001b[1;32m     27\u001b[0m \u001b[39mprint\u001b[39m(info(test))\n",
      "File \u001b[0;32m~/pythonMath/.venv/lib/python3.11/site-packages/pydantic/_internal/_dataclasses.py:124\u001b[0m, in \u001b[0;36mcomplete_dataclass.<locals>.__init__\u001b[0;34m(__dataclass_self__, *args, **kwargs)\u001b[0m\n\u001b[1;32m    122\u001b[0m __tracebackhide__ \u001b[39m=\u001b[39m \u001b[39mTrue\u001b[39;00m\n\u001b[1;32m    123\u001b[0m s \u001b[39m=\u001b[39m __dataclass_self__\n\u001b[0;32m--> 124\u001b[0m s\u001b[39m.\u001b[39;49m__pydantic_validator__\u001b[39m.\u001b[39;49mvalidate_python(ArgsKwargs(args, kwargs), self_instance\u001b[39m=\u001b[39;49ms)\n",
      "\u001b[0;31mValidationError\u001b[0m: 3 validation errors for Pokemon\nname\n  Input should be a valid string [type=string_type, input_value=1, input_type=int]\n    For further information visit https://errors.pydantic.dev/2.1/v/string_type\ntype1\n  Input should be a valid string [type=string_type, input_value=2, input_type=int]\n    For further information visit https://errors.pydantic.dev/2.1/v/string_type\ntype2\n  Input should be a valid string [type=string_type, input_value=3, input_type=int]\n    For further information visit https://errors.pydantic.dev/2.1/v/string_type"
     ]
    }
   ],
   "source": [
    "from pydantic.dataclasses import dataclass\n",
    "\n",
    "\n",
    "@dataclass\n",
    "class Pokemon:\n",
    "    name: str\n",
    "    type1: str\n",
    "    type2: str\n",
    "\n",
    "\n",
    "def info(pokemon: Pokemon = Pokemon(name=\"unknown\", type1=\"\", type2=\"\")):\n",
    "    return (\n",
    "        \"名前: \"\n",
    "        + pokemon.name\n",
    "        + \" タイプ1: \"\n",
    "        + pokemon.type1\n",
    "        + \" タイプ2: \"\n",
    "        + pokemon.type2\n",
    "    )\n",
    "\n",
    "\n",
    "pika = Pokemon(name=\"ピカチュウ\", type1=\"でんき\", type2=\"\")\n",
    "print(info(pokemon=pika))\n",
    "print(info())\n",
    "\n",
    "test = Pokemon(name=1, type1=2, type2=3)\n",
    "print(info(test))"
   ]
  },
  {
   "cell_type": "markdown",
   "metadata": {},
   "source": [
    "pydanticが型ヒントを強制してくれているため、文字列連結に整数が渡される前にValidationErrorでキャッチできている。"
   ]
  }
 ],
 "metadata": {
  "kernelspec": {
   "display_name": ".venv",
   "language": "python",
   "name": "python3"
  },
  "language_info": {
   "codemirror_mode": {
    "name": "ipython",
    "version": 3
   },
   "file_extension": ".py",
   "mimetype": "text/x-python",
   "name": "python",
   "nbconvert_exporter": "python",
   "pygments_lexer": "ipython3",
   "version": "3.11.3"
  },
  "orig_nbformat": 4
 },
 "nbformat": 4,
 "nbformat_minor": 2
}
