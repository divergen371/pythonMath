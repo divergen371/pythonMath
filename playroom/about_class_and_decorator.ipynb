{
 "cells": [
  {
   "cell_type": "code",
   "execution_count": 7,
   "metadata": {},
   "outputs": [],
   "source": [
    "class Animal:\n",
    "    height = 30  # クラス変数"
   ]
  },
  {
   "attachments": {},
   "cell_type": "markdown",
   "metadata": {},
   "source": [
    "クラス変数がインスタンス変数で隠蔽されてしまう為、コンストラクタで初期化したほうが良い\n"
   ]
  },
  {
   "cell_type": "code",
   "execution_count": 8,
   "metadata": {},
   "outputs": [
    {
     "name": "stdout",
     "output_type": "stream",
     "text": [
      "30\n",
      "30\n"
     ]
    }
   ],
   "source": [
    "animal1 = Animal()\n",
    "animal2 = Animal()\n",
    "print(animal1.height)\n",
    "print(animal2.height)\n"
   ]
  },
  {
   "cell_type": "code",
   "execution_count": 9,
   "metadata": {},
   "outputs": [
    {
     "name": "stdout",
     "output_type": "stream",
     "text": [
      "10\n",
      "30\n",
      "{'height': 10}\n",
      "{}\n"
     ]
    }
   ],
   "source": [
    "animal1.height = 10  # インスタンス変数\n",
    "\n",
    "print(animal1.height)\n",
    "print(animal2.height)\n",
    "print(animal1.__dict__)\n",
    "print(animal2.__dict__)"
   ]
  },
  {
   "cell_type": "code",
   "execution_count": 5,
   "metadata": {},
   "outputs": [
    {
     "name": "stdout",
     "output_type": "stream",
     "text": [
      "{'height': 10}\n",
      "{}\n"
     ]
    }
   ],
   "source": [
    "# コンストラクタで初期化\n",
    "class Animal:\n",
    "    def __init__(self):\n",
    "        self.height = 30"
   ]
  },
  {
   "attachments": {},
   "cell_type": "markdown",
   "metadata": {},
   "source": [
    "# クラスの継承\n"
   ]
  },
  {
   "cell_type": "code",
   "execution_count": 10,
   "metadata": {},
   "outputs": [
    {
     "name": "stdout",
     "output_type": "stream",
     "text": [
      "20\n"
     ]
    }
   ],
   "source": [
    "class Dog(Animal):\n",
    "    height = 20\n",
    "\n",
    "\n",
    "class Cat(Animal):\n",
    "    height = 10"
   ]
  },
  {
   "attachments": {},
   "cell_type": "markdown",
   "metadata": {},
   "source": [
    "# 変数のオーバーライド\n"
   ]
  },
  {
   "cell_type": "code",
   "execution_count": 20,
   "metadata": {},
   "outputs": [
    {
     "name": "stdout",
     "output_type": "stream",
     "text": [
      "Dog 20\n",
      "Animal 30\n"
     ]
    }
   ],
   "source": [
    "class Animal:\n",
    "    height = 30\n",
    "\n",
    "    def get_height(self):\n",
    "        print(f\"Animal {self.height}\")\n",
    "\n",
    "\n",
    "class Dog(Animal):\n",
    "    height = 20\n",
    "\n",
    "    def get_height(self):\n",
    "        print(f\"Dog {self.height}\")\n",
    "\n",
    "    def parent_access(self):\n",
    "        print(f\"Animal {super().height}\")\n",
    "\n",
    "\n",
    "dog = Dog()\n",
    "dog.get_height()\n",
    "dog.parent_access()"
   ]
  },
  {
   "cell_type": "code",
   "execution_count": 23,
   "metadata": {},
   "outputs": [
    {
     "data": {
      "text/plain": [
       "True"
      ]
     },
     "execution_count": 23,
     "metadata": {},
     "output_type": "execute_result"
    }
   ],
   "source": [
    "from math import factorial\n",
    "(71 + 1) * (71 -1) == factorial(7)\n"
   ]
  },
  {
   "cell_type": "code",
   "execution_count": 1,
   "metadata": {},
   "outputs": [
    {
     "name": "stdout",
     "output_type": "stream",
     "text": [
      "[4, 3, 1, 2]\n"
     ]
    }
   ],
   "source": [
    "a = [4, 2, 3, 1, 2]\n",
    "a.remove(2)\n",
    "print(a)"
   ]
  },
  {
   "cell_type": "code",
   "execution_count": null,
   "metadata": {},
   "outputs": [],
   "source": []
  }
 ],
 "metadata": {
  "kernelspec": {
   "display_name": ".venv",
   "language": "python",
   "name": "python3"
  },
  "language_info": {
   "codemirror_mode": {
    "name": "ipython",
    "version": 3
   },
   "file_extension": ".py",
   "mimetype": "text/x-python",
   "name": "python",
   "nbconvert_exporter": "python",
   "pygments_lexer": "ipython3",
   "version": "3.11.3"
  },
  "orig_nbformat": 4
 },
 "nbformat": 4,
 "nbformat_minor": 2
}
