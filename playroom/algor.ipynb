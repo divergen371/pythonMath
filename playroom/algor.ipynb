{
 "cells": [
  {
   "cell_type": "code",
   "execution_count": 2,
   "metadata": {},
   "outputs": [
    {
     "name": "stdout",
     "output_type": "stream",
     "text": [
      "20\n"
     ]
    }
   ],
   "source": [
    "total = 0\n",
    "\n",
    "\n",
    "def test():\n",
    "    global total\n",
    "    loops = 20\n",
    "    for i in range(loops):\n",
    "        total += 1\n",
    "\n",
    "\n",
    "test()\n",
    "print(total)\n"
   ]
  },
  {
   "cell_type": "code",
   "execution_count": 2,
   "metadata": {},
   "outputs": [
    {
     "name": "stdout",
     "output_type": "stream",
     "text": [
      "12\n"
     ]
    }
   ],
   "source": [
    "total = 0\n",
    "for i in range(5):\n",
    "    if i == 4:\n",
    "        total = total * 2\n",
    "    else:\n",
    "        total = total + i\n",
    "\n",
    "\n",
    "print(total)\n"
   ]
  },
  {
   "cell_type": "code",
   "execution_count": 1,
   "metadata": {},
   "outputs": [
    {
     "name": "stdout",
     "output_type": "stream",
     "text": [
      "93\n",
      "116\n",
      "103\n",
      "102\n",
      "93\n",
      "97\n",
      "94\n",
      "95\n",
      "101\n",
      "106\n"
     ]
    }
   ],
   "source": [
    "PI = \"3.1415926535897932384626433832795028841971693993751058209749445923078164062862089986280348253421170679821480865132823066470938446095505822317253594081284811174502841027019385211055596446229489549303819644288109756659334461284756482337867831652712019091456485669234603486104543266482133936072602491412737245870066063155881748815209209628292540917153643678925903600113305305488204665213841469519415116094330572703657595919530921861173819326117931051185480744623799627495673518857527248912279381830119491298336733624406566430860213949463952247371907021798609437027705392171762931767523846748184676694051320005681271452635608277857713427577896091736371787214684409012249534301465495853710507922796892589235420199561121290219608640344181598136297747713099605187072113499999983729780499510597317328160963185950244594553469083026425223082533446850352619311881710100031378387528865875332083814206171776691473035982534904287554687311595628638823537875937519577818577805321712268066130019278766111959092164201989\"\n",
    "\n",
    "num_dict = dict()\n",
    "for number in PI[2:]: # 小数部分 (第千位まで) をカウントする\n",
    "    num_dict[number] = num_dict.get(number, 0) + 1\n",
    "\n",
    "# 0 から 9 までの数字について答えを順に出力する\n",
    "# number_dict は数字を文字として扱っていることに注意！\n",
    "for number in range(10):\n",
    "    print(num_dict.get(str(number), 0))"
   ]
  },
  {
   "cell_type": "code",
   "execution_count": 9,
   "metadata": {},
   "outputs": [
    {
     "name": "stdout",
     "output_type": "stream",
     "text": [
      "合計点: 412, 平均点: 82.4 \n"
     ]
    }
   ],
   "source": [
    "point = [70, 98, 92, 88, 64]\n",
    "total = 0\n",
    "for i in range(len(point)):\n",
    "    total += point[i]\n",
    "\n",
    "ave = total / len(point)\n",
    "print(\"合計点: {}, 平均点: {} \".format(str(total), str(ave)))\n"
   ]
  },
  {
   "cell_type": "code",
   "execution_count": 23,
   "metadata": {},
   "outputs": [
    {
     "name": "stdout",
     "output_type": "stream",
     "text": [
      "50000005000000\n"
     ]
    }
   ],
   "source": [
    "def add_n(x):\n",
    "    a = 0\n",
    "    for i in range(1, x + 1):\n",
    "        a += i\n",
    "    return a\n",
    "\n",
    "\n",
    "print(add_n(10000000))\n"
   ]
  },
  {
   "cell_type": "code",
   "execution_count": 24,
   "metadata": {},
   "outputs": [
    {
     "name": "stdout",
     "output_type": "stream",
     "text": [
      "50000005000000\n"
     ]
    }
   ],
   "source": [
    "def add_total(x):\n",
    "    a = (1 + x) * (x / 2)\n",
    "    return int(a)\n",
    "\n",
    "\n",
    "a = add_total(10000000)\n",
    "print(a)\n"
   ]
  },
  {
   "cell_type": "code",
   "execution_count": 28,
   "metadata": {},
   "outputs": [
    {
     "name": "stdout",
     "output_type": "stream",
     "text": [
      "1 × 1 =  1\n",
      "1 × 2 =  2\n",
      "1 × 3 =  3\n",
      "1 × 4 =  4\n",
      "1 × 5 =  5\n",
      "1 × 6 =  6\n",
      "1 × 7 =  7\n",
      "1 × 8 =  8\n",
      "1 × 9 =  9\n",
      "\n",
      "2 × 1 =  2\n",
      "2 × 2 =  4\n",
      "2 × 3 =  6\n",
      "2 × 4 =  8\n",
      "2 × 5 = 10\n",
      "2 × 6 = 12\n",
      "2 × 7 = 14\n",
      "2 × 8 = 16\n",
      "2 × 9 = 18\n",
      "\n",
      "3 × 1 =  3\n",
      "3 × 2 =  6\n",
      "3 × 3 =  9\n",
      "3 × 4 = 12\n",
      "3 × 5 = 15\n",
      "3 × 6 = 18\n",
      "3 × 7 = 21\n",
      "3 × 8 = 24\n",
      "3 × 9 = 27\n",
      "\n",
      "4 × 1 =  4\n",
      "4 × 2 =  8\n",
      "4 × 3 = 12\n",
      "4 × 4 = 16\n",
      "4 × 5 = 20\n",
      "4 × 6 = 24\n",
      "4 × 7 = 28\n",
      "4 × 8 = 32\n",
      "4 × 9 = 36\n",
      "\n",
      "5 × 1 =  5\n",
      "5 × 2 = 10\n",
      "5 × 3 = 15\n",
      "5 × 4 = 20\n",
      "5 × 5 = 25\n",
      "5 × 6 = 30\n",
      "5 × 7 = 35\n",
      "5 × 8 = 40\n",
      "5 × 9 = 45\n",
      "\n",
      "6 × 1 =  6\n",
      "6 × 2 = 12\n",
      "6 × 3 = 18\n",
      "6 × 4 = 24\n",
      "6 × 5 = 30\n",
      "6 × 6 = 36\n",
      "6 × 7 = 42\n",
      "6 × 8 = 48\n",
      "6 × 9 = 54\n",
      "\n",
      "7 × 1 =  7\n",
      "7 × 2 = 14\n",
      "7 × 3 = 21\n",
      "7 × 4 = 28\n",
      "7 × 5 = 35\n",
      "7 × 6 = 42\n",
      "7 × 7 = 49\n",
      "7 × 8 = 56\n",
      "7 × 9 = 63\n",
      "\n",
      "8 × 1 =  8\n",
      "8 × 2 = 16\n",
      "8 × 3 = 24\n",
      "8 × 4 = 32\n",
      "8 × 5 = 40\n",
      "8 × 6 = 48\n",
      "8 × 7 = 56\n",
      "8 × 8 = 64\n",
      "8 × 9 = 72\n",
      "\n",
      "9 × 1 =  9\n",
      "9 × 2 = 18\n",
      "9 × 3 = 27\n",
      "9 × 4 = 36\n",
      "9 × 5 = 45\n",
      "9 × 6 = 54\n",
      "9 × 7 = 63\n",
      "9 × 8 = 72\n",
      "9 × 9 = 81\n",
      "\n"
     ]
    }
   ],
   "source": [
    "for i in range(1, 10):\n",
    "    for j in range(1, 10):\n",
    "        print(\"{} × {} = {:2d}\".format(i, j, i * j))\n",
    "        if j == 9:\n",
    "            print()\n"
   ]
  },
  {
   "cell_type": "code",
   "execution_count": 31,
   "metadata": {},
   "outputs": [
    {
     "name": "stdout",
     "output_type": "stream",
     "text": [
      "[2, 3, 5, 7, 11, 13, 17, 19, 23, 29, 31, 37, 41, 43, 47, 53, 59, 61, 67, 71, 73, 79, 83, 89, 97]\n"
     ]
    }
   ],
   "source": [
    "acc = []\n",
    "for i in range(2, 101):\n",
    "    h = i // 2\n",
    "    f = True\n",
    "    for j in range(2, h + 1):\n",
    "        if i % j == 0:\n",
    "            f = False\n",
    "            break\n",
    "    if f == True:\n",
    "        acc.append(i)\n",
    "\n",
    "print(acc)\n"
   ]
  },
  {
   "cell_type": "code",
   "execution_count": 32,
   "metadata": {},
   "outputs": [
    {
     "name": "stdout",
     "output_type": "stream",
     "text": [
      "3628800\n"
     ]
    }
   ],
   "source": [
    "a = 1\n",
    "\n",
    "for i in range(1, 11):\n",
    "    a *= i\n",
    "\n",
    "print(a)"
   ]
  },
  {
   "cell_type": "code",
   "execution_count": 37,
   "metadata": {},
   "outputs": [
    {
     "name": "stdout",
     "output_type": "stream",
     "text": [
      "0! = 1\n",
      "1! = 1\n",
      "2! = 2\n",
      "3! = 6\n",
      "4! = 24\n",
      "5! = 120\n",
      "6! = 720\n",
      "7! = 5040\n",
      "8! = 40320\n",
      "9! = 362880\n",
      "10! = 3628800\n",
      "11! = 39916800\n",
      "12! = 479001600\n",
      "13! = 6227020800\n",
      "14! = 87178291200\n",
      "15! = 1307674368000\n",
      "16! = 20922789888000\n",
      "17! = 355687428096000\n",
      "18! = 6402373705728000\n",
      "19! = 121645100408832000\n",
      "20! = 2432902008176640000\n"
     ]
    }
   ],
   "source": [
    "def fact(n):\n",
    "    if n == 0:\n",
    "        return 1\n",
    "    else:\n",
    "        return n * fact(n - 1)\n",
    "\n",
    "\n",
    "for i in range(0, 21):\n",
    "    print(\"{}! = {}\".format(i, fact(i)))\n"
   ]
  },
  {
   "cell_type": "code",
   "execution_count": 38,
   "metadata": {},
   "outputs": [
    {
     "name": "stdout",
     "output_type": "stream",
     "text": [
      "10は偶数です。\n",
      "-5は奇数です。\n",
      "0は偶数です。\n",
      "29は奇数です。\n",
      "6は偶数です。\n",
      "2は偶数です。\n",
      "77は奇数です。\n",
      "8は偶数です。\n"
     ]
    }
   ],
   "source": [
    "a = [10, -5, 0, 29, 6, 2, 77, 8]\n",
    "for i in a:\n",
    "    if i % 2 == 0:\n",
    "        print(\"{}は偶数です。\".format(i))\n",
    "    else:\n",
    "        print(\"{}は奇数です。\".format(i))\n"
   ]
  },
  {
   "cell_type": "code",
   "execution_count": 39,
   "metadata": {},
   "outputs": [
    {
     "name": "stdout",
     "output_type": "stream",
     "text": [
      "3の1乗と2の1乗の差は1です。\n",
      "3の2乗と2の2乗の差は5です。\n",
      "3の3乗と2の3乗の差は19です。\n",
      "3の4乗と2の4乗の差は65です。\n",
      "3の5乗と2の5乗の差は211です。\n"
     ]
    }
   ],
   "source": [
    "for i in range(1, 6):\n",
    "    a = 3**i\n",
    "    b = 2**i\n",
    "    print(\"3の{}乗と2の{}乗の差は{}です。\".format(str(i), str(i), a - b))\n"
   ]
  },
  {
   "attachments": {},
   "cell_type": "markdown",
   "metadata": {},
   "source": [
    "# シンプルなスタック"
   ]
  },
  {
   "cell_type": "code",
   "execution_count": 54,
   "metadata": {},
   "outputs": [],
   "source": [
    "limit = 5\n",
    "stack = [0] * limit\n",
    "sp = 0\n",
    "\n",
    "def push(d):\n",
    "    global sp\n",
    "    if sp < limit:\n",
    "        stack[sp] = d\n",
    "        sp += 1\n",
    "        print(\"データ {} をプッシュしました\".format(d))\n",
    "    else:\n",
    "        print(\"これ以上データを追加できません\")\n",
    "\n",
    "\n",
    "def pop():\n",
    "    global sp\n",
    "    if sp > 0:\n",
    "        sp -= 1\n",
    "        return stack[sp]\n",
    "    else:\n",
    "        print(\"データが存在しません\")\n",
    "        return None"
   ]
  },
  {
   "cell_type": "code",
   "execution_count": 55,
   "metadata": {},
   "outputs": [
    {
     "name": "stdout",
     "output_type": "stream",
     "text": [
      "データ 0 をプッシュしました\n",
      "データ 1 をプッシュしました\n",
      "データ 2 をプッシュしました\n",
      "データ 3 をプッシュしました\n",
      "データ 4 をプッシュしました\n",
      "これ以上データを追加できません\n"
     ]
    }
   ],
   "source": [
    "for i in range(6):\n",
    "    push(i)\n",
    "    \n"
   ]
  },
  {
   "cell_type": "code",
   "execution_count": 56,
   "metadata": {},
   "outputs": [
    {
     "name": "stdout",
     "output_type": "stream",
     "text": [
      "4を取り出しました\n",
      "3を取り出しました\n",
      "2を取り出しました\n",
      "1を取り出しました\n",
      "0を取り出しました\n",
      "データが存在しません\n",
      "Noneを取り出しました\n"
     ]
    }
   ],
   "source": [
    "for i in range(6):\n",
    "    d = pop()\n",
    "    print(\"{}を取り出しました\".format(d))"
   ]
  },
  {
   "cell_type": "code",
   "execution_count": 1,
   "metadata": {},
   "outputs": [
    {
     "ename": "ImportError",
     "evalue": "cannot import name 'Mappting' from 'collections' (/Users/atsushi/.anyenv/envs/pyenv/versions/3.10.4/lib/python3.10/collections/__init__.py)",
     "output_type": "error",
     "traceback": [
      "\u001b[0;31m---------------------------------------------------------------------------\u001b[0m",
      "\u001b[0;31mImportError\u001b[0m                               Traceback (most recent call last)",
      "Cell \u001b[0;32mIn[1], line 1\u001b[0m\n\u001b[0;32m----> 1\u001b[0m \u001b[39mfrom\u001b[39;00m \u001b[39mcollections\u001b[39;00m \u001b[39mimport\u001b[39;00m Mappting\n",
      "\u001b[0;31mImportError\u001b[0m: cannot import name 'Mappting' from 'collections' (/Users/atsushi/.anyenv/envs/pyenv/versions/3.10.4/lib/python3.10/collections/__init__.py)"
     ]
    }
   ],
   "source": []
  }
 ],
 "metadata": {
  "kernelspec": {
   "display_name": ".venv",
   "language": "python",
   "name": "python3"
  },
  "language_info": {
   "codemirror_mode": {
    "name": "ipython",
    "version": 3
   },
   "file_extension": ".py",
   "mimetype": "text/x-python",
   "name": "python",
   "nbconvert_exporter": "python",
   "pygments_lexer": "ipython3",
   "version": "3.10.4"
  },
  "orig_nbformat": 4
 },
 "nbformat": 4,
 "nbformat_minor": 2
}
