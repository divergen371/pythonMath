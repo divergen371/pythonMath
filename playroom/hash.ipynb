{
 "cells": [
  {
   "cell_type": "code",
   "execution_count": 1,
   "metadata": {},
   "outputs": [
    {
     "name": "stdout",
     "output_type": "stream",
     "text": [
      "3\n",
      "2\n",
      "5\n",
      "1\n",
      "3\n"
     ]
    }
   ],
   "source": [
    "n, m = [int(x) for x in input().split()]\n",
    "\n",
    "for i in range(n):\n",
    "    x = int(input())\n",
    "    print(x % m)"
   ]
  },
  {
   "cell_type": "code",
   "execution_count": 3,
   "metadata": {},
   "outputs": [
    {
     "name": "stdout",
     "output_type": "stream",
     "text": [
      "5\n",
      "3\n",
      "0\n",
      "6\n",
      "4\n"
     ]
    }
   ],
   "source": [
    "n, a, b, m = [int(x) for x in input().split()]\n",
    "\n",
    "for i in range(n):\n",
    "    x = int(input())\n",
    "    print((a * x + b )% m)\n"
   ]
  },
  {
   "cell_type": "code",
   "execution_count": 5,
   "metadata": {},
   "outputs": [
    {
     "name": "stdout",
     "output_type": "stream",
     "text": [
      "5\n"
     ]
    }
   ],
   "source": [
    "n = int(input())\n",
    "\n",
    "for i in range(n):\n",
    "    x = input()\n",
    "    print(x.count(\"p\") + x.count(\"a\") + x.count(\"i\") + x.count(\"z\"))\n"
   ]
  },
  {
   "cell_type": "code",
   "execution_count": 11,
   "metadata": {},
   "outputs": [
    {
     "name": "stdout",
     "output_type": "stream",
     "text": [
      "195\n"
     ]
    }
   ],
   "source": [
    "n = int(input())\n",
    "\n",
    "for i in range(n):\n",
    "    a = input()\n",
    "    hash = 0\n",
    "    for j in range(len(a)):\n",
    "        hash += (j + 1) * ord(a[j])\n",
    "    hash %= 100\n",
    "    print(hash)\n"
   ]
  },
  {
   "cell_type": "code",
   "execution_count": null,
   "metadata": {},
   "outputs": [],
   "source": [
    "n = int(input())\n",
    "\n",
    "for i in range(n):\n",
    "    s = input()\n",
    "\n",
    "    hash = 0\n",
    "    for j in range(len(s)):\n",
    "        hash += (j+1) * (ord(s[j])-ord('a')+1)\n",
    "    \n",
    "    hash %= 100\n",
    "\n",
    "    print(hash)"
   ]
  },
  {
   "cell_type": "code",
   "execution_count": 20,
   "metadata": {},
   "outputs": [
    {
     "name": "stdout",
     "output_type": "stream",
     "text": [
      "77777\n",
      "-1\n",
      "-1\n",
      "-1\n",
      "-1\n",
      "-1\n",
      "-1\n",
      "17\n",
      "38\n",
      "188\n"
     ]
    }
   ],
   "source": [
    "n = int(input())\n",
    "\n",
    "a = [-1] * 10\n",
    "\n",
    "\n",
    "def hash_calc(n):\n",
    "    return n % 10\n",
    "\n",
    "\n",
    "def hash_recalc(n):\n",
    "    return (hash_calc(n) + 1) % 10\n",
    "\n",
    "\n",
    "for i in range(n):\n",
    "    x = int(input())\n",
    "    result = hash_calc(x)\n",
    "\n",
    "    while a[result] != -1:\n",
    "        result = hash_recalc(result)\n",
    "\n",
    "    a[result] = x\n",
    "\n",
    "for i in a:\n",
    "    print(i)\n"
   ]
  },
  {
   "cell_type": "code",
   "execution_count": 11,
   "metadata": {},
   "outputs": [
    {
     "data": {
      "text/plain": [
       "0"
      ]
     },
     "execution_count": 11,
     "metadata": {},
     "output_type": "execute_result"
    }
   ],
   "source": [
    "table = [-1] * 10\n",
    "\n",
    "n = int(input())\n",
    "\n",
    "for i in range(n):\n",
    "    x = int(input())\n",
    "\n",
    "    hash = x % 10\n",
    "\n",
    "    while table[hash] != -1:\n",
    "        hash = (hash + 1) % 10\n",
    "\n",
    "    table[hash] = x\n",
    "\n",
    "for i in range(10):\n",
    "    print(table[i])"
   ]
  },
  {
   "cell_type": "code",
   "execution_count": 65,
   "metadata": {},
   "outputs": [
    {
     "name": "stdout",
     "output_type": "stream",
     "text": [
      "\n",
      "\n",
      "\n",
      "\n",
      "\n",
      "\n",
      "\n",
      "17 77777\n",
      "188 38\n",
      "\n"
     ]
    }
   ],
   "source": [
    "n = int(input())\n",
    "a = [[] for i in range(10)]\n",
    "\n",
    "\n",
    "def hash_calc(n):\n",
    "    return n % 10\n",
    "\n",
    "\n",
    "for i in range(n):\n",
    "    x = int(input())\n",
    "    result = hash_calc(x)\n",
    "\n",
    "    a[result].append(x)\n",
    "\n",
    "for i in a:\n",
    "    print(*i)\n"
   ]
  },
  {
   "cell_type": "code",
   "execution_count": 71,
   "metadata": {},
   "outputs": [],
   "source": [
    "a, b = [int(x) for x in input().split()]\n",
    "num_of_inquiries = int(input())\n",
    "table = [[] for _ in range(100)]\n",
    "add_elements = []\n",
    "\n",
    "\n",
    "def hash_calc(a, b, x):\n",
    "    return (a * x + b) % 100\n",
    "\n",
    "\n",
    "for i in range(num_of_inquiries):\n",
    "    query = input().split()\n",
    "    element = int(query[1])\n",
    "    result = hash_calc(a, b, element)\n",
    "    if query[0] == \"1\":\n",
    "        table[result].append(element)\n",
    "        add_elements.append(element)\n",
    "    elif query[0] == \"2\" and element in add_elements:\n",
    "        print(\"Yes\")\n",
    "    elif query[0] == \"2\" and element not in add_elements:\n",
    "        print(\"No\")\n",
    "\n",
    "for i in table:\n",
    "    print(*i)\n"
   ]
  },
  {
   "cell_type": "code",
   "execution_count": null,
   "metadata": {},
   "outputs": [],
   "source": [
    "a, b = [int(x) for x in input().split()]\n",
    "num_of_inquiries = int(input())\n",
    "table = [[] for _ in range(100)]\n",
    "\n",
    "\n",
    "def hash_calc(a, b, x):\n",
    "    return (a * x + b) % 100\n",
    "\n",
    "\n",
    "for i in range(num_of_inquiries):\n",
    "    query, element = [int(x) for x in input().split()]\n",
    "    result = hash_calc(a, b, element)\n",
    "    if query == 1:\n",
    "        table[result].append(element)\n",
    "    elif query == 2 and element in table[result]:\n",
    "        print(\"Yes\")\n",
    "    elif query == 2 and element not in table[result]:\n",
    "        print(\"No\")\n",
    "\n",
    "for i in table:\n",
    "    print(*i)\n"
   ]
  }
 ],
 "metadata": {
  "kernelspec": {
   "display_name": ".venv",
   "language": "python",
   "name": "python3"
  },
  "language_info": {
   "codemirror_mode": {
    "name": "ipython",
    "version": 3
   },
   "file_extension": ".py",
   "mimetype": "text/x-python",
   "name": "python",
   "nbconvert_exporter": "python",
   "pygments_lexer": "ipython3",
   "version": "3.10.4"
  },
  "orig_nbformat": 4
 },
 "nbformat": 4,
 "nbformat_minor": 2
}
