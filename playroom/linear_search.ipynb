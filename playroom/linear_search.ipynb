{
 "cells": [
  {
   "cell_type": "code",
   "execution_count": 1,
   "metadata": {},
   "outputs": [
    {
     "name": "stdout",
     "output_type": "stream",
     "text": [
      "2\n"
     ]
    }
   ],
   "source": [
    "N = int(input())\n",
    "l = [int(x) for x in input().split()]\n",
    "K = int(input())\n",
    "count = 0\n",
    "for i in l:\n",
    "    if i == K:\n",
    "        count +=1\n",
    "\n",
    "print(count)"
   ]
  },
  {
   "cell_type": "code",
   "execution_count": 7,
   "metadata": {},
   "outputs": [
    {
     "name": "stdout",
     "output_type": "stream",
     "text": [
      "2\n"
     ]
    }
   ],
   "source": [
    "N = int(input())\n",
    "l = [int(x) for x in input().split()]\n",
    "K = int(input())\n",
    "index = -1\n",
    "for i in range(N):\n",
    "    if l[i] == K:\n",
    "        index = i\n",
    "        break\n",
    "print(index + 1)"
   ]
  },
  {
   "cell_type": "code",
   "execution_count": null,
   "metadata": {},
   "outputs": [],
   "source": [
    "n = int(input())\n",
    "a = [int(x) for x in input().split()]\n",
    "k = int(input())\n",
    "\n",
    "if k in a:\n",
    "    print(a.index(k) + 1)\n",
    "else:\n",
    "    print(0)"
   ]
  },
  {
   "cell_type": "code",
   "execution_count": 8,
   "metadata": {},
   "outputs": [
    {
     "name": "stdout",
     "output_type": "stream",
     "text": [
      "5\n"
     ]
    }
   ],
   "source": [
    "N = int(input())\n",
    "l = [int(x) for x in input().split()]\n",
    "K = int(input())\n",
    "index = 0\n",
    "for i in range(N- 1, -1, -1):\n",
    "    if l[i] == K:\n",
    "        index = i +1\n",
    "        break\n",
    "print(index)"
   ]
  },
  {
   "cell_type": "code",
   "execution_count": 11,
   "metadata": {},
   "outputs": [
    {
     "name": "stdout",
     "output_type": "stream",
     "text": [
      "2\n",
      "5\n"
     ]
    }
   ],
   "source": [
    "N = int(input())\n",
    "l = [int(x) for x in input().split()]\n",
    "K = int(input())\n",
    "for i in range(N):\n",
    "    if l[i] == K:\n",
    "        print(i + 1)\n",
    "\n"
   ]
  },
  {
   "cell_type": "code",
   "execution_count": 4,
   "metadata": {},
   "outputs": [
    {
     "name": "stdout",
     "output_type": "stream",
     "text": [
      "10 -11\n"
     ]
    }
   ],
   "source": [
    "a,b= [int(x) for x in input().split()]\n",
    "\n",
    "if a < b:\n",
    "    print(b,a)\n",
    "else:\n",
    "    print(a,b)"
   ]
  },
  {
   "cell_type": "code",
   "execution_count": 5,
   "metadata": {},
   "outputs": [
    {
     "name": "stdout",
     "output_type": "stream",
     "text": [
      "10 -11\n"
     ]
    }
   ],
   "source": [
    "N = [int(x) for x in input().split()]\n",
    "\n",
    "print(max(N), min(N))"
   ]
  },
  {
   "cell_type": "code",
   "execution_count": null,
   "metadata": {},
   "outputs": [],
   "source": [
    "n = int(input())\n",
    "l = [int(x) for x in input().split()]\n",
    "\n",
    "print(max(l), min(l))"
   ]
  },
  {
   "cell_type": "code",
   "execution_count": 6,
   "metadata": {},
   "outputs": [
    {
     "name": "stdout",
     "output_type": "stream",
     "text": [
      "4\n"
     ]
    }
   ],
   "source": [
    "n = int(input())\n",
    "l = [int(x) for x in input().split()]\n",
    "\n",
    "for i in range(n):\n",
    "    if l[i] % 2 == 0:\n",
    "        print(i+1)\n",
    "        break\n",
    "\n"
   ]
  },
  {
   "cell_type": "code",
   "execution_count": 10,
   "metadata": {},
   "outputs": [
    {
     "name": "stdout",
     "output_type": "stream",
     "text": [
      "3\n"
     ]
    }
   ],
   "source": [
    "n = int(input())\n",
    "l = [int(x) for x in input().split()]\n",
    "count = 0\n",
    "for i in range(n-1, -1 ,-1):\n",
    "    if l[i] % 2 == 1:\n",
    "        print(i+1)\n",
    "        break"
   ]
  },
  {
   "cell_type": "code",
   "execution_count": 11,
   "metadata": {},
   "outputs": [
    {
     "name": "stdout",
     "output_type": "stream",
     "text": [
      "0\n"
     ]
    }
   ],
   "source": [
    "n = int(input())\n",
    "l = [int(x) for x in input().split()]\n",
    "k = int(input())\n",
    "\n",
    "tmp = []\n",
    "for i in range(n):\n",
    "    if l[i] >= k:\n",
    "        tmp.append(l[i])\n",
    "\n",
    "print(min(tmp))\n"
   ]
  },
  {
   "cell_type": "code",
   "execution_count": 13,
   "metadata": {},
   "outputs": [
    {
     "name": "stdout",
     "output_type": "stream",
     "text": [
      "-5\n"
     ]
    }
   ],
   "source": [
    "n = int(input())\n",
    "l = [int(x) for x in input().split()]\n",
    "k = int(input())\n",
    "\n",
    "tmp = []\n",
    "for i in range(n):\n",
    "    if l[i] <= k:\n",
    "        tmp.append(l[i])\n",
    "\n",
    "print(max(tmp))\n"
   ]
  },
  {
   "cell_type": "code",
   "execution_count": 15,
   "metadata": {},
   "outputs": [
    {
     "ename": "ValueError",
     "evalue": "too many values to unpack (expected 2)",
     "output_type": "error",
     "traceback": [
      "\u001b[0;31m---------------------------------------------------------------------------\u001b[0m",
      "\u001b[0;31mValueError\u001b[0m                                Traceback (most recent call last)",
      "Cell \u001b[0;32mIn[15], line 2\u001b[0m\n\u001b[1;32m      1\u001b[0m n \u001b[39m=\u001b[39m \u001b[39mint\u001b[39m(\u001b[39minput\u001b[39m())\n\u001b[0;32m----> 2\u001b[0m a,b \u001b[39m=\u001b[39m [(\u001b[39mint\u001b[39m(x) \u001b[39mfor\u001b[39;00m x \u001b[39min\u001b[39;00m \u001b[39minput\u001b[39m()\u001b[39m.\u001b[39msplit()) \u001b[39mfor\u001b[39;00m i \u001b[39min\u001b[39;00m \u001b[39mrange\u001b[39m(n)]\n\u001b[1;32m      3\u001b[0m k \u001b[39m=\u001b[39m \u001b[39mint\u001b[39m(\u001b[39minput\u001b[39m())\n",
      "\u001b[0;31mValueError\u001b[0m: too many values to unpack (expected 2)"
     ]
    }
   ],
   "source": [
    "n = int(input())\n",
    "l = [[int(x) for x in input().split()] for _ in range(n)]\n",
    "k = int(input())\n",
    "\n",
    "xn, yn = l[-1]\n",
    "ans = 0\n",
    "\n",
    "for i, j in l:\n",
    "    if abs(xn - i) + abs(yn - j) <= k:\n",
    "        ans += 1\n",
    "\n",
    "print(ans)\n"
   ]
  },
  {
   "cell_type": "code",
   "execution_count": 2,
   "metadata": {},
   "outputs": [
    {
     "name": "stdout",
     "output_type": "stream",
     "text": [
      "2\n"
     ]
    }
   ],
   "source": [
    "n = int(input())\n",
    "l = [[int(x) for x in input().split()] for _ in range(n)]\n",
    "\n",
    "xs, xt = [int(x) for x in input().split()]\n",
    "ys, yt = [int(x) for x in input().split()]\n",
    "count = 0\n",
    "for i, j in l:\n",
    "    h = xs <= i <= xt\n",
    "    v = ys <= j <= yt\n",
    "    if h and v:\n",
    "        count += 1\n",
    "\n",
    "print(count)\n"
   ]
  },
  {
   "cell_type": "code",
   "execution_count": null,
   "metadata": {},
   "outputs": [],
   "source": [
    "n = int(input())\n",
    "l = [input().split() for _ in range(n)]\n",
    "k = int(input())\n",
    "\n",
    "for i, j in l:\n",
    "    if k<= int(j):\n",
    "        print(i)"
   ]
  },
  {
   "cell_type": "code",
   "execution_count": null,
   "metadata": {},
   "outputs": [],
   "source": [
    "n = int(input())\n",
    "L = [input().split() for _ in range(n)]\n",
    "k, l = [int(x) for x in input().split()]\n",
    "\n",
    "for i, j in L:\n",
    "    if k <= int(j) and int(j) <= l:\n",
    "        print(i)\n"
   ]
  },
  {
   "cell_type": "code",
   "execution_count": null,
   "metadata": {},
   "outputs": [],
   "source": [
    "n = int(input())\n",
    "results = [input().split() for _ in range(n)]\n",
    "k, l = [int(x) for x in input().split()]\n",
    "\n",
    "for name, score in results:\n",
    "    if k <= int(score) <= l:\n",
    "        print(name)"
   ]
  },
  {
   "cell_type": "code",
   "execution_count": 4,
   "metadata": {},
   "outputs": [
    {
     "name": "stdout",
     "output_type": "stream",
     "text": [
      "-3\n"
     ]
    }
   ],
   "source": [
    "n = int(input())\n",
    "l = [int(x) for x in input().split()]\n",
    "k = int(input())\n",
    "print(sorted(l)[-k])\n"
   ]
  }
 ],
 "metadata": {
  "kernelspec": {
   "display_name": ".venv",
   "language": "python",
   "name": "python3"
  },
  "language_info": {
   "codemirror_mode": {
    "name": "ipython",
    "version": 3
   },
   "file_extension": ".py",
   "mimetype": "text/x-python",
   "name": "python",
   "nbconvert_exporter": "python",
   "pygments_lexer": "ipython3",
   "version": "3.10.4"
  },
  "orig_nbformat": 4
 },
 "nbformat": 4,
 "nbformat_minor": 2
}
