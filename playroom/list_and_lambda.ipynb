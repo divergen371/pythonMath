{
 "cells": [
  {
   "cell_type": "code",
   "execution_count": 1,
   "metadata": {
    "dotnet_interactive": {
     "language": "csharp"
    },
    "polyglot_notebook": {
     "kernelName": "csharp"
    }
   },
   "outputs": [
    {
     "name": "stdout",
     "output_type": "stream",
     "text": [
      "3\n",
      "4\n",
      "5\n",
      "6\n"
     ]
    }
   ],
   "source": [
    "l = [1, 2, 3, 4]\n",
    "L = map(lambda x: x + 2, l)\n",
    "for i in L:\n",
    "    print(i)\n"
   ]
  },
  {
   "cell_type": "code",
   "execution_count": 2,
   "metadata": {},
   "outputs": [
    {
     "name": "stdout",
     "output_type": "stream",
     "text": [
      "0\n",
      "1\n",
      "2\n",
      "3\n",
      "4\n"
     ]
    }
   ],
   "source": [
    "count = 0\n",
    "\n",
    "while count < 5:\n",
    "    print(count)\n",
    "    count += 1\n"
   ]
  },
  {
   "cell_type": "code",
   "execution_count": 3,
   "metadata": {},
   "outputs": [
    {
     "name": "stdout",
     "output_type": "stream",
     "text": [
      "0\n",
      "1\n",
      "2\n",
      "3\n",
      "4\n"
     ]
    }
   ],
   "source": [
    "for i in range(5):\n",
    "    print(i)\n"
   ]
  },
  {
   "cell_type": "code",
   "execution_count": 4,
   "metadata": {},
   "outputs": [
    {
     "name": "stdout",
     "output_type": "stream",
     "text": [
      "2\n",
      "4\n",
      "6\n",
      "8\n",
      "10\n"
     ]
    }
   ],
   "source": [
    "for i in range(1, 6):\n",
    "    print(i * 2)\n"
   ]
  },
  {
   "cell_type": "code",
   "execution_count": 5,
   "metadata": {},
   "outputs": [
    {
     "name": "stdout",
     "output_type": "stream",
     "text": [
      "1\n",
      "3\n",
      "5\n",
      "7\n",
      "9\n"
     ]
    }
   ],
   "source": [
    "l = [1, 2, 3, 4, 4, 5, 6, 7, 8, 9, 10]\n",
    "for i in l:\n",
    "    if i % 2 == 1:\n",
    "        print(i)\n"
   ]
  },
  {
   "cell_type": "code",
   "execution_count": 6,
   "metadata": {},
   "outputs": [
    {
     "name": "stdout",
     "output_type": "stream",
     "text": [
      "ピチュー\n",
      "ピカチュウ\n",
      "ライチュウ\n",
      "ピィ\n",
      "ピッピ\n",
      "ピクシー\n"
     ]
    }
   ],
   "source": [
    "l = [\"ピチュー\", \"ピカチュウ\", \"ライチュウ\", \"ピィ\", \"ピッピ\", \"ピクシー\"]\n",
    "for i in l:\n",
    "    print(i)\n"
   ]
  },
  {
   "cell_type": "code",
   "execution_count": 7,
   "metadata": {},
   "outputs": [
    {
     "name": "stdout",
     "output_type": "stream",
     "text": [
      "ピカチュウ\n",
      "ピカチュウ\n",
      "ピカチュウ\n",
      "ピカチュウ\n",
      "ピカチュウ\n"
     ]
    }
   ],
   "source": [
    "e_l = []\n",
    "\n",
    "for _ in range(5):\n",
    "    e_l.append(\"ピカチュウ\")\n",
    "\n",
    "for i in e_l:\n",
    "    print(i)\n"
   ]
  },
  {
   "cell_type": "code",
   "execution_count": 8,
   "metadata": {},
   "outputs": [
    {
     "name": "stdout",
     "output_type": "stream",
     "text": [
      "[3, 4, 5, 6, 7]\n"
     ]
    }
   ],
   "source": [
    "n_l = [1, 2, 3, 4, 5]\n",
    "\n",
    "for i in range(len(n_l)):\n",
    "    n_l[i] = n_l[i] + 2\n",
    "\n",
    "print(n_l)\n"
   ]
  },
  {
   "cell_type": "code",
   "execution_count": 9,
   "metadata": {},
   "outputs": [
    {
     "name": "stdout",
     "output_type": "stream",
     "text": [
      "[3, 4, 5, 6, 7]\n"
     ]
    }
   ],
   "source": [
    "n_l = [1, 2, 3, 4, 5]\n",
    "n_l = list(map(lambda x: x + 2, n_l))\n",
    "print(n_l)\n"
   ]
  },
  {
   "cell_type": "code",
   "execution_count": 10,
   "metadata": {},
   "outputs": [
    {
     "name": "stdout",
     "output_type": "stream",
     "text": [
      "[3, 4, 5, 6, 7]\n"
     ]
    }
   ],
   "source": [
    "n_l = [x + 2 for x in [1, 2, 3, 4, 5]]\n",
    "print(n_l)\n"
   ]
  },
  {
   "cell_type": "code",
   "execution_count": 11,
   "metadata": {},
   "outputs": [
    {
     "name": "stdout",
     "output_type": "stream",
     "text": [
      "ピチューゲットだぜ‼\n",
      "ピカチュウゲットだぜ‼\n",
      "ライチュウゲットだぜ‼\n"
     ]
    }
   ],
   "source": [
    "p_l = [\"ピチュー\", \"ピカチュウ\", \"ライチュウ\"]\n",
    "\n",
    "for i in range(len(p_l)):\n",
    "    p_l[i] = p_l[i] + \"ゲットだぜ‼\"\n",
    "\n",
    "for i in p_l:\n",
    "    print(i)\n"
   ]
  },
  {
   "cell_type": "code",
   "execution_count": 12,
   "metadata": {},
   "outputs": [
    {
     "name": "stdout",
     "output_type": "stream",
     "text": [
      "ピチューゲットだぜ!!\n",
      "ピカチュウゲットだぜ!!\n",
      "ライチュウゲットだぜ!!\n"
     ]
    }
   ],
   "source": [
    "p_l = [\"ピチュー\", \"ピカチュウ\", \"ライチュウ\"]\n",
    "\n",
    "pokelist = list(map(lambda x: x + \"ゲットだぜ!!\", p_l))\n",
    "\n",
    "for i in pokelist:\n",
    "    print(i)\n"
   ]
  },
  {
   "cell_type": "code",
   "execution_count": 13,
   "metadata": {},
   "outputs": [
    {
     "name": "stdout",
     "output_type": "stream",
     "text": [
      "[11, 14, 5, 17, 8]\n"
     ]
    }
   ],
   "source": [
    "n_l = [3, 4, 1, 5, 2]\n",
    "num_list = list(map(lambda x: (x * 3) + 2, n_l))\n",
    "print(num_list)\n"
   ]
  },
  {
   "cell_type": "code",
   "execution_count": 14,
   "metadata": {},
   "outputs": [
    {
     "name": "stdout",
     "output_type": "stream",
     "text": [
      "◯ピィ◯\n",
      "◯ピッピ◯\n",
      "◯ピクシー◯\n"
     ]
    }
   ],
   "source": [
    "l = [\"ピィ\", \"ピッピ\", \"ピクシー\"]\n",
    "pi_list = list(map(lambda x: \"◯\" + x + \"◯\", l))\n",
    "for i in pi_list:\n",
    "    print(i)\n"
   ]
  },
  {
   "cell_type": "code",
   "execution_count": 15,
   "metadata": {},
   "outputs": [
    {
     "name": "stdout",
     "output_type": "stream",
     "text": [
      "[2, 4, 6, 8]\n"
     ]
    }
   ],
   "source": [
    "l = [1, 2, 3, 4, 5, 6, 7, 8]\n",
    "l2 = []\n",
    "for i in l:\n",
    "    if i % 2 == 0:\n",
    "        l2.append(i)\n",
    "\n",
    "print(l2)\n"
   ]
  },
  {
   "cell_type": "code",
   "execution_count": 16,
   "metadata": {},
   "outputs": [
    {
     "name": "stdout",
     "output_type": "stream",
     "text": [
      "[2, 4, 6, 8]\n"
     ]
    }
   ],
   "source": [
    "l = [1, 2, 3, 4, 5, 6, 7, 8]\n",
    "n_l2 = list(filter(lambda x: x % 2 == 0, l))\n",
    "print(n_l2)\n"
   ]
  },
  {
   "cell_type": "code",
   "execution_count": 17,
   "metadata": {},
   "outputs": [
    {
     "name": "stdout",
     "output_type": "stream",
     "text": [
      "ピッピ\n",
      "プリン\n"
     ]
    }
   ],
   "source": [
    "l = [\"ピチュー\", \"ピカチュウ\", \"ライチュウ\", \"ピィ\", \"ピッピ\", \"ピクシー\", \"ププリン\", \"プリン\", \"プクリン\"]\n",
    "\n",
    "pokelist = []\n",
    "\n",
    "for i in l:\n",
    "    if len(i) == 3:\n",
    "        pokelist.append(i)\n",
    "\n",
    "for i in pokelist:\n",
    "    print(i)\n"
   ]
  },
  {
   "cell_type": "code",
   "execution_count": 18,
   "metadata": {},
   "outputs": [
    {
     "name": "stdout",
     "output_type": "stream",
     "text": [
      "ピッピ\n",
      "プリン\n"
     ]
    }
   ],
   "source": [
    "l = [\"ピチュー\", \"ピカチュウ\", \"ライチュウ\", \"ピィ\", \"ピッピ\", \"ピクシー\", \"ププリン\", \"プリン\", \"プクリン\"]\n",
    "\n",
    "\n",
    "pokelist = list(filter(lambda x: len(x) == 3, l))\n",
    "\n",
    "for i in pokelist:\n",
    "    print(i)\n"
   ]
  },
  {
   "cell_type": "code",
   "execution_count": 19,
   "metadata": {},
   "outputs": [
    {
     "name": "stdout",
     "output_type": "stream",
     "text": [
      "3\n",
      "4\n",
      "5\n",
      "6\n"
     ]
    }
   ],
   "source": [
    "num_list = [4,6,2,3,5,1]\n",
    "\n",
    "num_list = list(sorted(filter(lambda x: x >= 3, num_list)))\n",
    "\n",
    "for i in num_list:\n",
    "    print(i)"
   ]
  },
  {
   "cell_type": "code",
   "execution_count": 20,
   "metadata": {},
   "outputs": [
    {
     "name": "stdout",
     "output_type": "stream",
     "text": [
      "ピカチュウ\n",
      "ピカチュウ\n",
      "ピカチュウ\n"
     ]
    }
   ],
   "source": [
    "l = [\"ピチュー\", \"ピカチュウ\", \"ライチュウ\", \"ピチュー\", \"ピカチュウ\", \"ピカチュウ\"]\n",
    "\n",
    "p_l = list(filter(lambda x: x == \"ピカチュウ\", l))\n",
    "\n",
    "for i in p_l:\n",
    "    print(i)\n"
   ]
  },
  {
   "cell_type": "code",
   "execution_count": 21,
   "metadata": {},
   "outputs": [
    {
     "name": "stdout",
     "output_type": "stream",
     "text": [
      "5以上の要素があります\n"
     ]
    }
   ],
   "source": [
    "n_l = [1,2,3,4,5]\n",
    "exist = False\n",
    "\n",
    "for i in n_l:\n",
    "    if i >= 5:\n",
    "        exist = True\n",
    "\n",
    "if exist:\n",
    "    print(\"5以上の要素があります\")\n",
    "else:\n",
    "    print(\"5以上の要素はありません\")"
   ]
  },
  {
   "cell_type": "code",
   "execution_count": 22,
   "metadata": {},
   "outputs": [
    {
     "name": "stdout",
     "output_type": "stream",
     "text": [
      "5以上の要素があります\n"
     ]
    }
   ],
   "source": [
    "n_l = [1,2,3,4,5]\n",
    "\n",
    "exist = any(n >= 5 for n in n_l)\n",
    "\n",
    "if exist:\n",
    "    print(\"5以上の要素があります\")\n",
    "else:\n",
    "    print(\"5以上の要素はありません\")"
   ]
  },
  {
   "cell_type": "code",
   "execution_count": 23,
   "metadata": {},
   "outputs": [
    {
     "name": "stdout",
     "output_type": "stream",
     "text": [
      "5以上の要素はありません\n"
     ]
    }
   ],
   "source": [
    "n_l = [1,2,3,4]\n",
    "\n",
    "exist = any(n >= 5 for n in n_l)\n",
    "\n",
    "if exist:\n",
    "    print(\"5以上の要素があります\")\n",
    "else:\n",
    "    print(\"5以上の要素はありません\")"
   ]
  },
  {
   "cell_type": "code",
   "execution_count": 24,
   "metadata": {},
   "outputs": [
    {
     "name": "stdout",
     "output_type": "stream",
     "text": [
      "すべての要素が5以上です\n"
     ]
    }
   ],
   "source": [
    "n_l = [5,5,6,7,8]\n",
    "exist = True\n",
    "\n",
    "for i in n_l:\n",
    "    if i < 5:\n",
    "        exist = False\n",
    "        break\n",
    "\n",
    "if exist:\n",
    "    print(\"すべての要素が5以上です\")\n",
    "else:\n",
    "    print(\"5以上ではない要素が含まれています\")"
   ]
  },
  {
   "cell_type": "code",
   "execution_count": 25,
   "metadata": {},
   "outputs": [
    {
     "name": "stdout",
     "output_type": "stream",
     "text": [
      "すべての要素が5以上です\n"
     ]
    }
   ],
   "source": [
    "n_l = [5,5,6,7,8]\n",
    "\n",
    "exist = all(i >= 5 for i in n_l)\n",
    "\n",
    "if exist:\n",
    "    print(\"すべての要素が5以上です\")\n",
    "else:\n",
    "    print(\"5以上ではない要素が含まれています\")"
   ]
  },
  {
   "cell_type": "code",
   "execution_count": 26,
   "metadata": {},
   "outputs": [
    {
     "name": "stdout",
     "output_type": "stream",
     "text": [
      "5以上ではない要素が含まれています\n"
     ]
    }
   ],
   "source": [
    "n_l = [5,5,6,4,7]\n",
    "exist = all(i >= 5 for i in n_l)\n",
    "\n",
    "if exist:\n",
    "    print(\"すべての要素が5以上です\")\n",
    "else:\n",
    "    print(\"5以上ではない要素が含まれています\")"
   ]
  },
  {
   "cell_type": "code",
   "execution_count": 27,
   "metadata": {},
   "outputs": [
    {
     "name": "stdout",
     "output_type": "stream",
     "text": [
      "ライチュウもいるようです\n"
     ]
    }
   ],
   "source": [
    "l = [\"ピチュー\", \"ピカチュウ\", \"ライチュウ\", \"ピチュー\", \"ピカチュウ\", \"ピカチュウ\"]\n",
    "\n",
    "exist_flag = any(i == \"ライチュウ\" for i in l)\n",
    "\n",
    "\n",
    "if exist_flag:\n",
    "    print(\"ライチュウもいるようです\")\n",
    "else:\n",
    "    print(\"ライチュウはいないみたい\")"
   ]
  },
  {
   "cell_type": "code",
   "execution_count": 28,
   "metadata": {},
   "outputs": [
    {
     "name": "stdout",
     "output_type": "stream",
     "text": [
      "ピチューしかいないようです\n"
     ]
    }
   ],
   "source": [
    "l = [\"ピチュー\", \"ピチュー\", \"ピチュー\"]\n",
    "\n",
    "exist_flag = all(i == \"ピチュー\"for i in l)\n",
    "\n",
    "if exist_flag:\n",
    "    print(\"ピチューしかいないようです\")\n",
    "else:\n",
    "    print(\"ほかのポケモンもいるようです\")"
   ]
  },
  {
   "cell_type": "code",
   "execution_count": 29,
   "metadata": {},
   "outputs": [
    {
     "name": "stdout",
     "output_type": "stream",
     "text": [
      "名前の長さが5以上のポケモンがいます\n"
     ]
    }
   ],
   "source": [
    "l = [\"ピチュー\", \"ピカチュウ\", \"ピチュー\"]\n",
    "\n",
    "exist_flag = any(len(i) >= 5 for i in l)\n",
    "\n",
    "if exist_flag:\n",
    "    print(\"名前の長さが5以上のポケモンがいます\")\n"
   ]
  },
  {
   "cell_type": "markdown",
   "metadata": {},
   "source": [
    "## minとmaxそれからsum"
   ]
  },
  {
   "cell_type": "code",
   "execution_count": 30,
   "metadata": {},
   "outputs": [
    {
     "name": "stdout",
     "output_type": "stream",
     "text": [
      "5\n"
     ]
    }
   ],
   "source": [
    "n_l = [ 4,2,5,3,1 ]\n",
    "n_max = max(n_l)\n",
    "\n",
    "print(n_max)"
   ]
  },
  {
   "cell_type": "code",
   "execution_count": 31,
   "metadata": {},
   "outputs": [
    {
     "name": "stdout",
     "output_type": "stream",
     "text": [
      "ピカチュウ\n"
     ]
    }
   ],
   "source": [
    "l = [\"ピチュー\", \"ピカチュウ\", \"ライチュウ\"]\n",
    "\n",
    "len_max = max(l, key=len)\n",
    "print(len_max)"
   ]
  },
  {
   "cell_type": "code",
   "execution_count": 32,
   "metadata": {},
   "outputs": [
    {
     "name": "stdout",
     "output_type": "stream",
     "text": [
      "5\n"
     ]
    }
   ],
   "source": [
    "l = [\"ピチュー\", \"ピカチュウ\", \"ライチュウ\"]\n",
    "\n",
    "len_max = max(len(i) for i in l)\n",
    "print(len_max)"
   ]
  },
  {
   "cell_type": "code",
   "execution_count": 33,
   "metadata": {},
   "outputs": [
    {
     "name": "stdout",
     "output_type": "stream",
     "text": [
      "1\n"
     ]
    }
   ],
   "source": [
    "n_l = [4,2,5,3,1]\n",
    "n_min = min(n_l)\n",
    "print(n_min)"
   ]
  },
  {
   "cell_type": "code",
   "execution_count": 34,
   "metadata": {},
   "outputs": [
    {
     "name": "stdout",
     "output_type": "stream",
     "text": [
      "15\n"
     ]
    }
   ],
   "source": [
    "n_l = [4,2,5,3,1]\n",
    "\n",
    "acc = 0\n",
    "for i in n_l:\n",
    "    acc += i\n",
    "\n",
    "print(acc)"
   ]
  },
  {
   "cell_type": "code",
   "execution_count": 35,
   "metadata": {},
   "outputs": [
    {
     "name": "stdout",
     "output_type": "stream",
     "text": [
      "15\n"
     ]
    }
   ],
   "source": [
    "n_l = [4, 2, 5, 3, 1]\n",
    "\n",
    "n_s = sum(n_l)\n",
    "\n",
    "print(n_s)\n"
   ]
  },
  {
   "cell_type": "code",
   "execution_count": 36,
   "metadata": {},
   "outputs": [
    {
     "name": "stdout",
     "output_type": "stream",
     "text": [
      "1\n"
     ]
    }
   ],
   "source": [
    "n_l = [3,12,1,8,4,10]\n",
    "\n",
    "min_num = min(n_l)\n",
    "\n",
    "print(min_num)"
   ]
  },
  {
   "cell_type": "code",
   "execution_count": 41,
   "metadata": {},
   "outputs": [
    {
     "name": "stdout",
     "output_type": "stream",
     "text": [
      "27\n"
     ]
    }
   ],
   "source": [
    "l = [\"ピチュー\", \"ピチュー\", \"ピカチュウ\", \"ピチュー\", \"ライチュウ\", \"ピカチュウ\"]\n",
    "s_len = sum(len(i) for i in l)\n",
    "print(s_len)"
   ]
  },
  {
   "cell_type": "markdown",
   "metadata": {},
   "source": [
    "## setとsorted"
   ]
  },
  {
   "cell_type": "code",
   "execution_count": 42,
   "metadata": {},
   "outputs": [
    {
     "name": "stdout",
     "output_type": "stream",
     "text": [
      "[1, 2, 3]\n"
     ]
    }
   ],
   "source": [
    "n_l = [1,1,1,1,1,1,2,2,2,2,2,3,3,3,3]\n",
    "\n",
    "uniq_list = []\n",
    "\n",
    "for i in n_l:\n",
    "    if i not in uniq_list:\n",
    "        uniq_list.append(i)\n",
    "\n",
    "print(uniq_list)"
   ]
  },
  {
   "cell_type": "code",
   "execution_count": 45,
   "metadata": {},
   "outputs": [
    {
     "name": "stdout",
     "output_type": "stream",
     "text": [
      "[1, 2, 3]\n"
     ]
    }
   ],
   "source": [
    "n_l = [1,1,1,1,1,1,2,2,2,2,2,3,3,3,3]\n",
    "\n",
    "uniq_list = list(set(n_l))\n",
    "print(uniq_list)"
   ]
  },
  {
   "cell_type": "code",
   "execution_count": 49,
   "metadata": {},
   "outputs": [
    {
     "name": "stdout",
     "output_type": "stream",
     "text": [
      "[3, 1, 2]\n"
     ]
    }
   ],
   "source": [
    "# setは自動でソートしてしまうため元の順序を維持したい場合は以下のようにする\n",
    "n_l = [3,3,3,3,3,1,1,1,1,1,2,2,2,2]\n",
    "\n",
    "uniq_list = sorted(set(n_l), key=n_l.index)\n",
    "print(uniq_list)"
   ]
  },
  {
   "cell_type": "code",
   "execution_count": 50,
   "metadata": {},
   "outputs": [
    {
     "name": "stdout",
     "output_type": "stream",
     "text": [
      "[1, 2, 3, 4, 5, 6, 7, 8, 9, 10]\n"
     ]
    }
   ],
   "source": [
    "n_l = [3, 6, 2, 7, 1, 8, 10, 9, 4, 5]\n",
    "\n",
    "for i in range(len(n_l)):\n",
    "    for j in range(i):\n",
    "        if n_l[i] < n_l[j]:\n",
    "            tmp = n_l[i]\n",
    "            n_l[i] = n_l[j]\n",
    "            n_l[j] = tmp\n",
    "\n",
    "print(n_l)\n"
   ]
  },
  {
   "cell_type": "code",
   "execution_count": 52,
   "metadata": {},
   "outputs": [
    {
     "name": "stdout",
     "output_type": "stream",
     "text": [
      "[1, 2, 3, 4, 5, 6, 7, 8, 9, 10]\n"
     ]
    }
   ],
   "source": [
    "n_l = [3, 6, 2, 7, 1, 8, 10, 9, 4, 5]\n",
    "n_l = sorted(n_l)\n",
    "print(n_l)\n"
   ]
  },
  {
   "cell_type": "code",
   "execution_count": 53,
   "metadata": {},
   "outputs": [
    {
     "name": "stdout",
     "output_type": "stream",
     "text": [
      "[10, 9, 8, 7, 6, 5, 4, 3, 2, 1]\n"
     ]
    }
   ],
   "source": [
    "n_l = [3, 6, 2, 7, 1, 8, 10, 9, 4, 5]\n",
    "n_l = sorted(n_l, reverse=True)\n",
    "print(n_l)\n"
   ]
  },
  {
   "cell_type": "code",
   "execution_count": 55,
   "metadata": {},
   "outputs": [
    {
     "name": "stdout",
     "output_type": "stream",
     "text": [
      "[5, 4, 9, 10, 8, 1, 7, 2, 6, 3]\n"
     ]
    }
   ],
   "source": [
    "n_l = [3, 6, 2, 7, 1, 8, 10, 9, 4, 5]\n",
    "n_l = sorted(n_l, key=n_l.index, reverse=True)\n",
    "print(n_l)\n"
   ]
  },
  {
   "cell_type": "code",
   "execution_count": 56,
   "metadata": {},
   "outputs": [
    {
     "name": "stdout",
     "output_type": "stream",
     "text": [
      "ピチュー\n",
      "ライチュウ\n",
      "ピカチュウ\n"
     ]
    }
   ],
   "source": [
    "l = [\"ピチュー\", \"ピチュー\", \"ピカチュウ\", \"ピチュー\", \"ライチュウ\", \"ピカチュウ\"]\n",
    "\n",
    "p_l = set(l)\n",
    "\n",
    "for i in p_l:\n",
    "    print(i)"
   ]
  },
  {
   "cell_type": "code",
   "execution_count": 57,
   "metadata": {},
   "outputs": [
    {
     "name": "stdout",
     "output_type": "stream",
     "text": [
      "ピィ\n",
      "ピカチュウ\n",
      "ピクシー\n",
      "ピチュー\n",
      "ピッピ\n",
      "プクリン\n",
      "ププリン\n",
      "プリン\n",
      "ライチュウ\n"
     ]
    }
   ],
   "source": [
    "l = [\"ピチュー\", \"ピカチュウ\", \"ライチュウ\", \"ピィ\", \"ピッピ\", \"ピクシー\", \"ププリン\", \"プリン\", \"プクリン\"]\n",
    "\n",
    "p_l = sorted(l)\n",
    "\n",
    "for i in p_l:\n",
    "    print(i)"
   ]
  }
 ],
 "metadata": {
  "kernelspec": {
   "display_name": ".venv",
   "language": "python",
   "name": "python3"
  },
  "language_info": {
   "codemirror_mode": {
    "name": "ipython",
    "version": 3
   },
   "file_extension": ".py",
   "mimetype": "text/x-python",
   "name": "python",
   "nbconvert_exporter": "python",
   "pygments_lexer": "ipython3",
   "version": "3.11.3"
  },
  "orig_nbformat": 4,
  "polyglot_notebook": {
   "kernelInfo": {
    "defaultKernelName": "csharp",
    "items": [
     {
      "aliases": [],
      "name": "csharp"
     }
    ]
   }
  }
 },
 "nbformat": 4,
 "nbformat_minor": 2
}
