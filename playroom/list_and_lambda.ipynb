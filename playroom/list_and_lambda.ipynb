{
 "cells": [
  {
   "cell_type": "code",
   "execution_count": 1,
   "metadata": {
    "dotnet_interactive": {
     "language": "csharp"
    },
    "polyglot_notebook": {
     "kernelName": "csharp"
    }
   },
   "outputs": [
    {
     "name": "stdout",
     "output_type": "stream",
     "text": [
      "3\n",
      "4\n",
      "5\n",
      "6\n"
     ]
    }
   ],
   "source": [
    "l = [1, 2, 3, 4]\n",
    "L = map(lambda x: x + 2, l)\n",
    "for i in L:\n",
    "    print(i)\n"
   ]
  },
  {
   "cell_type": "code",
   "execution_count": 2,
   "metadata": {},
   "outputs": [
    {
     "name": "stdout",
     "output_type": "stream",
     "text": [
      "0\n",
      "1\n",
      "2\n",
      "3\n",
      "4\n"
     ]
    }
   ],
   "source": [
    "count = 0\n",
    "\n",
    "while count < 5:\n",
    "    print(count)\n",
    "    count += 1\n"
   ]
  },
  {
   "cell_type": "code",
   "execution_count": 3,
   "metadata": {},
   "outputs": [
    {
     "name": "stdout",
     "output_type": "stream",
     "text": [
      "0\n",
      "1\n",
      "2\n",
      "3\n",
      "4\n"
     ]
    }
   ],
   "source": [
    "for i in range(5):\n",
    "    print(i)\n"
   ]
  },
  {
   "cell_type": "code",
   "execution_count": 4,
   "metadata": {},
   "outputs": [
    {
     "name": "stdout",
     "output_type": "stream",
     "text": [
      "2\n",
      "4\n",
      "6\n",
      "8\n",
      "10\n"
     ]
    }
   ],
   "source": [
    "for i in range(1, 6):\n",
    "    print(i * 2)\n"
   ]
  },
  {
   "cell_type": "code",
   "execution_count": 5,
   "metadata": {},
   "outputs": [
    {
     "name": "stdout",
     "output_type": "stream",
     "text": [
      "1\n",
      "3\n",
      "5\n",
      "7\n",
      "9\n"
     ]
    }
   ],
   "source": [
    "l = [1, 2, 3, 4, 4, 5, 6, 7, 8, 9, 10]\n",
    "for i in l:\n",
    "    if i % 2 == 1:\n",
    "        print(i)\n"
   ]
  },
  {
   "cell_type": "code",
   "execution_count": 6,
   "metadata": {},
   "outputs": [
    {
     "name": "stdout",
     "output_type": "stream",
     "text": [
      "ピチュー\n",
      "ピカチュウ\n",
      "ライチュウ\n",
      "ピィ\n",
      "ピッピ\n",
      "ピクシー\n"
     ]
    }
   ],
   "source": [
    "l = [\"ピチュー\", \"ピカチュウ\", \"ライチュウ\", \"ピィ\", \"ピッピ\", \"ピクシー\"]\n",
    "for i in l:\n",
    "    print(i)\n"
   ]
  },
  {
   "cell_type": "code",
   "execution_count": 7,
   "metadata": {},
   "outputs": [
    {
     "name": "stdout",
     "output_type": "stream",
     "text": [
      "ピカチュウ\n",
      "ピカチュウ\n",
      "ピカチュウ\n",
      "ピカチュウ\n",
      "ピカチュウ\n"
     ]
    }
   ],
   "source": [
    "e_l = []\n",
    "\n",
    "for _ in range(5):\n",
    "    e_l.append(\"ピカチュウ\")\n",
    "\n",
    "for i in e_l:\n",
    "    print(i)\n"
   ]
  },
  {
   "cell_type": "code",
   "execution_count": 8,
   "metadata": {},
   "outputs": [
    {
     "name": "stdout",
     "output_type": "stream",
     "text": [
      "[3, 4, 5, 6, 7]\n"
     ]
    }
   ],
   "source": [
    "n_l = [1, 2, 3, 4, 5]\n",
    "\n",
    "for i in range(len(n_l)):\n",
    "    n_l[i] = n_l[i] + 2\n",
    "\n",
    "print(n_l)\n"
   ]
  },
  {
   "cell_type": "code",
   "execution_count": 9,
   "metadata": {},
   "outputs": [
    {
     "name": "stdout",
     "output_type": "stream",
     "text": [
      "[3, 4, 5, 6, 7]\n"
     ]
    }
   ],
   "source": [
    "n_l = [1, 2, 3, 4, 5]\n",
    "n_l = list(map(lambda x: x + 2, n_l))\n",
    "print(n_l)\n"
   ]
  },
  {
   "cell_type": "code",
   "execution_count": 10,
   "metadata": {},
   "outputs": [
    {
     "name": "stdout",
     "output_type": "stream",
     "text": [
      "[3, 4, 5, 6, 7]\n"
     ]
    }
   ],
   "source": [
    "n_l = [x + 2 for x in [1, 2, 3, 4, 5]]\n",
    "print(n_l)\n"
   ]
  },
  {
   "cell_type": "code",
   "execution_count": 11,
   "metadata": {},
   "outputs": [
    {
     "name": "stdout",
     "output_type": "stream",
     "text": [
      "ピチューゲットだぜ‼\n",
      "ピカチュウゲットだぜ‼\n",
      "ライチュウゲットだぜ‼\n"
     ]
    }
   ],
   "source": [
    "p_l = [\"ピチュー\", \"ピカチュウ\", \"ライチュウ\"]\n",
    "\n",
    "for i in range(len(p_l)):\n",
    "    p_l[i] = p_l[i] + \"ゲットだぜ‼\"\n",
    "\n",
    "for i in p_l:\n",
    "    print(i)\n"
   ]
  },
  {
   "cell_type": "code",
   "execution_count": 13,
   "metadata": {},
   "outputs": [
    {
     "name": "stdout",
     "output_type": "stream",
     "text": [
      "ピチューゲットだぜ!!\n",
      "ピカチュウゲットだぜ!!\n",
      "ライチュウゲットだぜ!!\n"
     ]
    }
   ],
   "source": [
    "p_l = [\"ピチュー\", \"ピカチュウ\", \"ライチュウ\"]\n",
    "\n",
    "pokelist = list(map(lambda x: x + \"ゲットだぜ!!\", p_l))\n",
    "\n",
    "for i in pokelist:\n",
    "    print(i)\n"
   ]
  },
  {
   "cell_type": "code",
   "execution_count": 15,
   "metadata": {},
   "outputs": [
    {
     "name": "stdout",
     "output_type": "stream",
     "text": [
      "[11, 14, 5, 17, 8]\n"
     ]
    }
   ],
   "source": [
    "n_l = [3, 4, 1, 5, 2]\n",
    "num_list = list(map(lambda x: (x * 3) + 2, n_l))\n",
    "print(num_list)\n"
   ]
  },
  {
   "cell_type": "code",
   "execution_count": 16,
   "metadata": {},
   "outputs": [
    {
     "name": "stdout",
     "output_type": "stream",
     "text": [
      "◯ピィ◯\n",
      "◯ピッピ◯\n",
      "◯ピクシー◯\n"
     ]
    }
   ],
   "source": [
    "l = [\"ピィ\", \"ピッピ\", \"ピクシー\"]\n",
    "pi_list = list(map(lambda x: \"◯\" + x + \"◯\", l))\n",
    "for i in pi_list:\n",
    "    print(i)\n"
   ]
  },
  {
   "cell_type": "code",
   "execution_count": 17,
   "metadata": {},
   "outputs": [
    {
     "name": "stdout",
     "output_type": "stream",
     "text": [
      "[2, 4, 6, 8]\n"
     ]
    }
   ],
   "source": [
    "l = [1, 2, 3, 4, 5, 6, 7, 8]\n",
    "l2 = []\n",
    "for i in l:\n",
    "    if i % 2 == 0:\n",
    "        l2.append(i)\n",
    "\n",
    "print(l2)\n"
   ]
  },
  {
   "cell_type": "code",
   "execution_count": 19,
   "metadata": {},
   "outputs": [
    {
     "name": "stdout",
     "output_type": "stream",
     "text": [
      "[2, 4, 6, 8]\n"
     ]
    }
   ],
   "source": [
    "l = [1, 2, 3, 4, 5, 6, 7, 8]\n",
    "n_l2 = list(filter(lambda x: x % 2 == 0, l))\n",
    "print(n_l2)\n"
   ]
  },
  {
   "cell_type": "code",
   "execution_count": 20,
   "metadata": {},
   "outputs": [
    {
     "name": "stdout",
     "output_type": "stream",
     "text": [
      "ピッピ\n",
      "プリン\n"
     ]
    }
   ],
   "source": [
    "l = [\"ピチュー\", \"ピカチュウ\", \"ライチュウ\", \"ピィ\", \"ピッピ\", \"ピクシー\", \"ププリン\", \"プリン\", \"プクリン\"]\n",
    "\n",
    "pokelist = []\n",
    "\n",
    "for i in l:\n",
    "    if len(i) == 3:\n",
    "        pokelist.append(i)\n",
    "\n",
    "for i in pokelist:\n",
    "    print(i)\n"
   ]
  },
  {
   "cell_type": "code",
   "execution_count": 24,
   "metadata": {},
   "outputs": [
    {
     "name": "stdout",
     "output_type": "stream",
     "text": [
      "ピッピ\n",
      "プリン\n"
     ]
    }
   ],
   "source": [
    "l = [\"ピチュー\", \"ピカチュウ\", \"ライチュウ\", \"ピィ\", \"ピッピ\", \"ピクシー\", \"ププリン\", \"プリン\", \"プクリン\"]\n",
    "\n",
    "\n",
    "pokelist = list(filter(lambda x: len(x) == 3, l))\n",
    "\n",
    "for i in pokelist:\n",
    "    print(i)\n"
   ]
  }
 ],
 "metadata": {
  "kernelspec": {
   "display_name": ".venv",
   "language": "python",
   "name": "python3"
  },
  "language_info": {
   "codemirror_mode": {
    "name": "ipython",
    "version": 3
   },
   "file_extension": ".py",
   "mimetype": "text/x-python",
   "name": "python",
   "nbconvert_exporter": "python",
   "pygments_lexer": "ipython3",
   "version": "3.11.3"
  },
  "orig_nbformat": 4,
  "polyglot_notebook": {
   "kernelInfo": {
    "defaultKernelName": "csharp",
    "items": [
     {
      "aliases": [],
      "name": "csharp"
     }
    ]
   }
  }
 },
 "nbformat": 4,
 "nbformat_minor": 2
}
