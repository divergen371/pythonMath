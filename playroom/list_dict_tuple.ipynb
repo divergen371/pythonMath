{
 "cells": [
  {
   "cell_type": "code",
   "execution_count": 1,
   "metadata": {},
   "outputs": [],
   "source": [
    "class Pokemon:\n",
    "    def __init__(self, name, type1, type2):\n",
    "        self.name = name\n",
    "        self.type1 = type1\n",
    "        self.type2 = type2\n",
    "\n",
    "    def print_info(self):\n",
    "        print(\n",
    "            \"名前: \"\n",
    "            + self.name\n",
    "            + \" タイプ1: \"\n",
    "            + self.type1\n",
    "            + \" タイプ2: \"\n",
    "            + self.type2\n",
    "        )\n"
   ]
  },
  {
   "cell_type": "code",
   "execution_count": 2,
   "metadata": {},
   "outputs": [
    {
     "name": "stdout",
     "output_type": "stream",
     "text": [
      "名前: ピカチュウ タイプ1: でんき タイプ2: \n"
     ]
    }
   ],
   "source": [
    "p1 = Pokemon(name=\"ピカチュウ\", type1=\"でんき\", type2=\"\")\n",
    "p1.print_info()\n"
   ]
  },
  {
   "cell_type": "code",
   "execution_count": 3,
   "metadata": {},
   "outputs": [
    {
     "name": "stdout",
     "output_type": "stream",
     "text": [
      "ピカチュウ\n",
      "フェアリー\n",
      "ノーマル\n"
     ]
    }
   ],
   "source": [
    "p1 = Pokemon(name=\"ピカチュウ\", type1=\"でんき\", type2=\"\")\n",
    "p2 = Pokemon(name=\"ピッピ\", type1=\"フェアリー\", type2=\"\")\n",
    "p3 = Pokemon(name=\"プリン\", type1=\"フェアリー\", type2=\"ノーマル\")\n",
    "\n",
    "print(p1.name)\n",
    "print(p2.type1)\n",
    "print(p3.type2)\n"
   ]
  },
  {
   "cell_type": "code",
   "execution_count": 4,
   "metadata": {},
   "outputs": [
    {
     "name": "stdout",
     "output_type": "stream",
     "text": [
      "名前: ピカチュウ タイプ1: でんき タイプ2: \n",
      "名前: ピッピ タイプ1: フェアリー タイプ2: \n",
      "名前: プリン タイプ1: フェアリー タイプ2: ノーマル\n"
     ]
    }
   ],
   "source": [
    "p_list = [\n",
    "    Pokemon(name=\"ピカチュウ\", type1=\"でんき\", type2=\"\"),\n",
    "    Pokemon(name=\"ピッピ\", type1=\"フェアリー\", type2=\"\"),\n",
    "    Pokemon(name=\"プリン\", type1=\"フェアリー\", type2=\"ノーマル\"),\n",
    "]\n",
    "\n",
    "for i in p_list:\n",
    "    i.print_info()\n"
   ]
  },
  {
   "cell_type": "code",
   "execution_count": 5,
   "metadata": {},
   "outputs": [
    {
     "name": "stdout",
     "output_type": "stream",
     "text": [
      "名前: プリン タイプ1: フェアリー タイプ2: ノーマル\n",
      "名前: フシギダネ タイプ1: くさ タイプ2: どく\n"
     ]
    }
   ],
   "source": [
    "p_list = [\n",
    "    Pokemon(name=\"ピカチュウ\", type1=\"でんき\", type2=\"\"),\n",
    "    Pokemon(name=\"ピッピ\", type1=\"フェアリー\", type2=\"\"),\n",
    "    Pokemon(name=\"プリン\", type1=\"フェアリー\", type2=\"ノーマル\"),\n",
    "]\n",
    "\n",
    "p_list.append(Pokemon(name=\"フシギダネ\", type1=\"くさ\", type2=\"どく\"))\n",
    "for i in p_list[2:]:\n",
    "    i.print_info()\n"
   ]
  },
  {
   "cell_type": "markdown",
   "metadata": {},
   "source": [
    "## 辞書型\n"
   ]
  },
  {
   "cell_type": "code",
   "execution_count": 6,
   "metadata": {},
   "outputs": [
    {
     "name": "stdout",
     "output_type": "stream",
     "text": [
      "ピカチュウ\n"
     ]
    }
   ],
   "source": [
    "p_dict = {25: \"ピカチュウ\", 35: \"ピッピ\", 39: \"プリン\"}\n",
    "print(p_dict[25])\n"
   ]
  },
  {
   "cell_type": "markdown",
   "metadata": {},
   "source": [
    "### 要素の追加と削除\n"
   ]
  },
  {
   "cell_type": "markdown",
   "metadata": {},
   "source": [
    "#### 追加\n"
   ]
  },
  {
   "cell_type": "code",
   "execution_count": 7,
   "metadata": {},
   "outputs": [
    {
     "name": "stdout",
     "output_type": "stream",
     "text": [
      "{25: 'ピカチュウ', 35: 'ピッピ', 39: 'プリン', 26: 'ライチュウ'}\n"
     ]
    }
   ],
   "source": [
    "p_dict = {25: \"ピカチュウ\", 35: \"ピッピ\", 39: \"プリン\"}\n",
    "p_dict[26] = \"ライチュウ\"\n",
    "print(p_dict)\n"
   ]
  },
  {
   "cell_type": "markdown",
   "metadata": {},
   "source": [
    "#### 削除\n"
   ]
  },
  {
   "cell_type": "code",
   "execution_count": 8,
   "metadata": {},
   "outputs": [
    {
     "name": "stdout",
     "output_type": "stream",
     "text": [
      "True\n",
      "False\n"
     ]
    }
   ],
   "source": [
    "p_dict = {25: \"ピカチュウ\", 35: \"ピッピ\", 39: \"プリン\"}\n",
    "\n",
    "print(25 in p_dict)\n",
    "p_dict.pop(25)\n",
    "print(25 in p_dict)\n"
   ]
  },
  {
   "cell_type": "markdown",
   "metadata": {},
   "source": [
    "### キーや値の有無を判別する方法\n"
   ]
  },
  {
   "cell_type": "code",
   "execution_count": 9,
   "metadata": {},
   "outputs": [
    {
     "name": "stdout",
     "output_type": "stream",
     "text": [
      "True\n",
      "False\n",
      "True\n",
      "False\n"
     ]
    }
   ],
   "source": [
    "p_dict = {25: \"ピカチュウ\", 35: \"ピッピ\", 39: \"プリン\"}\n",
    "\n",
    "print(25 in p_dict.keys())\n",
    "print(26 in p_dict.keys())\n",
    "\n",
    "print(\"ピカチュウ\" in p_dict.values())\n",
    "print(\"ライチュウ\" in p_dict.values())\n"
   ]
  },
  {
   "cell_type": "markdown",
   "metadata": {},
   "source": [
    "### 辞書の要素出力\n"
   ]
  },
  {
   "cell_type": "code",
   "execution_count": 10,
   "metadata": {},
   "outputs": [
    {
     "name": "stdout",
     "output_type": "stream",
     "text": [
      "25\n",
      "35\n",
      "39\n",
      "ピカチュウ\n",
      "ピッピ\n",
      "プリン\n"
     ]
    }
   ],
   "source": [
    "p_dict = {25: \"ピカチュウ\", 35: \"ピッピ\", 39: \"プリン\"}\n",
    "\n",
    "for k in p_dict.keys():\n",
    "    print(k)\n",
    "\n",
    "for v in p_dict.values():\n",
    "    print(v)\n"
   ]
  },
  {
   "cell_type": "code",
   "execution_count": 11,
   "metadata": {},
   "outputs": [
    {
     "name": "stdout",
     "output_type": "stream",
     "text": [
      "ピカチュウさん\n",
      "ピッピさん\n",
      "プリンさん\n"
     ]
    }
   ],
   "source": [
    "p_dict = {25: \"ピカチュウ\", 35: \"ピッピ\", 39: \"プリン\"}\n",
    "\n",
    "p_list = list(map(lambda x: x + \"さん\", p_dict.values()))\n",
    "\n",
    "for i in p_list:\n",
    "    print(i)\n"
   ]
  },
  {
   "cell_type": "markdown",
   "metadata": {},
   "source": [
    "### 辞書型とラムダ式\n"
   ]
  },
  {
   "cell_type": "code",
   "execution_count": 12,
   "metadata": {},
   "outputs": [
    {
     "name": "stdout",
     "output_type": "stream",
     "text": [
      "8\n"
     ]
    }
   ],
   "source": [
    "result = 0\n",
    "calc_mode = \"+\"\n",
    "\n",
    "num1 = 5\n",
    "num2 = 3\n",
    "\n",
    "if calc_mode == \"+\":\n",
    "    result = num1 + num2\n",
    "elif calc_mode == \"-\":\n",
    "    result = num1 - num2\n",
    "elif calc_mode == \"*\":\n",
    "    result = num1 * num2\n",
    "elif calc_mode == \"/\":\n",
    "    result = num1 / num2\n",
    "elif calc_mode == \"%\":\n",
    "    result = num1 % num2\n",
    "\n",
    "print(result)\n"
   ]
  },
  {
   "cell_type": "code",
   "execution_count": 13,
   "metadata": {},
   "outputs": [
    {
     "name": "stdout",
     "output_type": "stream",
     "text": [
      "8\n",
      "15\n",
      "2\n",
      "2\n",
      "1.6666666666666667\n"
     ]
    }
   ],
   "source": [
    "calc_dic = {\n",
    "    \"+\": lambda x, y: x + y,\n",
    "    \"-\": lambda x, y: x - y,\n",
    "    \"*\": lambda x, y: x * y,\n",
    "    \"/\": lambda x, y: x / y,\n",
    "    \"%\": lambda x, y: x % y,\n",
    "}\n",
    "num1 = 5\n",
    "num2 = 3\n",
    "print(calc_dic[\"+\"](num1, num2))\n",
    "print(calc_dic[\"*\"](num1, num2))\n",
    "print(calc_dic[\"%\"](num1, num2))\n",
    "print(calc_dic[\"-\"](num1, num2))\n",
    "print(calc_dic[\"/\"](num1, num2))\n"
   ]
  },
  {
   "cell_type": "markdown",
   "metadata": {},
   "source": [
    "### 練習\n"
   ]
  },
  {
   "cell_type": "code",
   "execution_count": 14,
   "metadata": {},
   "outputs": [
    {
     "name": "stdout",
     "output_type": "stream",
     "text": [
      "ピクシー\n"
     ]
    }
   ],
   "source": [
    "p_dict = {\n",
    "    25: \"ピカチュウ\",\n",
    "    26: \"ライチュウ\",\n",
    "    35: \"ピッピ\",\n",
    "    36: \"ピクシー\",\n",
    "    39: \"プリン\",\n",
    "    40: \"プクリン\",\n",
    "}\n",
    "p = p_dict[36]\n",
    "print(p)\n"
   ]
  },
  {
   "cell_type": "code",
   "execution_count": 15,
   "metadata": {},
   "outputs": [
    {
     "name": "stdout",
     "output_type": "stream",
     "text": [
      "ピカチュウ\n",
      "ライチュウ\n"
     ]
    }
   ],
   "source": [
    "p_dict = {\n",
    "    25: \"ピカチュウ\",\n",
    "    26: \"ライチュウ\",\n",
    "    35: \"ピッピ\",\n",
    "    36: \"ピクシー\",\n",
    "    39: \"プリン\",\n",
    "    40: \"プクリン\",\n",
    "}\n",
    "\n",
    "p_l = filter(lambda x: \"チュウ\" in x, p_dict.values())\n",
    "for i in p_l:\n",
    "    print(i)\n"
   ]
  },
  {
   "cell_type": "markdown",
   "metadata": {},
   "source": [
    "## タプル\n"
   ]
  },
  {
   "cell_type": "markdown",
   "metadata": {},
   "source": [
    "### タプル型の書き方と参照方法\n"
   ]
  },
  {
   "cell_type": "code",
   "execution_count": 16,
   "metadata": {},
   "outputs": [
    {
     "name": "stdout",
     "output_type": "stream",
     "text": [
      "ピカチュウ\n",
      "ピッピ\n"
     ]
    }
   ],
   "source": [
    "p_tuple = (\"ピカチュウ\", \"ピッピ\", \"プリン\")\n",
    "print(p_tuple[0])\n",
    "print(p_tuple[1])\n"
   ]
  },
  {
   "cell_type": "markdown",
   "metadata": {},
   "source": [
    "### メソッド\n",
    "\n",
    "イミュータブルなので、参照系のメソッドしか無い。\n"
   ]
  },
  {
   "cell_type": "code",
   "execution_count": 17,
   "metadata": {},
   "outputs": [
    {
     "name": "stdout",
     "output_type": "stream",
     "text": [
      "2\n",
      "1\n"
     ]
    }
   ],
   "source": [
    "p_tuple = (\"ピカチュウ\", \"ピッピ\", \"プリン\", \"プリン\")\n",
    "\n",
    "print(p_tuple.count(\"プリン\"))\n",
    "print(p_tuple.index(\"ピッピ\"))\n"
   ]
  },
  {
   "cell_type": "markdown",
   "metadata": {},
   "source": [
    "### 要素の出力\n"
   ]
  },
  {
   "cell_type": "code",
   "execution_count": 18,
   "metadata": {},
   "outputs": [
    {
     "name": "stdout",
     "output_type": "stream",
     "text": [
      "ピカチュウ\n",
      "ピッピ\n",
      "プリン\n"
     ]
    }
   ],
   "source": [
    "p_tuple = (\"ピカチュウ\", \"ピッピ\", \"プリン\")\n",
    "\n",
    "for i in p_tuple:\n",
    "    print(i)\n"
   ]
  },
  {
   "cell_type": "code",
   "execution_count": 19,
   "metadata": {},
   "outputs": [
    {
     "name": "stdout",
     "output_type": "stream",
     "text": [
      "ピカチュウ\n",
      "ピッピ\n",
      "プリン\n"
     ]
    }
   ],
   "source": [
    "p_tuple = (\"ピカチュウ\", \"ピッピ\", \"プリン\")\n",
    "\n",
    "for i in range(len(p_tuple)):\n",
    "    print(p_tuple[i])\n"
   ]
  },
  {
   "cell_type": "markdown",
   "metadata": {},
   "source": [
    "### タプル型を引数として受け取れる関数\n",
    "\n",
    "|        |\n",
    "| :----: |\n",
    "|  all   |\n",
    "|  any   |\n",
    "|  len   |\n",
    "|  max   |\n",
    "|  min   |\n",
    "| sorted |\n",
    "|  sum   |\n",
    "\n",
    "map と filter は使えない\n"
   ]
  },
  {
   "cell_type": "code",
   "execution_count": 20,
   "metadata": {},
   "outputs": [
    {
     "name": "stdout",
     "output_type": "stream",
     "text": [
      "5\n",
      "True\n",
      "False\n",
      "[1, 2, 3, 4, 5]\n"
     ]
    }
   ],
   "source": [
    "n_tuple = (5, 2, 3, 1, 4)\n",
    "print(max(n_tuple))\n",
    "print(any(x > 3 for x in n_tuple))\n",
    "print(all(x > 3 for x in n_tuple))\n",
    "print(sorted(n_tuple))\n"
   ]
  },
  {
   "cell_type": "markdown",
   "metadata": {},
   "source": [
    "### 練習\n"
   ]
  },
  {
   "cell_type": "code",
   "execution_count": 21,
   "metadata": {},
   "outputs": [
    {
     "name": "stdout",
     "output_type": "stream",
     "text": [
      "5\n",
      "3\n",
      "3\n"
     ]
    }
   ],
   "source": [
    "p_tuple = (\"ピカチュウ\", \"ピッピ\", \"プリン\")\n",
    "\n",
    "for i in p_tuple:\n",
    "    print(len(i))\n"
   ]
  },
  {
   "cell_type": "code",
   "execution_count": 22,
   "metadata": {},
   "outputs": [
    {
     "name": "stdout",
     "output_type": "stream",
     "text": [
      "ピカチュウ\n"
     ]
    }
   ],
   "source": [
    "p_tuple = (\"ピカチュウ\", \"ピッピ\", \"プリン\")\n",
    "count = \"\"\n",
    "for i in p_tuple:\n",
    "    if len(count) < len(i):\n",
    "        count = i\n",
    "\n",
    "print(count)\n"
   ]
  },
  {
   "cell_type": "code",
   "execution_count": null,
   "metadata": {},
   "outputs": [],
   "source": []
  },
  {
   "cell_type": "code",
   "execution_count": 23,
   "metadata": {},
   "outputs": [
    {
     "name": "stdout",
     "output_type": "stream",
     "text": [
      "ピカチュウ\n"
     ]
    }
   ],
   "source": [
    "p_tuple = (\"ピカチュウ\", \"ピッピ\", \"プリン\")\n",
    "\n",
    "print(max(p_tuple, key=len))\n"
   ]
  },
  {
   "cell_type": "markdown",
   "metadata": {},
   "source": [
    "## zip 関数と型変換関数\n"
   ]
  },
  {
   "cell_type": "markdown",
   "metadata": {},
   "source": [
    "### zip 関数\n",
    "\n",
    "2 つの関数を一つの要素にまとめる\n"
   ]
  },
  {
   "cell_type": "code",
   "execution_count": 24,
   "metadata": {},
   "outputs": [
    {
     "name": "stdout",
     "output_type": "stream",
     "text": [
      "ピカチュウ:でんき\n",
      "ピッピ:フェアリー\n",
      "ゼニガメ:みず\n",
      "ヒトカゲ:ほのお\n"
     ]
    }
   ],
   "source": [
    "# 　zipを使わずに2つのリストを連結\n",
    "\n",
    "p_list = [\"ピカチュウ\", \"ピッピ\", \"ゼニガメ\", \"ヒトカゲ\"]\n",
    "type_list = [\"でんき\", \"フェアリー\", \"みず\", \"ほのお\"]\n",
    "p_type_list = []\n",
    "for i in range(len(p_list)):\n",
    "    p_type_list.append(p_list[i] + \":\" + type_list[i])\n",
    "\n",
    "for i in p_type_list:\n",
    "    print(i)\n"
   ]
  },
  {
   "cell_type": "code",
   "execution_count": 25,
   "metadata": {},
   "outputs": [
    {
     "name": "stdout",
     "output_type": "stream",
     "text": [
      "ピカチュウ:でんき\n",
      "ピッピ:フェアリー\n",
      "ゼニガメ:みず\n",
      "ヒトカゲ:ほのお\n"
     ]
    }
   ],
   "source": [
    "p_list = [\"ピカチュウ\", \"ピッピ\", \"ゼニガメ\", \"ヒトカゲ\"]\n",
    "type_list = [\"でんき\", \"フェアリー\", \"みず\", \"ほのお\"]\n",
    "p_type_list = list(zip(p_list, type_list))\n",
    "p_type_list2 = zip(p_list, type_list)\n",
    "\n",
    "for i in p_type_list:\n",
    "    print(i[0] + \":\" + i[1])\n"
   ]
  },
  {
   "cell_type": "code",
   "execution_count": 26,
   "metadata": {},
   "outputs": [
    {
     "name": "stdout",
     "output_type": "stream",
     "text": [
      "('ピカチュウ', 'でんき')\n",
      "('ピッピ', 'フェアリー')\n",
      "('ゼニガメ', 'みず')\n",
      "('ヒトカゲ', 'ほのお')\n"
     ]
    }
   ],
   "source": [
    "# zipの戻り値の型を確認\n",
    "for i in p_type_list:\n",
    "    print(i)\n"
   ]
  },
  {
   "cell_type": "markdown",
   "metadata": {},
   "source": [
    "- zip は遅延評価\n",
    "  - for ループに渡されたり list にラップされるなどの反復処理が実行されるまで受け取った要素を処理しない。\n"
   ]
  },
  {
   "cell_type": "code",
   "execution_count": 27,
   "metadata": {},
   "outputs": [
    {
     "name": "stdout",
     "output_type": "stream",
     "text": [
      "('ピカチュウ', 'でんき')\n",
      "('ピッピ', 'フェアリー')\n",
      "('ゼニガメ', 'みず')\n",
      "('ヒトカゲ', 'ほのお')\n"
     ]
    }
   ],
   "source": [
    "for i in p_type_list2:\n",
    "    print(i)\n"
   ]
  },
  {
   "cell_type": "code",
   "execution_count": 28,
   "metadata": {},
   "outputs": [
    {
     "name": "stdout",
     "output_type": "stream",
     "text": [
      "[('ピカチュウ', 'でんき'), ('ピッピ', 'フェアリー'), ('ゼニガメ', 'みず'), ('ヒトカゲ', 'ほのお')]\n",
      "<zip object at 0x1036a9780>\n"
     ]
    }
   ],
   "source": [
    "print(p_type_list)\n",
    "print(p_type_list2)\n"
   ]
  },
  {
   "cell_type": "markdown",
   "metadata": {},
   "source": [
    "### list 関数\n"
   ]
  },
  {
   "cell_type": "code",
   "execution_count": 29,
   "metadata": {},
   "outputs": [
    {
     "name": "stdout",
     "output_type": "stream",
     "text": [
      "('ピカチュウ', 'ピッピ', 'プリン')\n",
      "['ピカチュウ', 'ピッピ', 'プリン']\n"
     ]
    }
   ],
   "source": [
    "p_t = (\"ピカチュウ\", \"ピッピ\", \"プリン\")\n",
    "p_l = list(p_t)\n",
    "\n",
    "print(p_t)\n",
    "\n",
    "print(p_l)\n"
   ]
  },
  {
   "cell_type": "code",
   "execution_count": 30,
   "metadata": {},
   "outputs": [
    {
     "name": "stdout",
     "output_type": "stream",
     "text": [
      "['ピカチュウ', 'ピッピ', 'ゼニガメ']\n",
      "['でんき', 'フェアリー', 'みず']\n",
      "['ピカチュウ', 'ピッピ', 'ゼニガメ']\n"
     ]
    }
   ],
   "source": [
    "p_d = {\"ピカチュウ\": \"でんき\", \"ピッピ\": \"フェアリー\", \"ゼニガメ\": \"みず\"}\n",
    "\n",
    "p_l = list(p_d)\n",
    "print(p_l)\n",
    "p_l2 = list(p_d.values())\n",
    "print(p_l2)\n",
    "p_l3 = list(p_d.keys())\n",
    "print(p_l3)\n"
   ]
  },
  {
   "cell_type": "markdown",
   "metadata": {},
   "source": [
    "デフォルトでキーを抽出してリスト化する。  \n",
    "略さずに宣言したほうがよさげ？\n"
   ]
  },
  {
   "cell_type": "markdown",
   "metadata": {},
   "source": [
    "### tuple 関数\n"
   ]
  },
  {
   "cell_type": "code",
   "execution_count": 31,
   "metadata": {},
   "outputs": [
    {
     "name": "stdout",
     "output_type": "stream",
     "text": [
      "('ピカチュウ', 'ピッピ', 'プリン')\n"
     ]
    }
   ],
   "source": [
    "p_l = [\"ピカチュウ\", \"ピッピ\", \"プリン\"]\n",
    "\n",
    "p_t = tuple(p_l)\n",
    "print(p_t)\n"
   ]
  },
  {
   "cell_type": "code",
   "execution_count": 32,
   "metadata": {},
   "outputs": [
    {
     "name": "stdout",
     "output_type": "stream",
     "text": [
      "('ピカチュウ', 'ピッピ', 'ゼニガメ')\n",
      "('ピカチュウ', 'ピッピ', 'ゼニガメ')\n",
      "('でんき', 'フェアリー', 'みず')\n"
     ]
    }
   ],
   "source": [
    "p_d = {\"ピカチュウ\": \"でんき\", \"ピッピ\": \"フェアリー\", \"ゼニガメ\": \"みず\"}\n",
    "\n",
    "p_t = tuple(p_d)\n",
    "print(p_t)\n",
    "p_t2 = tuple(p_d.keys())\n",
    "print(p_t2)\n",
    "p_t3 = tuple(p_d.values())\n",
    "print(p_t3)\n"
   ]
  },
  {
   "cell_type": "markdown",
   "metadata": {},
   "source": [
    "### dict 関数\n"
   ]
  },
  {
   "cell_type": "code",
   "execution_count": 33,
   "metadata": {},
   "outputs": [
    {
     "name": "stdout",
     "output_type": "stream",
     "text": [
      "{'ピカチュウ': 'でんき', 'ピッピ': 'フェアリー', 'ゼニガメ': 'みず'}\n"
     ]
    }
   ],
   "source": [
    "p_l = [[\"ピカチュウ\", \"でんき\"], [\"ピッピ\", \"フェアリー\"], [\"ゼニガメ\", \"みず\"]]\n",
    "p_d = dict(p_l)\n",
    "print(p_d)\n"
   ]
  },
  {
   "cell_type": "code",
   "execution_count": 34,
   "metadata": {},
   "outputs": [
    {
     "name": "stdout",
     "output_type": "stream",
     "text": [
      "(('ピカチュウ', 'でんき'), ('ピッピ', 'フェアリー'), ('ゼニガメ', 'みず'))\n"
     ]
    }
   ],
   "source": [
    "p_t = ((\"ピカチュウ\", \"でんき\"), (\"ピッピ\", \"フェアリー\"), (\"ゼニガメ\", \"みず\"))\n",
    "p_d = dict(p_t)\n",
    "print(p_t)\n"
   ]
  },
  {
   "cell_type": "code",
   "execution_count": 35,
   "metadata": {},
   "outputs": [
    {
     "name": "stdout",
     "output_type": "stream",
     "text": [
      "{'ピカチュウ': 'でんき', 'ピッピ': 'フェアリー', 'ゼニガメ': 'みず', 'ヒトカゲ': 'ほのお'}\n"
     ]
    }
   ],
   "source": [
    "p_list = [\"ピカチュウ\", \"ピッピ\", \"ゼニガメ\", \"ヒトカゲ\"]\n",
    "type_list = [\"でんき\", \"フェアリー\", \"みず\", \"ほのお\"]\n",
    "\n",
    "p_d = dict(zip(p_list, type_list))\n",
    "\n",
    "print(p_d)\n"
   ]
  },
  {
   "cell_type": "markdown",
   "metadata": {},
   "source": [
    "上記リストの組み合わせ以外にタプル同士、タプルとリストの組み合わせも処理できる。\n"
   ]
  },
  {
   "cell_type": "markdown",
   "metadata": {},
   "source": [
    "### 練習\n"
   ]
  },
  {
   "cell_type": "code",
   "execution_count": 36,
   "metadata": {},
   "outputs": [
    {
     "name": "stdout",
     "output_type": "stream",
     "text": [
      "6\n",
      "8\n",
      "10\n",
      "12\n",
      "14\n"
     ]
    }
   ],
   "source": [
    "n1 = [1, 2, 3, 4, 5]\n",
    "n2 = [5, 6, 7, 8, 9]\n",
    "\n",
    "for i in zip(n1, n2):\n",
    "    print(i[0] + i[1])\n"
   ]
  },
  {
   "cell_type": "code",
   "execution_count": 37,
   "metadata": {},
   "outputs": [
    {
     "name": "stdout",
     "output_type": "stream",
     "text": [
      "ピチュー\n",
      "ピカチュウ\n",
      "ライチュウ\n"
     ]
    }
   ],
   "source": [
    "no_list = [1, 2, 3]\n",
    "p_list = [\"ピチュー\", \"ピカチュウ\", \"ライチュウ\"]\n",
    "\n",
    "n_d = dict(zip(no_list, p_list))\n",
    "\n",
    "for i in n_d.values():\n",
    "    print(i)\n"
   ]
  },
  {
   "cell_type": "markdown",
   "metadata": {},
   "source": [
    "## クラスを用いた関数の使用\n"
   ]
  },
  {
   "cell_type": "code",
   "execution_count": 38,
   "metadata": {},
   "outputs": [],
   "source": [
    "class Pokemon:\n",
    "    def __init__(self, name, type1, type2):\n",
    "        self.name = name\n",
    "        self.type1 = type1\n",
    "        self.type2 = type2\n",
    "\n",
    "    def print_info(self):\n",
    "        print(\n",
    "            \"名前: \"\n",
    "            + self.name\n",
    "            + \" タイプ1: \"\n",
    "            + self.type1\n",
    "            + \" タイプ2: \"\n",
    "            + self.type2\n",
    "        )\n"
   ]
  },
  {
   "cell_type": "code",
   "execution_count": 39,
   "metadata": {},
   "outputs": [
    {
     "name": "stdout",
     "output_type": "stream",
     "text": [
      "名前: ピカチュウ タイプ1: でんき タイプ2: \n",
      "名前: ピッピ タイプ1: フェアリー タイプ2: \n",
      "名前: プリン タイプ1: フェアリー タイプ2: ノーマル\n",
      "名前: ゼニガメ タイプ1: みず タイプ2: \n",
      "名前: ヒトカゲ タイプ1: ほのお タイプ2: \n"
     ]
    }
   ],
   "source": [
    "p_list = [\n",
    "    Pokemon(name=\"ピカチュウ\", type1=\"でんき\", type2=\"\"),\n",
    "    Pokemon(name=\"ピッピ\", type1=\"フェアリー\", type2=\"\"),\n",
    "    Pokemon(name=\"プリン\", type1=\"フェアリー\", type2=\"ノーマル\"),\n",
    "    Pokemon(name=\"ゼニガメ\", type1=\"みず\", type2=\"\"),\n",
    "    Pokemon(name=\"ヒトカゲ\", type1=\"ほのお\", type2=\"\"),\n",
    "]\n",
    "\n",
    "for i in p_list:\n",
    "    i.print_info()\n"
   ]
  },
  {
   "cell_type": "code",
   "execution_count": 40,
   "metadata": {},
   "outputs": [
    {
     "name": "stdout",
     "output_type": "stream",
     "text": [
      "名前: ピカチュウ タイプ1: でんき タイプ2: \n",
      "名前: ピッピ タイプ1: フェアリー タイプ2: \n",
      "名前: プリン タイプ1: フェアリー タイプ2: ノーマル\n",
      "名前: ゼニガメ タイプ1: みず タイプ2: \n",
      "名前: ヒトカゲ タイプ1: ほのお タイプ2: \n"
     ]
    }
   ],
   "source": [
    "p_list = [\n",
    "    Pokemon(name=\"ピカチュウ\", type1=\"でんき\", type2=\"\"),\n",
    "    Pokemon(name=\"ピッピ\", type1=\"フェアリー\", type2=\"\"),\n",
    "    Pokemon(name=\"プリン\", type1=\"フェアリー\", type2=\"ノーマル\"),\n",
    "    Pokemon(name=\"ゼニガメ\", type1=\"みず\", type2=\"\"),\n",
    "    Pokemon(name=\"ヒトカゲ\", type1=\"ほのお\", type2=\"\"),\n",
    "]\n",
    "\n",
    "info_list = list(map(lambda x: x.print_info(), p_list))\n",
    "\n",
    "for i in info_list:\n",
    "    i\n"
   ]
  },
  {
   "cell_type": "code",
   "execution_count": 41,
   "metadata": {},
   "outputs": [
    {
     "name": "stdout",
     "output_type": "stream",
     "text": [
      "名前: ピカチュウ タイプ1: でんき タイプ2: \n",
      "名前: ピッピ タイプ1: フェアリー タイプ2: \n",
      "名前: プリン タイプ1: フェアリー タイプ2: ノーマル\n",
      "名前: ゼニガメ タイプ1: みず タイプ2: \n",
      "名前: ヒトカゲ タイプ1: ほのお タイプ2: \n"
     ]
    }
   ],
   "source": [
    "p_list = [\n",
    "    Pokemon(name=\"ピカチュウ\", type1=\"でんき\", type2=\"\"),\n",
    "    Pokemon(name=\"ピッピ\", type1=\"フェアリー\", type2=\"\"),\n",
    "    Pokemon(name=\"プリン\", type1=\"フェアリー\", type2=\"ノーマル\"),\n",
    "    Pokemon(name=\"ゼニガメ\", type1=\"みず\", type2=\"\"),\n",
    "    Pokemon(name=\"ヒトカゲ\", type1=\"ほのお\", type2=\"\"),\n",
    "]\n",
    "\n",
    "info_list = list(\n",
    "    map(\n",
    "        lambda x: \"名前: \" + x.name + \" タイプ1: \" + x.type1 + \" タイプ2: \" + x.type2,\n",
    "        p_list,\n",
    "    )\n",
    ")\n",
    "\n",
    "for i in info_list:\n",
    "    print(i)\n"
   ]
  },
  {
   "cell_type": "code",
   "execution_count": 42,
   "metadata": {},
   "outputs": [
    {
     "name": "stdout",
     "output_type": "stream",
     "text": [
      "名前: プリン タイプ1: フェアリー タイプ2: ノーマル\n"
     ]
    }
   ],
   "source": [
    "p_list = [\n",
    "    Pokemon(name=\"ピカチュウ\", type1=\"でんき\", type2=\"\"),\n",
    "    Pokemon(name=\"ピッピ\", type1=\"フェアリー\", type2=\"\"),\n",
    "    Pokemon(name=\"プリン\", type1=\"フェアリー\", type2=\"ノーマル\"),\n",
    "    Pokemon(name=\"ゼニガメ\", type1=\"みず\", type2=\"\"),\n",
    "    Pokemon(name=\"ヒトカゲ\", type1=\"ほのお\", type2=\"\"),\n",
    "]\n",
    "\n",
    "info_list = list(filter(lambda x: x.type2 != \"\", p_list))\n",
    "\n",
    "for i in info_list:\n",
    "    i.print_info()\n"
   ]
  },
  {
   "cell_type": "code",
   "execution_count": 43,
   "metadata": {},
   "outputs": [
    {
     "name": "stdout",
     "output_type": "stream",
     "text": [
      "ゼニガメ\n",
      "ヒトカゲ\n",
      "ピカチュウ\n",
      "ピッピ\n",
      "プリン\n"
     ]
    }
   ],
   "source": [
    "p_list = [\n",
    "    Pokemon(name=\"ピカチュウ\", type1=\"でんき\", type2=\"\"),\n",
    "    Pokemon(name=\"ピッピ\", type1=\"フェアリー\", type2=\"\"),\n",
    "    Pokemon(name=\"プリン\", type1=\"フェアリー\", type2=\"ノーマル\"),\n",
    "    Pokemon(name=\"ゼニガメ\", type1=\"みず\", type2=\"\"),\n",
    "    Pokemon(name=\"ヒトカゲ\", type1=\"ほのお\", type2=\"\"),\n",
    "]\n",
    "\n",
    "\n",
    "info_list = sorted(p_list, key=lambda x: x.name)\n",
    "\n",
    "for i in info_list:\n",
    "    print(i.name)\n"
   ]
  },
  {
   "cell_type": "code",
   "execution_count": 44,
   "metadata": {},
   "outputs": [
    {
     "name": "stdout",
     "output_type": "stream",
     "text": [
      "ピッピ\n",
      "プリン\n",
      "ゼニガメ\n",
      "ヒトカゲ\n",
      "ピカチュウ\n"
     ]
    }
   ],
   "source": [
    "p_list = [\n",
    "    Pokemon(name=\"ピカチュウ\", type1=\"でんき\", type2=\"\"),\n",
    "    Pokemon(name=\"ピッピ\", type1=\"フェアリー\", type2=\"\"),\n",
    "    Pokemon(name=\"プリン\", type1=\"フェアリー\", type2=\"ノーマル\"),\n",
    "    Pokemon(name=\"ゼニガメ\", type1=\"みず\", type2=\"\"),\n",
    "    Pokemon(name=\"ヒトカゲ\", type1=\"ほのお\", type2=\"\"),\n",
    "]\n",
    "\n",
    "\n",
    "info_list = sorted(p_list, key=lambda x: len(x.name))\n",
    "\n",
    "for i in info_list:\n",
    "    print(i.name)\n"
   ]
  },
  {
   "cell_type": "markdown",
   "metadata": {},
   "source": [
    "### 練習\n"
   ]
  },
  {
   "cell_type": "code",
   "execution_count": 45,
   "metadata": {},
   "outputs": [
    {
     "name": "stdout",
     "output_type": "stream",
     "text": [
      "名前: ピカチュウ タイプ1: でんき タイプ2: \n",
      "名前: ピッピ タイプ1: フェアリー タイプ2: \n"
     ]
    }
   ],
   "source": [
    "p_list = [\n",
    "    Pokemon(name=\"ピカチュウ\", type1=\"でんき\", type2=\"\"),\n",
    "    Pokemon(name=\"ピッピ\", type1=\"フェアリー\", type2=\"\"),\n",
    "    Pokemon(name=\"プリン\", type1=\"フェアリー\", type2=\"ノーマル\"),\n",
    "    Pokemon(name=\"ゼニガメ\", type1=\"みず\", type2=\"\"),\n",
    "    Pokemon(name=\"ヒトカゲ\", type1=\"ほのお\", type2=\"\"),\n",
    "]\n",
    "\n",
    "\n",
    "info_list = list(filter(lambda x: \"ピ\" in x.name, p_list))\n",
    "\n",
    "for i in info_list:\n",
    "    i.print_info()\n"
   ]
  },
  {
   "cell_type": "code",
   "execution_count": 46,
   "metadata": {},
   "outputs": [
    {
     "name": "stdout",
     "output_type": "stream",
     "text": [
      "ピッピさん\n",
      "プリンさん\n",
      "ゼニガメさん\n",
      "ヒトカゲさん\n",
      "ピカチュウさん\n"
     ]
    }
   ],
   "source": [
    "p_list = [\n",
    "    Pokemon(name=\"ピカチュウ\", type1=\"でんき\", type2=\"\"),\n",
    "    Pokemon(name=\"ピッピ\", type1=\"フェアリー\", type2=\"\"),\n",
    "    Pokemon(name=\"プリン\", type1=\"フェアリー\", type2=\"ノーマル\"),\n",
    "    Pokemon(name=\"ゼニガメ\", type1=\"みず\", type2=\"\"),\n",
    "    Pokemon(name=\"ヒトカゲ\", type1=\"ほのお\", type2=\"\"),\n",
    "]\n",
    "\n",
    "\n",
    "info_list = list(sorted(map(lambda x: x.name + \"さん\", p_list), key=len))\n",
    "\n",
    "for i in info_list:\n",
    "    print(i)\n"
   ]
  },
  {
   "cell_type": "markdown",
   "metadata": {},
   "source": [
    "## pandas の DataFrame の使い方\n",
    "\n",
    "- 1 次元データ\n",
    "  - Series\n",
    "- 2 次元データ\n",
    "  - DataFrame\n"
   ]
  },
  {
   "cell_type": "code",
   "execution_count": 47,
   "metadata": {},
   "outputs": [
    {
     "name": "stdout",
     "output_type": "stream",
     "text": [
      "       0\n",
      "0  ピカチュウ\n",
      "1    ピッピ\n",
      "2    プリン\n"
     ]
    }
   ],
   "source": [
    "import pandas as pd\n",
    "\n",
    "p_name_list = [\"ピカチュウ\", \"ピッピ\", \"プリン\"]\n",
    "df = pd.DataFrame(data=p_name_list)\n",
    "print(df)\n"
   ]
  },
  {
   "cell_type": "code",
   "execution_count": 48,
   "metadata": {},
   "outputs": [
    {
     "name": "stdout",
     "output_type": "stream",
     "text": [
      "    ポケモン名\n",
      "25  ピカチュウ\n",
      "35    ピッピ\n",
      "39    プリン\n"
     ]
    }
   ],
   "source": [
    "p_name_list = [\"ピカチュウ\", \"ピッピ\", \"プリン\"]\n",
    "col = [\"ポケモン名\"]\n",
    "no_list = [\"25\", \"35\", \"39\"]\n",
    "df = pd.DataFrame(data=p_name_list, index=no_list, columns=col)\n",
    "print(df)\n"
   ]
  },
  {
   "cell_type": "code",
   "execution_count": 49,
   "metadata": {},
   "outputs": [
    {
     "name": "stdout",
     "output_type": "stream",
     "text": [
      "     ポケモン名   タイプ1   タイプ2\n",
      "25   ピカチュウ    ピッピ    プリン\n",
      "35     でんき  フェアリー  フェアリー\n",
      "39                  ノーマル\n"
     ]
    }
   ],
   "source": [
    "p_name_list = [\n",
    "    [\" ピカチュウ\", \"ピッピ\", \"プリン\"],\n",
    "    [\"でんき\", \"フェアリー\", \"フェアリー\"],\n",
    "    [\"\", \"\", \"ノーマル\"],\n",
    "]\n",
    "col = [\"ポケモン名\", \"タイプ1\", \"タイプ2\"]\n",
    "no_list = [\"25\", \"35\", \"39\"]\n",
    "df = pd.DataFrame(data=p_name_list, index=no_list, columns=col)\n",
    "print(df)\n"
   ]
  },
  {
   "cell_type": "markdown",
   "metadata": {},
   "source": [
    "### 辞書型から DataFrame に変換する\n"
   ]
  },
  {
   "cell_type": "markdown",
   "metadata": {},
   "source": [
    "キーを列名にする。DataFrame コンストラクタを使用\n"
   ]
  },
  {
   "cell_type": "code",
   "execution_count": 50,
   "metadata": {},
   "outputs": [
    {
     "name": "stdout",
     "output_type": "stream",
     "text": [
      "   ポケモン名   タイプ1  タイプ2\n",
      "0  ピカチュウ    でんき      \n",
      "1    ピッピ  フェアリー      \n",
      "2    プリン  フェアリー  ノーマル\n"
     ]
    }
   ],
   "source": [
    "import pandas as pd\n",
    "\n",
    "p_dict = {\n",
    "    \"ポケモン名\": [\"ピカチュウ\", \"ピッピ\", \"プリン\"],\n",
    "    \"タイプ1\": [\"でんき\", \"フェアリー\", \"フェアリー\"],\n",
    "    \"タイプ2\": [\"\", \"\", \"ノーマル\"],\n",
    "}\n",
    "\n",
    "\n",
    "df = pd.DataFrame(p_dict)\n",
    "print(df)\n"
   ]
  },
  {
   "cell_type": "code",
   "execution_count": 51,
   "metadata": {},
   "outputs": [
    {
     "name": "stdout",
     "output_type": "stream",
     "text": [
      "   ポケモン名   タイプ1  タイプ2\n",
      "0  ピカチュウ    でんき      \n",
      "1    ピッピ  フェアリー      \n",
      "2    プリン  フェアリー  ノーマル\n"
     ]
    }
   ],
   "source": [
    "import pandas as pd\n",
    "\n",
    "p_dict = {\n",
    "    \"ポケモン名\": [\"ピカチュウ\", \"ピッピ\", \"プリン\"],\n",
    "    \"タイプ1\": [\"でんき\", \"フェアリー\", \"フェアリー\"],\n",
    "    \"タイプ2\": [\"\", \"\", \"ノーマル\"],\n",
    "}\n",
    "\n",
    "\n",
    "df = pd.DataFrame(p_dict)\n",
    "print(df)\n"
   ]
  },
  {
   "cell_type": "code",
   "execution_count": 52,
   "metadata": {},
   "outputs": [
    {
     "name": "stdout",
     "output_type": "stream",
     "text": [
      "    ポケモン名   タイプ1  タイプ2\n",
      "25  ピカチュウ    でんき      \n",
      "35    ピッピ  フェアリー      \n",
      "38    プリン  フェアリー  ノーマル\n"
     ]
    }
   ],
   "source": [
    "import pandas as pd\n",
    "\n",
    "p_dict = {\n",
    "    \"ポケモン名\": [\"ピカチュウ\", \"ピッピ\", \"プリン\"],\n",
    "    \"タイプ1\": [\"でんき\", \"フェアリー\", \"フェアリー\"],\n",
    "    \"タイプ2\": [\"\", \"\", \"ノーマル\"],\n",
    "}\n",
    "\n",
    "\n",
    "df = pd.DataFrame(p_dict, index=[25, 35, 38])\n",
    "print(df)\n"
   ]
  },
  {
   "cell_type": "markdown",
   "metadata": {},
   "source": [
    "キーを行名にする\n"
   ]
  },
  {
   "cell_type": "code",
   "execution_count": 53,
   "metadata": {},
   "outputs": [
    {
     "name": "stdout",
     "output_type": "stream",
     "text": [
      "                     0           1           2\n",
      "ポケモン名  ピカチュウ      ピッピ      プリン\n",
      "タイプ1         でんき  フェアリー  フェアリー\n",
      "タイプ2                               ノーマル\n"
     ]
    }
   ],
   "source": [
    "import pandas as pd\n",
    "\n",
    "pd.set_option(\"display.unicode.east_asian_width\", True)\n",
    "\n",
    "p_dict = {\n",
    "    \"ポケモン名\": [\"ピカチュウ\", \"ピッピ\", \"プリン\"],\n",
    "    \"タイプ1\": [\"でんき\", \"フェアリー\", \"フェアリー\"],\n",
    "    \"タイプ2\": [\"\", \"\", \"ノーマル\"],\n",
    "}\n",
    "\n",
    "\n",
    "df = pd.DataFrame.from_dict(p_dict, orient=\"index\")\n",
    "print(df)\n"
   ]
  },
  {
   "cell_type": "markdown",
   "metadata": {},
   "source": [
    "### DataFrame から辞書型に変換する\n"
   ]
  },
  {
   "cell_type": "code",
   "execution_count": 54,
   "metadata": {},
   "outputs": [
    {
     "name": "stdout",
     "output_type": "stream",
     "text": [
      "   ポケモン名     タイプ1   タイプ2\n",
      "0  ピカチュウ      でんき          \n",
      "1      ピッピ  フェアリー          \n",
      "2      プリン  フェアリー  ノーマル\n",
      "{'ポケモン名': {0: 'ピカチュウ', 1: 'ピッピ', 2: 'プリン'}, 'タイプ1': {0: 'でんき', 1: 'フェアリー', 2: 'フェアリー'}, 'タイプ2': {0: '', 1: '', 2: 'ノーマル'}}\n"
     ]
    }
   ],
   "source": [
    "import pandas as pd\n",
    "\n",
    "p_dict = {\n",
    "    \"ポケモン名\": [\"ピカチュウ\", \"ピッピ\", \"プリン\"],\n",
    "    \"タイプ1\": [\"でんき\", \"フェアリー\", \"フェアリー\"],\n",
    "    \"タイプ2\": [\"\", \"\", \"ノーマル\"],\n",
    "}\n",
    "\n",
    "\n",
    "df = pd.DataFrame(p_dict)\n",
    "print(df)\n",
    "\n",
    "# 引数を指定しない場合は辞書の各要素が辞書型になる\n",
    "df_dict = df.to_dict()\n",
    "\n",
    "print(df_dict)\n"
   ]
  },
  {
   "cell_type": "code",
   "execution_count": 55,
   "metadata": {},
   "outputs": [
    {
     "name": "stdout",
     "output_type": "stream",
     "text": [
      "{'ポケモン名': ['ピカチュウ', 'ピッピ', 'プリン'], 'タイプ1': ['でんき', 'フェアリー', 'フェアリー'], 'タイプ2': ['', '', 'ノーマル']}\n"
     ]
    }
   ],
   "source": [
    "import pandas as pd\n",
    "\n",
    "p_dict = {\n",
    "    \"ポケモン名\": [\"ピカチュウ\", \"ピッピ\", \"プリン\"],\n",
    "    \"タイプ1\": [\"でんき\", \"フェアリー\", \"フェアリー\"],\n",
    "    \"タイプ2\": [\"\", \"\", \"ノーマル\"],\n",
    "}\n",
    "\n",
    "\n",
    "df = pd.DataFrame(p_dict)\n",
    "print(df.to_dict(orient=\"list\"))\n"
   ]
  },
  {
   "cell_type": "markdown",
   "metadata": {},
   "source": [
    "要素をリスト型にして変換することも可能だが、インデックスの値が自動的に削除されるコトに注意。\n"
   ]
  },
  {
   "cell_type": "markdown",
   "metadata": {},
   "source": [
    "### DataFrame の単独の値を取得\n"
   ]
  },
  {
   "cell_type": "code",
   "execution_count": 56,
   "metadata": {},
   "outputs": [
    {
     "name": "stdout",
     "output_type": "stream",
     "text": [
      "            No     タイプ1   タイプ2\n",
      "ピカチュウ  25      でんき          \n",
      "ピッピ      35  フェアリー          \n",
      "プリン      38  フェアリー  ノーマル\n",
      "フシギダネ   1        くさ      どく\n",
      "ヒトカゲ     4      ほのお          \n",
      "ゼニガメ     7        みず          \n"
     ]
    }
   ],
   "source": [
    "import pandas as pd\n",
    "\n",
    "pd.set_option(\"display.unicode.east_asian_width\", True)\n",
    "\n",
    "p_dict = {\n",
    "    \"No\": [\"25\", \"35\", \"38\", \"1\", \"4\", \"7\"],\n",
    "    \"タイプ1\": [\"でんき\", \"フェアリー\", \"フェアリー\", \"くさ\", \"ほのお\", \"みず\"],\n",
    "    \"タイプ2\": [\"\", \"\", \"ノーマル\", \"どく\", \"\", \"\"],\n",
    "}\n",
    "\n",
    "\n",
    "df = pd.DataFrame(p_dict, [\"ピカチュウ\", \"ピッピ\", \"プリン\", \"フシギダネ\", \"ヒトカゲ\", \"ゼニガメ\"])\n",
    "\n",
    "print(df)\n"
   ]
  },
  {
   "cell_type": "code",
   "execution_count": 57,
   "metadata": {},
   "outputs": [
    {
     "name": "stdout",
     "output_type": "stream",
     "text": [
      "でんき\n"
     ]
    }
   ],
   "source": [
    "print(df.at[\"ピカチュウ\", \"タイプ1\"])\n"
   ]
  },
  {
   "cell_type": "code",
   "execution_count": 58,
   "metadata": {},
   "outputs": [
    {
     "name": "stdout",
     "output_type": "stream",
     "text": [
      "でんき\n"
     ]
    }
   ],
   "source": [
    "print(df.iat[0, 1])\n"
   ]
  },
  {
   "cell_type": "markdown",
   "metadata": {},
   "source": [
    "### DataFrame の値を範囲で取得\n"
   ]
  },
  {
   "cell_type": "code",
   "execution_count": 59,
   "metadata": {},
   "outputs": [
    {
     "name": "stdout",
     "output_type": "stream",
     "text": [
      "No             25\n",
      "タイプ1    でんき\n",
      "タイプ2          \n",
      "Name: ピカチュウ, dtype: object\n"
     ]
    }
   ],
   "source": [
    "print(df.loc[\"ピカチュウ\", :])\n"
   ]
  },
  {
   "cell_type": "code",
   "execution_count": 60,
   "metadata": {},
   "outputs": [
    {
     "name": "stdout",
     "output_type": "stream",
     "text": [
      "            No     タイプ1   タイプ2\n",
      "ピカチュウ  25      でんき          \n",
      "ピッピ      35  フェアリー          \n",
      "プリン      38  フェアリー  ノーマル\n"
     ]
    }
   ],
   "source": [
    "print(df.loc[\"ピカチュウ\":\"プリン\", :])\n"
   ]
  },
  {
   "cell_type": "code",
   "execution_count": 61,
   "metadata": {},
   "outputs": [
    {
     "name": "stdout",
     "output_type": "stream",
     "text": [
      "            No     タイプ1   タイプ2\n",
      "ピカチュウ  25      でんき          \n",
      "プリン      38  フェアリー  ノーマル\n"
     ]
    }
   ],
   "source": [
    "print(df.loc[[\"ピカチュウ\", \"プリン\"], :])\n"
   ]
  },
  {
   "cell_type": "code",
   "execution_count": 62,
   "metadata": {},
   "outputs": [
    {
     "name": "stdout",
     "output_type": "stream",
     "text": [
      "            No     タイプ1\n",
      "ピカチュウ  25      でんき\n",
      "ピッピ      35  フェアリー\n",
      "プリン      38  フェアリー\n",
      "フシギダネ   1        くさ\n",
      "ヒトカゲ     4      ほのお\n",
      "ゼニガメ     7        みず\n"
     ]
    }
   ],
   "source": [
    "print(df.loc[:, :\"タイプ1\"])\n"
   ]
  },
  {
   "cell_type": "code",
   "execution_count": 63,
   "metadata": {},
   "outputs": [
    {
     "name": "stdout",
     "output_type": "stream",
     "text": [
      "               タイプ1   タイプ2\n",
      "ピカチュウ      でんき          \n",
      "ピッピ      フェアリー          \n",
      "プリン      フェアリー  ノーマル\n"
     ]
    }
   ],
   "source": [
    "print(df.iloc[0:3, 1:])\n"
   ]
  },
  {
   "cell_type": "markdown",
   "metadata": {},
   "source": [
    "### head メソッドと tail メソッド\n"
   ]
  },
  {
   "cell_type": "code",
   "execution_count": 64,
   "metadata": {},
   "outputs": [
    {
     "name": "stdout",
     "output_type": "stream",
     "text": [
      "            No     タイプ1   タイプ2\n",
      "ピカチュウ  25      でんき          \n",
      "ピッピ      35  フェアリー          \n",
      "プリン      38  フェアリー  ノーマル\n"
     ]
    }
   ],
   "source": [
    "print(df.head(3))\n"
   ]
  },
  {
   "cell_type": "code",
   "execution_count": 65,
   "metadata": {},
   "outputs": [
    {
     "name": "stdout",
     "output_type": "stream",
     "text": [
      "           No タイプ1 タイプ2\n",
      "フシギダネ  1    くさ    どく\n",
      "ヒトカゲ    4  ほのお        \n",
      "ゼニガメ    7    みず        \n"
     ]
    }
   ],
   "source": [
    "print(df.tail(3))\n"
   ]
  },
  {
   "cell_type": "markdown",
   "metadata": {},
   "source": [
    "### 条件を指定しデータを取得する\n"
   ]
  },
  {
   "cell_type": "code",
   "execution_count": 66,
   "metadata": {},
   "outputs": [
    {
     "name": "stdout",
     "output_type": "stream",
     "text": [
      "        No     タイプ1   タイプ2\n",
      "ピッピ  35  フェアリー          \n",
      "プリン  38  フェアリー  ノーマル\n"
     ]
    }
   ],
   "source": [
    "import pandas as pd\n",
    "\n",
    "pd.set_option(\"display.unicode.east_asian_width\", True)\n",
    "\n",
    "p_dict = {\n",
    "    \"No\": [25, 35, 38, 1, 4, 7],\n",
    "    \"タイプ1\": [\"でんき\", \"フェアリー\", \"フェアリー\", \"くさ\", \"ほのお\", \"みず\"],\n",
    "    \"タイプ2\": [\"\", \"\", \"ノーマル\", \"どく\", \"\", \"\"],\n",
    "}\n",
    "\n",
    "\n",
    "df = pd.DataFrame(p_dict, [\"ピカチュウ\", \"ピッピ\", \"プリン\", \"フシギダネ\", \"ヒトカゲ\", \"ゼニガメ\"])\n",
    "\n",
    "print(df.query('タイプ1 == \"フェアリー\"'))\n"
   ]
  },
  {
   "cell_type": "code",
   "execution_count": 67,
   "metadata": {},
   "outputs": [
    {
     "name": "stdout",
     "output_type": "stream",
     "text": [
      "          No     タイプ1   タイプ2\n",
      "ピッピ    35  フェアリー          \n",
      "プリン    38  フェアリー  ノーマル\n",
      "ゼニガメ   7        みず          \n"
     ]
    }
   ],
   "source": [
    "print(df.query('タイプ1 == [\"フェアリー\", \"みず\"]'))\n"
   ]
  },
  {
   "cell_type": "code",
   "execution_count": 68,
   "metadata": {},
   "outputs": [
    {
     "name": "stdout",
     "output_type": "stream",
     "text": [
      "            No     タイプ1   タイプ2\n",
      "ピカチュウ  25      でんき          \n",
      "ピッピ      35  フェアリー          \n",
      "プリン      38  フェアリー  ノーマル\n"
     ]
    }
   ],
   "source": [
    "print(df.query(\"No > 8\"))\n"
   ]
  },
  {
   "cell_type": "markdown",
   "metadata": {},
   "source": [
    "### ラベル名の取得と抽出方法\n"
   ]
  },
  {
   "cell_type": "code",
   "execution_count": 69,
   "metadata": {},
   "outputs": [
    {
     "name": "stdout",
     "output_type": "stream",
     "text": [
      "ピカチュウ\n",
      "ピッピ\n",
      "プリン\n",
      "フシギダネ\n",
      "ヒトカゲ\n",
      "ゼニガメ\n"
     ]
    }
   ],
   "source": [
    "import pandas as pd\n",
    "\n",
    "pd.set_option(\"display.unicode.east_asian_width\", True)\n",
    "\n",
    "p_dict = {\n",
    "    \"No\": [\"25\", \"35\", \"38\", \"1\", \"4\", \"7\"],\n",
    "    \"タイプ1\": [\"でんき\", \"フェアリー\", \"フェアリー\", \"くさ\", \"ほのお\", \"みず\"],\n",
    "    \"タイプ2\": [\"\", \"\", \"ノーマル\", \"どく\", \"\", \"\"],\n",
    "}\n",
    "\n",
    "\n",
    "df = pd.DataFrame(p_dict, [\"ピカチュウ\", \"ピッピ\", \"プリン\", \"フシギダネ\", \"ヒトカゲ\", \"ゼニガメ\"])\n",
    "\n",
    "for i in df.index:\n",
    "    print(i)\n"
   ]
  },
  {
   "cell_type": "code",
   "execution_count": 70,
   "metadata": {},
   "outputs": [
    {
     "name": "stdout",
     "output_type": "stream",
     "text": [
      "No\n",
      "タイプ1\n",
      "タイプ2\n"
     ]
    }
   ],
   "source": [
    "for i in df.columns:\n",
    "    print(i)\n"
   ]
  },
  {
   "cell_type": "code",
   "execution_count": 71,
   "metadata": {},
   "outputs": [
    {
     "name": "stdout",
     "output_type": "stream",
     "text": [
      "        No     タイプ1   タイプ2\n",
      "プリン  38  フェアリー  ノーマル\n"
     ]
    }
   ],
   "source": [
    "import pandas as pd\n",
    "\n",
    "pd.set_option(\"display.unicode.east_asian_width\", True)\n",
    "\n",
    "p_dict = {\n",
    "    \"No\": [\"25\", \"35\", \"38\", \"1\", \"4\", \"7\"],\n",
    "    \"タイプ1\": [\"でんき\", \"フェアリー\", \"フェアリー\", \"くさ\", \"ほのお\", \"みず\"],\n",
    "    \"タイプ2\": [\"\", \"\", \"ノーマル\", \"どく\", \"\", \"\"],\n",
    "}\n",
    "\n",
    "\n",
    "df = pd.DataFrame(p_dict, [\"ピカチュウ\", \"ピッピ\", \"プリン\", \"フシギダネ\", \"ヒトカゲ\", \"ゼニガメ\"])\n",
    "\n",
    "\n",
    "df_like = df.filter(like=\"プ\", axis=0)\n",
    "print(df_like)\n"
   ]
  },
  {
   "cell_type": "code",
   "execution_count": 72,
   "metadata": {},
   "outputs": [
    {
     "name": "stdout",
     "output_type": "stream",
     "text": [
      "               タイプ1   タイプ2\n",
      "ピカチュウ      でんき          \n",
      "ピッピ      フェアリー          \n",
      "プリン      フェアリー  ノーマル\n",
      "フシギダネ        くさ      どく\n",
      "ヒトカゲ        ほのお          \n",
      "ゼニガメ          みず          \n"
     ]
    }
   ],
   "source": [
    "df_like = df.filter(like=\"プ\", axis=1)\n",
    "print(df_like)\n"
   ]
  },
  {
   "cell_type": "markdown",
   "metadata": {},
   "source": [
    "### 練習\n"
   ]
  },
  {
   "cell_type": "code",
   "execution_count": 73,
   "metadata": {},
   "outputs": [
    {
     "name": "stdout",
     "output_type": "stream",
     "text": [
      "            No     タイプ1 タイプ2\n",
      "ピカチュウ  25      でんき        \n",
      "ピッピ      35  フェアリー        \n",
      "ヒトカゲ     4      ほのお        \n",
      "ゼニガメ     7        みず        \n"
     ]
    }
   ],
   "source": [
    "import pandas as pd\n",
    "\n",
    "pd.set_option(\"display.unicode.east_asian_width\", True)\n",
    "\n",
    "p_dict = {\n",
    "    \"No\": [\"25\", \"35\", \"38\", \"1\", \"4\", \"7\"],\n",
    "    \"タイプ1\": [\"でんき\", \"フェアリー\", \"フェアリー\", \"くさ\", \"ほのお\", \"みず\"],\n",
    "    \"タイプ2\": [\"\", \"\", \"ノーマル\", \"どく\", \"\", \"\"],\n",
    "}\n",
    "\n",
    "\n",
    "df = pd.DataFrame(p_dict, [\"ピカチュウ\", \"ピッピ\", \"プリン\", \"フシギダネ\", \"ヒトカゲ\", \"ゼニガメ\"])\n",
    "\n",
    "p_info = df.query('タイプ2 == \"\"')\n",
    "print(p_info)\n"
   ]
  },
  {
   "cell_type": "code",
   "execution_count": 74,
   "metadata": {},
   "outputs": [
    {
     "name": "stdout",
     "output_type": "stream",
     "text": [
      "           No タイプ1 タイプ2\n",
      "フシギダネ  1    くさ    どく\n",
      "ヒトカゲ    4  ほのお        \n",
      "ゼニガメ    7    みず        \n"
     ]
    }
   ],
   "source": [
    "import pandas as pd\n",
    "\n",
    "pd.set_option(\"display.unicode.east_asian_width\", True)\n",
    "\n",
    "p_dict = {\n",
    "    \"No\": [\"25\", \"35\", \"38\", \"1\", \"4\", \"7\"],\n",
    "    \"タイプ1\": [\"でんき\", \"フェアリー\", \"フェアリー\", \"くさ\", \"ほのお\", \"みず\"],\n",
    "    \"タイプ2\": [\"\", \"\", \"ノーマル\", \"どく\", \"\", \"\"],\n",
    "}\n",
    "\n",
    "\n",
    "df = pd.DataFrame(p_dict, [\"ピカチュウ\", \"ピッピ\", \"プリン\", \"フシギダネ\", \"ヒトカゲ\", \"ゼニガメ\"])\n",
    "\n",
    "print(df.tail(3))\n"
   ]
  },
  {
   "cell_type": "code",
   "execution_count": 75,
   "metadata": {},
   "outputs": [
    {
     "data": {
      "text/html": [
       "<div>\n",
       "<style scoped>\n",
       "    .dataframe tbody tr th:only-of-type {\n",
       "        vertical-align: middle;\n",
       "    }\n",
       "\n",
       "    .dataframe tbody tr th {\n",
       "        vertical-align: top;\n",
       "    }\n",
       "\n",
       "    .dataframe thead th {\n",
       "        text-align: right;\n",
       "    }\n",
       "</style>\n",
       "<table border=\"1\" class=\"dataframe\">\n",
       "  <thead>\n",
       "    <tr style=\"text-align: right;\">\n",
       "      <th></th>\n",
       "      <th>No</th>\n",
       "      <th>タイプ1</th>\n",
       "      <th>タイプ2</th>\n",
       "    </tr>\n",
       "  </thead>\n",
       "  <tbody>\n",
       "    <tr>\n",
       "      <th>フシギダネ</th>\n",
       "      <td>1</td>\n",
       "      <td>くさ</td>\n",
       "      <td>どく</td>\n",
       "    </tr>\n",
       "    <tr>\n",
       "      <th>ヒトカゲ</th>\n",
       "      <td>4</td>\n",
       "      <td>ほのお</td>\n",
       "      <td></td>\n",
       "    </tr>\n",
       "    <tr>\n",
       "      <th>ゼニガメ</th>\n",
       "      <td>7</td>\n",
       "      <td>みず</td>\n",
       "      <td></td>\n",
       "    </tr>\n",
       "  </tbody>\n",
       "</table>\n",
       "</div>"
      ],
      "text/plain": [
       "           No タイプ1 タイプ2\n",
       "フシギダネ  1    くさ    どく\n",
       "ヒトカゲ    4  ほのお        \n",
       "ゼニガメ    7    みず        "
      ]
     },
     "execution_count": 75,
     "metadata": {},
     "output_type": "execute_result"
    }
   ],
   "source": [
    "df.iloc[3:6]\n"
   ]
  },
  {
   "cell_type": "markdown",
   "metadata": {},
   "source": [
    "## Pandas の Series の使い方\n"
   ]
  },
  {
   "cell_type": "code",
   "execution_count": 76,
   "metadata": {},
   "outputs": [
    {
     "name": "stdout",
     "output_type": "stream",
     "text": [
      "0    ピカチュウ\n",
      "1        ピッピ\n",
      "2        プリン\n",
      "dtype: object\n"
     ]
    }
   ],
   "source": [
    "import pandas as pd\n",
    "\n",
    "p_name_list = [\"ピカチュウ\", \"ピッピ\", \"プリン\"]\n",
    "s = pd.Series(data=p_name_list)\n",
    "\n",
    "print(s)\n"
   ]
  },
  {
   "cell_type": "code",
   "execution_count": 77,
   "metadata": {},
   "outputs": [
    {
     "name": "stdout",
     "output_type": "stream",
     "text": [
      "25    ピカチュウ\n",
      "35        ピッピ\n",
      "38        プリン\n",
      "dtype: object\n"
     ]
    }
   ],
   "source": [
    "# インデックスも指定してみる\n",
    "\n",
    "s = pd.Series(data=p_name_list, index=[25, 35, 38])\n",
    "print(s)\n"
   ]
  },
  {
   "cell_type": "markdown",
   "metadata": {},
   "source": [
    "二次元リストを渡すと要素がリストになる\n"
   ]
  },
  {
   "cell_type": "code",
   "execution_count": 78,
   "metadata": {},
   "outputs": [
    {
     "name": "stdout",
     "output_type": "stream",
     "text": [
      "0    [ピカチュウ, ライチュウ]\n",
      "1          [ピッピ, ピクシー]\n",
      "2          [プリン, プクリン]\n",
      "dtype: object\n"
     ]
    }
   ],
   "source": [
    "p_name_list = [[\"ピカチュウ\", \"ライチュウ\"], [\"ピッピ\", \"ピクシー\"], [\"プリン\", \"プクリン\"]]\n",
    "s = pd.Series(data=p_name_list)\n",
    "print(s)\n"
   ]
  },
  {
   "cell_type": "markdown",
   "metadata": {},
   "source": [
    "list 関数で復元できる\n"
   ]
  },
  {
   "cell_type": "code",
   "execution_count": 79,
   "metadata": {},
   "outputs": [
    {
     "name": "stdout",
     "output_type": "stream",
     "text": [
      "[['ピカチュウ', 'ライチュウ'], ['ピッピ', 'ピクシー'], ['プリン', 'プクリン']]\n"
     ]
    }
   ],
   "source": [
    "print(list(s))\n"
   ]
  },
  {
   "cell_type": "markdown",
   "metadata": {},
   "source": [
    "### 辞書型を Series に変換する\n"
   ]
  },
  {
   "cell_type": "code",
   "execution_count": 80,
   "metadata": {},
   "outputs": [
    {
     "name": "stdout",
     "output_type": "stream",
     "text": [
      "ピカチュウ        でんき\n",
      "ピッピ        フェアリー\n",
      "ゼニガメ            みず\n",
      "dtype: object\n"
     ]
    }
   ],
   "source": [
    "p_d = {\"ピカチュウ\": \"でんき\", \"ピッピ\": \"フェアリー\", \"ゼニガメ\": \"みず\"}\n",
    "\n",
    "s = pd.Series(p_d)\n",
    "\n",
    "print(s)\n"
   ]
  },
  {
   "cell_type": "code",
   "execution_count": 81,
   "metadata": {},
   "outputs": [
    {
     "name": "stdout",
     "output_type": "stream",
     "text": [
      "{'ピカチュウ': 'でんき', 'ピッピ': 'フェアリー', 'ゼニガメ': 'みず'}\n"
     ]
    }
   ],
   "source": [
    "# to_dictメソッドでもとに戻せる\n",
    "\n",
    "rest = s.to_dict()\n",
    "print(rest)\n"
   ]
  },
  {
   "cell_type": "markdown",
   "metadata": {},
   "source": [
    "### Series から DataFrame に変換する\n"
   ]
  },
  {
   "cell_type": "code",
   "execution_count": 82,
   "metadata": {},
   "outputs": [
    {
     "name": "stdout",
     "output_type": "stream",
     "text": [
      "ピカチュウ        でんき\n",
      "ピッピ        フェアリー\n",
      "ゼニガメ            みず\n",
      "dtype: object\n",
      "               タイプ1\n",
      "ピカチュウ      でんき\n",
      "ピッピ      フェアリー\n",
      "ゼニガメ          みず\n"
     ]
    }
   ],
   "source": [
    "import pandas as pd\n",
    "\n",
    "pd.set_option(\"display.unicode.east_asian_width\", True)\n",
    "\n",
    "p_dict = {\"ピカチュウ\": \"でんき\", \"ピッピ\": \"フェアリー\", \"ゼニガメ\": \"みず\"}\n",
    "\n",
    "s = pd.Series(p_dict)\n",
    "df = pd.DataFrame(s, columns=[\"タイプ1\"])\n",
    "print(s)\n",
    "print(df)\n"
   ]
  },
  {
   "cell_type": "markdown",
   "metadata": {},
   "source": [
    "### DataFrame から Series に変換する\n"
   ]
  },
  {
   "cell_type": "code",
   "execution_count": 83,
   "metadata": {},
   "outputs": [
    {
     "name": "stdout",
     "output_type": "stream",
     "text": [
      "ピカチュウ        でんき\n",
      "ピッピ        フェアリー\n",
      "プリン        フェアリー\n",
      "フシギダネ          くさ\n",
      "ヒトカゲ          ほのお\n",
      "ゼニガメ            みず\n",
      "Name: タイプ1, dtype: object\n",
      "<class 'pandas.core.series.Series'>\n"
     ]
    }
   ],
   "source": [
    "import pandas as pd\n",
    "\n",
    "pd.set_option(\"display.unicode.east_asian_width\", True)\n",
    "\n",
    "p_dict = {\n",
    "    \"No\": [25, 35, 38, 1, 4, 7],\n",
    "    \"タイプ1\": [\"でんき\", \"フェアリー\", \"フェアリー\", \"くさ\", \"ほのお\", \"みず\"],\n",
    "    \"タイプ2\": [\"\", \"\", \"ノーマル\", \"どく\", \"\", \"\"],\n",
    "}\n",
    "\n",
    "\n",
    "df = pd.DataFrame(p_dict, [\"ピカチュウ\", \"ピッピ\", \"プリン\", \"フシギダネ\", \"ヒトカゲ\", \"ゼニガメ\"])\n",
    "\n",
    "s = df.loc[:, \"タイプ1\"]\n",
    "print(s)\n",
    "print(type(s))\n"
   ]
  },
  {
   "cell_type": "markdown",
   "metadata": {},
   "source": [
    "スライスを選ぶと Series のようにデータ抽出しても DataFrame になる\n"
   ]
  },
  {
   "cell_type": "code",
   "execution_count": 84,
   "metadata": {},
   "outputs": [
    {
     "name": "stdout",
     "output_type": "stream",
     "text": [
      "             タイプ2\n",
      "ピカチュウ          \n",
      "ピッピ              \n",
      "プリン      ノーマル\n",
      "フシギダネ      どく\n",
      "ヒトカゲ            \n",
      "ゼニガメ            \n",
      "<class 'pandas.core.frame.DataFrame'>\n"
     ]
    }
   ],
   "source": [
    "s = df.loc[:, \"タイプ2\":]\n",
    "print(s)\n",
    "print(type(s))\n"
   ]
  },
  {
   "cell_type": "code",
   "execution_count": 85,
   "metadata": {},
   "outputs": [
    {
     "name": "stdout",
     "output_type": "stream",
     "text": [
      "               タイプ1\n",
      "ピカチュウ      でんき\n",
      "ピッピ      フェアリー\n",
      "プリン      フェアリー\n",
      "フシギダネ        くさ\n",
      "ヒトカゲ        ほのお\n",
      "ゼニガメ          みず\n",
      "<class 'pandas.core.frame.DataFrame'>\n"
     ]
    }
   ],
   "source": [
    "import pandas as pd\n",
    "\n",
    "pd.set_option(\"display.unicode.east_asian_width\", True)\n",
    "\n",
    "p_dict = {\n",
    "    \"No\": [25, 35, 38, 1, 4, 7],\n",
    "    \"タイプ1\": [\"でんき\", \"フェアリー\", \"フェアリー\", \"くさ\", \"ほのお\", \"みず\"],\n",
    "    \"タイプ2\": [\"\", \"\", \"ノーマル\", \"どく\", \"\", \"\"],\n",
    "}\n",
    "\n",
    "\n",
    "df = pd.DataFrame(p_dict, [\"ピカチュウ\", \"ピッピ\", \"プリン\", \"フシギダネ\", \"ヒトカゲ\", \"ゼニガメ\"])\n",
    "\n",
    "s = df.loc[:, [\"タイプ1\"]]\n",
    "print(s)\n",
    "print(type(s))\n"
   ]
  },
  {
   "cell_type": "markdown",
   "metadata": {},
   "source": [
    "### Series から単独の値を取得\n"
   ]
  },
  {
   "cell_type": "code",
   "execution_count": 86,
   "metadata": {},
   "outputs": [
    {
     "name": "stdout",
     "output_type": "stream",
     "text": [
      "フェアリー\n",
      "でんき\n"
     ]
    }
   ],
   "source": [
    "import pandas as pd\n",
    "\n",
    "\n",
    "p_dict = {\"ピカチュウ\": \"でんき\", \"ピッピ\": \"フェアリー\", \"ゼニガメ\": \"みず\"}\n",
    "s = pd.Series(p_dict)\n",
    "\n",
    "print(s.at[\"ピッピ\"])\n",
    "print(s.iat[0])\n"
   ]
  },
  {
   "cell_type": "markdown",
   "metadata": {},
   "source": [
    "### Series から値のすべてを取得\n"
   ]
  },
  {
   "cell_type": "code",
   "execution_count": 87,
   "metadata": {},
   "outputs": [
    {
     "name": "stdout",
     "output_type": "stream",
     "text": [
      "でんき\n",
      "フェアリー\n",
      "みず\n",
      "ほのお\n",
      "でんき\n"
     ]
    }
   ],
   "source": [
    "import pandas as pd\n",
    "\n",
    "\n",
    "p_dict = {\n",
    "    \"ピカチュウ\": \"でんき\",\n",
    "    \"ピッピ\": \"フェアリー\",\n",
    "    \"ゼニガメ\": \"みず\",\n",
    "    \"ヒトカゲ\": \"ほのお\",\n",
    "    \"ライチュウ\": \"でんき\",\n",
    "}\n",
    "s = pd.Series(p_dict)\n",
    "\n",
    "for i in s:\n",
    "    print(i)"
   ]
  },
  {
   "cell_type": "code",
   "execution_count": 88,
   "metadata": {},
   "outputs": [
    {
     "name": "stdout",
     "output_type": "stream",
     "text": [
      "ピカチュウ\n",
      "ピッピ\n",
      "ゼニガメ\n",
      "ヒトカゲ\n",
      "ライチュウ\n"
     ]
    }
   ],
   "source": [
    "# インデックスはキーを指定して取得する\n",
    "\n",
    "for i in s.keys():\n",
    "    print(i)"
   ]
  },
  {
   "cell_type": "markdown",
   "metadata": {},
   "source": [
    "### 条件を指定してデータを取得する"
   ]
  },
  {
   "cell_type": "code",
   "execution_count": 89,
   "metadata": {},
   "outputs": [
    {
     "name": "stdout",
     "output_type": "stream",
     "text": [
      "ピカチュウ    でんき\n",
      "ライチュウ    でんき\n",
      "dtype: object\n"
     ]
    }
   ],
   "source": [
    "p_dict = {\n",
    "    \"ピカチュウ\": \"でんき\",\n",
    "    \"ピッピ\": \"フェアリー\",\n",
    "    \"ゼニガメ\": \"みず\",\n",
    "    \"ヒトカゲ\": \"ほのお\",\n",
    "    \"ライチュウ\": \"でんき\",\n",
    "}\n",
    "s = pd.Series(p_dict)\n",
    "\n",
    "print(s[s == \"でんき\"])"
   ]
  },
  {
   "cell_type": "code",
   "execution_count": 90,
   "metadata": {},
   "outputs": [
    {
     "name": "stdout",
     "output_type": "stream",
     "text": [
      "ピカチュウ     True\n",
      "ピッピ        False\n",
      "ゼニガメ      False\n",
      "ヒトカゲ      False\n",
      "ライチュウ     True\n",
      "dtype: bool\n"
     ]
    }
   ],
   "source": [
    "print(s == \"でんき\")"
   ]
  },
  {
   "cell_type": "code",
   "execution_count": 91,
   "metadata": {},
   "outputs": [
    {
     "name": "stdout",
     "output_type": "stream",
     "text": [
      "ピカチュウ        でんき\n",
      "ピッピ        フェアリー\n",
      "dtype: object\n"
     ]
    }
   ],
   "source": [
    "s_like = s.filter(like=\"ピ\")\n",
    "print(s_like)"
   ]
  },
  {
   "cell_type": "markdown",
   "metadata": {},
   "source": [
    "### 練習\n"
   ]
  },
  {
   "cell_type": "code",
   "execution_count": 92,
   "metadata": {},
   "outputs": [
    {
     "name": "stdout",
     "output_type": "stream",
     "text": [
      "ピカチュウ    25\n",
      "ピッピ        35\n",
      "ライチュウ    26\n",
      "dtype: int64\n"
     ]
    }
   ],
   "source": [
    "import pandas as pd\n",
    "\n",
    "p_dict = {\"ピカチュウ\": 25, \"ピッピ\": 35, \"ゼニガメ\": 7, \"ヒトカゲ\": 4, \"ライチュウ\": 26}\n",
    "\n",
    "s = pd.Series(p_dict)\n",
    "\n",
    "print(s[s >= 25])\n"
   ]
  },
  {
   "cell_type": "code",
   "execution_count": 93,
   "metadata": {},
   "outputs": [
    {
     "name": "stdout",
     "output_type": "stream",
     "text": [
      "みず\n"
     ]
    }
   ],
   "source": [
    "p_dict = {\n",
    "    \"ピカチュウ\": \"でんき\",\n",
    "    \"ピッピ\": \"フェアリー\",\n",
    "    \"ゼニガメ\": \"みず\",\n",
    "    \"ヒトカゲ\": \"ほのお\",\n",
    "    \"ライチュウ\": \"でんき\",\n",
    "}\n",
    "s = pd.Series(p_dict)\n",
    "\n",
    "s = s.at[\"ゼニガメ\"]\n",
    "\n",
    "print(s)"
   ]
  },
  {
   "cell_type": "markdown",
   "metadata": {},
   "source": [
    "## NumPyについて"
   ]
  },
  {
   "cell_type": "markdown",
   "metadata": {},
   "source": [
    "### 同じ要素で初期化"
   ]
  },
  {
   "cell_type": "code",
   "execution_count": 94,
   "metadata": {},
   "outputs": [
    {
     "name": "stdout",
     "output_type": "stream",
     "text": [
      "[0. 0. 0.]\n"
     ]
    }
   ],
   "source": [
    "import numpy as np\n",
    "\n",
    "num_np = np.zeros(3)\n",
    "\n",
    "print(num_np)"
   ]
  },
  {
   "cell_type": "code",
   "execution_count": 95,
   "metadata": {},
   "outputs": [
    {
     "name": "stdout",
     "output_type": "stream",
     "text": [
      "[0 0 0]\n",
      "int64\n"
     ]
    }
   ],
   "source": [
    "num_np = np.zeros(3, dtype=np.int_)\n",
    "\n",
    "print(num_np)\n",
    "print(num_np.dtype)"
   ]
  },
  {
   "cell_type": "code",
   "execution_count": 96,
   "metadata": {},
   "outputs": [
    {
     "name": "stdout",
     "output_type": "stream",
     "text": [
      "[[0 0]\n",
      " [0 0]\n",
      " [0 0]]\n"
     ]
    }
   ],
   "source": [
    "num_np = np.zeros((3,2), dtype=np.int_)\n",
    "print(num_np)"
   ]
  },
  {
   "cell_type": "code",
   "execution_count": 97,
   "metadata": {},
   "outputs": [
    {
     "name": "stdout",
     "output_type": "stream",
     "text": [
      "[[1. 1.]\n",
      " [1. 1.]\n",
      " [1. 1.]]\n"
     ]
    }
   ],
   "source": [
    "# 1で埋める。これもデフォルトはfloat\n",
    "\n",
    "num_np = np.ones((3,2))\n",
    "print(num_np)"
   ]
  },
  {
   "cell_type": "code",
   "execution_count": 98,
   "metadata": {},
   "outputs": [
    {
     "name": "stdout",
     "output_type": "stream",
     "text": [
      "[[10 10]\n",
      " [10 10]\n",
      " [10 10]]\n"
     ]
    }
   ],
   "source": [
    "# 任意の値で埋める\n",
    "\n",
    "num_np = np.full(shape=(3,2), fill_value=10)\n",
    "print(num_np)"
   ]
  },
  {
   "cell_type": "code",
   "execution_count": 99,
   "metadata": {},
   "outputs": [
    {
     "name": "stdout",
     "output_type": "stream",
     "text": [
      "[[10. 10.]\n",
      " [10. 10.]\n",
      " [10. 10.]]\n"
     ]
    }
   ],
   "source": [
    "num_np = np.full((3,2), 10.0)\n",
    "print(num_np)"
   ]
  },
  {
   "cell_type": "markdown",
   "metadata": {},
   "source": [
    "### arangeとreshape"
   ]
  },
  {
   "cell_type": "code",
   "execution_count": 100,
   "metadata": {},
   "outputs": [
    {
     "name": "stdout",
     "output_type": "stream",
     "text": [
      "[1 3 5 7 9]\n"
     ]
    }
   ],
   "source": [
    "#　rangeと同じく開始と終了とステップを指定できる\n",
    "num_np = np.arange(1,10,2)\n",
    "print(num_np)"
   ]
  },
  {
   "cell_type": "code",
   "execution_count": 101,
   "metadata": {},
   "outputs": [
    {
     "name": "stdout",
     "output_type": "stream",
     "text": [
      "[1. 3. 5. 7. 9.]\n"
     ]
    }
   ],
   "source": [
    "\n",
    "num_np = np.arange(1.,10,2)\n",
    "print(num_np)"
   ]
  },
  {
   "cell_type": "code",
   "execution_count": 102,
   "metadata": {},
   "outputs": [
    {
     "name": "stdout",
     "output_type": "stream",
     "text": [
      "[[0 1 2 3 4]\n",
      " [5 6 7 8 9]]\n"
     ]
    }
   ],
   "source": [
    "num_np = np.arange(10).reshape(2,5)\n",
    "print(num_np)"
   ]
  },
  {
   "cell_type": "code",
   "execution_count": 103,
   "metadata": {},
   "outputs": [
    {
     "name": "stdout",
     "output_type": "stream",
     "text": [
      "[[0 1]\n",
      " [2 3]\n",
      " [4 5]\n",
      " [6 7]\n",
      " [8 9]]\n"
     ]
    }
   ],
   "source": [
    "num_np = np.arange(10).reshape(5,2)\n",
    "\n",
    "print(num_np)"
   ]
  },
  {
   "cell_type": "code",
   "execution_count": 104,
   "metadata": {},
   "outputs": [
    {
     "name": "stdout",
     "output_type": "stream",
     "text": [
      "[[[ 1  2  3]\n",
      "  [ 4  5  6]\n",
      "  [ 7  8  9]]\n",
      "\n",
      " [[10 11 12]\n",
      "  [13 14 15]\n",
      "  [16 17 18]]\n",
      "\n",
      " [[19 20 21]\n",
      "  [22 23 24]\n",
      "  [25 26 27]]]\n"
     ]
    }
   ],
   "source": [
    "num_np = np.arange(1,28).reshape(3,3,3)\n",
    "print(num_np)"
   ]
  },
  {
   "cell_type": "code",
   "execution_count": 105,
   "metadata": {},
   "outputs": [
    {
     "name": "stdout",
     "output_type": "stream",
     "text": [
      "[[[ 0  1  2  3]\n",
      "  [ 4  5  6  7]\n",
      "  [ 8  9 10 11]\n",
      "  [12 13 14 15]]\n",
      "\n",
      " [[16 17 18 19]\n",
      "  [20 21 22 23]\n",
      "  [24 25 26 27]\n",
      "  [28 29 30 31]]\n",
      "\n",
      " [[32 33 34 35]\n",
      "  [36 37 38 39]\n",
      "  [40 41 42 43]\n",
      "  [44 45 46 47]]\n",
      "\n",
      " [[48 49 50 51]\n",
      "  [52 53 54 55]\n",
      "  [56 57 58 59]\n",
      "  [60 61 62 63]]]\n"
     ]
    }
   ],
   "source": [
    "num_np = np.arange(64).reshape(4,4,4)\n",
    "print(num_np)"
   ]
  },
  {
   "cell_type": "code",
   "execution_count": 106,
   "metadata": {},
   "outputs": [
    {
     "name": "stdout",
     "output_type": "stream",
     "text": [
      "[[[  0   1   2   3   4]\n",
      "  [  5   6   7   8   9]\n",
      "  [ 10  11  12  13  14]\n",
      "  [ 15  16  17  18  19]\n",
      "  [ 20  21  22  23  24]]\n",
      "\n",
      " [[ 25  26  27  28  29]\n",
      "  [ 30  31  32  33  34]\n",
      "  [ 35  36  37  38  39]\n",
      "  [ 40  41  42  43  44]\n",
      "  [ 45  46  47  48  49]]\n",
      "\n",
      " [[ 50  51  52  53  54]\n",
      "  [ 55  56  57  58  59]\n",
      "  [ 60  61  62  63  64]\n",
      "  [ 65  66  67  68  69]\n",
      "  [ 70  71  72  73  74]]\n",
      "\n",
      " [[ 75  76  77  78  79]\n",
      "  [ 80  81  82  83  84]\n",
      "  [ 85  86  87  88  89]\n",
      "  [ 90  91  92  93  94]\n",
      "  [ 95  96  97  98  99]]\n",
      "\n",
      " [[100 101 102 103 104]\n",
      "  [105 106 107 108 109]\n",
      "  [110 111 112 113 114]\n",
      "  [115 116 117 118 119]\n",
      "  [120 121 122 123 124]]]\n"
     ]
    }
   ],
   "source": [
    "num_np = np.arange(125).reshape(5,5,5)\n",
    "print(num_np)"
   ]
  },
  {
   "cell_type": "code",
   "execution_count": 107,
   "metadata": {},
   "outputs": [
    {
     "name": "stdout",
     "output_type": "stream",
     "text": [
      "[[[0 0 0 0 0]\n",
      "  [0 0 0 0 0]\n",
      "  [0 0 0 0 0]\n",
      "  [0 0 0 0 0]\n",
      "  [0 0 0 0 0]]\n",
      "\n",
      " [[0 0 0 0 0]\n",
      "  [0 0 0 0 0]\n",
      "  [0 0 0 0 0]\n",
      "  [0 0 0 0 0]\n",
      "  [0 0 0 0 0]]\n",
      "\n",
      " [[0 0 0 0 0]\n",
      "  [0 0 0 0 0]\n",
      "  [0 0 0 0 0]\n",
      "  [0 0 0 0 0]\n",
      "  [0 0 0 0 0]]\n",
      "\n",
      " [[0 0 0 0 0]\n",
      "  [0 0 0 0 0]\n",
      "  [0 0 0 0 0]\n",
      "  [0 0 0 0 0]\n",
      "  [0 0 0 0 0]]\n",
      "\n",
      " [[0 0 0 0 0]\n",
      "  [0 0 0 0 0]\n",
      "  [0 0 0 0 0]\n",
      "  [0 0 0 0 0]\n",
      "  [0 0 0 0 0]]]\n"
     ]
    }
   ],
   "source": [
    "print(np.zeros_like(num_np))"
   ]
  },
  {
   "cell_type": "code",
   "execution_count": 108,
   "metadata": {},
   "outputs": [
    {
     "name": "stdout",
     "output_type": "stream",
     "text": [
      "[[[1 1 1 1 1]\n",
      "  [1 1 1 1 1]\n",
      "  [1 1 1 1 1]\n",
      "  [1 1 1 1 1]\n",
      "  [1 1 1 1 1]]\n",
      "\n",
      " [[1 1 1 1 1]\n",
      "  [1 1 1 1 1]\n",
      "  [1 1 1 1 1]\n",
      "  [1 1 1 1 1]\n",
      "  [1 1 1 1 1]]\n",
      "\n",
      " [[1 1 1 1 1]\n",
      "  [1 1 1 1 1]\n",
      "  [1 1 1 1 1]\n",
      "  [1 1 1 1 1]\n",
      "  [1 1 1 1 1]]\n",
      "\n",
      " [[1 1 1 1 1]\n",
      "  [1 1 1 1 1]\n",
      "  [1 1 1 1 1]\n",
      "  [1 1 1 1 1]\n",
      "  [1 1 1 1 1]]\n",
      "\n",
      " [[1 1 1 1 1]\n",
      "  [1 1 1 1 1]\n",
      "  [1 1 1 1 1]\n",
      "  [1 1 1 1 1]\n",
      "  [1 1 1 1 1]]]\n"
     ]
    }
   ],
   "source": [
    "print(np.ones_like(num_np))"
   ]
  },
  {
   "cell_type": "code",
   "execution_count": 109,
   "metadata": {},
   "outputs": [
    {
     "name": "stdout",
     "output_type": "stream",
     "text": [
      "[[[10 10 10 10 10]\n",
      "  [10 10 10 10 10]\n",
      "  [10 10 10 10 10]\n",
      "  [10 10 10 10 10]\n",
      "  [10 10 10 10 10]]\n",
      "\n",
      " [[10 10 10 10 10]\n",
      "  [10 10 10 10 10]\n",
      "  [10 10 10 10 10]\n",
      "  [10 10 10 10 10]\n",
      "  [10 10 10 10 10]]\n",
      "\n",
      " [[10 10 10 10 10]\n",
      "  [10 10 10 10 10]\n",
      "  [10 10 10 10 10]\n",
      "  [10 10 10 10 10]\n",
      "  [10 10 10 10 10]]\n",
      "\n",
      " [[10 10 10 10 10]\n",
      "  [10 10 10 10 10]\n",
      "  [10 10 10 10 10]\n",
      "  [10 10 10 10 10]\n",
      "  [10 10 10 10 10]]\n",
      "\n",
      " [[10 10 10 10 10]\n",
      "  [10 10 10 10 10]\n",
      "  [10 10 10 10 10]\n",
      "  [10 10 10 10 10]\n",
      "  [10 10 10 10 10]]]\n"
     ]
    }
   ],
   "source": [
    "print(np.full_like(num_np, 10))"
   ]
  },
  {
   "cell_type": "markdown",
   "metadata": {},
   "source": [
    "### 要素の取得方法"
   ]
  },
  {
   "cell_type": "code",
   "execution_count": 110,
   "metadata": {},
   "outputs": [
    {
     "name": "stdout",
     "output_type": "stream",
     "text": [
      "[0 1 2 3 4 5]\n",
      "4\n",
      "0\n",
      "1\n",
      "2\n",
      "3\n",
      "4\n",
      "5\n"
     ]
    }
   ],
   "source": [
    "num_np = np.arange(6)\n",
    "print(num_np)\n",
    "print(num_np[4])\n",
    "\n",
    "for i in range(len(num_np)):\n",
    "    print(num_np[i])"
   ]
  },
  {
   "cell_type": "code",
   "execution_count": 111,
   "metadata": {},
   "outputs": [
    {
     "name": "stdout",
     "output_type": "stream",
     "text": [
      "[3 4 5]\n"
     ]
    }
   ],
   "source": [
    "print(num_np[3:6])"
   ]
  },
  {
   "cell_type": "markdown",
   "metadata": {},
   "source": [
    "基本的にリストと変わらない。  \n",
    "二次元配列は行と列を指定する。"
   ]
  },
  {
   "cell_type": "code",
   "execution_count": 112,
   "metadata": {},
   "outputs": [
    {
     "name": "stdout",
     "output_type": "stream",
     "text": [
      "[[0 1]\n",
      " [2 3]\n",
      " [4 5]]\n",
      "5\n"
     ]
    }
   ],
   "source": [
    "num_np = np.arange(6).reshape(3,2)\n",
    "\n",
    "print(num_np)\n",
    "print(num_np[2][1])"
   ]
  },
  {
   "cell_type": "code",
   "execution_count": 113,
   "metadata": {},
   "outputs": [
    {
     "data": {
      "text/plain": [
       "2"
      ]
     },
     "execution_count": 113,
     "metadata": {},
     "output_type": "execute_result"
    }
   ],
   "source": [
    "len(num_np[1])"
   ]
  },
  {
   "cell_type": "code",
   "execution_count": 114,
   "metadata": {},
   "outputs": [
    {
     "name": "stdout",
     "output_type": "stream",
     "text": [
      "[0 1]\n",
      "[2 3]\n",
      "[4 5]\n"
     ]
    }
   ],
   "source": [
    "for i in num_np:\n",
    "    print(i)"
   ]
  },
  {
   "cell_type": "code",
   "execution_count": 115,
   "metadata": {},
   "outputs": [
    {
     "name": "stdout",
     "output_type": "stream",
     "text": [
      "0\n",
      "1\n",
      "2\n",
      "3\n",
      "4\n",
      "5\n"
     ]
    }
   ],
   "source": [
    "for i in range(len(num_np)):\n",
    "    for j in range(len(num_np[i])):\n",
    "        print(num_np[i][j])"
   ]
  },
  {
   "cell_type": "markdown",
   "metadata": {},
   "source": [
    "### 要素の設定方法"
   ]
  },
  {
   "cell_type": "code",
   "execution_count": 1,
   "metadata": {},
   "outputs": [
    {
     "name": "stdout",
     "output_type": "stream",
     "text": [
      "[ 0  1  2 10  4  5]\n"
     ]
    }
   ],
   "source": [
    "import numpy as np\n",
    "\n",
    "num_np = np.arange(6)\n",
    "num_np[3] = 10\n",
    "print(num_np)"
   ]
  },
  {
   "cell_type": "code",
   "execution_count": 2,
   "metadata": {},
   "outputs": [
    {
     "name": "stdout",
     "output_type": "stream",
     "text": [
      "[[ 0  1]\n",
      " [ 2 10]\n",
      " [ 4  5]]\n"
     ]
    }
   ],
   "source": [
    "num_np = np.arange(6).reshape(3,2)\n",
    "\n",
    "num_np[1,1] = 10\n",
    "print(num_np)"
   ]
  }
 ],
 "metadata": {
  "kernelspec": {
   "display_name": ".venv",
   "language": "python",
   "name": "python3"
  },
  "language_info": {
   "codemirror_mode": {
    "name": "ipython",
    "version": 3
   },
   "file_extension": ".py",
   "mimetype": "text/x-python",
   "name": "python",
   "nbconvert_exporter": "python",
   "pygments_lexer": "ipython3",
   "version": "3.11.3"
  },
  "orig_nbformat": 4
 },
 "nbformat": 4,
 "nbformat_minor": 2
}
