{
 "cells": [
  {
   "cell_type": "code",
   "execution_count": 7,
   "metadata": {},
   "outputs": [],
   "source": [
    "class Pokemon:\n",
    "    def __init__(self, name, type1, type2):\n",
    "        self.name = name\n",
    "        self.type1 = type1\n",
    "        self.type2 = type2\n",
    "\n",
    "    def print_info(self):\n",
    "        print(\n",
    "            \"名前: \"\n",
    "            + self.name\n",
    "            + \" タイプ1: \"\n",
    "            + self.type1\n",
    "            + \" タイプ2: \"\n",
    "            + self.type2\n",
    "        )\n"
   ]
  },
  {
   "cell_type": "code",
   "execution_count": 8,
   "metadata": {},
   "outputs": [
    {
     "name": "stdout",
     "output_type": "stream",
     "text": [
      "名前: ピカチュウ タイプ1: でんき タイプ2: \n"
     ]
    }
   ],
   "source": [
    "p1 = Pokemon(name=\"ピカチュウ\", type1=\"でんき\", type2=\"\")\n",
    "p1.print_info()\n"
   ]
  },
  {
   "cell_type": "code",
   "execution_count": 12,
   "metadata": {},
   "outputs": [
    {
     "name": "stdout",
     "output_type": "stream",
     "text": [
      "ピカチュウ\n",
      "フェアリー\n",
      "ノーマル\n"
     ]
    }
   ],
   "source": [
    "p1 = Pokemon(name=\"ピカチュウ\", type1=\"でんき\", type2=\"\")\n",
    "p2 = Pokemon(name=\"ピッピ\", type1=\"フェアリー\", type2=\"\")\n",
    "p3 = Pokemon(name=\"プリン\", type1=\"フェアリー\", type2=\"ノーマル\")\n",
    "\n",
    "print(p1.name)\n",
    "print(p2.type1)\n",
    "print(p3.type2)\n"
   ]
  },
  {
   "cell_type": "code",
   "execution_count": 15,
   "metadata": {},
   "outputs": [
    {
     "name": "stdout",
     "output_type": "stream",
     "text": [
      "名前: ピカチュウ タイプ1: でんき タイプ2: \n",
      "名前: ピッピ タイプ1: フェアリー タイプ2: \n",
      "名前: プリン タイプ1: フェアリー タイプ2: ノーマル\n"
     ]
    }
   ],
   "source": [
    "p_list = [\n",
    "    Pokemon(name=\"ピカチュウ\", type1=\"でんき\", type2=\"\"),\n",
    "    Pokemon(name=\"ピッピ\", type1=\"フェアリー\", type2=\"\"),\n",
    "    Pokemon(name=\"プリン\", type1=\"フェアリー\", type2=\"ノーマル\"),\n",
    "]\n",
    "\n",
    "for i in p_list:\n",
    "    i.print_info()\n"
   ]
  },
  {
   "cell_type": "code",
   "execution_count": 18,
   "metadata": {},
   "outputs": [
    {
     "name": "stdout",
     "output_type": "stream",
     "text": [
      "名前: プリン タイプ1: フェアリー タイプ2: ノーマル\n",
      "名前: フシギダネ タイプ1: くさ タイプ2: どく\n"
     ]
    }
   ],
   "source": [
    "p_list = [\n",
    "    Pokemon(name=\"ピカチュウ\", type1=\"でんき\", type2=\"\"),\n",
    "    Pokemon(name=\"ピッピ\", type1=\"フェアリー\", type2=\"\"),\n",
    "    Pokemon(name=\"プリン\", type1=\"フェアリー\", type2=\"ノーマル\"),\n",
    "]\n",
    "\n",
    "p_list.append(Pokemon(name=\"フシギダネ\", type1=\"くさ\", type2=\"どく\"))\n",
    "for i in p_list[2:]:\n",
    "    i.print_info()"
   ]
  }
 ],
 "metadata": {
  "kernelspec": {
   "display_name": ".venv",
   "language": "python",
   "name": "python3"
  },
  "language_info": {
   "codemirror_mode": {
    "name": "ipython",
    "version": 3
   },
   "file_extension": ".py",
   "mimetype": "text/x-python",
   "name": "python",
   "nbconvert_exporter": "python",
   "pygments_lexer": "ipython3",
   "version": "3.11.3"
  },
  "orig_nbformat": 4
 },
 "nbformat": 4,
 "nbformat_minor": 2
}
