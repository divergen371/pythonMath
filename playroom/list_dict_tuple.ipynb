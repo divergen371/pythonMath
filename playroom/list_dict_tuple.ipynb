{
 "cells": [
  {
   "cell_type": "code",
   "execution_count": 2,
   "metadata": {},
   "outputs": [],
   "source": [
    "class Pokemon:\n",
    "    def __init__(self, name, type1, type2):\n",
    "        self.name = name\n",
    "        self.type1 = type1\n",
    "        self.type2 = type2\n",
    "\n",
    "    def print_info(self):\n",
    "        print(\n",
    "            \"名前: \"\n",
    "            + self.name\n",
    "            + \" タイプ1: \"\n",
    "            + self.type1\n",
    "            + \" タイプ2: \"\n",
    "            + self.type2\n",
    "        )\n"
   ]
  },
  {
   "cell_type": "code",
   "execution_count": 3,
   "metadata": {},
   "outputs": [
    {
     "name": "stdout",
     "output_type": "stream",
     "text": [
      "名前: ピカチュウ タイプ1: でんき タイプ2: \n"
     ]
    }
   ],
   "source": [
    "p1 = Pokemon(name=\"ピカチュウ\", type1=\"でんき\", type2=\"\")\n",
    "p1.print_info()\n"
   ]
  },
  {
   "cell_type": "code",
   "execution_count": 4,
   "metadata": {},
   "outputs": [
    {
     "name": "stdout",
     "output_type": "stream",
     "text": [
      "ピカチュウ\n",
      "フェアリー\n",
      "ノーマル\n"
     ]
    }
   ],
   "source": [
    "p1 = Pokemon(name=\"ピカチュウ\", type1=\"でんき\", type2=\"\")\n",
    "p2 = Pokemon(name=\"ピッピ\", type1=\"フェアリー\", type2=\"\")\n",
    "p3 = Pokemon(name=\"プリン\", type1=\"フェアリー\", type2=\"ノーマル\")\n",
    "\n",
    "print(p1.name)\n",
    "print(p2.type1)\n",
    "print(p3.type2)\n"
   ]
  },
  {
   "cell_type": "code",
   "execution_count": 5,
   "metadata": {},
   "outputs": [
    {
     "name": "stdout",
     "output_type": "stream",
     "text": [
      "名前: ピカチュウ タイプ1: でんき タイプ2: \n",
      "名前: ピッピ タイプ1: フェアリー タイプ2: \n",
      "名前: プリン タイプ1: フェアリー タイプ2: ノーマル\n"
     ]
    }
   ],
   "source": [
    "p_list = [\n",
    "    Pokemon(name=\"ピカチュウ\", type1=\"でんき\", type2=\"\"),\n",
    "    Pokemon(name=\"ピッピ\", type1=\"フェアリー\", type2=\"\"),\n",
    "    Pokemon(name=\"プリン\", type1=\"フェアリー\", type2=\"ノーマル\"),\n",
    "]\n",
    "\n",
    "for i in p_list:\n",
    "    i.print_info()\n"
   ]
  },
  {
   "cell_type": "code",
   "execution_count": 6,
   "metadata": {},
   "outputs": [
    {
     "name": "stdout",
     "output_type": "stream",
     "text": [
      "名前: プリン タイプ1: フェアリー タイプ2: ノーマル\n",
      "名前: フシギダネ タイプ1: くさ タイプ2: どく\n"
     ]
    }
   ],
   "source": [
    "p_list = [\n",
    "    Pokemon(name=\"ピカチュウ\", type1=\"でんき\", type2=\"\"),\n",
    "    Pokemon(name=\"ピッピ\", type1=\"フェアリー\", type2=\"\"),\n",
    "    Pokemon(name=\"プリン\", type1=\"フェアリー\", type2=\"ノーマル\"),\n",
    "]\n",
    "\n",
    "p_list.append(Pokemon(name=\"フシギダネ\", type1=\"くさ\", type2=\"どく\"))\n",
    "for i in p_list[2:]:\n",
    "    i.print_info()"
   ]
  },
  {
   "cell_type": "markdown",
   "metadata": {},
   "source": [
    "## 辞書型"
   ]
  },
  {
   "cell_type": "code",
   "execution_count": 7,
   "metadata": {},
   "outputs": [
    {
     "name": "stdout",
     "output_type": "stream",
     "text": [
      "ピカチュウ\n"
     ]
    }
   ],
   "source": [
    "p_dict = {25: \"ピカチュウ\", 35: \"ピッピ\", 39: \"プリン\"}\n",
    "print(p_dict[25])"
   ]
  },
  {
   "cell_type": "markdown",
   "metadata": {},
   "source": [
    "### 要素の追加と削除"
   ]
  },
  {
   "cell_type": "markdown",
   "metadata": {},
   "source": [
    "#### 追加"
   ]
  },
  {
   "cell_type": "code",
   "execution_count": 8,
   "metadata": {},
   "outputs": [
    {
     "name": "stdout",
     "output_type": "stream",
     "text": [
      "{25: 'ピカチュウ', 35: 'ピッピ', 39: 'プリン', 26: 'ライチュウ'}\n"
     ]
    }
   ],
   "source": [
    "p_dict = {25: \"ピカチュウ\", 35: \"ピッピ\", 39: \"プリン\"}\n",
    "p_dict[26] = \"ライチュウ\"\n",
    "print(p_dict)"
   ]
  },
  {
   "cell_type": "markdown",
   "metadata": {},
   "source": [
    "#### 削除"
   ]
  },
  {
   "cell_type": "code",
   "execution_count": 9,
   "metadata": {},
   "outputs": [
    {
     "name": "stdout",
     "output_type": "stream",
     "text": [
      "True\n",
      "False\n"
     ]
    }
   ],
   "source": [
    "p_dict = {25: \"ピカチュウ\", 35: \"ピッピ\", 39: \"プリン\"}\n",
    "\n",
    "print(25 in p_dict)\n",
    "p_dict.pop(25)\n",
    "print(25 in p_dict)"
   ]
  },
  {
   "cell_type": "markdown",
   "metadata": {},
   "source": [
    "### キーや値の有無を判別する方法"
   ]
  },
  {
   "cell_type": "code",
   "execution_count": 13,
   "metadata": {},
   "outputs": [
    {
     "name": "stdout",
     "output_type": "stream",
     "text": [
      "True\n",
      "False\n",
      "True\n",
      "False\n"
     ]
    }
   ],
   "source": [
    "p_dict = {25: \"ピカチュウ\", 35: \"ピッピ\", 39: \"プリン\"}\n",
    "\n",
    "print(25 in p_dict.keys())\n",
    "print(26 in p_dict.keys())\n",
    "\n",
    "print(\"ピカチュウ\" in p_dict.values())\n",
    "print(\"ライチュウ\" in p_dict.values())"
   ]
  },
  {
   "cell_type": "markdown",
   "metadata": {},
   "source": [
    "### 辞書の要素出力"
   ]
  },
  {
   "cell_type": "code",
   "execution_count": 15,
   "metadata": {},
   "outputs": [
    {
     "name": "stdout",
     "output_type": "stream",
     "text": [
      "25\n",
      "35\n",
      "39\n",
      "ピカチュウ\n",
      "ピッピ\n",
      "プリン\n"
     ]
    }
   ],
   "source": [
    "p_dict = {25: \"ピカチュウ\", 35: \"ピッピ\", 39: \"プリン\"}\n",
    "\n",
    "for k in p_dict.keys():\n",
    "    print(k)\n",
    "\n",
    "for v in p_dict.values():\n",
    "    print(v)"
   ]
  },
  {
   "cell_type": "code",
   "execution_count": 19,
   "metadata": {},
   "outputs": [
    {
     "name": "stdout",
     "output_type": "stream",
     "text": [
      "ピカチュウさん\n",
      "ピッピさん\n",
      "プリンさん\n"
     ]
    }
   ],
   "source": [
    "p_dict = {25: \"ピカチュウ\", 35: \"ピッピ\", 39: \"プリン\"}\n",
    "\n",
    "p_list = list(map(lambda x: x + \"さん\", p_dict.values()))\n",
    "\n",
    "for i in p_list:\n",
    "    print(i)\n"
   ]
  },
  {
   "cell_type": "markdown",
   "metadata": {},
   "source": [
    "### 辞書型とラムダ式"
   ]
  },
  {
   "cell_type": "code",
   "execution_count": 20,
   "metadata": {},
   "outputs": [
    {
     "name": "stdout",
     "output_type": "stream",
     "text": [
      "8\n"
     ]
    }
   ],
   "source": [
    "result = 0\n",
    "calc_mode = \"+\"\n",
    "\n",
    "num1 = 5\n",
    "num2 = 3\n",
    "\n",
    "if calc_mode == \"+\":\n",
    "    result = num1 + num2\n",
    "elif calc_mode == \"-\":\n",
    "    result = num1 - num2\n",
    "elif calc_mode == \"*\":\n",
    "    result = num1 * num2\n",
    "elif calc_mode == \"/\":\n",
    "    result = num1 / num2\n",
    "elif calc_mode == \"%\":\n",
    "    result = num1 % num2\n",
    "\n",
    "print(result)\n"
   ]
  },
  {
   "cell_type": "code",
   "execution_count": 23,
   "metadata": {},
   "outputs": [
    {
     "name": "stdout",
     "output_type": "stream",
     "text": [
      "8\n",
      "15\n",
      "2\n",
      "2\n",
      "1.6666666666666667\n"
     ]
    }
   ],
   "source": [
    "calc_dic = {\n",
    "    \"+\": lambda x, y: x + y,\n",
    "    \"-\": lambda x, y: x - y,\n",
    "    \"*\": lambda x, y: x * y,\n",
    "    \"/\": lambda x, y: x / y,\n",
    "    \"%\": lambda x, y: x % y,\n",
    "}\n",
    "num1 = 5\n",
    "num2 = 3\n",
    "print(calc_dic[\"+\"](num1, num2))\n",
    "print(calc_dic[\"*\"](num1, num2))\n",
    "print(calc_dic[\"%\"](num1, num2))\n",
    "print(calc_dic[\"-\"](num1, num2))\n",
    "print(calc_dic[\"/\"](num1, num2))\n"
   ]
  },
  {
   "cell_type": "markdown",
   "metadata": {},
   "source": [
    "## 練習"
   ]
  },
  {
   "cell_type": "code",
   "execution_count": 24,
   "metadata": {},
   "outputs": [
    {
     "name": "stdout",
     "output_type": "stream",
     "text": [
      "ピクシー\n"
     ]
    }
   ],
   "source": [
    "p_dict = {\n",
    "    25: \"ピカチュウ\",\n",
    "    26: \"ライチュウ\",\n",
    "    35: \"ピッピ\",\n",
    "    36: \"ピクシー\",\n",
    "    39: \"プリン\",\n",
    "    40: \"プクリン\",\n",
    "}\n",
    "p = p_dict[36]\n",
    "print(p)"
   ]
  },
  {
   "cell_type": "code",
   "execution_count": 7,
   "metadata": {},
   "outputs": [
    {
     "name": "stdout",
     "output_type": "stream",
     "text": [
      "<filter object at 0x1067932e0>\n",
      "ピカチュウ\n",
      "ライチュウ\n"
     ]
    }
   ],
   "source": [
    "p_dict = {\n",
    "    25: \"ピカチュウ\",\n",
    "    26: \"ライチュウ\",\n",
    "    35: \"ピッピ\",\n",
    "    36: \"ピクシー\",\n",
    "    39: \"プリン\",\n",
    "    40: \"プクリン\",\n",
    "}\n",
    "\n",
    "p_l = filter(lambda x: \"チュウ\" in x, p_dict.values())\n",
    "for i in p_l:\n",
    "    print(i)"
   ]
  }
 ],
 "metadata": {
  "kernelspec": {
   "display_name": ".venv",
   "language": "python",
   "name": "python3"
  },
  "language_info": {
   "codemirror_mode": {
    "name": "ipython",
    "version": 3
   },
   "file_extension": ".py",
   "mimetype": "text/x-python",
   "name": "python",
   "nbconvert_exporter": "python",
   "pygments_lexer": "ipython3",
   "version": "3.11.3"
  },
  "orig_nbformat": 4
 },
 "nbformat": 4,
 "nbformat_minor": 2
}
