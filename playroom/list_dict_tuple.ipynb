{
 "cells": [
  {
   "cell_type": "code",
   "execution_count": 2,
   "metadata": {},
   "outputs": [],
   "source": [
    "class Pokemon:\n",
    "    def __init__(self, name, type1, type2):\n",
    "        self.name = name\n",
    "        self.type1 = type1\n",
    "        self.type2 = type2\n",
    "\n",
    "    def print_info(self):\n",
    "        print(\n",
    "            \"名前: \"\n",
    "            + self.name\n",
    "            + \" タイプ1: \"\n",
    "            + self.type1\n",
    "            + \" タイプ2: \"\n",
    "            + self.type2\n",
    "        )\n"
   ]
  },
  {
   "cell_type": "code",
   "execution_count": 3,
   "metadata": {},
   "outputs": [
    {
     "name": "stdout",
     "output_type": "stream",
     "text": [
      "名前: ピカチュウ タイプ1: でんき タイプ2: \n"
     ]
    }
   ],
   "source": [
    "p1 = Pokemon(name=\"ピカチュウ\", type1=\"でんき\", type2=\"\")\n",
    "p1.print_info()\n"
   ]
  },
  {
   "cell_type": "code",
   "execution_count": 4,
   "metadata": {},
   "outputs": [
    {
     "name": "stdout",
     "output_type": "stream",
     "text": [
      "ピカチュウ\n",
      "フェアリー\n",
      "ノーマル\n"
     ]
    }
   ],
   "source": [
    "p1 = Pokemon(name=\"ピカチュウ\", type1=\"でんき\", type2=\"\")\n",
    "p2 = Pokemon(name=\"ピッピ\", type1=\"フェアリー\", type2=\"\")\n",
    "p3 = Pokemon(name=\"プリン\", type1=\"フェアリー\", type2=\"ノーマル\")\n",
    "\n",
    "print(p1.name)\n",
    "print(p2.type1)\n",
    "print(p3.type2)\n"
   ]
  },
  {
   "cell_type": "code",
   "execution_count": 5,
   "metadata": {},
   "outputs": [
    {
     "name": "stdout",
     "output_type": "stream",
     "text": [
      "名前: ピカチュウ タイプ1: でんき タイプ2: \n",
      "名前: ピッピ タイプ1: フェアリー タイプ2: \n",
      "名前: プリン タイプ1: フェアリー タイプ2: ノーマル\n"
     ]
    }
   ],
   "source": [
    "p_list = [\n",
    "    Pokemon(name=\"ピカチュウ\", type1=\"でんき\", type2=\"\"),\n",
    "    Pokemon(name=\"ピッピ\", type1=\"フェアリー\", type2=\"\"),\n",
    "    Pokemon(name=\"プリン\", type1=\"フェアリー\", type2=\"ノーマル\"),\n",
    "]\n",
    "\n",
    "for i in p_list:\n",
    "    i.print_info()\n"
   ]
  },
  {
   "cell_type": "code",
   "execution_count": 6,
   "metadata": {},
   "outputs": [
    {
     "name": "stdout",
     "output_type": "stream",
     "text": [
      "名前: プリン タイプ1: フェアリー タイプ2: ノーマル\n",
      "名前: フシギダネ タイプ1: くさ タイプ2: どく\n"
     ]
    }
   ],
   "source": [
    "p_list = [\n",
    "    Pokemon(name=\"ピカチュウ\", type1=\"でんき\", type2=\"\"),\n",
    "    Pokemon(name=\"ピッピ\", type1=\"フェアリー\", type2=\"\"),\n",
    "    Pokemon(name=\"プリン\", type1=\"フェアリー\", type2=\"ノーマル\"),\n",
    "]\n",
    "\n",
    "p_list.append(Pokemon(name=\"フシギダネ\", type1=\"くさ\", type2=\"どく\"))\n",
    "for i in p_list[2:]:\n",
    "    i.print_info()\n"
   ]
  },
  {
   "cell_type": "markdown",
   "metadata": {},
   "source": [
    "## 辞書型\n"
   ]
  },
  {
   "cell_type": "code",
   "execution_count": 7,
   "metadata": {},
   "outputs": [
    {
     "name": "stdout",
     "output_type": "stream",
     "text": [
      "ピカチュウ\n"
     ]
    }
   ],
   "source": [
    "p_dict = {25: \"ピカチュウ\", 35: \"ピッピ\", 39: \"プリン\"}\n",
    "print(p_dict[25])\n"
   ]
  },
  {
   "cell_type": "markdown",
   "metadata": {},
   "source": [
    "### 要素の追加と削除\n"
   ]
  },
  {
   "cell_type": "markdown",
   "metadata": {},
   "source": [
    "#### 追加\n"
   ]
  },
  {
   "cell_type": "code",
   "execution_count": 8,
   "metadata": {},
   "outputs": [
    {
     "name": "stdout",
     "output_type": "stream",
     "text": [
      "{25: 'ピカチュウ', 35: 'ピッピ', 39: 'プリン', 26: 'ライチュウ'}\n"
     ]
    }
   ],
   "source": [
    "p_dict = {25: \"ピカチュウ\", 35: \"ピッピ\", 39: \"プリン\"}\n",
    "p_dict[26] = \"ライチュウ\"\n",
    "print(p_dict)\n"
   ]
  },
  {
   "cell_type": "markdown",
   "metadata": {},
   "source": [
    "#### 削除\n"
   ]
  },
  {
   "cell_type": "code",
   "execution_count": 9,
   "metadata": {},
   "outputs": [
    {
     "name": "stdout",
     "output_type": "stream",
     "text": [
      "True\n",
      "False\n"
     ]
    }
   ],
   "source": [
    "p_dict = {25: \"ピカチュウ\", 35: \"ピッピ\", 39: \"プリン\"}\n",
    "\n",
    "print(25 in p_dict)\n",
    "p_dict.pop(25)\n",
    "print(25 in p_dict)\n"
   ]
  },
  {
   "cell_type": "markdown",
   "metadata": {},
   "source": [
    "### キーや値の有無を判別する方法\n"
   ]
  },
  {
   "cell_type": "code",
   "execution_count": 13,
   "metadata": {},
   "outputs": [
    {
     "name": "stdout",
     "output_type": "stream",
     "text": [
      "True\n",
      "False\n",
      "True\n",
      "False\n"
     ]
    }
   ],
   "source": [
    "p_dict = {25: \"ピカチュウ\", 35: \"ピッピ\", 39: \"プリン\"}\n",
    "\n",
    "print(25 in p_dict.keys())\n",
    "print(26 in p_dict.keys())\n",
    "\n",
    "print(\"ピカチュウ\" in p_dict.values())\n",
    "print(\"ライチュウ\" in p_dict.values())\n"
   ]
  },
  {
   "cell_type": "markdown",
   "metadata": {},
   "source": [
    "### 辞書の要素出力\n"
   ]
  },
  {
   "cell_type": "code",
   "execution_count": 15,
   "metadata": {},
   "outputs": [
    {
     "name": "stdout",
     "output_type": "stream",
     "text": [
      "25\n",
      "35\n",
      "39\n",
      "ピカチュウ\n",
      "ピッピ\n",
      "プリン\n"
     ]
    }
   ],
   "source": [
    "p_dict = {25: \"ピカチュウ\", 35: \"ピッピ\", 39: \"プリン\"}\n",
    "\n",
    "for k in p_dict.keys():\n",
    "    print(k)\n",
    "\n",
    "for v in p_dict.values():\n",
    "    print(v)\n"
   ]
  },
  {
   "cell_type": "code",
   "execution_count": 19,
   "metadata": {},
   "outputs": [
    {
     "name": "stdout",
     "output_type": "stream",
     "text": [
      "ピカチュウさん\n",
      "ピッピさん\n",
      "プリンさん\n"
     ]
    }
   ],
   "source": [
    "p_dict = {25: \"ピカチュウ\", 35: \"ピッピ\", 39: \"プリン\"}\n",
    "\n",
    "p_list = list(map(lambda x: x + \"さん\", p_dict.values()))\n",
    "\n",
    "for i in p_list:\n",
    "    print(i)\n"
   ]
  },
  {
   "cell_type": "markdown",
   "metadata": {},
   "source": [
    "### 辞書型とラムダ式\n"
   ]
  },
  {
   "cell_type": "code",
   "execution_count": 20,
   "metadata": {},
   "outputs": [
    {
     "name": "stdout",
     "output_type": "stream",
     "text": [
      "8\n"
     ]
    }
   ],
   "source": [
    "result = 0\n",
    "calc_mode = \"+\"\n",
    "\n",
    "num1 = 5\n",
    "num2 = 3\n",
    "\n",
    "if calc_mode == \"+\":\n",
    "    result = num1 + num2\n",
    "elif calc_mode == \"-\":\n",
    "    result = num1 - num2\n",
    "elif calc_mode == \"*\":\n",
    "    result = num1 * num2\n",
    "elif calc_mode == \"/\":\n",
    "    result = num1 / num2\n",
    "elif calc_mode == \"%\":\n",
    "    result = num1 % num2\n",
    "\n",
    "print(result)\n"
   ]
  },
  {
   "cell_type": "code",
   "execution_count": 23,
   "metadata": {},
   "outputs": [
    {
     "name": "stdout",
     "output_type": "stream",
     "text": [
      "8\n",
      "15\n",
      "2\n",
      "2\n",
      "1.6666666666666667\n"
     ]
    }
   ],
   "source": [
    "calc_dic = {\n",
    "    \"+\": lambda x, y: x + y,\n",
    "    \"-\": lambda x, y: x - y,\n",
    "    \"*\": lambda x, y: x * y,\n",
    "    \"/\": lambda x, y: x / y,\n",
    "    \"%\": lambda x, y: x % y,\n",
    "}\n",
    "num1 = 5\n",
    "num2 = 3\n",
    "print(calc_dic[\"+\"](num1, num2))\n",
    "print(calc_dic[\"*\"](num1, num2))\n",
    "print(calc_dic[\"%\"](num1, num2))\n",
    "print(calc_dic[\"-\"](num1, num2))\n",
    "print(calc_dic[\"/\"](num1, num2))\n"
   ]
  },
  {
   "cell_type": "markdown",
   "metadata": {},
   "source": [
    "### 練習\n"
   ]
  },
  {
   "cell_type": "code",
   "execution_count": 24,
   "metadata": {},
   "outputs": [
    {
     "name": "stdout",
     "output_type": "stream",
     "text": [
      "ピクシー\n"
     ]
    }
   ],
   "source": [
    "p_dict = {\n",
    "    25: \"ピカチュウ\",\n",
    "    26: \"ライチュウ\",\n",
    "    35: \"ピッピ\",\n",
    "    36: \"ピクシー\",\n",
    "    39: \"プリン\",\n",
    "    40: \"プクリン\",\n",
    "}\n",
    "p = p_dict[36]\n",
    "print(p)\n"
   ]
  },
  {
   "cell_type": "code",
   "execution_count": 7,
   "metadata": {},
   "outputs": [
    {
     "name": "stdout",
     "output_type": "stream",
     "text": [
      "<filter object at 0x1067932e0>\n",
      "ピカチュウ\n",
      "ライチュウ\n"
     ]
    }
   ],
   "source": [
    "p_dict = {\n",
    "    25: \"ピカチュウ\",\n",
    "    26: \"ライチュウ\",\n",
    "    35: \"ピッピ\",\n",
    "    36: \"ピクシー\",\n",
    "    39: \"プリン\",\n",
    "    40: \"プクリン\",\n",
    "}\n",
    "\n",
    "p_l = filter(lambda x: \"チュウ\" in x, p_dict.values())\n",
    "for i in p_l:\n",
    "    print(i)\n"
   ]
  },
  {
   "cell_type": "markdown",
   "metadata": {},
   "source": [
    "## タプル\n"
   ]
  },
  {
   "cell_type": "markdown",
   "metadata": {},
   "source": [
    "### タプル型の書き方と参照方法\n"
   ]
  },
  {
   "cell_type": "code",
   "execution_count": 8,
   "metadata": {},
   "outputs": [
    {
     "name": "stdout",
     "output_type": "stream",
     "text": [
      "ピカチュウ\n",
      "ピッピ\n"
     ]
    }
   ],
   "source": [
    "p_tuple = (\"ピカチュウ\", \"ピッピ\", \"プリン\")\n",
    "print(p_tuple[0])\n",
    "print(p_tuple[1])\n"
   ]
  },
  {
   "cell_type": "markdown",
   "metadata": {},
   "source": [
    "### メソッド\n",
    "\n",
    "イミュータブルなので、参照系のメソッドしか無い。\n"
   ]
  },
  {
   "cell_type": "code",
   "execution_count": 10,
   "metadata": {},
   "outputs": [
    {
     "name": "stdout",
     "output_type": "stream",
     "text": [
      "2\n",
      "1\n"
     ]
    }
   ],
   "source": [
    "p_tuple = (\"ピカチュウ\", \"ピッピ\", \"プリン\", \"プリン\")\n",
    "\n",
    "print(p_tuple.count(\"プリン\"))\n",
    "print(p_tuple.index(\"ピッピ\"))\n"
   ]
  },
  {
   "cell_type": "markdown",
   "metadata": {},
   "source": [
    "### 要素の出力\n"
   ]
  },
  {
   "cell_type": "code",
   "execution_count": 11,
   "metadata": {},
   "outputs": [
    {
     "name": "stdout",
     "output_type": "stream",
     "text": [
      "ピカチュウ\n",
      "ピッピ\n",
      "プリン\n"
     ]
    }
   ],
   "source": [
    "p_tuple = (\"ピカチュウ\", \"ピッピ\", \"プリン\")\n",
    "\n",
    "for i in p_tuple:\n",
    "    print(i)\n"
   ]
  },
  {
   "cell_type": "code",
   "execution_count": 13,
   "metadata": {},
   "outputs": [
    {
     "name": "stdout",
     "output_type": "stream",
     "text": [
      "ピカチュウ\n",
      "ピッピ\n",
      "プリン\n"
     ]
    }
   ],
   "source": [
    "p_tuple = (\"ピカチュウ\", \"ピッピ\", \"プリン\")\n",
    "\n",
    "for i in range(len(p_tuple)):\n",
    "    print(p_tuple[i])\n"
   ]
  },
  {
   "cell_type": "markdown",
   "metadata": {},
   "source": [
    "### タプル型を引数として受け取れる関数\n",
    "\n",
    "|        |\n",
    "| :----: |\n",
    "|  all   |\n",
    "|  any   |\n",
    "|  len   |\n",
    "|  max   |\n",
    "|  min   |\n",
    "| sorted |\n",
    "|  sum   |\n",
    "\n",
    "map と filter は使えない\n"
   ]
  },
  {
   "cell_type": "code",
   "execution_count": 18,
   "metadata": {},
   "outputs": [
    {
     "name": "stdout",
     "output_type": "stream",
     "text": [
      "5\n",
      "True\n",
      "False\n",
      "[1, 2, 3, 4, 5]\n"
     ]
    }
   ],
   "source": [
    "n_tuple = (5, 2, 3, 1, 4)\n",
    "print(max(n_tuple))\n",
    "print(any(x > 3 for x in n_tuple))\n",
    "print(all(x > 3 for x in n_tuple))\n",
    "print(sorted(n_tuple))\n"
   ]
  },
  {
   "cell_type": "markdown",
   "metadata": {},
   "source": [
    "### 練習\n"
   ]
  },
  {
   "cell_type": "code",
   "execution_count": 19,
   "metadata": {},
   "outputs": [
    {
     "name": "stdout",
     "output_type": "stream",
     "text": [
      "5\n",
      "3\n",
      "3\n"
     ]
    }
   ],
   "source": [
    "p_tuple = (\"ピカチュウ\", \"ピッピ\", \"プリン\")\n",
    "\n",
    "for i in p_tuple:\n",
    "    print(len(i))\n"
   ]
  },
  {
   "cell_type": "code",
   "execution_count": 26,
   "metadata": {},
   "outputs": [
    {
     "name": "stdout",
     "output_type": "stream",
     "text": [
      "ピカチュウ\n"
     ]
    }
   ],
   "source": [
    "p_tuple = (\"ピカチュウ\", \"ピッピ\", \"プリン\")\n",
    "count = \"\"\n",
    "for i in p_tuple:\n",
    "    if len(count) < len(i):\n",
    "        count = i\n",
    "\n",
    "print(count)\n"
   ]
  },
  {
   "cell_type": "code",
   "execution_count": null,
   "metadata": {},
   "outputs": [],
   "source": []
  },
  {
   "cell_type": "code",
   "execution_count": 24,
   "metadata": {},
   "outputs": [
    {
     "name": "stdout",
     "output_type": "stream",
     "text": [
      "ピカチュウ\n"
     ]
    }
   ],
   "source": [
    "p_tuple = (\"ピカチュウ\", \"ピッピ\", \"プリン\")\n",
    "\n",
    "print(max(p_tuple, key=len))\n"
   ]
  },
  {
   "cell_type": "markdown",
   "metadata": {},
   "source": [
    "## zip関数と型変換関数"
   ]
  },
  {
   "cell_type": "markdown",
   "metadata": {},
   "source": [
    "### zip関数\n",
    "2つの関数を一つの要素にまとめる"
   ]
  },
  {
   "cell_type": "code",
   "execution_count": 27,
   "metadata": {},
   "outputs": [
    {
     "name": "stdout",
     "output_type": "stream",
     "text": [
      "ピカチュウ:でんき\n",
      "ピッピ:フェアリー\n",
      "ゼニガメ:みず\n",
      "ヒトカゲ:ほのお\n"
     ]
    }
   ],
   "source": [
    "#　zipを使わずに2つのリストを連結\n",
    "\n",
    "p_list = [\"ピカチュウ\", \"ピッピ\", \"ゼニガメ\", \"ヒトカゲ\"]\n",
    "type_list = [\"でんき\", \"フェアリー\", \"みず\",\"ほのお\"]\n",
    "p_type_list = []\n",
    "for i in range(len(p_list)):\n",
    "    p_type_list.append(p_list[i] + \":\" + type_list[i])\n",
    "\n",
    "for i in p_type_list:\n",
    "    print(i)"
   ]
  },
  {
   "cell_type": "code",
   "execution_count": 40,
   "metadata": {},
   "outputs": [
    {
     "name": "stdout",
     "output_type": "stream",
     "text": [
      "ピカチュウ:でんき\n",
      "ピッピ:フェアリー\n",
      "ゼニガメ:みず\n",
      "ヒトカゲ:ほのお\n"
     ]
    }
   ],
   "source": [
    "p_list = [\"ピカチュウ\", \"ピッピ\", \"ゼニガメ\", \"ヒトカゲ\"]\n",
    "type_list = [\"でんき\", \"フェアリー\", \"みず\", \"ほのお\"]\n",
    "p_type_list = list(zip(p_list, type_list))\n",
    "p_type_list2 = zip(p_list, type_list)\n",
    "\n",
    "for i in p_type_list:\n",
    "    print(i[0] + \":\" + i[1])\n"
   ]
  },
  {
   "cell_type": "code",
   "execution_count": 41,
   "metadata": {},
   "outputs": [
    {
     "name": "stdout",
     "output_type": "stream",
     "text": [
      "('ピカチュウ', 'でんき')\n",
      "('ピッピ', 'フェアリー')\n",
      "('ゼニガメ', 'みず')\n",
      "('ヒトカゲ', 'ほのお')\n"
     ]
    }
   ],
   "source": [
    "# zipの戻り値の型を確認\n",
    "for i in p_type_list:\n",
    "    print(i)"
   ]
  },
  {
   "cell_type": "markdown",
   "metadata": {},
   "source": [
    "- zipは遅延評価\n",
    "  - forループに渡されたりlistにラップされるなどの反復処理が実行されるまで受け取った要素を処理しない。"
   ]
  },
  {
   "cell_type": "code",
   "execution_count": 42,
   "metadata": {},
   "outputs": [
    {
     "name": "stdout",
     "output_type": "stream",
     "text": [
      "('ピカチュウ', 'でんき')\n",
      "('ピッピ', 'フェアリー')\n",
      "('ゼニガメ', 'みず')\n",
      "('ヒトカゲ', 'ほのお')\n"
     ]
    }
   ],
   "source": [
    "for i in p_type_list2:\n",
    "    print(i)"
   ]
  },
  {
   "cell_type": "code",
   "execution_count": 43,
   "metadata": {},
   "outputs": [
    {
     "name": "stdout",
     "output_type": "stream",
     "text": [
      "[('ピカチュウ', 'でんき'), ('ピッピ', 'フェアリー'), ('ゼニガメ', 'みず'), ('ヒトカゲ', 'ほのお')]\n",
      "<zip object at 0x106c6c480>\n"
     ]
    }
   ],
   "source": [
    "print(p_type_list)\n",
    "print(p_type_list2)"
   ]
  },
  {
   "cell_type": "markdown",
   "metadata": {},
   "source": [
    "### list関数"
   ]
  },
  {
   "cell_type": "code",
   "execution_count": 44,
   "metadata": {},
   "outputs": [
    {
     "name": "stdout",
     "output_type": "stream",
     "text": [
      "('ピカチュウ', 'ピッピ', 'プリン')\n",
      "['ピカチュウ', 'ピッピ', 'プリン']\n"
     ]
    }
   ],
   "source": [
    "p_t = (\"ピカチュウ\", \"ピッピ\", \"プリン\")\n",
    "p_l = list(p_t)\n",
    "\n",
    "print(p_t)\n",
    "\n",
    "print(p_l)"
   ]
  },
  {
   "cell_type": "code",
   "execution_count": 52,
   "metadata": {},
   "outputs": [
    {
     "name": "stdout",
     "output_type": "stream",
     "text": [
      "['ピカチュウ', 'ピッピ', 'ゼニガメ']\n",
      "['でんき', 'フェアリー', 'みず']\n",
      "['ピカチュウ', 'ピッピ', 'ゼニガメ']\n"
     ]
    }
   ],
   "source": [
    "p_d = {\"ピカチュウ\": \"でんき\", \"ピッピ\":\"フェアリー\", \"ゼニガメ\": \"みず\"}\n",
    "\n",
    "p_l = list(p_d)\n",
    "print(p_l)\n",
    "p_l2 = list(p_d.values())\n",
    "print(p_l2)\n",
    "p_l3 = list(p_d.keys())\n",
    "print(p_l3)"
   ]
  },
  {
   "cell_type": "markdown",
   "metadata": {},
   "source": [
    "デフォルトでキーを抽出してリスト化する。  \n",
    "略さずに宣言したほうがよさげ？"
   ]
  },
  {
   "cell_type": "markdown",
   "metadata": {},
   "source": [
    "### tuple関数"
   ]
  },
  {
   "cell_type": "code",
   "execution_count": 48,
   "metadata": {},
   "outputs": [
    {
     "name": "stdout",
     "output_type": "stream",
     "text": [
      "('ピカチュウ', 'ピッピ', 'プリン')\n"
     ]
    }
   ],
   "source": [
    "p_l = [\"ピカチュウ\", \"ピッピ\", \"プリン\"]\n",
    "\n",
    "p_t = tuple(p_l)\n",
    "print(p_t)"
   ]
  },
  {
   "cell_type": "code",
   "execution_count": 56,
   "metadata": {},
   "outputs": [
    {
     "name": "stdout",
     "output_type": "stream",
     "text": [
      "('ピカチュウ', 'ピッピ', 'ゼニガメ')\n",
      "('ピカチュウ', 'ピッピ', 'ゼニガメ')\n",
      "('でんき', 'フェアリー', 'みず')\n"
     ]
    }
   ],
   "source": [
    "p_d = {\"ピカチュウ\": \"でんき\", \"ピッピ\":\"フェアリー\", \"ゼニガメ\": \"みず\"}\n",
    "\n",
    "p_t = tuple(p_d)\n",
    "print(p_t)\n",
    "p_t2 = tuple(p_d.keys())\n",
    "print(p_t2)\n",
    "p_t3 = tuple(p_d.values())\n",
    "print(p_t3)"
   ]
  },
  {
   "cell_type": "markdown",
   "metadata": {},
   "source": [
    "### dict関数"
   ]
  },
  {
   "cell_type": "code",
   "execution_count": 60,
   "metadata": {},
   "outputs": [
    {
     "name": "stdout",
     "output_type": "stream",
     "text": [
      "{'ピカチュウ': 'でんき', 'ピッピ': 'フェアリー', 'ゼニガメ': 'みず'}\n"
     ]
    }
   ],
   "source": [
    "p_l = [[\"ピカチュウ\", \"でんき\"], [\"ピッピ\", \"フェアリー\"], [\"ゼニガメ\", \"みず\"]]\n",
    "p_d = dict(p_l)\n",
    "print(p_d)"
   ]
  },
  {
   "cell_type": "code",
   "execution_count": 62,
   "metadata": {},
   "outputs": [
    {
     "name": "stdout",
     "output_type": "stream",
     "text": [
      "(('ピカチュウ', 'でんき'), ('ピッピ', 'フェアリー'), ('ゼニガメ', 'みず'))\n"
     ]
    }
   ],
   "source": [
    "p_t = ((\"ピカチュウ\", \"でんき\"), (\"ピッピ\", \"フェアリー\"), (\"ゼニガメ\", \"みず\"))\n",
    "p_d = dict(p_t)\n",
    "print(p_t)"
   ]
  },
  {
   "cell_type": "code",
   "execution_count": 64,
   "metadata": {},
   "outputs": [
    {
     "name": "stdout",
     "output_type": "stream",
     "text": [
      "{'ピカチュウ': 'でんき', 'ピッピ': 'フェアリー', 'ゼニガメ': 'みず', 'ヒトカゲ': 'ほのお'}\n"
     ]
    }
   ],
   "source": [
    "p_list = [\"ピカチュウ\", \"ピッピ\", \"ゼニガメ\", \"ヒトカゲ\"]\n",
    "type_list = [\"でんき\", \"フェアリー\", \"みず\", \"ほのお\"]\n",
    "\n",
    "p_d = dict(zip(p_list, type_list))\n",
    "\n",
    "print(p_d)"
   ]
  },
  {
   "cell_type": "markdown",
   "metadata": {},
   "source": [
    "上記リストの組み合わせ以外にタプル同士、タプルとリストの組み合わせも処理できる。"
   ]
  },
  {
   "cell_type": "markdown",
   "metadata": {},
   "source": [
    "### 練習"
   ]
  },
  {
   "cell_type": "code",
   "execution_count": 66,
   "metadata": {},
   "outputs": [
    {
     "name": "stdout",
     "output_type": "stream",
     "text": [
      "6\n",
      "8\n",
      "10\n",
      "12\n",
      "14\n"
     ]
    }
   ],
   "source": [
    "n1 = [1, 2, 3, 4, 5]\n",
    "n2 = [5, 6, 7, 8, 9]\n",
    "\n",
    "for i in zip(n1, n2):\n",
    "    print(i[0] + i[1])\n"
   ]
  },
  {
   "cell_type": "code",
   "execution_count": 67,
   "metadata": {},
   "outputs": [
    {
     "name": "stdout",
     "output_type": "stream",
     "text": [
      "ピチュー\n",
      "ピカチュウ\n",
      "ライチュウ\n"
     ]
    }
   ],
   "source": [
    "no_list = [1,2,3]\n",
    "p_list = [\"ピチュー\", \"ピカチュウ\", \"ライチュウ\"]\n",
    "\n",
    "n_d = dict(zip(no_list, p_list))\n",
    "\n",
    "for i in n_d.values():\n",
    "    print(i)"
   ]
  },
  {
   "cell_type": "markdown",
   "metadata": {},
   "source": [
    "## クラスを用いた関数の使用\n"
   ]
  },
  {
   "cell_type": "code",
   "execution_count": 70,
   "metadata": {},
   "outputs": [],
   "source": [
    "class Pokemon:\n",
    "    def __init__(self, name, type1, type2):\n",
    "        self.name = name\n",
    "        self.type1 = type1\n",
    "        self.type2 = type2\n",
    "\n",
    "    def print_info(self):\n",
    "        print(\n",
    "            \"名前: \"\n",
    "            + self.name\n",
    "            + \" タイプ1: \"\n",
    "            + self.type1\n",
    "            + \" タイプ2: \"\n",
    "            + self.type2\n",
    "        )"
   ]
  },
  {
   "cell_type": "code",
   "execution_count": 73,
   "metadata": {},
   "outputs": [
    {
     "name": "stdout",
     "output_type": "stream",
     "text": [
      "名前: ピカチュウ タイプ1: でんき タイプ2: \n",
      "名前: ピッピ タイプ1: フェアリー タイプ2: \n",
      "名前: プリン タイプ1: フェアリー タイプ2: ノーマル\n",
      "名前: ゼニガメ タイプ1: みず タイプ2: \n",
      "名前: ヒトカゲ タイプ1: ほのお タイプ2: \n"
     ]
    }
   ],
   "source": [
    "p_list = [\n",
    "    Pokemon(name=\"ピカチュウ\", type1=\"でんき\", type2=\"\"),\n",
    "    Pokemon(name=\"ピッピ\", type1=\"フェアリー\", type2=\"\"),\n",
    "    Pokemon(name=\"プリン\", type1=\"フェアリー\", type2=\"ノーマル\"),\n",
    "    Pokemon(name=\"ゼニガメ\", type1=\"みず\", type2=\"\"),\n",
    "    Pokemon(name=\"ヒトカゲ\", type1=\"ほのお\", type2=\"\")\n",
    "]\n",
    "\n",
    "for i in p_list:\n",
    "    i.print_info()"
   ]
  },
  {
   "cell_type": "code",
   "execution_count": 75,
   "metadata": {},
   "outputs": [
    {
     "name": "stdout",
     "output_type": "stream",
     "text": [
      "名前: ピカチュウ タイプ1: でんき タイプ2: \n",
      "名前: ピッピ タイプ1: フェアリー タイプ2: \n",
      "名前: プリン タイプ1: フェアリー タイプ2: ノーマル\n",
      "名前: ゼニガメ タイプ1: みず タイプ2: \n",
      "名前: ヒトカゲ タイプ1: ほのお タイプ2: \n"
     ]
    }
   ],
   "source": [
    "p_list = [\n",
    "    Pokemon(name=\"ピカチュウ\", type1=\"でんき\", type2=\"\"),\n",
    "    Pokemon(name=\"ピッピ\", type1=\"フェアリー\", type2=\"\"),\n",
    "    Pokemon(name=\"プリン\", type1=\"フェアリー\", type2=\"ノーマル\"),\n",
    "    Pokemon(name=\"ゼニガメ\", type1=\"みず\", type2=\"\"),\n",
    "    Pokemon(name=\"ヒトカゲ\", type1=\"ほのお\", type2=\"\")\n",
    "]\n",
    "\n",
    "info_list = list(map(lambda x: x.print_info(), p_list))\n",
    "\n",
    "for i in info_list:\n",
    "    i"
   ]
  },
  {
   "cell_type": "code",
   "execution_count": 79,
   "metadata": {},
   "outputs": [
    {
     "name": "stdout",
     "output_type": "stream",
     "text": [
      "名前: ピカチュウ タイプ1: でんき タイプ2: \n",
      "名前: ピッピ タイプ1: フェアリー タイプ2: \n",
      "名前: プリン タイプ1: フェアリー タイプ2: ノーマル\n",
      "名前: ゼニガメ タイプ1: みず タイプ2: \n",
      "名前: ヒトカゲ タイプ1: ほのお タイプ2: \n"
     ]
    }
   ],
   "source": [
    "p_list = [\n",
    "    Pokemon(name=\"ピカチュウ\", type1=\"でんき\", type2=\"\"),\n",
    "    Pokemon(name=\"ピッピ\", type1=\"フェアリー\", type2=\"\"),\n",
    "    Pokemon(name=\"プリン\", type1=\"フェアリー\", type2=\"ノーマル\"),\n",
    "    Pokemon(name=\"ゼニガメ\", type1=\"みず\", type2=\"\"),\n",
    "    Pokemon(name=\"ヒトカゲ\", type1=\"ほのお\", type2=\"\"),\n",
    "]\n",
    "\n",
    "info_list = list(\n",
    "    map(\n",
    "        lambda x: \"名前: \" + x.name + \" タイプ1: \"  + x.type1 + \" タイプ2: \" + x.type2, p_list\n",
    "    )\n",
    ")\n",
    "\n",
    "for i in info_list:\n",
    "    print(i)\n"
   ]
  },
  {
   "cell_type": "code",
   "execution_count": 93,
   "metadata": {},
   "outputs": [
    {
     "name": "stdout",
     "output_type": "stream",
     "text": [
      "名前: プリン タイプ1: フェアリー タイプ2: ノーマル\n"
     ]
    }
   ],
   "source": [
    "p_list = [\n",
    "    Pokemon(name=\"ピカチュウ\", type1=\"でんき\", type2=\"\"),\n",
    "    Pokemon(name=\"ピッピ\", type1=\"フェアリー\", type2=\"\"),\n",
    "    Pokemon(name=\"プリン\", type1=\"フェアリー\", type2=\"ノーマル\"),\n",
    "    Pokemon(name=\"ゼニガメ\", type1=\"みず\", type2=\"\"),\n",
    "    Pokemon(name=\"ヒトカゲ\", type1=\"ほのお\", type2=\"\")\n",
    "]\n",
    "\n",
    "info_list = list(filter(lambda x: x.type2 != \"\"  , p_list))\n",
    "\n",
    "for i in info_list:\n",
    "    i.print_info()\n"
   ]
  },
  {
   "cell_type": "code",
   "execution_count": 81,
   "metadata": {},
   "outputs": [
    {
     "name": "stdout",
     "output_type": "stream",
     "text": [
      "ゼニガメ\n",
      "ヒトカゲ\n",
      "ピカチュウ\n",
      "ピッピ\n",
      "プリン\n"
     ]
    }
   ],
   "source": [
    "p_list = [\n",
    "    Pokemon(name=\"ピカチュウ\", type1=\"でんき\", type2=\"\"),\n",
    "    Pokemon(name=\"ピッピ\", type1=\"フェアリー\", type2=\"\"),\n",
    "    Pokemon(name=\"プリン\", type1=\"フェアリー\", type2=\"ノーマル\"),\n",
    "    Pokemon(name=\"ゼニガメ\", type1=\"みず\", type2=\"\"),\n",
    "    Pokemon(name=\"ヒトカゲ\", type1=\"ほのお\", type2=\"\")\n",
    "]\n",
    "\n",
    "\n",
    "info_list = sorted(p_list, key=lambda x: x.name)\n",
    "\n",
    "for i in info_list:\n",
    "    print(i.name)"
   ]
  },
  {
   "cell_type": "code",
   "execution_count": 82,
   "metadata": {},
   "outputs": [
    {
     "name": "stdout",
     "output_type": "stream",
     "text": [
      "ピッピ\n",
      "プリン\n",
      "ゼニガメ\n",
      "ヒトカゲ\n",
      "ピカチュウ\n"
     ]
    }
   ],
   "source": [
    "p_list = [\n",
    "    Pokemon(name=\"ピカチュウ\", type1=\"でんき\", type2=\"\"),\n",
    "    Pokemon(name=\"ピッピ\", type1=\"フェアリー\", type2=\"\"),\n",
    "    Pokemon(name=\"プリン\", type1=\"フェアリー\", type2=\"ノーマル\"),\n",
    "    Pokemon(name=\"ゼニガメ\", type1=\"みず\", type2=\"\"),\n",
    "    Pokemon(name=\"ヒトカゲ\", type1=\"ほのお\", type2=\"\")\n",
    "]\n",
    "\n",
    "\n",
    "info_list = sorted(p_list, key=lambda x: len(x.name))\n",
    "\n",
    "for i in info_list:\n",
    "    print(i.name)"
   ]
  },
  {
   "cell_type": "markdown",
   "metadata": {},
   "source": [
    "### 練習"
   ]
  },
  {
   "cell_type": "code",
   "execution_count": 92,
   "metadata": {},
   "outputs": [
    {
     "name": "stdout",
     "output_type": "stream",
     "text": [
      "名前: ピカチュウ タイプ1: でんき タイプ2: \n",
      "名前: ピッピ タイプ1: フェアリー タイプ2: \n"
     ]
    }
   ],
   "source": [
    "p_list = [\n",
    "    Pokemon(name=\"ピカチュウ\", type1=\"でんき\", type2=\"\"),\n",
    "    Pokemon(name=\"ピッピ\", type1=\"フェアリー\", type2=\"\"),\n",
    "    Pokemon(name=\"プリン\", type1=\"フェアリー\", type2=\"ノーマル\"),\n",
    "    Pokemon(name=\"ゼニガメ\", type1=\"みず\", type2=\"\"),\n",
    "    Pokemon(name=\"ヒトカゲ\", type1=\"ほのお\", type2=\"\")\n",
    "]\n",
    "\n",
    "\n",
    "info_list = list(filter(lambda x: \"ピ\" in x.name, p_list ))\n",
    "\n",
    "for i in info_list:\n",
    "    i.print_info()"
   ]
  },
  {
   "cell_type": "code",
   "execution_count": 100,
   "metadata": {},
   "outputs": [
    {
     "name": "stdout",
     "output_type": "stream",
     "text": [
      "ピッピさん\n",
      "プリンさん\n",
      "ゼニガメさん\n",
      "ヒトカゲさん\n",
      "ピカチュウさん\n"
     ]
    }
   ],
   "source": [
    "p_list = [\n",
    "    Pokemon(name=\"ピカチュウ\", type1=\"でんき\", type2=\"\"),\n",
    "    Pokemon(name=\"ピッピ\", type1=\"フェアリー\", type2=\"\"),\n",
    "    Pokemon(name=\"プリン\", type1=\"フェアリー\", type2=\"ノーマル\"),\n",
    "    Pokemon(name=\"ゼニガメ\", type1=\"みず\", type2=\"\"),\n",
    "    Pokemon(name=\"ヒトカゲ\", type1=\"ほのお\", type2=\"\")\n",
    "]\n",
    "\n",
    "\n",
    "info_list = list(sorted(map(lambda x: x.name + \"さん\",p_list), key=len))\n",
    "\n",
    "for i in info_list:\n",
    "    print(i)\n"
   ]
  }
 ],
 "metadata": {
  "kernelspec": {
   "display_name": ".venv",
   "language": "python",
   "name": "python3"
  },
  "language_info": {
   "codemirror_mode": {
    "name": "ipython",
    "version": 3
   },
   "file_extension": ".py",
   "mimetype": "text/x-python",
   "name": "python",
   "nbconvert_exporter": "python",
   "pygments_lexer": "ipython3",
   "version": "3.11.3"
  },
  "orig_nbformat": 4
 },
 "nbformat": 4,
 "nbformat_minor": 2
}
