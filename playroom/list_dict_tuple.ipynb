{
 "cells": [
  {
   "cell_type": "code",
   "execution_count": 2,
   "metadata": {},
   "outputs": [],
   "source": [
    "class Pokemon:\n",
    "    def __init__(self, name, type1, type2):\n",
    "        self.name = name\n",
    "        self.type1 = type1\n",
    "        self.type2 = type2\n",
    "\n",
    "    def print_info(self):\n",
    "        print(\n",
    "            \"名前: \"\n",
    "            + self.name\n",
    "            + \" タイプ1: \"\n",
    "            + self.type1\n",
    "            + \" タイプ2: \"\n",
    "            + self.type2\n",
    "        )\n"
   ]
  },
  {
   "cell_type": "code",
   "execution_count": 3,
   "metadata": {},
   "outputs": [
    {
     "name": "stdout",
     "output_type": "stream",
     "text": [
      "名前: ピカチュウ タイプ1: でんき タイプ2: \n"
     ]
    }
   ],
   "source": [
    "p1 = Pokemon(name=\"ピカチュウ\", type1=\"でんき\", type2=\"\")\n",
    "p1.print_info()\n"
   ]
  },
  {
   "cell_type": "code",
   "execution_count": 4,
   "metadata": {},
   "outputs": [
    {
     "name": "stdout",
     "output_type": "stream",
     "text": [
      "ピカチュウ\n",
      "フェアリー\n",
      "ノーマル\n"
     ]
    }
   ],
   "source": [
    "p1 = Pokemon(name=\"ピカチュウ\", type1=\"でんき\", type2=\"\")\n",
    "p2 = Pokemon(name=\"ピッピ\", type1=\"フェアリー\", type2=\"\")\n",
    "p3 = Pokemon(name=\"プリン\", type1=\"フェアリー\", type2=\"ノーマル\")\n",
    "\n",
    "print(p1.name)\n",
    "print(p2.type1)\n",
    "print(p3.type2)\n"
   ]
  },
  {
   "cell_type": "code",
   "execution_count": 5,
   "metadata": {},
   "outputs": [
    {
     "name": "stdout",
     "output_type": "stream",
     "text": [
      "名前: ピカチュウ タイプ1: でんき タイプ2: \n",
      "名前: ピッピ タイプ1: フェアリー タイプ2: \n",
      "名前: プリン タイプ1: フェアリー タイプ2: ノーマル\n"
     ]
    }
   ],
   "source": [
    "p_list = [\n",
    "    Pokemon(name=\"ピカチュウ\", type1=\"でんき\", type2=\"\"),\n",
    "    Pokemon(name=\"ピッピ\", type1=\"フェアリー\", type2=\"\"),\n",
    "    Pokemon(name=\"プリン\", type1=\"フェアリー\", type2=\"ノーマル\"),\n",
    "]\n",
    "\n",
    "for i in p_list:\n",
    "    i.print_info()\n"
   ]
  },
  {
   "cell_type": "code",
   "execution_count": 6,
   "metadata": {},
   "outputs": [
    {
     "name": "stdout",
     "output_type": "stream",
     "text": [
      "名前: プリン タイプ1: フェアリー タイプ2: ノーマル\n",
      "名前: フシギダネ タイプ1: くさ タイプ2: どく\n"
     ]
    }
   ],
   "source": [
    "p_list = [\n",
    "    Pokemon(name=\"ピカチュウ\", type1=\"でんき\", type2=\"\"),\n",
    "    Pokemon(name=\"ピッピ\", type1=\"フェアリー\", type2=\"\"),\n",
    "    Pokemon(name=\"プリン\", type1=\"フェアリー\", type2=\"ノーマル\"),\n",
    "]\n",
    "\n",
    "p_list.append(Pokemon(name=\"フシギダネ\", type1=\"くさ\", type2=\"どく\"))\n",
    "for i in p_list[2:]:\n",
    "    i.print_info()\n"
   ]
  },
  {
   "cell_type": "markdown",
   "metadata": {},
   "source": [
    "## 辞書型\n"
   ]
  },
  {
   "cell_type": "code",
   "execution_count": 7,
   "metadata": {},
   "outputs": [
    {
     "name": "stdout",
     "output_type": "stream",
     "text": [
      "ピカチュウ\n"
     ]
    }
   ],
   "source": [
    "p_dict = {25: \"ピカチュウ\", 35: \"ピッピ\", 39: \"プリン\"}\n",
    "print(p_dict[25])\n"
   ]
  },
  {
   "cell_type": "markdown",
   "metadata": {},
   "source": [
    "### 要素の追加と削除\n"
   ]
  },
  {
   "cell_type": "markdown",
   "metadata": {},
   "source": [
    "#### 追加\n"
   ]
  },
  {
   "cell_type": "code",
   "execution_count": 8,
   "metadata": {},
   "outputs": [
    {
     "name": "stdout",
     "output_type": "stream",
     "text": [
      "{25: 'ピカチュウ', 35: 'ピッピ', 39: 'プリン', 26: 'ライチュウ'}\n"
     ]
    }
   ],
   "source": [
    "p_dict = {25: \"ピカチュウ\", 35: \"ピッピ\", 39: \"プリン\"}\n",
    "p_dict[26] = \"ライチュウ\"\n",
    "print(p_dict)\n"
   ]
  },
  {
   "cell_type": "markdown",
   "metadata": {},
   "source": [
    "#### 削除\n"
   ]
  },
  {
   "cell_type": "code",
   "execution_count": 9,
   "metadata": {},
   "outputs": [
    {
     "name": "stdout",
     "output_type": "stream",
     "text": [
      "True\n",
      "False\n"
     ]
    }
   ],
   "source": [
    "p_dict = {25: \"ピカチュウ\", 35: \"ピッピ\", 39: \"プリン\"}\n",
    "\n",
    "print(25 in p_dict)\n",
    "p_dict.pop(25)\n",
    "print(25 in p_dict)\n"
   ]
  },
  {
   "cell_type": "markdown",
   "metadata": {},
   "source": [
    "### キーや値の有無を判別する方法\n"
   ]
  },
  {
   "cell_type": "code",
   "execution_count": 13,
   "metadata": {},
   "outputs": [
    {
     "name": "stdout",
     "output_type": "stream",
     "text": [
      "True\n",
      "False\n",
      "True\n",
      "False\n"
     ]
    }
   ],
   "source": [
    "p_dict = {25: \"ピカチュウ\", 35: \"ピッピ\", 39: \"プリン\"}\n",
    "\n",
    "print(25 in p_dict.keys())\n",
    "print(26 in p_dict.keys())\n",
    "\n",
    "print(\"ピカチュウ\" in p_dict.values())\n",
    "print(\"ライチュウ\" in p_dict.values())\n"
   ]
  },
  {
   "cell_type": "markdown",
   "metadata": {},
   "source": [
    "### 辞書の要素出力\n"
   ]
  },
  {
   "cell_type": "code",
   "execution_count": 15,
   "metadata": {},
   "outputs": [
    {
     "name": "stdout",
     "output_type": "stream",
     "text": [
      "25\n",
      "35\n",
      "39\n",
      "ピカチュウ\n",
      "ピッピ\n",
      "プリン\n"
     ]
    }
   ],
   "source": [
    "p_dict = {25: \"ピカチュウ\", 35: \"ピッピ\", 39: \"プリン\"}\n",
    "\n",
    "for k in p_dict.keys():\n",
    "    print(k)\n",
    "\n",
    "for v in p_dict.values():\n",
    "    print(v)\n"
   ]
  },
  {
   "cell_type": "code",
   "execution_count": 19,
   "metadata": {},
   "outputs": [
    {
     "name": "stdout",
     "output_type": "stream",
     "text": [
      "ピカチュウさん\n",
      "ピッピさん\n",
      "プリンさん\n"
     ]
    }
   ],
   "source": [
    "p_dict = {25: \"ピカチュウ\", 35: \"ピッピ\", 39: \"プリン\"}\n",
    "\n",
    "p_list = list(map(lambda x: x + \"さん\", p_dict.values()))\n",
    "\n",
    "for i in p_list:\n",
    "    print(i)\n"
   ]
  },
  {
   "cell_type": "markdown",
   "metadata": {},
   "source": [
    "### 辞書型とラムダ式\n"
   ]
  },
  {
   "cell_type": "code",
   "execution_count": 20,
   "metadata": {},
   "outputs": [
    {
     "name": "stdout",
     "output_type": "stream",
     "text": [
      "8\n"
     ]
    }
   ],
   "source": [
    "result = 0\n",
    "calc_mode = \"+\"\n",
    "\n",
    "num1 = 5\n",
    "num2 = 3\n",
    "\n",
    "if calc_mode == \"+\":\n",
    "    result = num1 + num2\n",
    "elif calc_mode == \"-\":\n",
    "    result = num1 - num2\n",
    "elif calc_mode == \"*\":\n",
    "    result = num1 * num2\n",
    "elif calc_mode == \"/\":\n",
    "    result = num1 / num2\n",
    "elif calc_mode == \"%\":\n",
    "    result = num1 % num2\n",
    "\n",
    "print(result)\n"
   ]
  },
  {
   "cell_type": "code",
   "execution_count": 23,
   "metadata": {},
   "outputs": [
    {
     "name": "stdout",
     "output_type": "stream",
     "text": [
      "8\n",
      "15\n",
      "2\n",
      "2\n",
      "1.6666666666666667\n"
     ]
    }
   ],
   "source": [
    "calc_dic = {\n",
    "    \"+\": lambda x, y: x + y,\n",
    "    \"-\": lambda x, y: x - y,\n",
    "    \"*\": lambda x, y: x * y,\n",
    "    \"/\": lambda x, y: x / y,\n",
    "    \"%\": lambda x, y: x % y,\n",
    "}\n",
    "num1 = 5\n",
    "num2 = 3\n",
    "print(calc_dic[\"+\"](num1, num2))\n",
    "print(calc_dic[\"*\"](num1, num2))\n",
    "print(calc_dic[\"%\"](num1, num2))\n",
    "print(calc_dic[\"-\"](num1, num2))\n",
    "print(calc_dic[\"/\"](num1, num2))\n"
   ]
  },
  {
   "cell_type": "markdown",
   "metadata": {},
   "source": [
    "### 練習\n"
   ]
  },
  {
   "cell_type": "code",
   "execution_count": 24,
   "metadata": {},
   "outputs": [
    {
     "name": "stdout",
     "output_type": "stream",
     "text": [
      "ピクシー\n"
     ]
    }
   ],
   "source": [
    "p_dict = {\n",
    "    25: \"ピカチュウ\",\n",
    "    26: \"ライチュウ\",\n",
    "    35: \"ピッピ\",\n",
    "    36: \"ピクシー\",\n",
    "    39: \"プリン\",\n",
    "    40: \"プクリン\",\n",
    "}\n",
    "p = p_dict[36]\n",
    "print(p)\n"
   ]
  },
  {
   "cell_type": "code",
   "execution_count": 7,
   "metadata": {},
   "outputs": [
    {
     "name": "stdout",
     "output_type": "stream",
     "text": [
      "<filter object at 0x1067932e0>\n",
      "ピカチュウ\n",
      "ライチュウ\n"
     ]
    }
   ],
   "source": [
    "p_dict = {\n",
    "    25: \"ピカチュウ\",\n",
    "    26: \"ライチュウ\",\n",
    "    35: \"ピッピ\",\n",
    "    36: \"ピクシー\",\n",
    "    39: \"プリン\",\n",
    "    40: \"プクリン\",\n",
    "}\n",
    "\n",
    "p_l = filter(lambda x: \"チュウ\" in x, p_dict.values())\n",
    "for i in p_l:\n",
    "    print(i)\n"
   ]
  },
  {
   "cell_type": "markdown",
   "metadata": {},
   "source": [
    "## タプル\n"
   ]
  },
  {
   "cell_type": "markdown",
   "metadata": {},
   "source": [
    "### タプル型の書き方と参照方法\n"
   ]
  },
  {
   "cell_type": "code",
   "execution_count": 8,
   "metadata": {},
   "outputs": [
    {
     "name": "stdout",
     "output_type": "stream",
     "text": [
      "ピカチュウ\n",
      "ピッピ\n"
     ]
    }
   ],
   "source": [
    "p_tuple = (\"ピカチュウ\", \"ピッピ\", \"プリン\")\n",
    "print(p_tuple[0])\n",
    "print(p_tuple[1])\n"
   ]
  },
  {
   "cell_type": "markdown",
   "metadata": {},
   "source": [
    "### メソッド\n",
    "\n",
    "イミュータブルなので、参照系のメソッドしか無い。\n"
   ]
  },
  {
   "cell_type": "code",
   "execution_count": 10,
   "metadata": {},
   "outputs": [
    {
     "name": "stdout",
     "output_type": "stream",
     "text": [
      "2\n",
      "1\n"
     ]
    }
   ],
   "source": [
    "p_tuple = (\"ピカチュウ\", \"ピッピ\", \"プリン\", \"プリン\")\n",
    "\n",
    "print(p_tuple.count(\"プリン\"))\n",
    "print(p_tuple.index(\"ピッピ\"))\n"
   ]
  },
  {
   "cell_type": "markdown",
   "metadata": {},
   "source": [
    "### 要素の出力\n"
   ]
  },
  {
   "cell_type": "code",
   "execution_count": 11,
   "metadata": {},
   "outputs": [
    {
     "name": "stdout",
     "output_type": "stream",
     "text": [
      "ピカチュウ\n",
      "ピッピ\n",
      "プリン\n"
     ]
    }
   ],
   "source": [
    "p_tuple = (\"ピカチュウ\", \"ピッピ\", \"プリン\")\n",
    "\n",
    "for i in p_tuple:\n",
    "    print(i)\n"
   ]
  },
  {
   "cell_type": "code",
   "execution_count": 13,
   "metadata": {},
   "outputs": [
    {
     "name": "stdout",
     "output_type": "stream",
     "text": [
      "ピカチュウ\n",
      "ピッピ\n",
      "プリン\n"
     ]
    }
   ],
   "source": [
    "p_tuple = (\"ピカチュウ\", \"ピッピ\", \"プリン\")\n",
    "\n",
    "for i in range(len(p_tuple)):\n",
    "    print(p_tuple[i])\n"
   ]
  },
  {
   "cell_type": "markdown",
   "metadata": {},
   "source": [
    "### タプル型を引数として受け取れる関数\n",
    "\n",
    "|        |\n",
    "| :----: |\n",
    "|  all   |\n",
    "|  any   |\n",
    "|  len   |\n",
    "|  max   |\n",
    "|  min   |\n",
    "| sorted |\n",
    "|  sum   |\n",
    "\n",
    "map と filter は使えない\n"
   ]
  },
  {
   "cell_type": "code",
   "execution_count": 18,
   "metadata": {},
   "outputs": [
    {
     "name": "stdout",
     "output_type": "stream",
     "text": [
      "5\n",
      "True\n",
      "False\n",
      "[1, 2, 3, 4, 5]\n"
     ]
    }
   ],
   "source": [
    "n_tuple = (5, 2, 3, 1, 4)\n",
    "print(max(n_tuple))\n",
    "print(any(x > 3 for x in n_tuple))\n",
    "print(all(x > 3 for x in n_tuple))\n",
    "print(sorted(n_tuple))\n"
   ]
  },
  {
   "cell_type": "markdown",
   "metadata": {},
   "source": [
    "### 練習\n"
   ]
  },
  {
   "cell_type": "code",
   "execution_count": 19,
   "metadata": {},
   "outputs": [
    {
     "name": "stdout",
     "output_type": "stream",
     "text": [
      "5\n",
      "3\n",
      "3\n"
     ]
    }
   ],
   "source": [
    "p_tuple = (\"ピカチュウ\", \"ピッピ\", \"プリン\")\n",
    "\n",
    "for i in p_tuple:\n",
    "    print(len(i))\n"
   ]
  },
  {
   "cell_type": "code",
   "execution_count": 26,
   "metadata": {},
   "outputs": [
    {
     "name": "stdout",
     "output_type": "stream",
     "text": [
      "ピカチュウ\n"
     ]
    }
   ],
   "source": [
    "p_tuple = (\"ピカチュウ\", \"ピッピ\", \"プリン\")\n",
    "count = \"\"\n",
    "for i in p_tuple:\n",
    "    if len(count) < len(i):\n",
    "        count = i\n",
    "\n",
    "print(count)\n"
   ]
  },
  {
   "cell_type": "code",
   "execution_count": null,
   "metadata": {},
   "outputs": [],
   "source": []
  },
  {
   "cell_type": "code",
   "execution_count": 24,
   "metadata": {},
   "outputs": [
    {
     "name": "stdout",
     "output_type": "stream",
     "text": [
      "ピカチュウ\n"
     ]
    }
   ],
   "source": [
    "p_tuple = (\"ピカチュウ\", \"ピッピ\", \"プリン\")\n",
    "\n",
    "print(max(p_tuple, key=len))\n"
   ]
  }
 ],
 "metadata": {
  "kernelspec": {
   "display_name": ".venv",
   "language": "python",
   "name": "python3"
  },
  "language_info": {
   "codemirror_mode": {
    "name": "ipython",
    "version": 3
   },
   "file_extension": ".py",
   "mimetype": "text/x-python",
   "name": "python",
   "nbconvert_exporter": "python",
   "pygments_lexer": "ipython3",
   "version": "3.11.3"
  },
  "orig_nbformat": 4
 },
 "nbformat": 4,
 "nbformat_minor": 2
}
