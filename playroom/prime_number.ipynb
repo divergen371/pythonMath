{
 "cells": [
  {
   "cell_type": "code",
   "execution_count": null,
   "metadata": {},
   "outputs": [],
   "source": [
    "a = 57\n",
    "is_prime = True\n",
    "for i in range(2, a):\n",
    "    if a % i == 0 or a == 1:\n",
    "        is_prime = False\n",
    "        break\n",
    "if is_prime:\n",
    "    print(\"YES\")\n",
    "else:\n",
    "    print(\"NO\")"
   ]
  },
  {
   "cell_type": "code",
   "execution_count": null,
   "metadata": {},
   "outputs": [],
   "source": [
    "a = int(input())\n",
    "is_prime = True\n",
    "\n",
    "if a == 1:\n",
    "    is_prime = False\n",
    "for i in range(2, a):\n",
    "    if a % i == 0:\n",
    "        is_prime = False\n",
    "        break\n",
    "if is_prime:\n",
    "    print(\"YES\")\n",
    "else:\n",
    "    print(\"NO\")"
   ]
  },
  {
   "cell_type": "code",
   "execution_count": null,
   "metadata": {},
   "outputs": [],
   "source": [
    "a = int(input())\n",
    "is_prime = True\n",
    "\n",
    "if a == 1:\n",
    "    is_prime = False\n",
    "for i in range(2, int(a**0.5) + 1):\n",
    "    if a % i == 0:\n",
    "        is_prime = False\n",
    "        break\n",
    "if is_prime:\n",
    "    print(\"YES\")\n",
    "else:\n",
    "    print(\"NO\")"
   ]
  },
  {
   "cell_type": "code",
   "execution_count": 1,
   "metadata": {},
   "outputs": [
    {
     "name": "stdout",
     "output_type": "stream",
     "text": [
      "NO\n"
     ]
    }
   ],
   "source": [
    "n = int(input())\n",
    "is_prime = [True] * (n + 1)\n",
    "is_prime[0] = False\n",
    "is_prime[1] = False\n",
    "\n",
    "for i in range(2, n+ 1):\n",
    "    if is_prime[i]:\n",
    "        for j in range(i * 2, n + 1, i):\n",
    "            is_prime[j] = False\n",
    "\n",
    "if is_prime[n]:\n",
    "    print(\"YES\")\n",
    "else:\n",
    "    print(\"NO\")"
   ]
  },
  {
   "cell_type": "code",
   "execution_count": null,
   "metadata": {},
   "outputs": [],
   "source": [
    "n = int(input())\n",
    "a = 2\n",
    "is_prime = True\n",
    "fermat = 1\n",
    "if n % 2 == 0:\n",
    "    is_prime = False\n",
    "\n",
    "for i in range(n - 1):\n",
    "    fermat *= a\n",
    "    fermat %= n\n",
    "\n",
    "if fermat % n != 1:\n",
    "    is_prime = False\n",
    "\n",
    "if is_prime:\n",
    "    print(\"YES\")\n",
    "else:\n",
    "    print(\"NO\")\n"
   ]
  },
  {
   "cell_type": "code",
   "execution_count": null,
   "metadata": {},
   "outputs": [],
   "source": [
    "n = int(input())\n",
    "is_prime = [True] * 6000001\n",
    "is_prime[0] = False\n",
    "is_prime[1] = False\n",
    "\n",
    "for i in range(2, 6000001):\n",
    "    if is_prime[i]:\n",
    "        for j in range(i * 2, 6000001, i):\n",
    "            is_prime[j] = False\n",
    "for _ in range(n):\n",
    "    A = int(input())\n",
    "    if is_prime[A]:\n",
    "        print(\"pass\")\n",
    "    else:\n",
    "        print(\"failure\")\n"
   ]
  }
 ],
 "metadata": {
  "kernelspec": {
   "display_name": ".venv",
   "language": "python",
   "name": "python3"
  },
  "language_info": {
   "codemirror_mode": {
    "name": "ipython",
    "version": 3
   },
   "file_extension": ".py",
   "mimetype": "text/x-python",
   "name": "python",
   "nbconvert_exporter": "python",
   "pygments_lexer": "ipython3",
   "version": "3.11.3"
  },
  "orig_nbformat": 4
 },
 "nbformat": 4,
 "nbformat_minor": 2
}
