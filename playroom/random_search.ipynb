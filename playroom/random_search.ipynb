{
 "cells": [
  {
   "cell_type": "code",
   "execution_count": 2,
   "metadata": {},
   "outputs": [
    {
     "name": "stdout",
     "output_type": "stream",
     "text": [
      "2\n"
     ]
    }
   ],
   "source": [
    "n,m = [int(x) for x in input().split()]\n",
    "a = [int(x) for x in input().split()]\n",
    "\n",
    "print(a[m-1])"
   ]
  },
  {
   "cell_type": "code",
   "execution_count": 4,
   "metadata": {},
   "outputs": [
    {
     "name": "stdout",
     "output_type": "stream",
     "text": [
      "20\n",
      "40\n",
      "10\n"
     ]
    }
   ],
   "source": [
    "n = int(input())\n",
    "a = [int(x) for x in input().split()]\n",
    "q = int(input())\n",
    "b = [int(x) for x in input().split()]\n",
    "\n",
    "for i in b:\n",
    "    print(a[i - 1])\n"
   ]
  },
  {
   "cell_type": "code",
   "execution_count": 6,
   "metadata": {},
   "outputs": [
    {
     "name": "stdout",
     "output_type": "stream",
     "text": [
      "0\n"
     ]
    }
   ],
   "source": [
    "a = [int(x) for x in input().split()]\n",
    "\n",
    "print(max(a) - min(a))\n"
   ]
  },
  {
   "cell_type": "code",
   "execution_count": 38,
   "metadata": {},
   "outputs": [
    {
     "name": "stdout",
     "output_type": "stream",
     "text": [
      "1 2 3 10 12\n",
      "1 2 3 10\n"
     ]
    }
   ],
   "source": [
    "n, q = [int(x) for x in input().split()]\n",
    "l = [int(x) for x in input().split()]\n",
    "operation = []\n",
    "for _ in range(q):\n",
    "    operation.append([int(x) for x in input().split()])\n",
    "\n",
    "for i in range(len(operation)):\n",
    "    if operation[i][0] == 0:\n",
    "        l.append(operation[i][1])\n",
    "    elif operation[i][0] == 1:\n",
    "        l.pop(-1)\n",
    "    elif operation[i][0] == 2:\n",
    "        for j in range(len(l)):\n",
    "            if j == len(l) - 1:\n",
    "                print(l[j])\n",
    "            else:\n",
    "                print(l[j], end=\" \")\n"
   ]
  },
  {
   "cell_type": "code",
   "execution_count": 39,
   "metadata": {},
   "outputs": [
    {
     "name": "stdout",
     "output_type": "stream",
     "text": [
      "1 2 3 10 12\n",
      "1 2 3 10\n"
     ]
    }
   ],
   "source": [
    "n, q = [int(x) for x in input().split()]\n",
    "l = [int(x) for x in input().split()]\n",
    "operation = []\n",
    "for _ in range(q):\n",
    "    operation.append([int(x) for x in input().split()])\n",
    "\n",
    "for i in range(len(operation)):\n",
    "    if operation[i][0] == 0:\n",
    "        l.append(operation[i][1])\n",
    "    elif operation[i][0] == 1:\n",
    "        l.pop(-1)\n",
    "    elif operation[i][0] == 2:\n",
    "        print(\" \".join(map(str, l)))"
   ]
  },
  {
   "cell_type": "code",
   "execution_count": 56,
   "metadata": {},
   "outputs": [
    {
     "name": "stdout",
     "output_type": "stream",
     "text": [
      "No\n"
     ]
    }
   ],
   "source": [
    "H, W,r,c = [int(x) for x in input().split()]\n",
    "\n",
    "m = [[x for x in input().split()] for _ in range(H)]\n",
    "\n",
    "if m[r-1][0][c-1] == \"#\":\n",
    "    print(\"Yes\")\n",
    "else:\n",
    "    print(\"No\")"
   ]
  },
  {
   "cell_type": "code",
   "execution_count": 52,
   "metadata": {},
   "outputs": [
    {
     "name": "stdout",
     "output_type": "stream",
     "text": [
      "No\n"
     ]
    }
   ],
   "source": [
    "H, W, r, c = map(int, input().split())\n",
    "maze = [input() for _ in range(H)]\n",
    "\n",
    "if maze[r-1][c-1] == \"#\":\n",
    "    print(\"Yes\")\n",
    "else:\n",
    "    print(\"No\")\n"
   ]
  },
  {
   "cell_type": "code",
   "execution_count": 68,
   "metadata": {},
   "outputs": [
    {
     "name": "stdout",
     "output_type": "stream",
     "text": [
      "0 1 1 2 1 0 0 0 0 0\n"
     ]
    }
   ],
   "source": [
    "N = int(input())\n",
    "l = [x for x in input().split()]\n",
    "\n",
    "count = {\"0\": 0, \"1\": 0, \"2\": 0, \"3\": 0, \"4\": 0, \"5\": 0, \"6\": 0, \"7\": 0, \"8\": 0, \"9\": 0}\n",
    "for i in l:\n",
    "    count[i] += 1\n",
    "print(\" \".join(map(str, count.values())))"
   ]
  },
  {
   "cell_type": "code",
   "execution_count": 62,
   "metadata": {},
   "outputs": [
    {
     "data": {
      "text/plain": [
       "0"
      ]
     },
     "execution_count": 62,
     "metadata": {},
     "output_type": "execute_result"
    }
   ],
   "source": [
    "count[\"2\"]"
   ]
  },
  {
   "cell_type": "code",
   "execution_count": 74,
   "metadata": {},
   "outputs": [
    {
     "name": "stdout",
     "output_type": "stream",
     "text": [
      "1 0 0 1 0 1 1 0 0 0 0 0 0 0 0 0 0 0 1 0 0 0 0 0 0 0\n"
     ]
    }
   ],
   "source": [
    "n = int(input())\n",
    "l = input()\n",
    "count = {chr(i): 0 for i in range(ord(\"a\"), ord(\"z\") + 1)}\n",
    "for i in l:\n",
    "    count[i] += 1\n",
    "print(\" \".join(map(str, count.values())))\n"
   ]
  },
  {
   "cell_type": "code",
   "execution_count": 89,
   "metadata": {},
   "outputs": [
    {
     "name": "stdout",
     "output_type": "stream",
     "text": [
      "abc 1\n",
      "bcd 4\n"
     ]
    }
   ],
   "source": [
    "n = int(input())\n",
    "l = [input() for _ in range(n)]\n",
    "count = {str(i): 0 for i in l}\n",
    "for i in l:\n",
    "    count[i] += 1\n",
    "\n",
    "for i in sorted(count):\n",
    "    print(i, count[i])\n"
   ]
  },
  {
   "cell_type": "code",
   "execution_count": 90,
   "metadata": {},
   "outputs": [
    {
     "name": "stdout",
     "output_type": "stream",
     "text": [
      "abc 1\n",
      "bcd 4\n"
     ]
    }
   ],
   "source": [
    "N = int(input())\n",
    "count = {}\n",
    "\n",
    "for _ in range(N):\n",
    "    s = input()\n",
    "    if s not in count:\n",
    "        count[s] = 1\n",
    "    else:\n",
    "        count[s] += 1\n",
    "\n",
    "for word, times in sorted(count.items()):\n",
    "    print(word, times)"
   ]
  },
  {
   "cell_type": "code",
   "execution_count": null,
   "metadata": {},
   "outputs": [],
   "source": [
    "n, m = [int(x) for x in input().split()]\n",
    "\n",
    "goods = {}\n",
    "for i in range(n):\n",
    "    g, p = input().split()\n",
    "    goods[g] = int(p)\n",
    "\n",
    "for _ in range(m):\n",
    "    l = input()\n",
    "    if l in goods:\n",
    "        print(goods[l])\n",
    "    else:\n",
    "        print(-1)\n"
   ]
  },
  {
   "cell_type": "code",
   "execution_count": 94,
   "metadata": {},
   "outputs": [],
   "source": [
    "n, q = map(int, input().split())\n",
    "l = {}\n",
    "\n",
    "for i in range(n):\n",
    "    s = input()\n",
    "    if s not in l:\n",
    "        l[s] = i + 1\n",
    "for _ in range(q):\n",
    "    t = input()\n",
    "    if t in l:\n",
    "        print(l[t])\n",
    "    else:\n",
    "        print(-1)\n"
   ]
  },
  {
   "cell_type": "code",
   "execution_count": 97,
   "metadata": {},
   "outputs": [
    {
     "name": "stdout",
     "output_type": "stream",
     "text": [
      "Yes\n"
     ]
    }
   ],
   "source": [
    "n, b = map(int, input().split())\n",
    "l = {int(x) for x in input().split()}\n",
    "\n",
    "if b in l:\n",
    "    print(\"Yes\")\n",
    "else:\n",
    "    print(\"No\")\n"
   ]
  },
  {
   "cell_type": "code",
   "execution_count": 99,
   "metadata": {},
   "outputs": [
    {
     "name": "stdout",
     "output_type": "stream",
     "text": [
      "1 2 3 4 5\n"
     ]
    }
   ],
   "source": [
    "n = int(input())\n",
    "l = {int(x) for x in input().split()}\n",
    "print(\" \".join(map(str, l)))"
   ]
  },
  {
   "cell_type": "code",
   "execution_count": null,
   "metadata": {},
   "outputs": [],
   "source": [
    "N = int(input())\n",
    "A = [int(x) for x in input().split()]\n",
    "\n",
    "memo = {A[0]}\n",
    "for i in range(1, N):\n",
    "    if A[i] in memo:\n",
    "        print(\"Yes\")\n",
    "    else:\n",
    "        memo.add(A[i])\n",
    "        print(\"No\")\n"
   ]
  },
  {
   "cell_type": "code",
   "execution_count": 102,
   "metadata": {},
   "outputs": [
    {
     "name": "stdout",
     "output_type": "stream",
     "text": [
      "7 8 9\n"
     ]
    }
   ],
   "source": [
    "n = int(input())\n",
    "\n",
    "a = {int(x) for x in input().split()}\n",
    "b = {int(x) for x in input().split()}\n",
    "print(\" \".join(map(str, sorted(a.union(b)))))\n"
   ]
  }
 ],
 "metadata": {
  "kernelspec": {
   "display_name": ".venv",
   "language": "python",
   "name": "python3"
  },
  "language_info": {
   "codemirror_mode": {
    "name": "ipython",
    "version": 3
   },
   "file_extension": ".py",
   "mimetype": "text/x-python",
   "name": "python",
   "nbconvert_exporter": "python",
   "pygments_lexer": "ipython3",
   "version": "3.10.4"
  },
  "orig_nbformat": 4
 },
 "nbformat": 4,
 "nbformat_minor": 2
}
