{
 "cells": [
  {
   "cell_type": "code",
   "execution_count": 1,
   "metadata": {},
   "outputs": [
    {
     "name": "stdout",
     "output_type": "stream",
     "text": [
      "False\n",
      "True\n"
     ]
    }
   ],
   "source": [
    "def all_unique(lst):\n",
    "    return len(lst) == len(set(lst))\n",
    "\n",
    "\n",
    "x = [1, 1, 2, 2, 3, 2, 3, 4, 5, 6]\n",
    "y = [1, 2, 3, 4, 5]\n",
    "print(all_unique(x))\n",
    "print(all_unique(y))\n"
   ]
  },
  {
   "cell_type": "code",
   "execution_count": 2,
   "metadata": {},
   "outputs": [
    {
     "data": {
      "text/plain": [
       "True"
      ]
     },
     "execution_count": 2,
     "metadata": {},
     "output_type": "execute_result"
    }
   ],
   "source": [
    "from collections import Counter\n",
    "\n",
    "\n",
    "def anagram(first, second):\n",
    "    return Counter(first) == Counter(second)\n",
    "\n",
    "\n",
    "anagram(\"murder\", \"redrum\")\n"
   ]
  },
  {
   "cell_type": "code",
   "execution_count": 3,
   "metadata": {},
   "outputs": [
    {
     "name": "stdout",
     "output_type": "stream",
     "text": [
      "28\n"
     ]
    }
   ],
   "source": [
    "import sys\n",
    "\n",
    "var = 30\n",
    "print(sys.getsizeof(var))\n"
   ]
  },
  {
   "cell_type": "code",
   "execution_count": 4,
   "metadata": {},
   "outputs": [
    {
     "name": "stdout",
     "output_type": "stream",
     "text": [
      "4\n",
      "11\n"
     ]
    }
   ],
   "source": [
    "def byte_size(string):\n",
    "    return len(string.encode(\"utf-8\"))\n",
    "\n",
    "\n",
    "print(byte_size(\"😀\"))\n",
    "print(byte_size(\"Hello world\"))\n"
   ]
  },
  {
   "cell_type": "code",
   "execution_count": 5,
   "metadata": {},
   "outputs": [
    {
     "name": "stdout",
     "output_type": "stream",
     "text": [
      "HelloHello\n"
     ]
    }
   ],
   "source": [
    "n = 2\n",
    "s = \"Hello\"\n",
    "print(s * n)\n"
   ]
  },
  {
   "cell_type": "code",
   "execution_count": 6,
   "metadata": {},
   "outputs": [
    {
     "name": "stdout",
     "output_type": "stream",
     "text": [
      "Pragmatic\n"
     ]
    }
   ],
   "source": [
    "s = \"Pragmatic\"\n",
    "print(s.title())\n"
   ]
  },
  {
   "cell_type": "code",
   "execution_count": 7,
   "metadata": {},
   "outputs": [
    {
     "name": "stdout",
     "output_type": "stream",
     "text": [
      "[[1, 2, 3], [4, 5, 6]]\n"
     ]
    }
   ],
   "source": [
    "def chunk(list, size):\n",
    "    return [list[i : i + size] for i in range(0, len(list), size)]\n",
    "\n",
    "\n",
    "print(chunk([1, 2, 3, 4, 5, 6], 3))\n"
   ]
  },
  {
   "cell_type": "code",
   "execution_count": 8,
   "metadata": {},
   "outputs": [
    {
     "data": {
      "text/plain": [
       "[1, 2, 3, 'a', 's', 34]"
      ]
     },
     "execution_count": 8,
     "metadata": {},
     "output_type": "execute_result"
    }
   ],
   "source": [
    "def compact(lst):\n",
    "    return list(filter(None, lst))\n",
    "\n",
    "\n",
    "compact([0, 1, False, 2, \"\", 3, \"a\", \"s\", 34])\n"
   ]
  },
  {
   "cell_type": "code",
   "execution_count": 9,
   "metadata": {},
   "outputs": [
    {
     "name": "stdout",
     "output_type": "stream",
     "text": [
      "('a', 'c', 'e')\n",
      "('b', 'd', 'f')\n"
     ]
    }
   ],
   "source": [
    "array = [[\"a\", \"b\"], [\"c\", \"d\"], [\"e\", \"f\"]]\n",
    "transposed = zip(*array)\n",
    "for i in transposed:\n",
    "    print(i)\n"
   ]
  },
  {
   "cell_type": "code",
   "execution_count": 10,
   "metadata": {},
   "outputs": [
    {
     "name": "stdout",
     "output_type": "stream",
     "text": [
      "True\n",
      "False\n"
     ]
    }
   ],
   "source": [
    "a = 3\n",
    "print(2 < a < 8)\n",
    "print(1 == a < 2)\n"
   ]
  },
  {
   "cell_type": "code",
   "execution_count": 11,
   "metadata": {},
   "outputs": [
    {
     "name": "stdout",
     "output_type": "stream",
     "text": [
      "My hobbies are: basketball, football, swimming\n"
     ]
    }
   ],
   "source": [
    "hobbies = [\"basketball\", \"football\", \"swimming\"]\n",
    "print(\"My hobbies are:\", \", \".join(hobbies))\n"
   ]
  },
  {
   "cell_type": "code",
   "execution_count": 12,
   "metadata": {},
   "outputs": [
    {
     "name": "stdout",
     "output_type": "stream",
     "text": [
      "['o', 'o', 'a']\n",
      "[]\n",
      "dict_values([2, 1])\n",
      "['a', 'o', 'o']\n",
      "dict_values([])\n"
     ]
    }
   ],
   "source": [
    "from collections import Counter\n",
    "\n",
    "\n",
    "def get_vowels(string):\n",
    "    return [each for each in string if each in \"aiueo\"]\n",
    "\n",
    "\n",
    "print(get_vowels(\"foobar\"))\n",
    "print(get_vowels(\"dddd\"))\n",
    "c = Counter(get_vowels(\"foobar\"))\n",
    "print(c.values())\n",
    "print(sorted(c.elements()))\n",
    "c2 = Counter(get_vowels(\"ddddd\"))\n",
    "print(c2.values())\n"
   ]
  },
  {
   "cell_type": "code",
   "execution_count": 13,
   "metadata": {},
   "outputs": [
    {
     "name": "stdout",
     "output_type": "stream",
     "text": [
      "fooBar\n",
      "fooBar\n"
     ]
    }
   ],
   "source": [
    "def decapitalize(string):\n",
    "    return string[:1].lower() + string[1:]\n",
    "\n",
    "\n",
    "print(decapitalize(\"FooBar\"))\n",
    "print(decapitalize(\"fooBar\"))\n"
   ]
  },
  {
   "cell_type": "code",
   "execution_count": 10,
   "metadata": {},
   "outputs": [
    {
     "name": "stdout",
     "output_type": "stream",
     "text": [
      "[1, 2, 3, 4, 5]\n",
      "[1, 2, 3, 4, 5, 6, 7, 8, 9]\n"
     ]
    }
   ],
   "source": [
    "def deep_flatten(xs):\n",
    "    flat_list = []\n",
    "    [flat_list.extend(deep_flatten(x)) for x in xs] if isinstance(\n",
    "        xs, list\n",
    "    ) else flat_list.append(xs)\n",
    "    return flat_list\n",
    "\n",
    "\n",
    "print(deep_flatten([1, [2], [[3], 4], 5]))\n",
    "print(deep_flatten([1, 2, 3, [4, 5, 6], [7], 8, 9]))\n"
   ]
  },
  {
   "cell_type": "code",
   "execution_count": 15,
   "metadata": {},
   "outputs": [
    {
     "data": {
      "text/plain": [
       "[3]"
      ]
     },
     "execution_count": 15,
     "metadata": {},
     "output_type": "execute_result"
    }
   ],
   "source": [
    "def difference(a, b):\n",
    "    set_a = set(a)\n",
    "    set_b = set(b)\n",
    "    comparison = set_a.difference(set_b)\n",
    "    return list(comparison)\n",
    "\n",
    "\n",
    "difference([1, 2, 3], [1, 2, 4])\n"
   ]
  },
  {
   "cell_type": "code",
   "execution_count": 16,
   "metadata": {},
   "outputs": [
    {
     "name": "stdout",
     "output_type": "stream",
     "text": [
      "[1.2]\n",
      "[{'x': 2}]\n"
     ]
    }
   ],
   "source": [
    "def difference_by(a, b, fn):\n",
    "    b = set(map(fn, b))\n",
    "    return [item for item in a if fn(item) not in b]\n",
    "\n",
    "\n",
    "from math import floor\n",
    "\n",
    "print(difference_by([2.1, 1.2], [2.3, 3.4], floor))\n",
    "print(difference_by([{\"x\": 2}, {\"x\": 1}], [{\"x\": 1}], lambda x: x[\"x\"]))\n"
   ]
  },
  {
   "cell_type": "code",
   "execution_count": 17,
   "metadata": {},
   "outputs": [
    {
     "name": "stdout",
     "output_type": "stream",
     "text": [
      "True\n",
      "False\n"
     ]
    }
   ],
   "source": [
    "def has_duplicates(lst):\n",
    "    return len(lst) != len(set(lst))\n",
    "\n",
    "\n",
    "x = [1, 2, 3, 4, 5, 5]\n",
    "y = [1, 2, 3, 4, 5]\n",
    "print(has_duplicates(x))\n",
    "print(has_duplicates(y))\n"
   ]
  },
  {
   "cell_type": "code",
   "execution_count": 18,
   "metadata": {},
   "outputs": [
    {
     "name": "stdout",
     "output_type": "stream",
     "text": [
      "{'x': 1, 'y': 3, 'z': 4}\n"
     ]
    }
   ],
   "source": [
    "def marge_two_dicts(a, b):\n",
    "    c = a.copy()\n",
    "    c.update(b)\n",
    "    return c\n",
    "\n",
    "\n",
    "a = {\"x\": 1, \"y\": 2}\n",
    "b = {\"y\": 3, \"z\": 4}\n",
    "print(marge_two_dicts(a, b))\n"
   ]
  },
  {
   "cell_type": "markdown",
   "metadata": {},
   "source": [
    "あるいは\n"
   ]
  },
  {
   "cell_type": "code",
   "execution_count": 19,
   "metadata": {},
   "outputs": [
    {
     "name": "stdout",
     "output_type": "stream",
     "text": [
      "{'x': 1, 'y': 3, 'z': 4}\n"
     ]
    }
   ],
   "source": [
    "def merge_dicts(a, b):\n",
    "    return {**a, **b}\n",
    "\n",
    "\n",
    "a = {\"x\": 1, \"y\": 2}\n",
    "b = {\"y\": 3, \"z\": 4}\n",
    "print(merge_dicts(a, b))\n"
   ]
  },
  {
   "cell_type": "code",
   "execution_count": 20,
   "metadata": {},
   "outputs": [
    {
     "name": "stdout",
     "output_type": "stream",
     "text": [
      "{'a': 1, 'b': 2, 'c': 3}\n"
     ]
    }
   ],
   "source": [
    "def to_dict(keys, values):\n",
    "    return dict(zip(keys, values))\n",
    "\n",
    "\n",
    "keys = [\"a\", \"b\", \"c\"]\n",
    "values = [1, 2, 3]\n",
    "print(to_dict(keys=keys, values=values))\n"
   ]
  },
  {
   "cell_type": "code",
   "execution_count": 21,
   "metadata": {},
   "outputs": [
    {
     "name": "stdout",
     "output_type": "stream",
     "text": [
      "Value a Index  0\n",
      "Value b Index  1\n",
      "Value c Index  2\n",
      "Value d Index  3\n"
     ]
    }
   ],
   "source": [
    "list = [\"a\", \"b\", \"c\", \"d\"]\n",
    "for index, element in enumerate(list):\n",
    "    print(\"Value\", element, \"Index \", index)\n"
   ]
  },
  {
   "cell_type": "code",
   "execution_count": 22,
   "metadata": {},
   "outputs": [
    {
     "name": "stdout",
     "output_type": "stream",
     "text": [
      "3\n",
      "Time:  5.602836608886719e-05\n"
     ]
    }
   ],
   "source": [
    "import time\n",
    "\n",
    "start_time = time.time()\n",
    "\n",
    "a = 1\n",
    "b = 2\n",
    "c = a + b\n",
    "print(c)\n",
    "\n",
    "end_time = time.time()\n",
    "total_time = end_time - start_time\n",
    "print(\"Time: \", total_time)\n"
   ]
  },
  {
   "cell_type": "code",
   "execution_count": 23,
   "metadata": {},
   "outputs": [
    {
     "name": "stdout",
     "output_type": "stream",
     "text": [
      "No exception were raised.\n"
     ]
    }
   ],
   "source": [
    "try:\n",
    "    2 * 3\n",
    "except TypeError:\n",
    "    print(\"An exception was raised\")\n",
    "else:\n",
    "    print(\"No exception were raised.\")\n"
   ]
  },
  {
   "cell_type": "code",
   "execution_count": 24,
   "metadata": {},
   "outputs": [
    {
     "name": "stdout",
     "output_type": "stream",
     "text": [
      "1\n"
     ]
    }
   ],
   "source": [
    "def most_frequent(list):\n",
    "    return max(set(list), key=list.count)\n",
    "\n",
    "\n",
    "numbers = [1, 2, 1, 2, 3, 1, 4, 2]\n",
    "print(most_frequent(numbers))\n"
   ]
  },
  {
   "cell_type": "code",
   "execution_count": 25,
   "metadata": {},
   "outputs": [
    {
     "data": {
      "text/plain": [
       "True"
      ]
     },
     "execution_count": 25,
     "metadata": {},
     "output_type": "execute_result"
    }
   ],
   "source": [
    "def palindrome(string):\n",
    "    return string == string[::-1]\n",
    "\n",
    "\n",
    "palindrome(\"おかしがすきすきすがしかお\")\n"
   ]
  },
  {
   "cell_type": "code",
   "execution_count": 26,
   "metadata": {},
   "outputs": [
    {
     "name": "stdout",
     "output_type": "stream",
     "text": [
      "30\n"
     ]
    }
   ],
   "source": [
    "import operator\n",
    "\n",
    "action = {\n",
    "    \"+\": operator.add,\n",
    "    \"-\": operator.sub,\n",
    "    \"/\": operator.truediv,\n",
    "    \"*\": operator.mul,\n",
    "    \"**\": operator.pow,\n",
    "}\n",
    "print(action[\"-\"](50, 20))\n"
   ]
  },
  {
   "cell_type": "code",
   "execution_count": 27,
   "metadata": {},
   "outputs": [
    {
     "name": "stdout",
     "output_type": "stream",
     "text": [
      "[3, 1, 4, 2]\n"
     ]
    }
   ],
   "source": [
    "from random import shuffle\n",
    "\n",
    "foo = [1, 2, 3, 4]\n",
    "shuffle(foo)\n",
    "print(foo)\n"
   ]
  },
  {
   "cell_type": "code",
   "execution_count": 1,
   "metadata": {},
   "outputs": [
    {
     "data": {
      "text/plain": [
       "[1, 2, 3, 4, 5, 6, 7, 8, 9]"
      ]
     },
     "execution_count": 1,
     "metadata": {},
     "output_type": "execute_result"
    }
   ],
   "source": [
    "def spread(arg):\n",
    "    ret = []\n",
    "    for i in arg:\n",
    "        if isinstance(i, list):\n",
    "            ret.extend(i)\n",
    "        else:\n",
    "            ret.append(i)\n",
    "    return ret\n",
    "\n",
    "\n",
    "spread([1, 2, 3, [4, 5, 6], [7], 8, 9])\n"
   ]
  },
  {
   "cell_type": "code",
   "execution_count": 9,
   "metadata": {},
   "outputs": [],
   "source": [
    "a = []\n",
    "a.append([1])\n",
    "a.append([2])\n",
    "a.extend([1])\n"
   ]
  },
  {
   "cell_type": "code",
   "execution_count": 12,
   "metadata": {},
   "outputs": [
    {
     "name": "stdout",
     "output_type": "stream",
     "text": [
      "14\n",
      "-1\n"
     ]
    }
   ],
   "source": [
    "a, b = -1, 14\n",
    "a, b = b, a\n",
    "print(a)\n",
    "print(b)"
   ]
  },
  {
   "cell_type": "code",
   "execution_count": 14,
   "metadata": {},
   "outputs": [
    {
     "name": "stdout",
     "output_type": "stream",
     "text": [
      "3\n"
     ]
    }
   ],
   "source": [
    "d = {\"a\": 1, \"b\": 2}\n",
    "print(d.get(\"c\", 3))"
   ]
  }
 ],
 "metadata": {
  "kernelspec": {
   "display_name": ".venv",
   "language": "python",
   "name": "python3"
  },
  "language_info": {
   "codemirror_mode": {
    "name": "ipython",
    "version": 3
   },
   "file_extension": ".py",
   "mimetype": "text/x-python",
   "name": "python",
   "nbconvert_exporter": "python",
   "pygments_lexer": "ipython3",
   "version": "3.11.3"
  },
  "orig_nbformat": 4
 },
 "nbformat": 4,
 "nbformat_minor": 2
}
