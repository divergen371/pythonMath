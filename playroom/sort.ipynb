{
 "cells": [
  {
   "attachments": {},
   "cell_type": "markdown",
   "metadata": {},
   "source": [
    "# ソートの基本\n",
    "\n",
    "与えられる配列がソートされているかどうかの判定。\n"
   ]
  },
  {
   "attachments": {},
   "cell_type": "markdown",
   "metadata": {},
   "source": [
    "> ソートされている状態かどうか判定する問題です。ここでは 2 つの解法を紹介します。\n",
    "> 1 つ目は a*i > a*{ i + 1 }となる i を見つける方法です。ループを用いて i を 0 から n - 2 まで探索し、 a*i > a*{ i + 1 }であれば No を出力してプログラムを終了します。 a*i > a*{ i + 1 } となるような i が 1 つも存在せずループを抜けた場合は Yes を出力します。\n",
    "> 2 つ目は a とまったく同じ配列 b を作成し、 b をソートする方法です。 b が a と等しければ、 a はソートされた状態であると判断できます。\n"
   ]
  },
  {
   "cell_type": "code",
   "execution_count": 1,
   "metadata": {
    "tags": []
   },
   "outputs": [
    {
     "ename": "ValueError",
     "evalue": "invalid literal for int() with base 10: ''",
     "output_type": "error",
     "traceback": [
      "\u001b[0;31m---------------------------------------------------------------------------\u001b[0m",
      "\u001b[0;31mValueError\u001b[0m                                Traceback (most recent call last)",
      "Cell \u001b[0;32mIn[1], line 1\u001b[0m\n\u001b[0;32m----> 1\u001b[0m n \u001b[38;5;241m=\u001b[39m \u001b[38;5;28;43mint\u001b[39;49m\u001b[43m(\u001b[49m\u001b[38;5;28;43minput\u001b[39;49m\u001b[43m(\u001b[49m\u001b[43m)\u001b[49m\u001b[43m)\u001b[49m\n\u001b[1;32m      2\u001b[0m a \u001b[38;5;241m=\u001b[39m [\u001b[38;5;28mint\u001b[39m(x) \u001b[38;5;28;01mfor\u001b[39;00m x \u001b[38;5;129;01min\u001b[39;00m \u001b[38;5;28minput\u001b[39m()\u001b[38;5;241m.\u001b[39msplit()]\n\u001b[1;32m      4\u001b[0m \u001b[38;5;28;01mif\u001b[39;00m a \u001b[38;5;241m==\u001b[39m \u001b[38;5;28msorted\u001b[39m(a):\n",
      "\u001b[0;31mValueError\u001b[0m: invalid literal for int() with base 10: ''"
     ]
    }
   ],
   "source": [
    "n = int(input())\n",
    "a = [int(x) for x in input().split()]\n",
    "\n",
    "if a == sorted(a):\n",
    "    print(\"Yes\")\n",
    "else:\n",
    "    print(\"No\")\n"
   ]
  },
  {
   "cell_type": "code",
   "execution_count": 2,
   "metadata": {},
   "outputs": [
    {
     "ename": "NameError",
     "evalue": "name 'n' is not defined",
     "output_type": "error",
     "traceback": [
      "\u001b[0;31m---------------------------------------------------------------------------\u001b[0m",
      "\u001b[0;31mNameError\u001b[0m                                 Traceback (most recent call last)",
      "Cell \u001b[0;32mIn[2], line 1\u001b[0m\n\u001b[0;32m----> 1\u001b[0m \u001b[38;5;28;01mfor\u001b[39;00m i \u001b[38;5;129;01min\u001b[39;00m \u001b[38;5;28mrange\u001b[39m(\u001b[43mn\u001b[49m \u001b[38;5;241m-\u001b[39m \u001b[38;5;241m1\u001b[39m):\n\u001b[1;32m      2\u001b[0m     \u001b[38;5;28;01mif\u001b[39;00m a[i] \u001b[38;5;241m>\u001b[39m a[i \u001b[38;5;241m+\u001b[39m \u001b[38;5;241m1\u001b[39m]:\n\u001b[1;32m      3\u001b[0m         \u001b[38;5;28mprint\u001b[39m(\u001b[38;5;124m\"\u001b[39m\u001b[38;5;124mNo\u001b[39m\u001b[38;5;124m\"\u001b[39m)\n",
      "\u001b[0;31mNameError\u001b[0m: name 'n' is not defined"
     ]
    }
   ],
   "source": [
    "for i in range(n - 1):\n",
    "    if a[i] > a[i + 1]:\n",
    "        print(\"No\")\n",
    "        break\n",
    "    else:\n",
    "        print(\"Yes\")\n"
   ]
  },
  {
   "attachments": {},
   "cell_type": "markdown",
   "metadata": {},
   "source": [
    "# 数列内の最大値と最小値\n",
    "\n",
    "与えられる数列内の最大値と最小値を出力する\n"
   ]
  },
  {
   "cell_type": "code",
   "execution_count": 3,
   "metadata": {},
   "outputs": [
    {
     "ename": "ValueError",
     "evalue": "invalid literal for int() with base 10: '8 9 0 6'",
     "output_type": "error",
     "traceback": [
      "\u001b[0;31m---------------------------------------------------------------------------\u001b[0m",
      "\u001b[0;31mValueError\u001b[0m                                Traceback (most recent call last)",
      "Cell \u001b[0;32mIn[3], line 1\u001b[0m\n\u001b[0;32m----> 1\u001b[0m n \u001b[38;5;241m=\u001b[39m \u001b[38;5;28;43mint\u001b[39;49m\u001b[43m(\u001b[49m\u001b[38;5;28;43minput\u001b[39;49m\u001b[43m(\u001b[49m\u001b[43m)\u001b[49m\u001b[43m)\u001b[49m\n\u001b[1;32m      2\u001b[0m a \u001b[38;5;241m=\u001b[39m [\u001b[38;5;28mint\u001b[39m(x) \u001b[38;5;28;01mfor\u001b[39;00m x \u001b[38;5;129;01min\u001b[39;00m \u001b[38;5;28minput\u001b[39m()\u001b[38;5;241m.\u001b[39msplit()]\n\u001b[1;32m      4\u001b[0m \u001b[38;5;28mprint\u001b[39m(\u001b[38;5;28mmax\u001b[39m(a), \u001b[38;5;28mmin\u001b[39m(a))\n",
      "\u001b[0;31mValueError\u001b[0m: invalid literal for int() with base 10: '8 9 0 6'"
     ]
    }
   ],
   "source": [
    "n = int(input())\n",
    "a = [int(x) for x in input().split()]\n",
    "\n",
    "print(max(a), min(a))"
   ]
  },
  {
   "attachments": {},
   "cell_type": "markdown",
   "metadata": {},
   "source": [
    "あるいはソートしてから先頭と終端の値を取り出すのも可。\n"
   ]
  },
  {
   "cell_type": "code",
   "execution_count": 4,
   "metadata": {},
   "outputs": [
    {
     "name": "stdout",
     "output_type": "stream",
     "text": [
      "9 1\n"
     ]
    }
   ],
   "source": [
    "n = int(input())\n",
    "a = [int(x) for x in input().split()]\n",
    "\n",
    "a.sort()\n",
    "print(a[-1], a[0])\n"
   ]
  },
  {
   "attachments": {},
   "cell_type": "markdown",
   "metadata": {},
   "source": [
    "# 数列の検索\n",
    "\n",
    "整数 n と、数列 a_1, ... , a_n と数値 k が与えられます。\n",
    "\n",
    "数列 a の k 番目に大きい値を出力してください。\n"
   ]
  },
  {
   "attachments": {},
   "cell_type": "markdown",
   "metadata": {},
   "source": [
    "- 1 行目に、数列の長さを表す整数 n と数値 k が与えられます。\n",
    "- 2 行目に、数列の値 a_i が半角スペース区切りで与えられます。\n"
   ]
  },
  {
   "cell_type": "code",
   "execution_count": 12,
   "metadata": {},
   "outputs": [
    {
     "data": {
      "text/plain": [
       "100"
      ]
     },
     "execution_count": 12,
     "metadata": {},
     "output_type": "execute_result"
    }
   ],
   "source": [
    "n, k = [int(x) for x in input().split()]\n",
    "a = [int(x) for x in input().split()]\n",
    "\n",
    "sorted(a, reverse=True)[k - 1]\n"
   ]
  },
  {
   "attachments": {},
   "cell_type": "markdown",
   "metadata": {},
   "source": [
    "# 重複した要素を抽出し、新たなリストを生成\n"
   ]
  },
  {
   "cell_type": "code",
   "execution_count": 24,
   "metadata": {
    "tags": [
     "sort"
    ]
   },
   "outputs": [
    {
     "name": "stdout",
     "output_type": "stream",
     "text": [
      "[3, 2, 1]\n"
     ]
    }
   ],
   "source": [
    "# 元のリストの順序を保持する\n",
    "from collections import Counter\n",
    "\n",
    "l = [3, 3, 2, 1, 5, 1, 4, 2, 3]\n",
    "\n",
    "c = sorted([k for k, v in Counter(l).items() if v > 1], key=l.index)\n",
    "print(c)\n"
   ]
  },
  {
   "cell_type": "code",
   "execution_count": 20,
   "metadata": {},
   "outputs": [
    {
     "name": "stdout",
     "output_type": "stream",
     "text": [
      "Counter({3: 3, 2: 2, 1: 2, 5: 1, 4: 1})\n"
     ]
    }
   ],
   "source": [
    "# 元のリストを保持しない\n",
    "l = [3, 3, 2, 1, 5, 1, 4, 2, 3]\n",
    "\n",
    "print(Counter(l))\n",
    "# Counter({3: 3, 2: 2, 1: 2, 5: 1, 4: 1})\n"
   ]
  },
  {
   "attachments": {},
   "cell_type": "markdown",
   "metadata": {},
   "source": [
    "# 重複削除\n",
    "\n",
    "整数 n と、数列 a_1, ... , a_n が与えられます。\n",
    "\n",
    "数列 a から重複した要素をすべて削除し、残った要素を昇順かつ半角スペース区切りで出力してください。\n"
   ]
  },
  {
   "cell_type": "code",
   "execution_count": 4,
   "metadata": {},
   "outputs": [
    {
     "name": "stdout",
     "output_type": "stream",
     "text": [
      "7\n"
     ]
    }
   ],
   "source": [
    "n = int(input())\n",
    "a = [int(x) for x in input().split()]\n",
    "\n",
    "print(*list(set(a)))\n"
   ]
  },
  {
   "attachments": {},
   "cell_type": "markdown",
   "metadata": {},
   "source": [
    "まずはソートする。ソートすると重複した値は隣り合うので、先頭では無いまたは a_i == a_i-1 ならば a_i を削除する。\n"
   ]
  },
  {
   "cell_type": "code",
   "execution_count": 5,
   "metadata": {},
   "outputs": [
    {
     "name": "stdout",
     "output_type": "stream",
     "text": [
      "2 4 5 6\n"
     ]
    }
   ],
   "source": [
    "n = int(input())\n",
    "a = list(map(int, input().split()))\n",
    "\n",
    "sort_a = sorted(a)\n",
    "\n",
    "unique = []\n",
    "for i in range(n):\n",
    "    if i == 0 or sort_a[i] != sort_a[i - 1]:\n",
    "        unique.append(sort_a[i])\n",
    "\n",
    "print(*unique)"
   ]
  },
  {
   "cell_type": "code",
   "execution_count": 37,
   "metadata": {},
   "outputs": [
    {
     "name": "stdout",
     "output_type": "stream",
     "text": [
      "1 2 3\n"
     ]
    }
   ],
   "source": [
    "n = int(input())\n",
    "a = [int(x) for x in input().split()]\n",
    "\n",
    "a.sort()\n",
    "\n",
    "for i in a:\n",
    "    if i != 0 and a[i] == a[i - 1]:\n",
    "        a.pop(i)\n",
    "\n",
    "print(*a)\n"
   ]
  },
  {
   "attachments": {},
   "cell_type": "markdown",
   "metadata": {},
   "source": [
    "# 区間ソート\n",
    "\n",
    "整数 n, l, r と、数列 a_1, ... , a_n が与えられます。\n",
    "\n",
    "数列 a の l 番目の要素から r - 1 番目の要素だけを昇順でソートしてください。 l 番目の要素から r - 1 番目の要素以外の要素は操作する必要がありません。また、操作後の数列 a を半角スペース区切りで出力してください。\n"
   ]
  },
  {
   "cell_type": "code",
   "execution_count": 57,
   "metadata": {},
   "outputs": [
    {
     "name": "stdout",
     "output_type": "stream",
     "text": [
      "6 2 3 4 5 1\n"
     ]
    }
   ],
   "source": [
    "n, l, r = [int(x) for x in input().split()]\n",
    "a = [int(x) for x in input().split()]\n",
    "\n",
    "b = sorted(a[l - 1 : r - 1])\n",
    "del a[l - 1 : r - 1]\n",
    "for i in b:\n",
    "    a.insert(l - 1, i)\n",
    "    l += 1\n",
    "print(*a)\n"
   ]
  },
  {
   "cell_type": "code",
   "execution_count": 56,
   "metadata": {},
   "outputs": [
    {
     "name": "stdout",
     "output_type": "stream",
     "text": [
      "6 2 3 4 5 1\n"
     ]
    }
   ],
   "source": [
    "n, l, r = [int(x) for x in input().split()]\n",
    "a = [int(x) for x in input().split()]\n",
    "\n",
    "b = sorted(a[l - 1 : r - 1])\n",
    "c = a[: l - 1] + b + a[r - 1 :]\n",
    "print(*c)\n"
   ]
  },
  {
   "attachments": {},
   "cell_type": "markdown",
   "metadata": {},
   "source": [
    "# 複数回指示に従って数列内で n 番目に大きい値を取り出す\n",
    "\n",
    "整数 n, q と、数列 a_1, ..., a_n と数列 k_1, ..., k_q が与えられます。\n",
    "1 以上 q 以下の各 i について、 a の k_i 番目に大きい値をそれぞれ求め、改行区切りで出力してください。\n",
    "\n",
    "- 1 行目に、数列の長さを表す整数 n, q が与えられます。\n",
    "- 2 行目に、数列の値 a_i が半角スペース区切りで与えられます。\n",
    "- 3 行目に、数列の値 k_i が半角スペース区切りで与えられます。\n"
   ]
  },
  {
   "cell_type": "code",
   "execution_count": 60,
   "metadata": {},
   "outputs": [
    {
     "name": "stdout",
     "output_type": "stream",
     "text": [
      "11\n",
      "9\n",
      "7\n",
      "9\n",
      "3\n",
      "5\n"
     ]
    }
   ],
   "source": [
    "n, q = [int(x) for x in input().split()]\n",
    "a = [int(x) for x in input().split()]\n",
    "k = [int(x) for x in input().split()]\n",
    "\n",
    "a.sort(reverse=True)\n",
    "for i in k:\n",
    "    print(a[i - 1])\n"
   ]
  },
  {
   "attachments": {},
   "cell_type": "markdown",
   "metadata": {},
   "source": [
    "paiza 問題集に、新たに n 個の問題が収録された問題集が公開されました。各問題の難易度は数値で表され、 a_1, ... , a_n です。問題は好きな順序で解くことができますが、難易度 a_i の問題を解くには「プログラミングレベル」が a_i 以上である必要があります。また、難易度 a_i の問題を解くと「プログラミングレベル」が a_i + 1 になります。\n",
    "プログラミング初心者である京子ちゃんは現在「プログラミングレベル」が 1 です。京子ちゃんは問題集内のすべての問題を解くことができるでしょうか。\n"
   ]
  },
  {
   "cell_type": "code",
   "execution_count": 70,
   "metadata": {},
   "outputs": [
    {
     "name": "stdout",
     "output_type": "stream",
     "text": [
      "No\n"
     ]
    }
   ],
   "source": [
    "n = int(input())\n",
    "a = [int(x) for x in input().split()]\n",
    "current_level = 1\n",
    "a.sort()\n",
    "for i in range(n - 1):\n",
    "    if current_level == a[i]:\n",
    "        current_level += 1\n",
    "if current_level == a[-1]:\n",
    "    print(\"Yes\")\n",
    "else:\n",
    "    print(\"No\")"
   ]
  },
  {
   "cell_type": "code",
   "execution_count": null,
   "metadata": {},
   "outputs": [],
   "source": [
    "n = int(input())\n",
    "a = [int(x) for x in input().split()]\n",
    "\n",
    "a.sort()\n",
    "if a[0] != 1:\n",
    "    print(\"No\")\n",
    "else:\n",
    "    for i in range(n - 1):\n",
    "        if a[i + 1] > a[i] + 1:\n",
    "            print(\"No\")\n",
    "            break\n",
    "    else:\n",
    "        print(\"Yes\")"
   ]
  },
  {
   "cell_type": "code",
   "execution_count": 74,
   "metadata": {},
   "outputs": [
    {
     "name": "stdout",
     "output_type": "stream",
     "text": [
      "abb\n"
     ]
    }
   ],
   "source": [
    "k = int(input())\n",
    "\n",
    "words = []\n",
    "for c1 in range(26):\n",
    "    for c2 in range(26):\n",
    "        for c3 in range(26):\n",
    "            word = chr(c1 + 97) + chr(c2 + 97) + chr(c3 + 97)\n",
    "            words.append(word)\n",
    "\n",
    "words.sort()\n",
    "print(words[k - 1])"
   ]
  },
  {
   "attachments": {},
   "cell_type": "markdown",
   "metadata": {},
   "source": [
    "# 部分列の和\n",
    "\n",
    "整数 n, x と、数列 a_1, ... , a_n が与えられます。\n",
    "a からいくつかの要素を選び、それらの和を x 以上にするためには最低いくつの要素を選ぶ必要がありますか。\n",
    "\n",
    "たとえば、 a = [ 5, 3, 6, 2 ], x = 12 とします。和が 12 以上になる a の要素の組み合わせは以下の 3 つです。\n",
    "\n",
    "- [ 5, 3, 6 ]\n",
    "- [ 5, 6, 2 ]\n",
    "- [ 5, 3, 6, 2 ]\n",
    "\n",
    "この場合、 a からいくつかの要素を選び、それらの和を 12 以上にするためには最低 3 つの要素を選ぶ必要があります。\n",
    "\n",
    "## 期待する出力\n",
    "\n",
    "a からいくつかの要素を選び、それらの和を x 以上にするために必要な最小の要素の個数を出力してください。ただし、 a からいくつかの要素を選び、それらの和を x 以上にできない場合は代わりに -1 を出力してください。\n",
    "\n",
    "また、末尾に改行を入れ、余計な文字、空行を含んではいけません。\n"
   ]
  },
  {
   "cell_type": "code",
   "execution_count": null,
   "metadata": {},
   "outputs": [],
   "source": [
    "# タイムオーバーする\n",
    "n, x = [int(x) for x in input().split()]\n",
    "a = [int(x) for x in input().split()]\n",
    "\n",
    "a.sort(reverse=True)\n",
    "l = []\n",
    "if sum(a) < x:\n",
    "    print(-1)\n",
    "else:\n",
    "    for i in range(n):\n",
    "        l.append(a[i])\n",
    "        if sum(l) >= x:\n",
    "            print(len(l))\n",
    "            break"
   ]
  },
  {
   "cell_type": "code",
   "execution_count": 83,
   "metadata": {},
   "outputs": [
    {
     "name": "stdout",
     "output_type": "stream",
     "text": [
      "-1\n"
     ]
    }
   ],
   "source": [
    "n, x = [int(x) for x in input().split()]\n",
    "a = [int(x) for x in input().split()]\n",
    "\n",
    "a.sort(reverse=True)\n",
    "l = []\n",
    "if sum(a) < x:\n",
    "    print(-1)\n",
    "else:\n",
    "    for i in range(n):\n",
    "        l.append(a[i])\n",
    "sum_count = 0\n",
    "count = 0\n",
    "for i in l:\n",
    "    sum_count += i\n",
    "    count += 1\n",
    "    if sum_count >= x:\n",
    "        print(count)\n",
    "        break"
   ]
  },
  {
   "cell_type": "code",
   "execution_count": null,
   "metadata": {},
   "outputs": [],
   "source": [
    "n, x = [int(x) for x in input().split()]\n",
    "a = [int(x) for x in input().split()]\n",
    "\n",
    "a.sort(reverse=True)\n",
    "l = []\n",
    "for i in range(n):\n",
    "    l.append(a[i])\n",
    "sum_count = 0\n",
    "count = 0\n",
    "for i in l:\n",
    "    sum_count += i\n",
    "    count += 1\n",
    "    if sum_count >= x:\n",
    "        print(count)\n",
    "        break\n",
    "else:\n",
    "    print(-1)"
   ]
  },
  {
   "cell_type": "code",
   "execution_count": null,
   "metadata": {},
   "outputs": [],
   "source": [
    "n, x = [int(x) for x in input().split()]\n",
    "a = [int(x) for x in input().split()]\n",
    "\n",
    "a.sort(reverse=True)\n",
    "count = 0\n",
    "if sum(a) < x:\n",
    "    print(-1)\n",
    "else:\n",
    "    for i in range(n):\n",
    "        count += a[i]\n",
    "        if count >= x:\n",
    "            print(i + 1)\n",
    "            break\n"
   ]
  },
  {
   "cell_type": "code",
   "execution_count": 80,
   "metadata": {},
   "outputs": [
    {
     "data": {
      "text/plain": [
       "16"
      ]
     },
     "execution_count": 80,
     "metadata": {},
     "output_type": "execute_result"
    }
   ],
   "source": [
    "n, x = [int(x) for x in input().split()]\n",
    "a = [int(x) for x in input().split()]\n",
    "\n",
    "a.sort(reverse=True)\n",
    "sum = 0\n",
    "for i in range(n):\n",
    "    sum += a[i]\n",
    "    if sum >= x:\n",
    "        print(i + 1)\n",
    "        break\n",
    "else:\n",
    "    print(-1)"
   ]
  },
  {
   "cell_type": "code",
   "execution_count": 86,
   "metadata": {},
   "outputs": [],
   "source": [
    "n = int(input())\n",
    "a = [[int(x) for x in input().split()] for _ in range(n)]\n",
    "\n",
    "a.sort()\n",
    "for i in a:\n",
    "    print(*i)"
   ]
  },
  {
   "cell_type": "code",
   "execution_count": null,
   "metadata": {},
   "outputs": [],
   "source": [
    "n, m, k = [int(x) for x in input().split()]\n",
    "k -= 1\n",
    "a = [[int(x) for x in input().split()] for _ in range(n)]\n",
    "a.sort(key=lambda x: [x[k]] + x[:k] + a[k + 1 :])\n",
    "\n",
    "for i in range(n):\n",
    "    print(*a[i])"
   ]
  },
  {
   "cell_type": "code",
   "execution_count": null,
   "metadata": {},
   "outputs": [],
   "source": [
    "n = int(input())\n",
    "a = [[int(x) for x in input().split()] for _ in range(n)]\n",
    "a.sort(key=lambda x: x[1])\n",
    "\n",
    "num_of_participants = 0\n",
    "lastday_of_campaign = 0\n",
    "\n",
    "for i in range(n):\n",
    "    if lastday_of_campaign < a[i][0]:\n",
    "        num_of_participants += 1\n",
    "        lastday_of_campaign = a[i][1]\n",
    "print(num_of_participants)"
   ]
  },
  {
   "cell_type": "code",
   "execution_count": 115,
   "metadata": {},
   "outputs": [
    {
     "name": "stdout",
     "output_type": "stream",
     "text": [
      "a\n",
      "b\n",
      "aa\n",
      "ab\n"
     ]
    }
   ],
   "source": [
    "# マンハッタン座標\n",
    "n = int(input())\n",
    "a = [input() for _ in range(n)]\n",
    "a.sort(key=lambda x: (len(x), x))\n",
    "for i in a:\n",
    "    print(i)\n"
   ]
  },
  {
   "cell_type": "code",
   "execution_count": 121,
   "metadata": {},
   "outputs": [
    {
     "name": "stdout",
     "output_type": "stream",
     "text": [
      "0 0\n",
      "1 1\n",
      "-2 1\n",
      "10 10\n"
     ]
    }
   ],
   "source": [
    "n = int(input())\n",
    "a = [[int(x) for x in input().split()] for _ in range(n)]\n",
    "\n",
    "a.sort(key=lambda x: (abs(x[0]) + abs(x[1])))\n",
    "for i in a:\n",
    "    print(*i)"
   ]
  },
  {
   "cell_type": "code",
   "execution_count": 125,
   "metadata": {},
   "outputs": [
    {
     "name": "stdout",
     "output_type": "stream",
     "text": [
      "2\n",
      "4\n",
      "5\n",
      "1\n"
     ]
    }
   ],
   "source": [
    "n, q = [int(x) for x in input().split()]\n",
    "a = [int(x) for x in input().split()]\n",
    "x = [int(x) for x in input().split()]\n",
    "\n",
    "a.sort()\n",
    "for i in range(q):\n",
    "    print(a.index(x[i]) + 1)"
   ]
  },
  {
   "attachments": {},
   "cell_type": "markdown",
   "metadata": {},
   "source": [
    "# 座標圧縮"
   ]
  },
  {
   "cell_type": "code",
   "execution_count": 128,
   "metadata": {},
   "outputs": [
    {
     "name": "stdout",
     "output_type": "stream",
     "text": [
      "2\n",
      "4\n",
      "5\n",
      "1\n"
     ]
    }
   ],
   "source": [
    "n, q = [int(x) for x in input().split()]\n",
    "a = [int(x) for x in input().split()]\n",
    "x = [int(x) for x in input().split()]\n",
    "\n",
    "comp = {a_i: i + 1 for i, a_i in enumerate(sorted(a))}\n",
    "for i in x:\n",
    "    print(comp[i])"
   ]
  },
  {
   "cell_type": "code",
   "execution_count": 131,
   "metadata": {},
   "outputs": [
    {
     "name": "stdout",
     "output_type": "stream",
     "text": [
      "5\n",
      "5\n"
     ]
    },
    {
     "ename": "IndexError",
     "evalue": "list index out of range",
     "output_type": "error",
     "traceback": [
      "\u001b[0;31m---------------------------------------------------------------------------\u001b[0m",
      "\u001b[0;31mIndexError\u001b[0m                                Traceback (most recent call last)",
      "Cell \u001b[0;32mIn[131], line 8\u001b[0m\n\u001b[1;32m      6\u001b[0m \u001b[39mfor\u001b[39;00m j \u001b[39min\u001b[39;00m query:\n\u001b[1;32m      7\u001b[0m     \u001b[39mif\u001b[39;00m j[\u001b[39m0\u001b[39m]\u001b[39m==\u001b[39m \u001b[39m\"\u001b[39m\u001b[39mget\u001b[39m\u001b[39m\"\u001b[39m:\n\u001b[0;32m----> 8\u001b[0m         \u001b[39mprint\u001b[39m(a[\u001b[39mint\u001b[39;49m(j[\u001b[39m1\u001b[39;49m])])\n",
      "\u001b[0;31mIndexError\u001b[0m: list index out of range"
     ]
    }
   ],
   "source": [
    "n, q = [int(x) for x in input().split()]\n",
    "a = [int(x) for x in input().split()]\n",
    "query = [input().split() for _ in range(q)]\n",
    "\n",
    "\n",
    "for j in query:\n",
    "    if j[0] == \"get\":\n",
    "        ext_index = int(j[1])\n",
    "        print(sorted(a, reverse=True)[ext_index - 1])\n",
    "    elif j[0] == \"update\":\n",
    "        position = int(j[1])\n",
    "        change = int(j[2])\n",
    "        a[position - 1] = change\n"
   ]
  },
  {
   "cell_type": "code",
   "execution_count": null,
   "metadata": {},
   "outputs": [],
   "source": [
    "n, q = map(int, input().split())\n",
    "a = list(map(int, input().split()))\n",
    "\n",
    "for i in range(q):\n",
    "    query = input().split()\n",
    "    if query[0] == \"update\":\n",
    "        k, x = map(int, query[1:])\n",
    "        a[k - 1] = x\n",
    "    elif query[0] == \"get\":\n",
    "        k = int(query[1])\n",
    "        print(sorted(a, reverse=True)[k - 1])"
   ]
  }
 ],
 "metadata": {
  "kernelspec": {
   "display_name": ".venv",
   "language": "python",
   "name": "python3"
  },
  "language_info": {
   "codemirror_mode": {
    "name": "ipython",
    "version": 3
   },
   "file_extension": ".py",
   "mimetype": "text/x-python",
   "name": "python",
   "nbconvert_exporter": "python",
   "pygments_lexer": "ipython3",
   "version": "3.11.3"
  },
  "orig_nbformat": 4
 },
 "nbformat": 4,
 "nbformat_minor": 2
}
