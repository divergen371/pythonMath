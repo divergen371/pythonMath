{
 "cells": [
  {
   "cell_type": "code",
   "execution_count": 3,
   "metadata": {},
   "outputs": [
    {
     "name": "stdout",
     "output_type": "stream",
     "text": [
      "3\n",
      "0\n",
      "7\n",
      "5\n"
     ]
    }
   ],
   "source": [
    "n = int(input())\n",
    "a = [int(input()) for _ in range(n)]\n",
    "\n",
    "print(n)\n",
    "for i in a:\n",
    "    print(i)"
   ]
  },
  {
   "cell_type": "code",
   "execution_count": 24,
   "metadata": {},
   "outputs": [
    {
     "name": "stdout",
     "output_type": "stream",
     "text": [
      "3\n",
      "6\n",
      "5\n",
      "9\n"
     ]
    }
   ],
   "source": [
    "q = int(input())\n",
    "a = []\n",
    "queue = [[int(x) for x in input().split()] for _ in range(q)]\n",
    "\n",
    "for i in range(q):\n",
    "    if queue[i][0] == 2:\n",
    "        pass\n",
    "    else:\n",
    "        a.append(queue[i][1])\n",
    "\n",
    "print(len(a))\n",
    "for i in a:\n",
    "    print(i)"
   ]
  },
  {
   "cell_type": "code",
   "execution_count": 26,
   "metadata": {},
   "outputs": [
    {
     "name": "stdout",
     "output_type": "stream",
     "text": [
      "4\n",
      "4 5\n",
      "4 5 3\n",
      "4 5\n"
     ]
    }
   ],
   "source": [
    "q = int(input())\n",
    "a = []\n",
    "\n",
    "for _ in range(q):\n",
    "    query = input().split()\n",
    "    if query[0] == \"2\":\n",
    "        a.pop()\n",
    "    elif query[0] == \"1\":\n",
    "        a.append(query[1])\n",
    "    print(*a)"
   ]
  },
  {
   "cell_type": "code",
   "execution_count": 28,
   "metadata": {},
   "outputs": [
    {
     "name": "stdout",
     "output_type": "stream",
     "text": [
      "1\n",
      "1 4\n",
      "1 4 2\n",
      "4 2\n"
     ]
    }
   ],
   "source": [
    "q = int(input())\n",
    "a = []\n",
    "\n",
    "for _ in range(q):\n",
    "    query = input().split()\n",
    "    if query[0] == \"2\":\n",
    "        del a[0]\n",
    "    elif query[0] == \"1\":\n",
    "        a.append(query[1])\n",
    "    print(*a)\n"
   ]
  },
  {
   "cell_type": "code",
   "execution_count": null,
   "metadata": {},
   "outputs": [],
   "source": [
    "from queue import Queue\n",
    "\n",
    "Q = int(input())\n",
    "\n",
    "q = Queue()  # キュー本体\n",
    "for i in range(Q):\n",
    "    query = input().split()\n",
    "    if query[0] == \"1\":\n",
    "        # PUSH\n",
    "        q.put(query[1])\n",
    "    elif query[0] == \"2\":\n",
    "        q.get()  # print()とすれば除去した要素を確認できる。\n",
    "    for j in range(q.qsize()):  # キューの要素分だけループを回す\n",
    "        tmp = q.get()\n",
    "        if j < q.qsize():\n",
    "            print(tmp, end=\" \")\n",
    "        else:\n",
    "            print(tmp, end=\"\")\n",
    "        q.put(tmp)\n",
    "    print()"
   ]
  },
  {
   "cell_type": "code",
   "execution_count": 2,
   "metadata": {},
   "outputs": [
    {
     "name": "stdout",
     "output_type": "stream",
     "text": [
      "2 1\n",
      "2\n",
      "1 1\n"
     ]
    }
   ],
   "source": [
    "from queue import Queue\n",
    "\n",
    "\n",
    "q = int(input())\n",
    "queue1 = Queue()\n",
    "queue2 = Queue()\n",
    "for i in range(q):\n",
    "    query = input().split()\n",
    "    if query[0] == \"1\" and query[1] == \"1\":\n",
    "        queue1.put(query[2])\n",
    "    elif query[0] == \"1\" and query[1] == \"2\":\n",
    "        queue2.put(query[2])\n",
    "    elif query[0] == \"2\" and query[1] == \"1\":\n",
    "        print(queue1.get())\n",
    "    elif query[0] == \"2\" and query[1] == \"2\":\n",
    "        print(queue2.get())\n",
    "    elif query[0] == \"3\":\n",
    "        print(queue1.qsize(), queue2.qsize())"
   ]
  },
  {
   "cell_type": "code",
   "execution_count": 1,
   "metadata": {},
   "outputs": [],
   "source": [
    "n, x = [int(x) for x in input().split()]\n",
    "a = [int(x) for x in input().split()]\n"
   ]
  },
  {
   "cell_type": "code",
   "execution_count": 3,
   "metadata": {},
   "outputs": [
    {
     "name": "stdout",
     "output_type": "stream",
     "text": [
      "15 3\n"
     ]
    }
   ],
   "source": [
    "n, x = map(int, input().split())\n",
    "a = list(map(int, input().split()))\n",
    "\n",
    "left_num = a[0]  # 区間の和が最大になる左端の値\n",
    "max_sum = 0  # 区間の和の最大\n",
    "\n",
    "for i in range(x):\n",
    "    max_sum += a[i]\n",
    "tmp_sum = max_sum  # 区間の和\n",
    "\n",
    "for i in range(n - x):\n",
    "    tmp_sum -= a[i]\n",
    "    tmp_sum += a[i + x]\n",
    "    if tmp_sum > max_sum:\n",
    "        left_num = a[i + 1]\n",
    "        max_sum = tmp_sum\n",
    "\n",
    "print(max_sum, left_num)"
   ]
  },
  {
   "cell_type": "code",
   "execution_count": 3,
   "metadata": {},
   "outputs": [
    {
     "name": "stdout",
     "output_type": "stream",
     "text": [
      "4\n"
     ]
    }
   ],
   "source": [
    "n = int(input())\n",
    "\n",
    "stack = []\n",
    "\n",
    "\n",
    "def add():\n",
    "    y, x = stack.pop(), stack.pop()\n",
    "    stack.append(x + y)\n",
    "\n",
    "\n",
    "def sub():\n",
    "    y, x = stack.pop(), stack.pop()\n",
    "    stack.append(x - y)\n",
    "\n",
    "\n",
    "for i in input().split():\n",
    "    if i == \"+\":\n",
    "        add()\n",
    "    elif i == \"-\":\n",
    "        sub()\n",
    "    else:\n",
    "        stack.append(int(i))\n",
    "\n",
    "print(stack.pop())"
   ]
  },
  {
   "cell_type": "code",
   "execution_count": null,
   "metadata": {},
   "outputs": [],
   "source": [
    "n = int(input())\n",
    "s = input()\n",
    "\n",
    "st = []\n",
    "\n",
    "for i in range(n):\n",
    "    if len(st) > 0 and st[-1] == \"(\" and s[i] == \")\":\n",
    "        st.pop()\n",
    "    else:\n",
    "        st.append(s[i])\n",
    "if len(st) == 0:\n",
    "    print(\"Yes\")\n",
    "else:\n",
    "    print(\"No\")"
   ]
  },
  {
   "cell_type": "code",
   "execution_count": null,
   "metadata": {},
   "outputs": [],
   "source": [
    "import queue\n",
    "\n",
    "n, k = map(int, input().split())\n",
    "a = list(map(int, input().split()))\n",
    "\n",
    "que = queue.Queue()\n",
    "next_person = 0\n",
    "person_on_escalator = 0\n",
    "for time in range(1, 50000):\n",
    "    if next_person < n and time == a[next_person]:\n",
    "        que.put(1)\n",
    "        person_on_escalator += 1\n",
    "    else:\n",
    "        que.put(0)\n",
    "    if que.qsize() > k:\n",
    "        person_on_escalator -= que.get()\n",
    "    if next_person < n and time == a[next_person]:\n",
    "        print(person_on_escalator)\n",
    "        next_person += 1"
   ]
  },
  {
   "cell_type": "code",
   "execution_count": 20,
   "metadata": {},
   "outputs": [
    {
     "name": "stdout",
     "output_type": "stream",
     "text": [
      "4\n",
      "5\n",
      "10\n",
      "2\n",
      "3\n"
     ]
    }
   ],
   "source": [
    "from queue import LifoQueue\n",
    "\n",
    "n = int(input())\n",
    "a = [int(x) for x in input().split()]\n",
    "\n",
    "box = LifoQueue()\n",
    "for i in range(1, n):\n",
    "    if a[i - 1] != a[i]:\n",
    "        box.put(a[i - 1])\n",
    "    elif a[i - 1] == a[i]:\n",
    "        add = a[i - 1] + a[i]\n",
    "\n",
    "        box.put(add)\n",
    "\n",
    "for i in range(box.qsize()):\n",
    "    print(box.get())"
   ]
  },
  {
   "cell_type": "code",
   "execution_count": null,
   "metadata": {},
   "outputs": [],
   "source": [
    "n  =   int(input()) \n",
    "a = list(map(int, input().split()))\n",
    "\n",
    "st = []\n",
    "\n",
    "for i in range(n):\n",
    "  st.append(a[i])\n",
    "  while len(st) >= 2:\n",
    "    top1 = st[-1] # スタックの上から一番目\n",
    "    st.pop()\n",
    "    top2 = st[-1] # スタックの上から二番目\n",
    "    st.pop()\n",
    "    if top1 == top2:\n",
    "      # (*1)\n",
    "      st.append(2 * top2)\n",
    "    else:\n",
    "      # (*2)\n",
    "      st.append(top2)\n",
    "      st.append(top1)\n",
    "      break\n",
    "\n",
    "while len(st) > 0:\n",
    "  print(st[-1])\n",
    "  st.pop()"
   ]
  }
 ],
 "metadata": {
  "kernelspec": {
   "display_name": ".venv",
   "language": "python",
   "name": "python3"
  },
  "language_info": {
   "codemirror_mode": {
    "name": "ipython",
    "version": 3
   },
   "file_extension": ".py",
   "mimetype": "text/x-python",
   "name": "python",
   "nbconvert_exporter": "python",
   "pygments_lexer": "ipython3",
   "version": "3.10.4"
  },
  "orig_nbformat": 4
 },
 "nbformat": 4,
 "nbformat_minor": 2
}
