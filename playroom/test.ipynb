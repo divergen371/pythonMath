{
 "cells": [
  {
   "cell_type": "code",
   "execution_count": 1,
   "metadata": {},
   "outputs": [
    {
     "data": {
      "text/latex": [
       "$\\displaystyle x^{3} - x^{2} + 7 x + 2$"
      ],
      "text/plain": [
       " 3    2          \n",
       "x  - x  + 7⋅x + 2"
      ]
     },
     "execution_count": 1,
     "metadata": {},
     "output_type": "execute_result"
    }
   ],
   "source": [
    "from sympy import symbols, init_printing\n",
    "\n",
    "init_printing(use_latex=\"mathjax\")\n",
    "\n",
    "x = symbols(\"x\")\n",
    "\n",
    "f = 2 * x**2 + 5 * x - 1\n",
    "g = x**3 - 3 * x**2 + 2 * x + 3\n",
    "f + g\n"
   ]
  },
  {
   "cell_type": "code",
   "execution_count": 2,
   "metadata": {},
   "outputs": [
    {
     "data": {
      "text/latex": [
       "$\\displaystyle - x^{3} + 5 x^{2} + 3 x - 4$"
      ],
      "text/plain": [
       "   3      2          \n",
       "- x  + 5⋅x  + 3⋅x - 4"
      ]
     },
     "execution_count": 2,
     "metadata": {},
     "output_type": "execute_result"
    }
   ],
   "source": [
    "f - g\n"
   ]
  },
  {
   "cell_type": "code",
   "execution_count": 3,
   "metadata": {},
   "outputs": [
    {
     "data": {
      "text/latex": [
       "$\\displaystyle 19$"
      ],
      "text/plain": [
       "19"
      ]
     },
     "execution_count": 3,
     "metadata": {},
     "output_type": "execute_result"
    }
   ],
   "source": [
    "f = x**2 + 3 * x + 1\n",
    "f.subs(x, 3)\n"
   ]
  },
  {
   "cell_type": "code",
   "execution_count": 4,
   "metadata": {},
   "outputs": [
    {
     "data": {
      "text/latex": [
       "$\\displaystyle \\left[ - \\frac{1}{2}\\right]$"
      ],
      "text/plain": [
       "[-1/2]"
      ]
     },
     "execution_count": 4,
     "metadata": {},
     "output_type": "execute_result"
    }
   ],
   "source": [
    "from sympy import solve\n",
    "\n",
    "solve(2 * x + 1, x)\n"
   ]
  },
  {
   "cell_type": "code",
   "execution_count": 5,
   "metadata": {},
   "outputs": [
    {
     "data": {
      "text/latex": [
       "$\\displaystyle \\left[ -1, \\  1, \\  2\\right]$"
      ],
      "text/plain": [
       "[-1, 1, 2]"
      ]
     },
     "execution_count": 5,
     "metadata": {},
     "output_type": "execute_result"
    }
   ],
   "source": [
    "solve(x**3 - 2 * x**2 - x + 2, x)\n"
   ]
  },
  {
   "cell_type": "code",
   "execution_count": 6,
   "metadata": {},
   "outputs": [
    {
     "data": {
      "text/latex": [
       "$\\displaystyle \\left[ -3, \\  -1, \\  1, \\  2\\right]$"
      ],
      "text/plain": [
       "[-3, -1, 1, 2]"
      ]
     },
     "execution_count": 6,
     "metadata": {},
     "output_type": "execute_result"
    }
   ],
   "source": [
    "solve(x**4 + x**3 - 7 * x**2 - x + 6, x)\n"
   ]
  },
  {
   "cell_type": "code",
   "execution_count": 7,
   "metadata": {},
   "outputs": [
    {
     "data": {
      "text/latex": [
       "$\\displaystyle - 2 x^{2} y + 3 x^{2} + 5 x y^{2} + y^{2}$"
      ],
      "text/plain": [
       "     2        2        2    2\n",
       "- 2⋅x ⋅y + 3⋅x  + 5⋅x⋅y  + y "
      ]
     },
     "execution_count": 7,
     "metadata": {},
     "output_type": "execute_result"
    }
   ],
   "source": [
    "from sympy import diff\n",
    "\n",
    "x, y = symbols(\"x y\")\n",
    "f = 3 * x**2 + 5 * x * y**2 - 2 * x**2 * y + y**2\n",
    "f\n"
   ]
  },
  {
   "cell_type": "code",
   "execution_count": 8,
   "metadata": {},
   "outputs": [
    {
     "data": {
      "text/latex": [
       "$\\displaystyle - 4 x y + 6 x + 5 y^{2}$"
      ],
      "text/plain": [
       "                  2\n",
       "-4⋅x⋅y + 6⋅x + 5⋅y "
      ]
     },
     "execution_count": 8,
     "metadata": {},
     "output_type": "execute_result"
    }
   ],
   "source": [
    "diff(f, x)\n"
   ]
  },
  {
   "cell_type": "code",
   "execution_count": 9,
   "metadata": {},
   "outputs": [
    {
     "data": {
      "text/latex": [
       "$\\displaystyle - 2 x^{2} + 10 x y + 2 y$"
      ],
      "text/plain": [
       "     2               \n",
       "- 2⋅x  + 10⋅x⋅y + 2⋅y"
      ]
     },
     "execution_count": 9,
     "metadata": {},
     "output_type": "execute_result"
    }
   ],
   "source": [
    "diff(f, y)\n"
   ]
  },
  {
   "cell_type": "code",
   "execution_count": 10,
   "metadata": {},
   "outputs": [
    {
     "data": {
      "text/latex": [
       "$\\displaystyle \\left(a - b\\right)^{2} \\left(a + b\\right)^{2}$"
      ],
      "text/plain": [
       "       2        2\n",
       "(a - b) ⋅(a + b) "
      ]
     },
     "execution_count": 10,
     "metadata": {},
     "output_type": "execute_result"
    }
   ],
   "source": [
    "from sympy import simplify, factor, expand\n",
    "\n",
    "a, b = symbols(\"a b\")\n",
    "f = (a + b) ** 2 * (a - b) ** 2\n",
    "f\n"
   ]
  },
  {
   "cell_type": "code",
   "execution_count": 11,
   "metadata": {},
   "outputs": [
    {
     "data": {
      "text/latex": [
       "$\\displaystyle a^{4} - 2 a^{2} b^{2} + b^{4}$"
      ],
      "text/plain": [
       " 4      2  2    4\n",
       "a  - 2⋅a ⋅b  + b "
      ]
     },
     "execution_count": 11,
     "metadata": {},
     "output_type": "execute_result"
    }
   ],
   "source": [
    "expand(f)\n"
   ]
  },
  {
   "cell_type": "code",
   "execution_count": 12,
   "metadata": {},
   "outputs": [
    {
     "data": {
      "text/latex": [
       "$\\displaystyle a^{2} - 5 a - 6$"
      ],
      "text/plain": [
       " 2          \n",
       "a  - 5⋅a - 6"
      ]
     },
     "execution_count": 12,
     "metadata": {},
     "output_type": "execute_result"
    }
   ],
   "source": [
    "from sympy import solve\n",
    "\n",
    "a_1 = a**2 - 5 * a - 6\n",
    "a_1\n"
   ]
  },
  {
   "cell_type": "code",
   "execution_count": 13,
   "metadata": {},
   "outputs": [
    {
     "data": {
      "text/latex": [
       "$\\displaystyle -1 < a \\wedge a < 6$"
      ],
      "text/plain": [
       "-1 < a ∧ a < 6"
      ]
     },
     "execution_count": 13,
     "metadata": {},
     "output_type": "execute_result"
    }
   ],
   "source": [
    "solve(a_1 < 0)\n"
   ]
  },
  {
   "cell_type": "code",
   "execution_count": 14,
   "metadata": {},
   "outputs": [
    {
     "data": {
      "text/latex": [
       "$\\displaystyle \\left[ 1, \\  4, \\  9, \\  16, \\  25, \\  36, \\  49, \\  64, \\  81, \\  100\\right]$"
      ],
      "text/plain": [
       "[1, 4, 9, 16, 25, 36, 49, 64, 81, 100]"
      ]
     },
     "execution_count": 14,
     "metadata": {},
     "output_type": "execute_result"
    }
   ],
   "source": [
    "from sympy import sequence\n",
    "\n",
    "n = symbols(\"n\")\n",
    "A = sequence(n**2, (n, 1, 10))\n",
    "seq_list = [int(N) for N in A]\n",
    "seq_list\n"
   ]
  },
  {
   "cell_type": "code",
   "execution_count": 15,
   "metadata": {},
   "outputs": [
    {
     "data": {
      "text/latex": [
       "$\\displaystyle \\left[\\tilde{\\infty}, 1, \\frac{1}{2}, \\frac{1}{3}, \\ldots\\right]$"
      ],
      "text/plain": [
       "[zoo, 1, 1/2, 1/3, …]"
      ]
     },
     "execution_count": 15,
     "metadata": {},
     "output_type": "execute_result"
    }
   ],
   "source": [
    "B = sequence(1 / n)\n",
    "B\n"
   ]
  },
  {
   "cell_type": "code",
   "execution_count": 16,
   "metadata": {},
   "outputs": [
    {
     "data": {
      "text/latex": [
       "$\\displaystyle \\left[2, \\frac{9}{2}, \\frac{28}{3}, \\frac{65}{4}, \\ldots\\right]$"
      ],
      "text/plain": [
       "[2, 9/2, 28/3, 65/4, …]"
      ]
     },
     "execution_count": 16,
     "metadata": {},
     "output_type": "execute_result"
    }
   ],
   "source": [
    "C = A + B\n",
    "C\n"
   ]
  },
  {
   "cell_type": "code",
   "execution_count": 17,
   "metadata": {},
   "outputs": [
    {
     "data": {
      "text/latex": [
       "$\\displaystyle n^{2} + \\frac{1}{n}$"
      ],
      "text/plain": [
       " 2   1\n",
       "n  + ─\n",
       "     n"
      ]
     },
     "execution_count": 17,
     "metadata": {},
     "output_type": "execute_result"
    }
   ],
   "source": [
    "C.formula\n"
   ]
  },
  {
   "cell_type": "code",
   "execution_count": 18,
   "metadata": {},
   "outputs": [
    {
     "data": {
      "text/latex": [
       "$\\displaystyle \\frac{k^{3}}{3} + \\frac{k^{2}}{2} + \\frac{k}{6} + \\operatorname{harmonic}{\\left(k \\right)}$"
      ],
      "text/plain": [
       " 3    2                  \n",
       "k    k    k              \n",
       "── + ── + ─ + harmonic(k)\n",
       "3    2    6              "
      ]
     },
     "execution_count": 18,
     "metadata": {},
     "output_type": "execute_result"
    }
   ],
   "source": [
    "from sympy import summation\n",
    "\n",
    "k = symbols(\"k\")\n",
    "summation(C.formula, (n, 1, k))\n"
   ]
  },
  {
   "cell_type": "code",
   "execution_count": 19,
   "metadata": {},
   "outputs": [
    {
     "data": {
      "text/latex": [
       "$\\displaystyle \\begin{cases} n & \\text{for}\\: r = 1 \\\\\\frac{r - r^{n + 1}}{1 - r} & \\text{otherwise} \\end{cases}$"
      ],
      "text/plain": [
       "⎧    n       for r = 1\n",
       "⎪                     \n",
       "⎪     n + 1           \n",
       "⎨r - r                \n",
       "⎪──────────  otherwise\n",
       "⎪  1 - r              \n",
       "⎩                     "
      ]
     },
     "execution_count": 19,
     "metadata": {},
     "output_type": "execute_result"
    }
   ],
   "source": [
    "r, i = symbols(\"r i\")\n",
    "\n",
    "R = summation(r**i, (i, 1, n))\n",
    "R\n"
   ]
  },
  {
   "cell_type": "code",
   "execution_count": 20,
   "metadata": {},
   "outputs": [
    {
     "data": {
      "text/latex": [
       "$\\displaystyle \\sum_{n=1}^{k} n^{x}$"
      ],
      "text/plain": [
       "  k     \n",
       " ___    \n",
       " ╲      \n",
       "  ╲    x\n",
       "  ╱   n \n",
       " ╱      \n",
       " ‾‾‾    \n",
       "n = 1   "
      ]
     },
     "execution_count": 20,
     "metadata": {},
     "output_type": "execute_result"
    }
   ],
   "source": [
    "from sympy import Sum\n",
    "\n",
    "Sx = Sum(n**x, (n, 1, k))\n",
    "Sx\n"
   ]
  },
  {
   "cell_type": "code",
   "execution_count": 21,
   "metadata": {},
   "outputs": [
    {
     "data": {
      "text/latex": [
       "$\\displaystyle \\frac{k \\left(k + 1\\right) \\left(2 k + 1\\right) \\left(k^{2} + k - 1\\right) \\left(3 k^{6} + 9 k^{5} + 2 k^{4} - 11 k^{3} + 3 k^{2} + 10 k - 5\\right)}{66}$"
      ],
      "text/plain": [
       "                    ⎛ 2        ⎞ ⎛   6      5      4       3      2           \n",
       "k⋅(k + 1)⋅(2⋅k + 1)⋅⎝k  + k - 1⎠⋅⎝3⋅k  + 9⋅k  + 2⋅k  - 11⋅k  + 3⋅k  + 10⋅k - 5\n",
       "──────────────────────────────────────────────────────────────────────────────\n",
       "                                       66                                     \n",
       "\n",
       "⎞\n",
       "⎠\n",
       "─\n",
       " "
      ]
     },
     "execution_count": 21,
     "metadata": {},
     "output_type": "execute_result"
    }
   ],
   "source": [
    "from sympy import factor\n",
    "\n",
    "factor(Sx.subs([(x, 10)]).doit())\n"
   ]
  },
  {
   "cell_type": "code",
   "execution_count": 22,
   "metadata": {},
   "outputs": [
    {
     "data": {
      "text/latex": [
       "$\\displaystyle \\frac{1}{e \\left(1 - e^{-1}\\right)^{2}}$"
      ],
      "text/plain": [
       "    -1    \n",
       "   ℯ      \n",
       "──────────\n",
       "         2\n",
       "⎛     -1⎞ \n",
       "⎝1 - ℯ  ⎠ "
      ]
     },
     "execution_count": 22,
     "metadata": {},
     "output_type": "execute_result"
    }
   ],
   "source": [
    "from sympy import exp, oo\n",
    "\n",
    "summation(n / exp(n), (n, 1, oo))\n"
   ]
  },
  {
   "cell_type": "code",
   "execution_count": 23,
   "metadata": {},
   "outputs": [
    {
     "data": {
      "text/latex": [
       "$\\displaystyle - \\log{\\left(2 \\right)}$"
      ],
      "text/plain": [
       "-log(2)"
      ]
     },
     "execution_count": 23,
     "metadata": {},
     "output_type": "execute_result"
    }
   ],
   "source": [
    "summation((-1) ** n / n, (n, 1, oo))\n"
   ]
  },
  {
   "cell_type": "code",
   "execution_count": 24,
   "metadata": {},
   "outputs": [
    {
     "data": {
      "text/latex": [
       "$\\displaystyle - \\frac{1}{12}$"
      ],
      "text/plain": [
       "-1/12"
      ]
     },
     "execution_count": 24,
     "metadata": {},
     "output_type": "execute_result"
    }
   ],
   "source": [
    "from sympy import zeta\n",
    "\n",
    "zeta(-1)\n"
   ]
  },
  {
   "cell_type": "code",
   "execution_count": 25,
   "metadata": {},
   "outputs": [
    {
     "data": {
      "text/latex": [
       "$\\displaystyle 3628800$"
      ],
      "text/plain": [
       "3628800"
      ]
     },
     "execution_count": 25,
     "metadata": {},
     "output_type": "execute_result"
    }
   ],
   "source": [
    "from sympy import factorial\n",
    "\n",
    "factorial(10)\n"
   ]
  },
  {
   "cell_type": "code",
   "execution_count": 26,
   "metadata": {},
   "outputs": [
    {
     "data": {
      "text/latex": [
       "$\\displaystyle 2432902008176640000$"
      ],
      "text/plain": [
       "2432902008176640000"
      ]
     },
     "execution_count": 26,
     "metadata": {},
     "output_type": "execute_result"
    }
   ],
   "source": [
    "from sympy import gamma\n",
    "\n",
    "gamma(21)\n"
   ]
  },
  {
   "cell_type": "code",
   "execution_count": 27,
   "metadata": {},
   "outputs": [
    {
     "data": {
      "text/latex": [
       "$\\displaystyle 30240$"
      ],
      "text/plain": [
       "30240"
      ]
     },
     "execution_count": 27,
     "metadata": {},
     "output_type": "execute_result"
    }
   ],
   "source": [
    "from sympy.functions.combinatorial.numbers import nP, nC\n",
    "\n",
    "nP(10, 5)\n"
   ]
  },
  {
   "cell_type": "code",
   "execution_count": 28,
   "metadata": {},
   "outputs": [
    {
     "data": {
      "text/latex": [
       "$\\displaystyle 210$"
      ],
      "text/plain": [
       "210"
      ]
     },
     "execution_count": 28,
     "metadata": {},
     "output_type": "execute_result"
    }
   ],
   "source": [
    "nC(10, 6)\n"
   ]
  },
  {
   "cell_type": "code",
   "execution_count": 29,
   "metadata": {},
   "outputs": [
    {
     "data": {
      "text/latex": [
       "$\\displaystyle 4.0$"
      ],
      "text/plain": [
       "4.0"
      ]
     },
     "execution_count": 29,
     "metadata": {},
     "output_type": "execute_result"
    }
   ],
   "source": [
    "from scipy.special import comb, perm\n",
    "\n",
    "comb(4, 3)\n"
   ]
  },
  {
   "cell_type": "code",
   "execution_count": 30,
   "metadata": {},
   "outputs": [
    {
     "data": {
      "text/latex": [
       "$\\displaystyle 24.0$"
      ],
      "text/plain": [
       "24.0"
      ]
     },
     "execution_count": 30,
     "metadata": {},
     "output_type": "execute_result"
    }
   ],
   "source": [
    "perm(4, 3)\n"
   ]
  },
  {
   "cell_type": "code",
   "execution_count": 31,
   "metadata": {},
   "outputs": [
    {
     "data": {
      "text/latex": [
       "$\\displaystyle 4$"
      ],
      "text/plain": [
       "4"
      ]
     },
     "execution_count": 31,
     "metadata": {},
     "output_type": "execute_result"
    }
   ],
   "source": [
    "import math\n",
    "\n",
    "math.comb(4, 3)\n"
   ]
  },
  {
   "cell_type": "code",
   "execution_count": 32,
   "metadata": {},
   "outputs": [
    {
     "data": {
      "text/latex": [
       "$\\displaystyle 24$"
      ],
      "text/plain": [
       "24"
      ]
     },
     "execution_count": 32,
     "metadata": {},
     "output_type": "execute_result"
    }
   ],
   "source": [
    "math.perm(4, 3)\n"
   ]
  },
  {
   "cell_type": "code",
   "execution_count": 33,
   "metadata": {},
   "outputs": [
    {
     "data": {
      "text/plain": [
       "True"
      ]
     },
     "execution_count": 33,
     "metadata": {},
     "output_type": "execute_result"
    }
   ],
   "source": [
    "from sympy import expand\n",
    "\n",
    "a, b, c, d = symbols(\"a b c d\")\n",
    "ex1 = expand((a**2 + b**2) * (c**2 + d**2))\n",
    "ex2 = expand((a * c - b * d) ** 2 + (a * d + b * c) ** 2)\n",
    "ex1 == ex2\n"
   ]
  },
  {
   "cell_type": "code",
   "execution_count": 34,
   "metadata": {},
   "outputs": [
    {
     "data": {
      "text/latex": [
       "$\\displaystyle \\left(x + 2\\right) \\left(x + 3\\right)$"
      ],
      "text/plain": [
       "(x + 2)⋅(x + 3)"
      ]
     },
     "execution_count": 34,
     "metadata": {},
     "output_type": "execute_result"
    }
   ],
   "source": [
    "from sympy import factor\n",
    "\n",
    "x = symbols(\"x\")\n",
    "ex3 = x**2 + 5 * x + 6\n",
    "factor(ex3)\n"
   ]
  },
  {
   "cell_type": "code",
   "execution_count": 35,
   "metadata": {},
   "outputs": [
    {
     "name": "stdout",
     "output_type": "stream",
     "text": [
      "5 x^{3} + \\sin{\\left(x \\right)}\n"
     ]
    }
   ],
   "source": [
    "from sympy import print_latex, sin\n",
    "\n",
    "x = symbols(\"x\")\n",
    "print_latex(5 * x**3 + sin(x))\n"
   ]
  },
  {
   "attachments": {},
   "cell_type": "markdown",
   "metadata": {},
   "source": [
    "$5 x^{3} + \\sin{\\left(x \\right)}$\n"
   ]
  },
  {
   "cell_type": "code",
   "execution_count": 36,
   "metadata": {},
   "outputs": [],
   "source": [
    "from sympy.plotting import plot\n",
    "from sympy import Function\n",
    "\n",
    "a, b, c, x, y = symbols(\"a b c x y\")\n",
    "f = Function(\"f\")\n",
    "g = Function(\"g\")\n"
   ]
  },
  {
   "cell_type": "code",
   "execution_count": 37,
   "metadata": {},
   "outputs": [
    {
     "data": {
      "text/latex": [
       "$\\displaystyle x^{2} - 12 x + 8$"
      ],
      "text/plain": [
       " 2           \n",
       "x  - 12⋅x + 8"
      ]
     },
     "execution_count": 37,
     "metadata": {},
     "output_type": "execute_result"
    }
   ],
   "source": [
    "expr = x**2 - 12 * x + 8\n",
    "expr\n"
   ]
  },
  {
   "cell_type": "code",
   "execution_count": 38,
   "metadata": {},
   "outputs": [
    {
     "data": {
      "image/png": "[encoded data removed]",
      "text/plain": [
       "<Figure size 640x480 with 1 Axes>"
      ]
     },
     "metadata": {},
     "output_type": "display_data"
    },
    {
     "data": {
      "text/plain": [
       "<sympy.plotting.plot.Plot at 0x10d0015d0>"
      ]
     },
     "execution_count": 38,
     "metadata": {},
     "output_type": "execute_result"
    }
   ],
   "source": [
    "plot(expr)\n"
   ]
  },
  {
   "cell_type": "code",
   "execution_count": 39,
   "metadata": {},
   "outputs": [
    {
     "data": {
      "text/latex": [
       "$\\displaystyle x^{2} - 12 x = -8$"
      ],
      "text/plain": [
       " 2            \n",
       "x  - 12⋅x = -8"
      ]
     },
     "execution_count": 39,
     "metadata": {},
     "output_type": "execute_result"
    }
   ],
   "source": [
    "from sympy import Eq\n",
    "\n",
    "eq = Eq(x**2 - 12 * x, -8)\n",
    "eq\n"
   ]
  },
  {
   "cell_type": "code",
   "execution_count": 40,
   "metadata": {},
   "outputs": [
    {
     "data": {
      "text/latex": [
       "$\\displaystyle \\left[ 6 - 2 \\sqrt{7}, \\  2 \\sqrt{7} + 6\\right]$"
      ],
      "text/plain": [
       "[6 - 2⋅√7, 2⋅√7 + 6]"
      ]
     },
     "execution_count": 40,
     "metadata": {},
     "output_type": "execute_result"
    }
   ],
   "source": [
    "from sympy import solve\n",
    "\n",
    "solve(eq)\n"
   ]
  },
  {
   "cell_type": "code",
   "execution_count": 41,
   "metadata": {},
   "outputs": [
    {
     "data": {
      "text/latex": [
       "$\\displaystyle a x^{2} + b x + c = 0$"
      ],
      "text/plain": [
       "   2              \n",
       "a⋅x  + b⋅x + c = 0"
      ]
     },
     "execution_count": 41,
     "metadata": {},
     "output_type": "execute_result"
    }
   ],
   "source": [
    "eq2 = Eq(a * x**2 + b * x + c, 0)\n",
    "eq2\n"
   ]
  },
  {
   "cell_type": "code",
   "execution_count": 42,
   "metadata": {},
   "outputs": [
    {
     "data": {
      "text/latex": [
       "$\\displaystyle \\left[ \\frac{- b - \\sqrt{- 4 a c + b^{2}}}{2 a}, \\  \\frac{- b + \\sqrt{- 4 a c + b^{2}}}{2 a}\\right]$"
      ],
      "text/plain": [
       "⎡        _____________          _____________⎤\n",
       "⎢       ╱           2          ╱           2 ⎥\n",
       "⎢-b - ╲╱  -4⋅a⋅c + b    -b + ╲╱  -4⋅a⋅c + b  ⎥\n",
       "⎢─────────────────────, ─────────────────────⎥\n",
       "⎣         2⋅a                    2⋅a         ⎦"
      ]
     },
     "execution_count": 42,
     "metadata": {},
     "output_type": "execute_result"
    }
   ],
   "source": [
    "solve(eq2, x)\n"
   ]
  },
  {
   "cell_type": "code",
   "execution_count": 43,
   "metadata": {},
   "outputs": [
    {
     "data": {
      "text/latex": [
       "$\\displaystyle \\left(x + 1\\right)^{2}$"
      ],
      "text/plain": [
       "       2\n",
       "(x + 1) "
      ]
     },
     "execution_count": 43,
     "metadata": {},
     "output_type": "execute_result"
    }
   ],
   "source": [
    "factor(x**2 + 2 * x + 1)\n"
   ]
  },
  {
   "cell_type": "code",
   "execution_count": 44,
   "metadata": {},
   "outputs": [
    {
     "data": {
      "text/latex": [
       "$\\displaystyle 3 y + \\left(y + 2\\right)^{2} + 8$"
      ],
      "text/plain": [
       "             2    \n",
       "3⋅y + (y + 2)  + 8"
      ]
     },
     "execution_count": 44,
     "metadata": {},
     "output_type": "execute_result"
    }
   ],
   "source": [
    "expr = x**2 + 3 * x + 2\n",
    "expr.subs({x: y + 2})\n"
   ]
  },
  {
   "cell_type": "code",
   "execution_count": 45,
   "metadata": {},
   "outputs": [
    {
     "data": {
      "text/latex": [
       "$\\displaystyle 2 x$"
      ],
      "text/plain": [
       "2⋅x"
      ]
     },
     "execution_count": 45,
     "metadata": {},
     "output_type": "execute_result"
    }
   ],
   "source": [
    "expr = x**2\n",
    "diff(expr, x)\n"
   ]
  },
  {
   "cell_type": "code",
   "execution_count": 46,
   "metadata": {},
   "outputs": [
    {
     "data": {
      "text/latex": [
       "$\\displaystyle g\\circ f:A\\rightarrow C$"
      ],
      "text/plain": [
       "g∘f:A——▶C"
      ]
     },
     "execution_count": 46,
     "metadata": {},
     "output_type": "execute_result"
    }
   ],
   "source": [
    "from sympy.categories import Object, NamedMorphism\n",
    "\n",
    "A = Object(\"A\")\n",
    "B = Object(\"B\")\n",
    "C = Object(\"C\")\n",
    "f = NamedMorphism(A, B, \"f\")\n",
    "g = NamedMorphism(B, C, \"g\")\n",
    "g * f\n"
   ]
  },
  {
   "cell_type": "code",
   "execution_count": 47,
   "metadata": {},
   "outputs": [
    {
     "data": {
      "text/latex": [
       "$\\displaystyle A$"
      ],
      "text/plain": [
       "A"
      ]
     },
     "execution_count": 47,
     "metadata": {},
     "output_type": "execute_result"
    }
   ],
   "source": [
    "(g * f).domain\n"
   ]
  },
  {
   "cell_type": "code",
   "execution_count": 48,
   "metadata": {},
   "outputs": [
    {
     "data": {
      "text/latex": [
       "$\\displaystyle C$"
      ],
      "text/plain": [
       "C"
      ]
     },
     "execution_count": 48,
     "metadata": {},
     "output_type": "execute_result"
    }
   ],
   "source": [
    "(g * f).codomain\n"
   ]
  },
  {
   "cell_type": "code",
   "execution_count": 49,
   "metadata": {},
   "outputs": [
    {
     "data": {
      "text/latex": [
       "$\\displaystyle \\left( f:A\\rightarrow B, \\  g:B\\rightarrow C\\right)$"
      ],
      "text/plain": [
       "(f:A——▶B, g:B——▶C)"
      ]
     },
     "execution_count": 49,
     "metadata": {},
     "output_type": "execute_result"
    }
   ],
   "source": [
    "(g * f).components\n"
   ]
  },
  {
   "cell_type": "code",
   "execution_count": 50,
   "metadata": {},
   "outputs": [
    {
     "data": {
      "text/latex": [
       "$\\displaystyle h:A\\rightarrow C$"
      ],
      "text/plain": [
       "h:A——▶C"
      ]
     },
     "execution_count": 50,
     "metadata": {},
     "output_type": "execute_result"
    }
   ],
   "source": [
    "(g * f).flatten(\"h\")\n"
   ]
  },
  {
   "cell_type": "code",
   "execution_count": 51,
   "metadata": {},
   "outputs": [
    {
     "data": {
      "text/plain": [
       "True"
      ]
     },
     "execution_count": 51,
     "metadata": {},
     "output_type": "execute_result"
    }
   ],
   "source": [
    "from sympy.categories import IdentityMorphism\n",
    "\n",
    "id_A = IdentityMorphism(A)\n",
    "id_B = IdentityMorphism(B)\n",
    "\n",
    "f * id_A == f\n"
   ]
  },
  {
   "cell_type": "code",
   "execution_count": 52,
   "metadata": {},
   "outputs": [
    {
     "data": {
      "text/plain": [
       "True"
      ]
     },
     "execution_count": 52,
     "metadata": {},
     "output_type": "execute_result"
    }
   ],
   "source": [
    "id_B * f == f\n"
   ]
  },
  {
   "cell_type": "code",
   "execution_count": 53,
   "metadata": {},
   "outputs": [
    {
     "name": "stdout",
     "output_type": "stream",
     "text": [
      "25650\n",
      "17750\n",
      "30350\n",
      "25950\n",
      "52350\n"
     ]
    }
   ],
   "source": [
    "def fare(usage_distance):\n",
    "    first_ride = 650\n",
    "    total_fare = first_ride + 300 * usage_distance\n",
    "    if usage_distance >= 100:\n",
    "        discount = total_fare - 5000\n",
    "        print(discount)\n",
    "    else:\n",
    "        print(total_fare)\n",
    "\n",
    "\n",
    "fare(100)\n",
    "fare(57)\n",
    "fare(99)\n",
    "fare(101)\n",
    "fare(189)\n"
   ]
  },
  {
   "cell_type": "code",
   "execution_count": 54,
   "metadata": {},
   "outputs": [
    {
     "data": {
      "text/latex": [
       "$\\displaystyle 8 x^{3} - 2 x - \\frac{1}{x^{2}}$"
      ],
      "text/plain": [
       "   3         1 \n",
       "8⋅x  - 2⋅x - ──\n",
       "              2\n",
       "             x "
      ]
     },
     "execution_count": 54,
     "metadata": {},
     "output_type": "execute_result"
    }
   ],
   "source": [
    "from sympy import symbols, init_printing, diff, limit, sqrt\n",
    "\n",
    "init_printing(use_latex=\"mathjax\")\n",
    "x = symbols(\"x\")\n",
    "diff(2 * x**4 - x**2 + 3 + 1 / x)\n"
   ]
  },
  {
   "cell_type": "code",
   "execution_count": 55,
   "metadata": {},
   "outputs": [
    {
     "data": {
      "text/latex": [
       "$\\displaystyle 1 - \\frac{1}{x^{2}}$"
      ],
      "text/plain": [
       "    1 \n",
       "1 - ──\n",
       "     2\n",
       "    x "
      ]
     },
     "execution_count": 55,
     "metadata": {},
     "output_type": "execute_result"
    }
   ],
   "source": [
    "diff(x + 1 / x)\n"
   ]
  },
  {
   "cell_type": "code",
   "execution_count": 56,
   "metadata": {},
   "outputs": [
    {
     "data": {
      "text/latex": [
       "$\\displaystyle \\frac{3 \\sqrt{x}}{2}$"
      ],
      "text/plain": [
       "3⋅√x\n",
       "────\n",
       " 2  "
      ]
     },
     "execution_count": 56,
     "metadata": {},
     "output_type": "execute_result"
    }
   ],
   "source": [
    "diff(x * sqrt(x))\n"
   ]
  },
  {
   "cell_type": "code",
   "execution_count": 57,
   "metadata": {},
   "outputs": [
    {
     "data": {
      "text/latex": [
       "$\\displaystyle x - \\frac{1}{x^{3}}$"
      ],
      "text/plain": [
       "    1 \n",
       "x - ──\n",
       "     3\n",
       "    x "
      ]
     },
     "execution_count": 57,
     "metadata": {},
     "output_type": "execute_result"
    }
   ],
   "source": [
    "a = x**2 / 2\n",
    "b = 1 / (2 * x**2)\n",
    "diff(a) + diff(b)\n"
   ]
  },
  {
   "cell_type": "code",
   "execution_count": 58,
   "metadata": {},
   "outputs": [
    {
     "data": {
      "text/latex": [
       "$\\displaystyle 2 \\sqrt{x}$"
      ],
      "text/plain": [
       "2⋅√x"
      ]
     },
     "execution_count": 58,
     "metadata": {},
     "output_type": "execute_result"
    }
   ],
   "source": [
    "x = symbols(\"x\")\n",
    "c = 2 * x**2\n",
    "d = sqrt(x)\n",
    "diff(c) * diff(d)\n"
   ]
  },
  {
   "cell_type": "code",
   "execution_count": 59,
   "metadata": {},
   "outputs": [
    {
     "data": {
      "text/latex": [
       "$\\displaystyle \\frac{\\sqrt{2}}{2 \\sqrt{x}}$"
      ],
      "text/plain": [
       " √2 \n",
       "────\n",
       "2⋅√x"
      ]
     },
     "execution_count": 59,
     "metadata": {},
     "output_type": "execute_result"
    }
   ],
   "source": [
    "diff(sqrt(2 * x))\n"
   ]
  },
  {
   "cell_type": "code",
   "execution_count": 60,
   "metadata": {},
   "outputs": [
    {
     "data": {
      "text/latex": [
       "$\\displaystyle \\frac{3 \\sqrt{x}}{2}$"
      ],
      "text/plain": [
       "3⋅√x\n",
       "────\n",
       " 2  "
      ]
     },
     "execution_count": 60,
     "metadata": {},
     "output_type": "execute_result"
    }
   ],
   "source": [
    "diff(x**2 / sqrt(x))\n"
   ]
  },
  {
   "cell_type": "code",
   "execution_count": 61,
   "metadata": {},
   "outputs": [
    {
     "data": {
      "text/latex": [
       "$\\displaystyle \\frac{\\sqrt{3}}{2 \\sqrt{x}}$"
      ],
      "text/plain": [
       " √3 \n",
       "────\n",
       "2⋅√x"
      ]
     },
     "execution_count": 61,
     "metadata": {},
     "output_type": "execute_result"
    }
   ],
   "source": [
    "diff(sqrt(3 * x))\n"
   ]
  },
  {
   "cell_type": "code",
   "execution_count": 62,
   "metadata": {},
   "outputs": [
    {
     "data": {
      "text/latex": [
       "$\\displaystyle \\frac{\\sqrt{2} \\sqrt{x}}{2}$"
      ],
      "text/plain": [
       "√2⋅√x\n",
       "─────\n",
       "  2  "
      ]
     },
     "execution_count": 62,
     "metadata": {},
     "output_type": "execute_result"
    }
   ],
   "source": [
    "e = sqrt(x / 2)\n",
    "e\n"
   ]
  },
  {
   "cell_type": "code",
   "execution_count": null,
   "metadata": {},
   "outputs": [],
   "source": []
  },
  {
   "cell_type": "code",
   "execution_count": 63,
   "metadata": {},
   "outputs": [],
   "source": [
    "def mystery_func(n):\n",
    "    return n if n < 2 else mystery_func(n -1) + mystery_func(n -2)"
   ]
  },
  {
   "cell_type": "code",
   "execution_count": 64,
   "metadata": {},
   "outputs": [
    {
     "name": "stdout",
     "output_type": "stream",
     "text": [
      "1\n",
      "1\n",
      "2\n",
      "3\n",
      "5\n"
     ]
    }
   ],
   "source": [
    "for i in range(1, 6):\n",
    "    print(mystery_func(i))"
   ]
  },
  {
   "cell_type": "code",
   "execution_count": 65,
   "metadata": {},
   "outputs": [
    {
     "data": {
      "text/latex": [
       "$\\displaystyle 2$"
      ],
      "text/plain": [
       "2"
      ]
     },
     "execution_count": 65,
     "metadata": {},
     "output_type": "execute_result"
    }
   ],
   "source": [
    "mystery_func(3)\n"
   ]
  },
  {
   "cell_type": "code",
   "execution_count": 66,
   "metadata": {},
   "outputs": [
    {
     "name": "stdout",
     "output_type": "stream",
     "text": [
      "6\n",
      "20\n"
     ]
    }
   ],
   "source": [
    "def mul(a, b=2):\n",
    "    return a * b\n",
    "\n",
    "print(mul(3))\n",
    "print(mul(4,5))"
   ]
  },
  {
   "cell_type": "code",
   "execution_count": 7,
   "metadata": {},
   "outputs": [],
   "source": [
    "from typing import Any\n",
    "\n",
    "def divide(a, b) ->  float | ZeroDivisionError:\n",
    "    try:\n",
    "        result: float = a / b\n",
    "        return result\n",
    "    except ZeroDivisionError as Z:\n",
    "        return Z"
   ]
  },
  {
   "cell_type": "code",
   "execution_count": 6,
   "metadata": {},
   "outputs": [
    {
     "data": {
      "text/plain": [
       "10.0"
      ]
     },
     "execution_count": 6,
     "metadata": {},
     "output_type": "execute_result"
    }
   ],
   "source": [
    "divide(10, 1)"
   ]
  },
  {
   "cell_type": "code",
   "execution_count": 10,
   "metadata": {},
   "outputs": [
    {
     "name": "stdout",
     "output_type": "stream",
     "text": [
      "datetime.datetime(2020, 1, 2, 3, 4, 5, tzinfo=TzInfo(UTC))\n",
      "(10, 20)\n"
     ]
    }
   ],
   "source": [
    "from datetime import datetime\n",
    "from typing import Tuple\n",
    "\n",
    "from pydantic import BaseModel\n",
    "\n",
    "\n",
    "class Delivery(BaseModel):\n",
    "    timestamp: datetime\n",
    "    dimensions: Tuple[int, int]\n",
    "\n",
    "\n",
    "m = Delivery(timestamp='2020-01-02T03:04:05Z', dimensions=[10, 20])\n",
    "print(repr(m.timestamp))\n",
    "#> datetime.datetime(2020, 1, 2, 3, 4, 5, tzinfo=TzInfo(UTC))\n",
    "print(m.dimensions)\n",
    "#> (10, 20)"
   ]
  },
  {
   "cell_type": "code",
   "execution_count": 25,
   "metadata": {},
   "outputs": [
    {
     "name": "stdout",
     "output_type": "stream",
     "text": [
      "[{'type': 'datetime_parsing', 'loc': ('signup_ts',), 'msg': 'Input should be a valid datetime, invalid datetime separator, expected `T`, `t`, `_` or space', 'input': '2019-06-0112:22', 'ctx': {'error': 'invalid datetime separator, expected `T`, `t`, `_` or space'}, 'url': 'https://errors.pydantic.dev/2.1/v/datetime_parsing'}]\n",
      "1\n"
     ]
    }
   ],
   "source": [
    "from datetime import datetime\n",
    "\n",
    "from pydantic import BaseModel, PositiveInt, ValidationError\n",
    "\n",
    "\n",
    "class User(BaseModel):\n",
    "    id: int  \n",
    "    name: str = 'John Doe'  \n",
    "    signup_ts: datetime | None  \n",
    "    tastes: dict[str, PositiveInt]  \n",
    "\n",
    "\n",
    "external_data = {\n",
    "    'id': 123,\n",
    "    'signup_ts': '2019-06-0112:22',  \n",
    "    'tastes': {\n",
    "        'wine': 9,\n",
    "        b'cheese': 7,  \n",
    "        'cabbage': '1',  \n",
    "    },\n",
    "}\n",
    "\n",
    "try:\n",
    "    user = User(**external_data)\n",
    "    print(user.id)  \n",
    "    print(user.model_dump())  \n",
    "except ValidationError as e:\n",
    "    print(e.errors())\n",
    "    print(e.error_count())\n"
   ]
  }
 ],
 "metadata": {
  "kernelspec": {
   "display_name": ".venv",
   "language": "python",
   "name": "python3"
  },
  "language_info": {
   "codemirror_mode": {
    "name": "ipython",
    "version": 3
   },
   "file_extension": ".py",
   "mimetype": "text/x-python",
   "name": "python",
   "nbconvert_exporter": "python",
   "pygments_lexer": "ipython3",
   "version": "3.11.3"
  },
  "orig_nbformat": 4,
  "vscode": {
   "interpreter": {
    "hash": "3ee5d3487d9f40e30e81d86cf9f3338a7ddb8b6aa83fdcec3f3fff2c2dc7a008"
   }
  }
 },
 "nbformat": 4,
 "nbformat_minor": 2
}
