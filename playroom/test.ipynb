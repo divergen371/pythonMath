{
 "cells": [
  {
   "cell_type": "code",
   "execution_count": 1,
   "metadata": {},
   "outputs": [
    {
     "data": {
      "text/latex": [
       "$\\displaystyle x^{3} - x^{2} + 7 x + 2$"
      ],
      "text/plain": [
       " 3    2          \n",
       "x  - x  + 7⋅x + 2"
      ]
     },
     "execution_count": 1,
     "metadata": {},
     "output_type": "execute_result"
    }
   ],
   "source": [
    "from sympy import symbols, init_printing\n",
    "\n",
    "init_printing(use_latex=\"mathjax\")\n",
    "\n",
    "x = symbols(\"x\")\n",
    "\n",
    "f = 2 * x**2 + 5 * x - 1\n",
    "g = x**3 - 3 * x**2 + 2 * x + 3\n",
    "f + g"
   ]
  },
  {
   "cell_type": "code",
   "execution_count": 2,
   "metadata": {},
   "outputs": [
    {
     "data": {
      "text/latex": [
       "$\\displaystyle - x^{3} + 5 x^{2} + 3 x - 4$"
      ],
      "text/plain": [
       "   3      2          \n",
       "- x  + 5⋅x  + 3⋅x - 4"
      ]
     },
     "execution_count": 2,
     "metadata": {},
     "output_type": "execute_result"
    }
   ],
   "source": [
    "f - g"
   ]
  },
  {
   "cell_type": "code",
   "execution_count": 3,
   "metadata": {},
   "outputs": [
    {
     "data": {
      "text/latex": [
       "$\\displaystyle 19$"
      ],
      "text/plain": [
       "19"
      ]
     },
     "execution_count": 3,
     "metadata": {},
     "output_type": "execute_result"
    }
   ],
   "source": [
    "f = x**2 + 3 * x + 1\n",
    "f.subs(x, 3)"
   ]
  },
  {
   "cell_type": "code",
   "execution_count": 4,
   "metadata": {},
   "outputs": [
    {
     "data": {
      "text/latex": [
       "$\\displaystyle \\left[ - \\frac{1}{2}\\right]$"
      ],
      "text/plain": [
       "[-1/2]"
      ]
     },
     "execution_count": 4,
     "metadata": {},
     "output_type": "execute_result"
    }
   ],
   "source": [
    "from sympy import solve\n",
    "\n",
    "solve(2 * x + 1, x)"
   ]
  },
  {
   "cell_type": "code",
   "execution_count": 5,
   "metadata": {},
   "outputs": [
    {
     "data": {
      "text/latex": [
       "$\\displaystyle \\left[ -1, \\  1, \\  2\\right]$"
      ],
      "text/plain": [
       "[-1, 1, 2]"
      ]
     },
     "execution_count": 5,
     "metadata": {},
     "output_type": "execute_result"
    }
   ],
   "source": [
    "solve(x**3 - 2 * x**2 - x + 2, x)\n",
    "iiii"
   ]
  },
  {
   "cell_type": "code",
   "execution_count": 6,
   "metadata": {},
   "outputs": [
    {
     "data": {
      "text/latex": [
       "$\\displaystyle \\left[ -3, \\  -1, \\  1, \\  2\\right]$"
      ],
      "text/plain": [
       "[-3, -1, 1, 2]"
      ]
     },
     "execution_count": 6,
     "metadata": {},
     "output_type": "execute_result"
    }
   ],
   "source": [
    "solve(x**4 + x**3 - 7 * x**2 - x + 6, x)"
   ]
  },
  {
   "cell_type": "code",
   "execution_count": 7,
   "metadata": {},
   "outputs": [
    {
     "data": {
      "text/latex": [
       "$\\displaystyle - 2 x^{2} y + 3 x^{2} + 5 x y^{2} + y^{2}$"
      ],
      "text/plain": [
       "     2        2        2    2\n",
       "- 2⋅x ⋅y + 3⋅x  + 5⋅x⋅y  + y "
      ]
     },
     "execution_count": 7,
     "metadata": {},
     "output_type": "execute_result"
    }
   ],
   "source": [
    "from sympy import diff\n",
    "\n",
    "x, y = symbols(\"x y\")\n",
    "f = 3 * x**2 + 5 * x * y**2 - 2 * x**2 * y + y**2\n",
    "f"
   ]
  },
  {
   "cell_type": "code",
   "execution_count": 8,
   "metadata": {},
   "outputs": [
    {
     "data": {
      "text/latex": [
       "$\\displaystyle - 4 x y + 6 x + 5 y^{2}$"
      ],
      "text/plain": [
       "                  2\n",
       "-4⋅x⋅y + 6⋅x + 5⋅y "
      ]
     },
     "execution_count": 8,
     "metadata": {},
     "output_type": "execute_result"
    }
   ],
   "source": [
    "diff(f, x)"
   ]
  },
  {
   "cell_type": "code",
   "execution_count": 9,
   "metadata": {},
   "outputs": [
    {
     "data": {
      "text/latex": [
       "$\\displaystyle - 2 x^{2} + 10 x y + 2 y$"
      ],
      "text/plain": [
       "     2               \n",
       "- 2⋅x  + 10⋅x⋅y + 2⋅y"
      ]
     },
     "execution_count": 9,
     "metadata": {},
     "output_type": "execute_result"
    }
   ],
   "source": [
    "diff(f, y)"
   ]
  },
  {
   "cell_type": "code",
   "execution_count": 10,
   "metadata": {},
   "outputs": [
    {
     "data": {
      "text/latex": [
       "$\\displaystyle \\left(a - b\\right)^{2} \\left(a + b\\right)^{2}$"
      ],
      "text/plain": [
       "       2        2\n",
       "(a - b) ⋅(a + b) "
      ]
     },
     "execution_count": 10,
     "metadata": {},
     "output_type": "execute_result"
    }
   ],
   "source": [
    "from sympy import simplify, factor, expand\n",
    "\n",
    "a, b = symbols(\"a b\")\n",
    "f = (a + b) ** 2 * (a - b) ** 2\n",
    "f"
   ]
  },
  {
   "cell_type": "code",
   "execution_count": 11,
   "metadata": {},
   "outputs": [
    {
     "data": {
      "text/latex": [
       "$\\displaystyle a^{4} - 2 a^{2} b^{2} + b^{4}$"
      ],
      "text/plain": [
       " 4      2  2    4\n",
       "a  - 2⋅a ⋅b  + b "
      ]
     },
     "execution_count": 11,
     "metadata": {},
     "output_type": "execute_result"
    }
   ],
   "source": [
    "expand(f)"
   ]
  },
  {
   "cell_type": "code",
   "execution_count": 12,
   "metadata": {},
   "outputs": [
    {
     "data": {
      "text/latex": [
       "$\\displaystyle a^{2} - 5 a - 6$"
      ],
      "text/plain": [
       " 2          \n",
       "a  - 5⋅a - 6"
      ]
     },
     "execution_count": 12,
     "metadata": {},
     "output_type": "execute_result"
    }
   ],
   "source": [
    "from sympy import solve\n",
    "\n",
    "a_1 = a**2 - 5 * a - 6\n",
    "a_1"
   ]
  },
  {
   "cell_type": "code",
   "execution_count": 13,
   "metadata": {},
   "outputs": [
    {
     "data": {
      "text/latex": [
       "$\\displaystyle -1 < a \\wedge a < 6$"
      ],
      "text/plain": [
       "-1 < a ∧ a < 6"
      ]
     },
     "execution_count": 13,
     "metadata": {},
     "output_type": "execute_result"
    }
   ],
   "source": [
    "solve(a_1 < 0)"
   ]
  },
  {
   "cell_type": "code",
   "execution_count": 14,
   "metadata": {},
   "outputs": [
    {
     "data": {
      "text/latex": [
       "$\\displaystyle \\left[ 1, \\  4, \\  9, \\  16, \\  25, \\  36, \\  49, \\  64, \\  81, \\  100\\right]$"
      ],
      "text/plain": [
       "[1, 4, 9, 16, 25, 36, 49, 64, 81, 100]"
      ]
     },
     "execution_count": 14,
     "metadata": {},
     "output_type": "execute_result"
    }
   ],
   "source": [
    "from sympy import sequence\n",
    "\n",
    "n = symbols(\"n\")\n",
    "A = sequence(n**2, (n, 1, 10))\n",
    "seq_list = [int(N) for N in A]\n",
    "seq_list"
   ]
  },
  {
   "cell_type": "code",
   "execution_count": 15,
   "metadata": {},
   "outputs": [
    {
     "data": {
      "text/latex": [
       "$\\displaystyle \\left[\\tilde{\\infty}, 1, \\frac{1}{2}, \\frac{1}{3}, \\ldots\\right]$"
      ],
      "text/plain": [
       "[zoo, 1, 1/2, 1/3, …]"
      ]
     },
     "execution_count": 15,
     "metadata": {},
     "output_type": "execute_result"
    }
   ],
   "source": [
    "B = sequence(1 / n)\n",
    "B"
   ]
  },
  {
   "cell_type": "code",
   "execution_count": 16,
   "metadata": {},
   "outputs": [
    {
     "data": {
      "text/latex": [
       "$\\displaystyle \\left[2, \\frac{9}{2}, \\frac{28}{3}, \\frac{65}{4}, \\ldots\\right]$"
      ],
      "text/plain": [
       "[2, 9/2, 28/3, 65/4, …]"
      ]
     },
     "execution_count": 16,
     "metadata": {},
     "output_type": "execute_result"
    }
   ],
   "source": [
    "C = A + B\n",
    "C"
   ]
  },
  {
   "cell_type": "code",
   "execution_count": 17,
   "metadata": {},
   "outputs": [
    {
     "data": {
      "text/latex": [
       "$\\displaystyle n^{2} + \\frac{1}{n}$"
      ],
      "text/plain": [
       " 2   1\n",
       "n  + ─\n",
       "     n"
      ]
     },
     "execution_count": 17,
     "metadata": {},
     "output_type": "execute_result"
    }
   ],
   "source": [
    "C.formula"
   ]
  },
  {
   "cell_type": "code",
   "execution_count": 18,
   "metadata": {},
   "outputs": [
    {
     "data": {
      "text/latex": [
       "$\\displaystyle \\frac{k^{3}}{3} + \\frac{k^{2}}{2} + \\frac{k}{6} + \\operatorname{harmonic}{\\left(k \\right)}$"
      ],
      "text/plain": [
       " 3    2                  \n",
       "k    k    k              \n",
       "── + ── + ─ + harmonic(k)\n",
       "3    2    6              "
      ]
     },
     "execution_count": 18,
     "metadata": {},
     "output_type": "execute_result"
    }
   ],
   "source": [
    "from sympy import summation\n",
    "\n",
    "k = symbols(\"k\")\n",
    "summation(C.formula, (n, 1, k))"
   ]
  },
  {
   "cell_type": "code",
   "execution_count": 19,
   "metadata": {},
   "outputs": [
    {
     "data": {
      "text/latex": [
       "$\\displaystyle \\begin{cases} n & \\text{for}\\: r = 1 \\\\\\frac{r - r^{n + 1}}{1 - r} & \\text{otherwise} \\end{cases}$"
      ],
      "text/plain": [
       "⎧    n       for r = 1\n",
       "⎪                     \n",
       "⎪     n + 1           \n",
       "⎨r - r                \n",
       "⎪──────────  otherwise\n",
       "⎪  1 - r              \n",
       "⎩                     "
      ]
     },
     "execution_count": 19,
     "metadata": {},
     "output_type": "execute_result"
    }
   ],
   "source": [
    "r, i = symbols(\"r i\")\n",
    "\n",
    "R = summation(r**i, (i, 1, n))\n",
    "R"
   ]
  },
  {
   "cell_type": "code",
   "execution_count": 20,
   "metadata": {},
   "outputs": [
    {
     "data": {
      "text/latex": [
       "$\\displaystyle \\sum_{n=1}^{k} n^{x}$"
      ],
      "text/plain": [
       "  k     \n",
       " ___    \n",
       " ╲      \n",
       "  ╲    x\n",
       "  ╱   n \n",
       " ╱      \n",
       " ‾‾‾    \n",
       "n = 1   "
      ]
     },
     "execution_count": 20,
     "metadata": {},
     "output_type": "execute_result"
    }
   ],
   "source": [
    "from sympy import Sum\n",
    "\n",
    "Sx = Sum(n**x, (n, 1, k))\n",
    "Sx"
   ]
  },
  {
   "cell_type": "code",
   "execution_count": 21,
   "metadata": {},
   "outputs": [
    {
     "data": {
      "text/latex": [
       "$\\displaystyle \\frac{k \\left(k + 1\\right) \\left(2 k + 1\\right) \\left(k^{2} + k - 1\\right) \\left(3 k^{6} + 9 k^{5} + 2 k^{4} - 11 k^{3} + 3 k^{2} + 10 k - 5\\right)}{66}$"
      ],
      "text/plain": [
       "                    ⎛ 2        ⎞ ⎛   6      5      4       3      2           \n",
       "k⋅(k + 1)⋅(2⋅k + 1)⋅⎝k  + k - 1⎠⋅⎝3⋅k  + 9⋅k  + 2⋅k  - 11⋅k  + 3⋅k  + 10⋅k - 5\n",
       "──────────────────────────────────────────────────────────────────────────────\n",
       "                                       66                                     \n",
       "\n",
       "⎞\n",
       "⎠\n",
       "─\n",
       " "
      ]
     },
     "execution_count": 21,
     "metadata": {},
     "output_type": "execute_result"
    }
   ],
   "source": [
    "from sympy import factor\n",
    "\n",
    "factor(Sx.subs([(x, 10)]).doit())"
   ]
  },
  {
   "cell_type": "code",
   "execution_count": 22,
   "metadata": {},
   "outputs": [
    {
     "data": {
      "text/latex": [
       "$\\displaystyle \\frac{1}{e \\left(1 - e^{-1}\\right)^{2}}$"
      ],
      "text/plain": [
       "    -1    \n",
       "   ℯ      \n",
       "──────────\n",
       "         2\n",
       "⎛     -1⎞ \n",
       "⎝1 - ℯ  ⎠ "
      ]
     },
     "execution_count": 22,
     "metadata": {},
     "output_type": "execute_result"
    }
   ],
   "source": [
    "from sympy import exp, oo\n",
    "\n",
    "summation(n / exp(n), (n, 1, oo))"
   ]
  },
  {
   "cell_type": "code",
   "execution_count": 23,
   "metadata": {},
   "outputs": [
    {
     "data": {
      "text/latex": [
       "$\\displaystyle - \\log{\\left(2 \\right)}$"
      ],
      "text/plain": [
       "-log(2)"
      ]
     },
     "execution_count": 23,
     "metadata": {},
     "output_type": "execute_result"
    }
   ],
   "source": [
    "summation((-1) ** n / n, (n, 1, oo))"
   ]
  },
  {
   "cell_type": "code",
   "execution_count": 24,
   "metadata": {},
   "outputs": [
    {
     "data": {
      "text/latex": [
       "$\\displaystyle - \\frac{1}{12}$"
      ],
      "text/plain": [
       "-1/12"
      ]
     },
     "execution_count": 24,
     "metadata": {},
     "output_type": "execute_result"
    }
   ],
   "source": [
    "from sympy import zeta\n",
    "\n",
    "zeta(-1)"
   ]
  },
  {
   "cell_type": "code",
   "execution_count": 25,
   "metadata": {},
   "outputs": [
    {
     "data": {
      "text/latex": [
       "$\\displaystyle 3628800$"
      ],
      "text/plain": [
       "3628800"
      ]
     },
     "execution_count": 25,
     "metadata": {},
     "output_type": "execute_result"
    }
   ],
   "source": [
    "from sympy import factorial\n",
    "\n",
    "factorial(10)"
   ]
  },
  {
   "cell_type": "code",
   "execution_count": 26,
   "metadata": {},
   "outputs": [
    {
     "data": {
      "text/latex": [
       "$\\displaystyle 2432902008176640000$"
      ],
      "text/plain": [
       "2432902008176640000"
      ]
     },
     "execution_count": 26,
     "metadata": {},
     "output_type": "execute_result"
    }
   ],
   "source": [
    "from sympy import gamma\n",
    "\n",
    "gamma(21)"
   ]
  },
  {
   "cell_type": "code",
   "execution_count": 27,
   "metadata": {},
   "outputs": [
    {
     "data": {
      "text/latex": [
       "$\\displaystyle 30240$"
      ],
      "text/plain": [
       "30240"
      ]
     },
     "execution_count": 27,
     "metadata": {},
     "output_type": "execute_result"
    }
   ],
   "source": [
    "from sympy.functions.combinatorial.numbers import nP, nC\n",
    "\n",
    "nP(10, 5)"
   ]
  },
  {
   "cell_type": "code",
   "execution_count": 28,
   "metadata": {},
   "outputs": [
    {
     "data": {
      "text/latex": [
       "$\\displaystyle 210$"
      ],
      "text/plain": [
       "210"
      ]
     },
     "execution_count": 28,
     "metadata": {},
     "output_type": "execute_result"
    }
   ],
   "source": [
    "nC(10, 6)"
   ]
  },
  {
   "cell_type": "code",
   "execution_count": 29,
   "metadata": {},
   "outputs": [
    {
     "data": {
      "text/latex": [
       "$\\displaystyle 4.0$"
      ],
      "text/plain": [
       "4.0"
      ]
     },
     "execution_count": 29,
     "metadata": {},
     "output_type": "execute_result"
    }
   ],
   "source": [
    "from scipy.special import comb, perm\n",
    "\n",
    "comb(4, 3)"
   ]
  },
  {
   "cell_type": "code",
   "execution_count": 30,
   "metadata": {},
   "outputs": [
    {
     "data": {
      "text/latex": [
       "$\\displaystyle 24.0$"
      ],
      "text/plain": [
       "24.0"
      ]
     },
     "execution_count": 30,
     "metadata": {},
     "output_type": "execute_result"
    }
   ],
   "source": [
    "perm(4, 3)"
   ]
  },
  {
   "cell_type": "code",
   "execution_count": 31,
   "metadata": {},
   "outputs": [
    {
     "data": {
      "text/latex": [
       "$\\displaystyle 4$"
      ],
      "text/plain": [
       "4"
      ]
     },
     "execution_count": 31,
     "metadata": {},
     "output_type": "execute_result"
    }
   ],
   "source": [
    "import math\n",
    "\n",
    "math.comb(4, 3)"
   ]
  },
  {
   "cell_type": "code",
   "execution_count": 32,
   "metadata": {},
   "outputs": [
    {
     "data": {
      "text/latex": [
       "$\\displaystyle 24$"
      ],
      "text/plain": [
       "24"
      ]
     },
     "execution_count": 32,
     "metadata": {},
     "output_type": "execute_result"
    }
   ],
   "source": [
    "math.perm(4, 3)"
   ]
  },
  {
   "cell_type": "code",
   "execution_count": 33,
   "metadata": {},
   "outputs": [
    {
     "data": {
      "text/plain": [
       "True"
      ]
     },
     "execution_count": 33,
     "metadata": {},
     "output_type": "execute_result"
    }
   ],
   "source": [
    "from sympy import expand\n",
    "\n",
    "a, b, c, d = symbols(\"a b c d\")\n",
    "ex1 = expand((a**2 + b**2) * (c**2 + d**2))\n",
    "ex2 = expand((a * c - b * d) ** 2 + (a * d + b * c) ** 2)\n",
    "ex1 == ex2"
   ]
  },
  {
   "cell_type": "code",
   "execution_count": 34,
   "metadata": {},
   "outputs": [
    {
     "data": {
      "text/latex": [
       "$\\displaystyle \\left(x + 2\\right) \\left(x + 3\\right)$"
      ],
      "text/plain": [
       "(x + 2)⋅(x + 3)"
      ]
     },
     "execution_count": 34,
     "metadata": {},
     "output_type": "execute_result"
    }
   ],
   "source": [
    "from sympy import factor\n",
    "\n",
    "x = symbols(\"x\")\n",
    "ex3 = x**2 + 5 * x + 6\n",
    "factor(ex3)"
   ]
  },
  {
   "cell_type": "code",
   "execution_count": 35,
   "metadata": {},
   "outputs": [
    {
     "name": "stdout",
     "output_type": "stream",
     "text": [
      "5 x^{3} + \\sin{\\left(x \\right)}\n"
     ]
    }
   ],
   "source": [
    "from sympy import print_latex, sin\n",
    "\n",
    "x = symbols(\"x\")\n",
    "print_latex(5 * x**3 + sin(x))"
   ]
  },
  {
   "attachments": {},
   "cell_type": "markdown",
   "metadata": {},
   "source": [
    "$5 x^{3} + \\sin{\\left(x \\right)}$\n"
   ]
  },
  {
   "cell_type": "code",
   "execution_count": 36,
   "metadata": {},
   "outputs": [],
   "source": [
    "from sympy.plotting import plot\n",
    "from sympy import Function\n",
    "\n",
    "a, b, c, x, y = symbols(\"a b c x y\")\n",
    "f = Function(\"f\")\n",
    "g = Function(\"g\")"
   ]
  },
  {
   "cell_type": "code",
   "execution_count": 37,
   "metadata": {},
   "outputs": [
    {
     "data": {
      "text/latex": [
       "$\\displaystyle x^{2} - 12 x + 8$"
      ],
      "text/plain": [
       " 2           \n",
       "x  - 12⋅x + 8"
      ]
     },
     "execution_count": 37,
     "metadata": {},
     "output_type": "execute_result"
    }
   ],
   "source": [
    "expr = x**2 - 12 * x + 8\n",
    "expr"
   ]
  },
  {
   "cell_type": "code",
   "execution_count": 38,
   "metadata": {},
   "outputs": [
    {
     "data": {
      "image/png": "[encoded data removed]",
      "text/plain": [
       "<Figure size 640x480 with 1 Axes>"
      ]
     },
     "metadata": {},
     "output_type": "display_data"
    },
    {
     "data": {
      "text/plain": [
       "<sympy.plotting.plot.Plot at 0x10dd90f90>"
      ]
     },
     "execution_count": 38,
     "metadata": {},
     "output_type": "execute_result"
    }
   ],
   "source": [
    "plot(expr)"
   ]
  },
  {
   "cell_type": "code",
   "execution_count": 39,
   "metadata": {},
   "outputs": [
    {
     "data": {
      "text/latex": [
       "$\\displaystyle x^{2} - 12 x = -8$"
      ],
      "text/plain": [
       " 2            \n",
       "x  - 12⋅x = -8"
      ]
     },
     "execution_count": 39,
     "metadata": {},
     "output_type": "execute_result"
    }
   ],
   "source": [
    "from sympy import Eq\n",
    "\n",
    "eq = Eq(x**2 - 12 * x, -8)\n",
    "eq"
   ]
  },
  {
   "cell_type": "code",
   "execution_count": 40,
   "metadata": {},
   "outputs": [
    {
     "data": {
      "text/latex": [
       "$\\displaystyle \\left[ 6 - 2 \\sqrt{7}, \\  2 \\sqrt{7} + 6\\right]$"
      ],
      "text/plain": [
       "[6 - 2⋅√7, 2⋅√7 + 6]"
      ]
     },
     "execution_count": 40,
     "metadata": {},
     "output_type": "execute_result"
    }
   ],
   "source": [
    "from sympy import solve\n",
    "\n",
    "solve(eq)"
   ]
  },
  {
   "cell_type": "code",
   "execution_count": 41,
   "metadata": {},
   "outputs": [
    {
     "data": {
      "text/latex": [
       "$\\displaystyle a x^{2} + b x + c = 0$"
      ],
      "text/plain": [
       "   2              \n",
       "a⋅x  + b⋅x + c = 0"
      ]
     },
     "execution_count": 41,
     "metadata": {},
     "output_type": "execute_result"
    }
   ],
   "source": [
    "eq2 = Eq(a * x**2 + b * x + c, 0)\n",
    "eq2"
   ]
  },
  {
   "cell_type": "code",
   "execution_count": 42,
   "metadata": {},
   "outputs": [
    {
     "data": {
      "text/latex": [
       "$\\displaystyle \\left[ \\frac{- b - \\sqrt{- 4 a c + b^{2}}}{2 a}, \\  \\frac{- b + \\sqrt{- 4 a c + b^{2}}}{2 a}\\right]$"
      ],
      "text/plain": [
       "⎡        _____________          _____________⎤\n",
       "⎢       ╱           2          ╱           2 ⎥\n",
       "⎢-b - ╲╱  -4⋅a⋅c + b    -b + ╲╱  -4⋅a⋅c + b  ⎥\n",
       "⎢─────────────────────, ─────────────────────⎥\n",
       "⎣         2⋅a                    2⋅a         ⎦"
      ]
     },
     "execution_count": 42,
     "metadata": {},
     "output_type": "execute_result"
    }
   ],
   "source": [
    "solve(eq2, x)"
   ]
  },
  {
   "cell_type": "code",
   "execution_count": 43,
   "metadata": {},
   "outputs": [
    {
     "data": {
      "text/latex": [
       "$\\displaystyle \\left(x + 1\\right)^{2}$"
      ],
      "text/plain": [
       "       2\n",
       "(x + 1) "
      ]
     },
     "execution_count": 43,
     "metadata": {},
     "output_type": "execute_result"
    }
   ],
   "source": [
    "factor(x**2 + 2 * x + 1)"
   ]
  },
  {
   "cell_type": "code",
   "execution_count": 44,
   "metadata": {},
   "outputs": [
    {
     "data": {
      "text/latex": [
       "$\\displaystyle 3 y + \\left(y + 2\\right)^{2} + 8$"
      ],
      "text/plain": [
       "             2    \n",
       "3⋅y + (y + 2)  + 8"
      ]
     },
     "execution_count": 44,
     "metadata": {},
     "output_type": "execute_result"
    }
   ],
   "source": [
    "expr = x**2 + 3 * x + 2\n",
    "expr.subs({x: y + 2})"
   ]
  },
  {
   "cell_type": "code",
   "execution_count": 45,
   "metadata": {},
   "outputs": [
    {
     "data": {
      "text/latex": [
       "$\\displaystyle 2 x$"
      ],
      "text/plain": [
       "2⋅x"
      ]
     },
     "execution_count": 45,
     "metadata": {},
     "output_type": "execute_result"
    }
   ],
   "source": [
    "expr = x**2\n",
    "diff(expr, x)"
   ]
  },
  {
   "cell_type": "code",
   "execution_count": 46,
   "metadata": {},
   "outputs": [
    {
     "data": {
      "text/latex": [
       "$\\displaystyle g\\circ f:A\\rightarrow C$"
      ],
      "text/plain": [
       "g∘f:A——▶C"
      ]
     },
     "execution_count": 46,
     "metadata": {},
     "output_type": "execute_result"
    }
   ],
   "source": [
    "from sympy.categories import Object, NamedMorphism\n",
    "\n",
    "A = Object(\"A\")\n",
    "B = Object(\"B\")\n",
    "C = Object(\"C\")\n",
    "f = NamedMorphism(A, B, \"f\")\n",
    "g = NamedMorphism(B, C, \"g\")\n",
    "g * f"
   ]
  },
  {
   "cell_type": "code",
   "execution_count": 47,
   "metadata": {},
   "outputs": [
    {
     "data": {
      "text/latex": [
       "$\\displaystyle A$"
      ],
      "text/plain": [
       "A"
      ]
     },
     "execution_count": 47,
     "metadata": {},
     "output_type": "execute_result"
    }
   ],
   "source": [
    "(g * f).domain"
   ]
  },
  {
   "cell_type": "code",
   "execution_count": 48,
   "metadata": {},
   "outputs": [
    {
     "data": {
      "text/latex": [
       "$\\displaystyle C$"
      ],
      "text/plain": [
       "C"
      ]
     },
     "execution_count": 48,
     "metadata": {},
     "output_type": "execute_result"
    }
   ],
   "source": [
    "(g * f).codomain"
   ]
  },
  {
   "cell_type": "code",
   "execution_count": 49,
   "metadata": {},
   "outputs": [
    {
     "data": {
      "text/latex": [
       "$\\displaystyle \\left( f:A\\rightarrow B, \\  g:B\\rightarrow C\\right)$"
      ],
      "text/plain": [
       "(f:A——▶B, g:B——▶C)"
      ]
     },
     "execution_count": 49,
     "metadata": {},
     "output_type": "execute_result"
    }
   ],
   "source": [
    "(g * f).components"
   ]
  },
  {
   "cell_type": "code",
   "execution_count": 50,
   "metadata": {},
   "outputs": [
    {
     "data": {
      "text/latex": [
       "$\\displaystyle h:A\\rightarrow C$"
      ],
      "text/plain": [
       "h:A——▶C"
      ]
     },
     "execution_count": 50,
     "metadata": {},
     "output_type": "execute_result"
    }
   ],
   "source": [
    "(g * f).flatten(\"h\")"
   ]
  },
  {
   "cell_type": "code",
   "execution_count": 51,
   "metadata": {},
   "outputs": [
    {
     "data": {
      "text/plain": [
       "True"
      ]
     },
     "execution_count": 51,
     "metadata": {},
     "output_type": "execute_result"
    }
   ],
   "source": [
    "from sympy.categories import IdentityMorphism\n",
    "\n",
    "id_A = IdentityMorphism(A)\n",
    "id_B = IdentityMorphism(B)\n",
    "\n",
    "f * id_A == f"
   ]
  },
  {
   "cell_type": "code",
   "execution_count": 52,
   "metadata": {},
   "outputs": [
    {
     "data": {
      "text/plain": [
       "True"
      ]
     },
     "execution_count": 52,
     "metadata": {},
     "output_type": "execute_result"
    }
   ],
   "source": [
    "id_B * f == f"
   ]
  },
  {
   "cell_type": "code",
   "execution_count": 53,
   "metadata": {},
   "outputs": [
    {
     "name": "stdout",
     "output_type": "stream",
     "text": [
      "25650\n",
      "17750\n",
      "30350\n",
      "25950\n",
      "52350\n"
     ]
    }
   ],
   "source": [
    "def fare(usage_distance):\n",
    "    first_ride = 650\n",
    "    total_fare = first_ride + 300 * usage_distance\n",
    "    if usage_distance >= 100:\n",
    "        discount = total_fare - 5000\n",
    "        print(discount)\n",
    "    else:\n",
    "        print(total_fare)\n",
    "\n",
    "\n",
    "fare(100)\n",
    "fare(57)\n",
    "fare(99)\n",
    "fare(101)\n",
    "fare(189)"
   ]
  },
  {
   "cell_type": "code",
   "execution_count": 54,
   "metadata": {},
   "outputs": [
    {
     "data": {
      "text/latex": [
       "$\\displaystyle 8 x^{3} - 2 x - \\frac{1}{x^{2}}$"
      ],
      "text/plain": [
       "   3         1 \n",
       "8⋅x  - 2⋅x - ──\n",
       "              2\n",
       "             x "
      ]
     },
     "execution_count": 54,
     "metadata": {},
     "output_type": "execute_result"
    }
   ],
   "source": [
    "from sympy import symbols, init_printing, diff, limit, sqrt\n",
    "\n",
    "init_printing(use_latex=\"mathjax\")\n",
    "x = symbols(\"x\")\n",
    "diff(2 * x**4 - x**2 + 3 + 1 / x)"
   ]
  },
  {
   "cell_type": "code",
   "execution_count": 55,
   "metadata": {},
   "outputs": [
    {
     "data": {
      "text/latex": [
       "$\\displaystyle 1 - \\frac{1}{x^{2}}$"
      ],
      "text/plain": [
       "    1 \n",
       "1 - ──\n",
       "     2\n",
       "    x "
      ]
     },
     "execution_count": 55,
     "metadata": {},
     "output_type": "execute_result"
    }
   ],
   "source": [
    "diff(x + 1 / x)"
   ]
  },
  {
   "cell_type": "code",
   "execution_count": 56,
   "metadata": {},
   "outputs": [
    {
     "data": {
      "text/latex": [
       "$\\displaystyle \\frac{3 \\sqrt{x}}{2}$"
      ],
      "text/plain": [
       "3⋅√x\n",
       "────\n",
       " 2  "
      ]
     },
     "execution_count": 56,
     "metadata": {},
     "output_type": "execute_result"
    }
   ],
   "source": [
    "diff(x * sqrt(x))"
   ]
  },
  {
   "cell_type": "code",
   "execution_count": 57,
   "metadata": {},
   "outputs": [
    {
     "data": {
      "text/latex": [
       "$\\displaystyle x - \\frac{1}{x^{3}}$"
      ],
      "text/plain": [
       "    1 \n",
       "x - ──\n",
       "     3\n",
       "    x "
      ]
     },
     "execution_count": 57,
     "metadata": {},
     "output_type": "execute_result"
    }
   ],
   "source": [
    "a = x**2 / 2\n",
    "b = 1 / (2 * x**2)\n",
    "diff(a) + diff(b)"
   ]
  },
  {
   "cell_type": "code",
   "execution_count": 58,
   "metadata": {},
   "outputs": [
    {
     "data": {
      "text/latex": [
       "$\\displaystyle 2 \\sqrt{x}$"
      ],
      "text/plain": [
       "2⋅√x"
      ]
     },
     "execution_count": 58,
     "metadata": {},
     "output_type": "execute_result"
    }
   ],
   "source": [
    "x = symbols(\"x\")\n",
    "c = 2 * x**2\n",
    "d = sqrt(x)\n",
    "diff(c) * diff(d)"
   ]
  },
  {
   "cell_type": "code",
   "execution_count": 59,
   "metadata": {},
   "outputs": [
    {
     "data": {
      "text/latex": [
       "$\\displaystyle \\frac{\\sqrt{2}}{2 \\sqrt{x}}$"
      ],
      "text/plain": [
       " √2 \n",
       "────\n",
       "2⋅√x"
      ]
     },
     "execution_count": 59,
     "metadata": {},
     "output_type": "execute_result"
    }
   ],
   "source": [
    "diff(sqrt(2 * x))"
   ]
  },
  {
   "cell_type": "code",
   "execution_count": 60,
   "metadata": {},
   "outputs": [
    {
     "data": {
      "text/latex": [
       "$\\displaystyle \\frac{3 \\sqrt{x}}{2}$"
      ],
      "text/plain": [
       "3⋅√x\n",
       "────\n",
       " 2  "
      ]
     },
     "execution_count": 60,
     "metadata": {},
     "output_type": "execute_result"
    }
   ],
   "source": [
    "diff(x**2 / sqrt(x))"
   ]
  },
  {
   "cell_type": "code",
   "execution_count": 61,
   "metadata": {},
   "outputs": [
    {
     "data": {
      "text/latex": [
       "$\\displaystyle \\frac{\\sqrt{3}}{2 \\sqrt{x}}$"
      ],
      "text/plain": [
       " √3 \n",
       "────\n",
       "2⋅√x"
      ]
     },
     "execution_count": 61,
     "metadata": {},
     "output_type": "execute_result"
    }
   ],
   "source": [
    "diff(sqrt(3 * x))"
   ]
  },
  {
   "cell_type": "code",
   "execution_count": 62,
   "metadata": {},
   "outputs": [
    {
     "data": {
      "text/latex": [
       "$\\displaystyle \\frac{\\sqrt{2} \\sqrt{x}}{2}$"
      ],
      "text/plain": [
       "√2⋅√x\n",
       "─────\n",
       "  2  "
      ]
     },
     "execution_count": 62,
     "metadata": {},
     "output_type": "execute_result"
    }
   ],
   "source": [
    "e = sqrt(x / 2)\n",
    "e"
   ]
  },
  {
   "cell_type": "code",
   "execution_count": null,
   "metadata": {},
   "outputs": [],
   "source": []
  },
  {
   "cell_type": "code",
   "execution_count": 63,
   "metadata": {},
   "outputs": [],
   "source": [
    "def mystery_func(n):\n",
    "    return n if n < 2 else mystery_func(n - 1) + mystery_func(n - 2)"
   ]
  },
  {
   "cell_type": "code",
   "execution_count": 64,
   "metadata": {},
   "outputs": [
    {
     "name": "stdout",
     "output_type": "stream",
     "text": [
      "1\n",
      "1\n",
      "2\n",
      "3\n",
      "5\n"
     ]
    }
   ],
   "source": [
    "for i in range(1, 6):\n",
    "    print(mystery_func(i))"
   ]
  },
  {
   "cell_type": "code",
   "execution_count": 65,
   "metadata": {},
   "outputs": [
    {
     "data": {
      "text/latex": [
       "$\\displaystyle 2$"
      ],
      "text/plain": [
       "2"
      ]
     },
     "execution_count": 65,
     "metadata": {},
     "output_type": "execute_result"
    }
   ],
   "source": [
    "mystery_func(3)"
   ]
  },
  {
   "cell_type": "code",
   "execution_count": 66,
   "metadata": {},
   "outputs": [
    {
     "name": "stdout",
     "output_type": "stream",
     "text": [
      "6\n",
      "20\n"
     ]
    }
   ],
   "source": [
    "def mul(a, b=2):\n",
    "    return a * b\n",
    "\n",
    "\n",
    "print(mul(3))\n",
    "print(mul(4, 5))"
   ]
  },
  {
   "cell_type": "code",
   "execution_count": 67,
   "metadata": {},
   "outputs": [],
   "source": [
    "from typing import Any\n",
    "\n",
    "\n",
    "def divide(a, b) -> float | ZeroDivisionError:\n",
    "    try:\n",
    "        result: float = a / b\n",
    "        return result\n",
    "    except ZeroDivisionError as Z:\n",
    "        return Z"
   ]
  },
  {
   "cell_type": "code",
   "execution_count": 68,
   "metadata": {},
   "outputs": [
    {
     "data": {
      "text/latex": [
       "$\\displaystyle 10.0$"
      ],
      "text/plain": [
       "10.0"
      ]
     },
     "execution_count": 68,
     "metadata": {},
     "output_type": "execute_result"
    }
   ],
   "source": [
    "divide(10, 1)"
   ]
  },
  {
   "cell_type": "code",
   "execution_count": 69,
   "metadata": {},
   "outputs": [
    {
     "name": "stdout",
     "output_type": "stream",
     "text": [
      "datetime.datetime(2020, 1, 2, 3, 4, 5, tzinfo=TzInfo(UTC))\n",
      "(10, 20)\n"
     ]
    }
   ],
   "source": [
    "from datetime import datetime\n",
    "from typing import Tuple\n",
    "\n",
    "from pydantic import BaseModel\n",
    "\n",
    "\n",
    "class Delivery(BaseModel):\n",
    "    timestamp: datetime\n",
    "    dimensions: Tuple[int, int]\n",
    "\n",
    "\n",
    "m = Delivery(timestamp=\"2020-01-02T03:04:05Z\", dimensions=[10, 20])\n",
    "print(repr(m.timestamp))\n",
    "# > datetime.datetime(2020, 1, 2, 3, 4, 5, tzinfo=TzInfo(UTC))\n",
    "print(m.dimensions)\n",
    "# > (10, 20)"
   ]
  },
  {
   "cell_type": "code",
   "execution_count": 70,
   "metadata": {},
   "outputs": [
    {
     "name": "stdout",
     "output_type": "stream",
     "text": [
      "[{'type': 'datetime_parsing', 'loc': ('signup_ts',), 'msg': 'Input should be a valid datetime, invalid datetime separator, expected `T`, `t`, `_` or space', 'input': '2019-06-0112:22', 'ctx': {'error': 'invalid datetime separator, expected `T`, `t`, `_` or space'}, 'url': 'https://errors.pydantic.dev/2.1/v/datetime_parsing'}]\n",
      "1\n"
     ]
    }
   ],
   "source": [
    "from datetime import datetime\n",
    "\n",
    "from pydantic import BaseModel, PositiveInt, ValidationError\n",
    "\n",
    "\n",
    "class User(BaseModel):\n",
    "    id: int\n",
    "    name: str = \"John Doe\"\n",
    "    signup_ts: datetime | None\n",
    "    tastes: dict[str, PositiveInt]\n",
    "\n",
    "\n",
    "external_data = {\n",
    "    \"id\": 123,\n",
    "    \"signup_ts\": \"2019-06-0112:22\",\n",
    "    \"tastes\": {\n",
    "        \"wine\": 9,\n",
    "        b\"cheese\": 7,\n",
    "        \"cabbage\": \"1\",\n",
    "    },\n",
    "}\n",
    "\n",
    "try:\n",
    "    user = User(**external_data)\n",
    "    print(user.id)\n",
    "    print(user.model_dump())\n",
    "except ValidationError as e:\n",
    "    print(e.errors())\n",
    "    print(e.error_count())"
   ]
  },
  {
   "cell_type": "code",
   "execution_count": 71,
   "metadata": {},
   "outputs": [
    {
     "name": "stdout",
     "output_type": "stream",
     "text": [
      "dict_values([1, 2, 3])\n"
     ]
    }
   ],
   "source": [
    "m_d = {\"a\": 1, \"b\": 2, \"c\": 3}\n",
    "result = m_d.values()\n",
    "print(result)"
   ]
  },
  {
   "cell_type": "code",
   "execution_count": 2,
   "metadata": {},
   "outputs": [
    {
     "name": "stdout",
     "output_type": "stream",
     "text": [
      "IP: 203.70.38.2\n",
      "IP: 108.39.227.22\n",
      "IP: 113.160.170.218\n",
      "IP: 95.62.110.244\n",
      "IP: 129.226.36.183\n",
      "IP: 94.125.164.26\n",
      "IP: 146.70.86.11\n",
      "IP: 85.215.119.226\n",
      "IP: 82.165.204.51\n",
      "IP: 162.144.144.244\n",
      "IP: 69.172.237.230\n",
      "IP: 35.193.200.48\n",
      "IP: 172.104.57.125\n",
      "IP: 50.87.151.220\n",
      "IP: 79.210.1.74\n",
      "IP: 185.23.249.60\n",
      "IP: 99.192.137.106\n",
      "IP: 162.214.136.244\n",
      "IP: 51.81.202.105\n",
      "IP: 188.166.196.127\n",
      "IP: 91.213.203.67\n",
      "IP: 73.196.66.228\n",
      "IP: 31.24.128.122\n",
      "IP: 82.65.9.245\n",
      "IP: 155.159.196.36\n",
      "IP: 34.149.8.51\n",
      "IP: 91.121.117.161\n",
      "IP: 114.238.91.25\n",
      "IP: 159.203.41.222\n",
      "IP: 173.166.151.25\n",
      "IP: 196.196.205.243\n",
      "IP: 60.43.218.173\n",
      "IP: 38.102.85.125\n",
      "IP: 142.34.202.92\n",
      "IP: 142.177.183.38\n",
      "IP: 216.208.172.146\n",
      "IP: 23.97.57.92\n",
      "IP: 108.181.155.112\n",
      "IP: 46.189.45.203\n",
      "IP: 173.254.11.181\n",
      "IP: 103.48.250.94\n",
      "IP: 37.153.91.95\n",
      "IP: 103.152.255.196\n",
      "IP: 207.204.235.77\n",
      "IP: 194.25.45.77\n",
      "IP: 158.62.203.36\n",
      "IP: 20.49.198.175\n",
      "IP: 54.246.29.82\n",
      "IP: 94.23.193.155\n",
      "IP: 209.41.186.32\n",
      "IP: 202.143.87.148\n",
      "IP: 18.142.156.94\n",
      "IP: 154.29.76.101\n",
      "IP: 162.144.16.115\n",
      "IP: 178.62.236.93\n",
      "IP: 140.82.9.125\n",
      "IP: 92.204.213.132\n",
      "IP: 18.178.167.120\n",
      "IP: 34.151.106.203\n",
      "IP: 77.47.151.193\n",
      "IP: 91.223.9.34\n",
      "IP: 198.73.254.190\n",
      "IP: 63.250.41.102\n",
      "IP: 138.197.120.36\n",
      "IP: 140.115.170.246\n",
      "IP: 54.65.152.240\n",
      "IP: 107.6.27.50\n",
      "IP: 185.74.254.45\n",
      "IP: 54.250.214.61\n",
      "IP: 193.44.211.67\n",
      "IP: 188.252.91.51\n",
      "IP: 51.77.52.96\n",
      "IP: 174.138.9.194\n",
      "IP: 145.239.219.137\n",
      "IP: 77.55.162.157\n",
      "IP: 161.35.84.135\n",
      "IP: 216.228.201.30\n",
      "IP: 38.48.233.4\n",
      "IP: 50.63.16.81\n",
      "IP: 117.54.141.62\n",
      "IP: 96.56.210.86\n",
      "IP: 45.152.211.106\n",
      "IP: 212.13.72.119\n",
      "IP: 109.237.135.2\n",
      "IP: 52.88.93.169\n",
      "IP: 195.69.167.67\n",
      "IP: 178.238.229.46\n",
      "IP: 216.92.116.33\n",
      "IP: 222.137.212.230\n",
      "IP: 169.62.32.250\n",
      "IP: 72.52.64.210\n",
      "IP: 77.190.88.20\n",
      "IP: 50.87.3.193\n",
      "IP: 94.137.138.241\n",
      "IP: 89.146.197.239\n",
      "IP: 119.245.212.130\n",
      "IP: 156.234.18.183\n",
      "IP: 72.172.130.242\n",
      "IP: 82.169.101.199\n",
      "IP: 52.4.162.121\n"
     ]
    }
   ],
   "source": [
    "import shodan\n",
    "\n",
    "api = shodan.Shodan(\"Aca2LMT01eCg17e1BBIKL0xKbGrfg9Bp\")\n",
    "result = api.search(\"apache\")\n",
    "\n",
    "for service in result[\"matches\"]:\n",
    "    print(\"IP: {}\".format(service[\"ip_str\"]))"
   ]
  },
  {
   "cell_type": "code",
   "execution_count": 3,
   "metadata": {},
   "outputs": [
    {
     "name": "stdout",
     "output_type": "stream",
     "text": [
      "19804635\n"
     ]
    }
   ],
   "source": [
    "print(result[\"total\"])"
   ]
  },
  {
   "cell_type": "code",
   "execution_count": 4,
   "metadata": {},
   "outputs": [
    {
     "name": "stdout",
     "output_type": "stream",
     "text": [
      "{32, 34, 36, 38, 22, 24, 26, 28, 30}\n"
     ]
    }
   ],
   "source": [
    "a = {n for n in range(21, 40) if n % 2 == 0}\n",
    "print(a)"
   ]
  },
  {
   "cell_type": "code",
   "execution_count": 2,
   "metadata": {},
   "outputs": [
    {
     "name": "stdout",
     "output_type": "stream",
     "text": [
      "True\n"
     ]
    }
   ],
   "source": [
    "s = \"CIcoding\"\n",
    "print(s.isalpha())"
   ]
  },
  {
   "cell_type": "code",
   "execution_count": 3,
   "metadata": {},
   "outputs": [
    {
     "data": {
      "text/plain": [
       "([], 'No body text found')"
      ]
     },
     "execution_count": 3,
     "metadata": {},
     "output_type": "execute_result"
    }
   ],
   "source": [
    "import tnefparse\n",
    "\n",
    "file_path = \"./winmail-1.dat\"\n",
    "\n",
    "\n",
    "def parse_tnef(file_path):\n",
    "    with open(file_path, \"rb\") as file:\n",
    "        tnef = tnefparse.TNEF(file.read())\n",
    "        attachments = tnef.attachments\n",
    "        body = tnef.body\n",
    "        return attachments, body\n",
    "\n",
    "\n",
    "attachments, body = parse_tnef(file_path)\n",
    "attachments, body.decode(\n",
    "    \"utf-8\", Errors=\"ignore\"\n",
    ") if body else \"No body text found\""
   ]
  }
 ],
 "metadata": {
  "kernelspec": {
   "display_name": ".venv",
   "language": "python",
   "name": "python3"
  },
  "language_info": {
   "codemirror_mode": {
    "name": "ipython",
    "version": 3
   },
   "file_extension": ".py",
   "mimetype": "text/x-python",
   "name": "python",
   "nbconvert_exporter": "python",
   "pygments_lexer": "ipython3",
   "version": "3.11.3"
  },
  "orig_nbformat": 4
 },
 "nbformat": 4,
 "nbformat_minor": 2
}
