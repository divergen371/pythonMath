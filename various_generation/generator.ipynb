{
 "cells": [
  {
   "cell_type": "code",
   "execution_count": 4,
   "metadata": {},
   "outputs": [
    {
     "name": "stdout",
     "output_type": "stream",
     "text": [
      "Generated Password: Ata8jkv,\n"
     ]
    }
   ],
   "source": [
    "# Standard Library\n",
    "import secrets\n",
    "import string\n",
    "from typing import LiteralString\n",
    "\n",
    "\n",
    "def generate_password(length) -> str:\n",
    "    chars: LiteralString = (\n",
    "        string.ascii_letters + string.digits + string.punctuation\n",
    "    )\n",
    "    password: str = \"\".join(secrets.choice(chars) for _ in range(length))\n",
    "    return password\n",
    "\n",
    "\n",
    "password_length = int(input(\"Enter the desired length of the password: \"))\n",
    "generated_password = generate_password(length=password_length)\n",
    "print(\"Generated Password:\", generated_password)\n"
   ]
  },
  {
   "cell_type": "code",
   "execution_count": null,
   "metadata": {},
   "outputs": [],
   "source": [
    "# Third Party Library\n",
    "import barcode\n",
    "from barcode.writer import ImageWriter\n",
    "\n",
    "number: str = input(\"Enter the code to generate barcode: \")\n",
    "barcode_format = barcode.get_barcode_class('upc')\n",
    "my_barcode = barcode_format(number, ImageWriter())\n",
    "my_barcode.save(\"generate_barcode\")"
   ]
  }
 ],
 "metadata": {
  "kernelspec": {
   "display_name": ".venv",
   "language": "python",
   "name": "python3"
  },
  "language_info": {
   "codemirror_mode": {
    "name": "ipython",
    "version": 3
   },
   "file_extension": ".py",
   "mimetype": "text/x-python",
   "name": "python",
   "nbconvert_exporter": "python",
   "pygments_lexer": "ipython3",
   "version": "3.11.3"
  },
  "orig_nbformat": 4
 },
 "nbformat": 4,
 "nbformat_minor": 2
}
