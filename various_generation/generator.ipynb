{
 "cells": [
  {
   "cell_type": "code",
   "execution_count": 3,
   "metadata": {},
   "outputs": [
    {
     "name": "stdout",
     "output_type": "stream",
     "text": [
      "Generated Password: N/>{lk%ZuT\"%Pd_=7cR=IM1nM:xrWAdwE-t?[k}*)|[jP9vzg\"HQhu5%#*1KR,?RHd&gTRd~%!\"V\\=xvqKm8gAsTN+Goj|<wL22Y&$/pKka(s'I\n"
     ]
    }
   ],
   "source": [
    "# Standard Library\n",
    "import secrets\n",
    "import string\n",
    "from typing import LiteralString\n",
    "\n",
    "\n",
    "def generate_password(length) -> str:\n",
    "    chars: LiteralString = (\n",
    "        string.ascii_letters + string.digits + string.punctuation\n",
    "    )\n",
    "    password: str = \"\".join(secrets.choice(chars) for _ in range(length))\n",
    "    return password\n",
    "\n",
    "\n",
    "password_length = int(input(\"Enter the desired length of the password: \"))\n",
    "generated_password = generate_password(length=password_length)\n",
    "print(\"Generated Password:\", generated_password)\n"
   ]
  },
  {
   "cell_type": "code",
   "execution_count": 1,
   "metadata": {},
   "outputs": [
    {
     "data": {
      "text/plain": [
       "'generate_barcode.png'"
      ]
     },
     "execution_count": 1,
     "metadata": {},
     "output_type": "execute_result"
    }
   ],
   "source": [
    "# Third Party Library\n",
    "import barcode\n",
    "from barcode.writer import ImageWriter\n",
    "\n",
    "number: str = input(\"Enter the code to generate barcode: \")\n",
    "barcode_format = barcode.get_barcode_class('upc')\n",
    "my_barcode = barcode_format(number, ImageWriter())\n",
    "my_barcode.save(\"generate_barcode\")"
   ]
  },
  {
   "cell_type": "code",
   "execution_count": 7,
   "metadata": {},
   "outputs": [],
   "source": [
    "def http_error(status):\n",
    "    match status:\n",
    "        case 400:\n",
    "            return \"Bad request\"\n",
    "        case 404:\n",
    "            return \"Not Found\"\n",
    "        case 418:\n",
    "            return \"I'm a teapot\"\n",
    "        case _:\n",
    "            return \"Something's wrong with the internet\"\n"
   ]
  },
  {
   "cell_type": "code",
   "execution_count": 11,
   "metadata": {},
   "outputs": [
    {
     "data": {
      "text/plain": [
       "[3, 4, 5]"
      ]
     },
     "execution_count": 11,
     "metadata": {},
     "output_type": "execute_result"
    }
   ],
   "source": [
    "args = [3,6]\n",
    "list(range(*args))"
   ]
  },
  {
   "cell_type": "code",
   "execution_count": 14,
   "metadata": {},
   "outputs": [
    {
     "name": "stdout",
     "output_type": "stream",
     "text": [
      "[1, 2, 3, 4, 5, 6, 7, 8, 9, 2, 4, 6, 8, 10, 12, 14, 16, 18, 3, 6, 9, 12, 15, 18, 21, 24, 27, 4, 8, 12, 16, 20, 24, 28, 32, 36, 5, 10, 15, 20, 25, 30, 35, 40, 45, 6, 12, 18, 24, 30, 36, 42, 48, 54, 7, 14, 21, 28, 35, 42, 49, 56, 63, 8, 16, 24, 32, 40, 48, 56, 64, 72, 9, 18, 27, 36, 45, 54, 63, 72, 81]\n"
     ]
    }
   ],
   "source": [
    "\n"
   ]
  },
  {
   "cell_type": "code",
   "execution_count": null,
   "metadata": {},
   "outputs": [],
   "source": []
  }
 ],
 "metadata": {
  "kernelspec": {
   "display_name": ".venv",
   "language": "python",
   "name": "python3"
  },
  "language_info": {
   "codemirror_mode": {
    "name": "ipython",
    "version": 3
   },
   "file_extension": ".py",
   "mimetype": "text/x-python",
   "name": "python",
   "nbconvert_exporter": "python",
   "pygments_lexer": "ipython3",
   "version": "3.11.3"
  },
  "orig_nbformat": 4
 },
 "nbformat": 4,
 "nbformat_minor": 2
}
