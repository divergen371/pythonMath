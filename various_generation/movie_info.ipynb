{
 "cells": [
  {
   "cell_type": "code",
   "execution_count": 2,
   "metadata": {
    "dotnet_interactive": {
     "language": "csharp"
    },
    "polyglot_notebook": {
     "kernelName": "csharp"
    }
   },
   "outputs": [
    {
     "name": "stdout",
     "output_type": "stream",
     "text": [
      "\n",
      "Search results:\n",
      "1. John Wick (2014)\n",
      "2. John Wick: Chapter 4 (2023)\n",
      "3. John Carter (2012)\n",
      "4. John Adams (2008)\n",
      "5. John Wick: Chapter 2 (2017)\n",
      "6. John Wick: Chapter 3 - Parabellum (2019)\n",
      "7. John Q (2002)\n",
      "8. John Tucker Must Die (2006)\n",
      "9. John and the Hole (2021)\n",
      "10. John (2023)\n",
      "11. Vampires (1998)\n",
      "12. John Wick: Chapter 5 (N/A)\n",
      "13. Being John Malkovich (1999)\n",
      "14. Last Week Tonight with John Oliver (2014)\n",
      "15. Dirty John (2018)\n",
      "16. Dear John (2010)\n",
      "17. John Paul Jones (1959)\n",
      "18. John Dies at the End (2012)\n",
      "19. John Doe (2002)\n",
      "20. Dear John (1988)\n",
      "\n",
      "Movie Information:\n",
      "Title: John Wick\n",
      "Year: 2014\n",
      "Rating: 7.4\n",
      "Genres: Action, Crime, Thriller\n",
      "Director(s): Chad Stahelski\n",
      "Cast: Keanu Reeves, Michael Nyqvist, Alfie Allen, Willem Dafoe, Dean Winters...\n",
      "Plot: With the untimely death of his beloved wife still bitter in his mouth, John Wick, the expert former assassin, receives one final gift from her--a precious keepsake to help John find a new meaning in life now that she is gone. But when the arrogant Russian mob prince, Iosef Tarasov, and his men pay Wick a rather unwelcome visit to rob him of his prized 1969 Mustang and his wife's present, the legendary hitman will be forced to unearth his meticulously concealed identity. Blind with revenge, John will immediately unleash a carefully orchestrated maelstrom of destruction against the sophisticated kingpin, Viggo Tarasov, and his family, who are fully aware of his lethal capacity. Now, only blood can quench the boogeyman's thirst for retribution.\n",
      "Runtime: 101 minutes\n",
      "Country: United States\n",
      "Language: English, Russian, Hungarian\n"
     ]
    }
   ],
   "source": [
    "# Third Party Library\n",
    "from imdb import Cinemagoer\n",
    "\n",
    "ia = Cinemagoer()\n",
    "Movie = input(\"Enter a movie name: \")\n",
    "items = ia.search_movie(Movie)\n",
    "print(\"\\nSearch results:\")\n",
    "for index, movie in enumerate(items):\n",
    "    title = movie.get(\"title\", \"N/A\")\n",
    "    year = movie.get(\"year\", \"N/A\")\n",
    "    print(f\"{index + 1}. {title} ({year})\")\n",
    "\n",
    "movie_index = (\n",
    "    int(input(\"\\nEnter the number of the movie you want to get into for: \"))\n",
    "    - 1\n",
    ")\n",
    "\n",
    "movie_id = items[movie_index].movieID\n",
    "movie_info = ia.get_movie(movie_id)\n",
    "\n",
    "print(\"\\nMovie Information:\")\n",
    "print(f\"Title: {movie_info.get('title')}\")\n",
    "print(f\"Year: {movie_info.get('year')}\")\n",
    "print(f\"Rating: {movie_info.get('rating')}\")\n",
    "print(f\"Genres: {', '.join(movie_info.get('genres', []))}\")\n",
    "print(\n",
    "    f\"Director(s): {', '.join(str(d) for d in movie_info.get('directors', []))}\"\n",
    ")\n",
    "\n",
    "print(f\"Cast: {', '.join(str(c) for c in movie_info.get('cast', [])[:5])}...\")\n",
    "print(f\"Plot: {movie_info.get('plot outline')}\")\n",
    "print(f\"Runtime: {movie_info.get('runtimes', ['N/A'])[0]} minutes\")\n",
    "print(f\"Country: {', '.join(movie_info.get('countries', []))}\")\n",
    "print(f\"Language: {', '.join(movie_info.get('languages', []))}\")"
   ]
  }
 ],
 "metadata": {
  "kernelspec": {
   "display_name": ".venv",
   "language": "python",
   "name": "python3"
  },
  "language_info": {
   "codemirror_mode": {
    "name": "ipython",
    "version": 3
   },
   "file_extension": ".py",
   "mimetype": "text/x-python",
   "name": "python",
   "nbconvert_exporter": "python",
   "pygments_lexer": "ipython3",
   "version": "3.11.3"
  },
  "polyglot_notebook": {
   "kernelInfo": {
    "defaultKernelName": "csharp",
    "items": [
     {
      "aliases": [],
      "name": "csharp"
     }
    ]
   }
  }
 },
 "nbformat": 4,
 "nbformat_minor": 2
}
